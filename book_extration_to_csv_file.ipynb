{
  "cells": [
    {
      "cell_type": "code",
      "execution_count": null,
      "metadata": {
        "id": "Y_yZX8iR8BtL"
      },
      "outputs": [],
      "source": [
        "# Extracting the pdf text\n",
        "\n",
        "import PyPDF2\n",
        "\n",
        "pdf_file = 'rb.pdf'\n",
        "\n",
        "with open(pdf_file, 'rb') as file:\n",
        "    pdf_reader = PyPDF2.PdfReader(file)\n",
        "    num_pages = len(pdf_reader.pages)\n",
        "    text = ''\n",
        "    for page_num in range(num_pages):\n",
        "        page = pdf_reader.pages[page_num]\n",
        "        text += page.extract_text()\n"
      ]
    },
    {
      "cell_type": "code",
      "execution_count": null,
      "metadata": {
        "id": "SUQrBHXq8BtN",
        "outputId": "2939f280-4f13-4ada-eb3f-b0018585dab4"
      },
      "outputs": [
        {
          "data": {
            "text/plain": [
              "'Download free eBook s of classic literature, books and \\nnovels at Planet eBook. Subscribe to our free eBooks blog \\nand email newsletter.Alice’s Adventures \\nin Wonderland\\nBy Lewis Caroll (1865)\\nAlice’s Adventures in Wonderland 2All in the Golden Afternoon  \\n \\n \\nAll in the golden afternoon  \\nFull leisurely we glide;  \\nFor both our oars, with little skill,  \\nBy little arms are plied,  \\nWhile little hands make vain pretense  \\nOur wanderings to guide.\\nAh, cruel Three! In such an hour,  \\nBeneath such dreamy weather,  \\nTo beg a tale of breath too weak  \\nTo stir the tiniest feather!  \\nYet what can one poor voice avail  \\nAgainst three tongues together?\\nImperious Prima flashes forth  \\nHer edict to “begin it”:  \\nIn gentler tones Secunda hopes  \\n“There will be nonsense in it.”  \\nWhile Tertia interrupts the tale  \\nNot more  than once a minute.3 Free eBooks at Planet eBoo k.comAnon, to sudden silence won,  \\nIn fancy they pursue  \\nThe dream-child moving through a land  \\nOf wonders wild and new,  \\nIn friendly chat with bird or beast—  \\nAnd half believe it true.\\nAnd ever, as the story drained  \\nThe wells of fancy dry,  \\nAnd faintly strove that weary one  \\nTo put the subject by,  \\n“The rest next time—” “It is next time!”  \\nThe happy voices cry.\\nThus grew the tale of Wonderland:  \\nThus slowly, one by one,  \\nIts quaint events were hammered out—  \\nAnd now the tale is done,  \\nAnd home we steer, a merry crew,  \\nBeneath the setting sun.\\nAlice! a childish story take,  \\nAnd with a gentle hand  \\nLay it where Childhood’s dreams are twined  \\nIn Memory’s mystic band,  \\nLike pilgrim’s withered wreath of flowers  \\nPlucked in a far-off land.Alice’s Adventures in Wonderland 4Chapter I.  \\nDown the Rabbit-Hole\\nAlice was beginning to get very tired of sitting by her \\nsister on the bank, and of having nothing to do: once \\nor twice she had peeped into the book her sister was read -\\ning, but it had no pictures or conversations in it, ‘and what \\nis the use of a book,’ thought Alice ‘without pictures or con -\\nversation?’\\nSo she was considering in her own mind (as well as she \\ncould, for the hot day made her feel very sleepy and stu -\\npid), whether the pleasure of making a daisy-chain would \\nbe worth the trouble of getting up and picking the daisies, \\nwhen suddenly a White Rabbit with pink eyes ran close by \\nher.\\nThere was nothing so very remarkable in that; nor did \\nAlice think it so very much out of the way to hear the Rab -\\nbit say to itself, ‘Oh dear! Oh dear! I shall be late!’ (when \\nshe thought it over afterwards, it occurred to her that she \\nought to have wondered at this, but at the time it all seemed \\nquite natural); but when the Rabbit actually took a watch \\nout of its waistcoat-pocket,  and looked at it, and then hur -\\nried on, Alice started to her feet, for it flashed across her \\nmind that she had never before seen a rabbit with either a \\nwaistcoat-pocket, or a watch to take out of it, and burning \\nwith curiosity, she ran across the field after it, and fortu -5 Free eBooks at Planet eBoo k.comnately was just in time to see it pop down a large rabbit-hole \\nunder the hedge.\\nIn another moment down went Alice after it, never once \\nconsidering how in the world she was to get out again.\\nThe rabbit-hole went straight on like a tunnel for some \\nway, and then dipped suddenly down, so suddenly that Al -\\nice had not a moment to think about stopping herself before \\nshe found herself falling down a very deep well.\\nEither the well was very deep, or she fell very slowly, for \\nshe had plenty of time as she went down to look about her \\nand to wonder what was going to happen next. First, she \\ntried to look down and make out what she was coming to, \\nbut it was too dark to see anything; then she looked at the \\nsides of the well, and noticed that they were filled with cup -\\nboards and book-shelves; here and there she saw maps and \\npictures hung upon pegs. She took down a jar from one of \\nthe shelves as she passed; it was labelled ‘ORANGE MAR -\\nMALADE’, but to her great disappointment it was empty: \\nshe did not like to drop the jar for fear of killing somebody, \\nso managed to put it into one of the cupboards as she fell \\npast it.\\n‘Well!’ thought Alice to herself, ‘after such a fall as this, \\nI shall think nothing of tumbling down stairs! How brave \\nthey’ll all think me at home! Why, I wouldn’t say anything \\nabout it, even if I fell off the top of the house!’ (Which was \\nvery likely true.)\\nDown, down, down. Would the fall never  come to an \\nend! ‘I wonder how many miles I’ve fallen by this time?’ \\nshe said aloud. ‘I must be getting somewhere near the cen -Alice’s Adventures in Wonderland 6tre of the earth. Let me see: that would be four thousand \\nmiles down, I think—’ (for, you see, Alice had learnt sev -\\neral things of this sort in her lessons in the schoolroom, and \\nthough this was not a VERY good opportunity for showing \\noff her knowledge, as there was no one to listen to her, still it \\nwas good practice to say it over) ‘—yes, that’s about the right \\ndistance—but then I wonder what Latitude or Longitude \\nI’ve got to?’ (Alice had no idea what Latitude was, or Longi -\\ntude either, but thought they were nice grand words to say.)\\nPresently she began again. ‘I wonder if I shall fall right \\nthrough  the earth! How funny it’ll seem to come out among \\nthe people that walk with their heads downward! The An -\\ntipathies, I think—’ (she was rather glad there WAS no one \\nlistening, this time, as it didn’t sound at all the right word) \\n‘—but I shall have to ask them what the name of the country \\nis, you know. Please, Ma’am, is this New Zealand or Austra -\\nlia?’ (and she tried to curtsey as she spoke—fancy curtseying  \\nas you’re falling through the air! Do you think you could \\nmanage it?) ‘And what an ignorant little girl she’ll think me \\nfor asking! No, it’ll never do to ask: perhaps I shall see it \\nwritten up somewhere.’\\nDown, down, down. There was nothing else to do, so Al -\\nice soon began talking again. ‘Dinah’ll miss me very much \\nto-night, I should think!’ (Dinah was the cat.) ‘I hope they’ll \\nremember her saucer of milk at tea-time. Dinah my dear! \\nI wish you were down here with me! There are no mice in \\nthe air, I’m afraid, but you might catch a bat, and that’s very \\nlike a mouse, you know. But do cats eat bats, I wonder?’ And \\nhere Alice began to get rather sleepy, and went on saying to 7 Free eBooks at Planet eBoo k.comherself, in a dreamy sort of way, ‘Do cats eat bats? Do cats \\neat bats?’ and sometimes, ‘Do bats eat cats?’ for, you see, as \\nshe couldn’t answer either question, it didn’t much matter \\nwhich way she put it. She felt that she was dozing off, and \\nhad just begun to dream that she was walking hand in hand \\nwith Dinah, and saying to her very earnestly, ‘Now, Dinah, \\ntell me the truth: did you ever eat a bat?’ when suddenly, \\nthump! thump! down she came upon a heap of sticks and \\ndry leaves, and the fall was over.\\nAlice was not a bit hurt, and she jumped up on to her \\nfeet in a moment: she looked up, but it was all dark over -\\nhead; before her was another long passage, and the White \\nRabbit was still in sight, hurrying down it. There was not a \\nmoment to be lost: away went Alice like the wind, and was \\njust in time to hear it say, as it turned a corner, ‘Oh my ears \\nand whiskers, how late it’s getting!’ She was close behind it \\nwhen she turned the corner, but the Rabbit was no longer to \\nbe seen: she found herself in a long, low hall, which was lit \\nup by a row of lamps hanging from the roof.\\nThere were doors all round the hall, but they were all \\nlocked; and when Alice had been all the way down one side \\nand up the other, trying every door, she walked sadly down \\nthe middle, wondering how she was ever to get out again.\\nSuddenly she came upon a little three-legged table, all \\nmade of solid glass; there was nothing on it except a tiny \\ngolden key, and Alice’s first thought was that it might be -\\nlong to one of the doors of the hall; but, alas! either the locks \\nwere too large, or the key was too small, but at any rate it \\nwould not open any of them. However, on the second time Alice’s Adventures in Wonderland 8round, she came upon a low curtain she had not noticed \\nbefore, and behind it was a little door about fifteen inches \\nhigh: she tried the little golden key in the lock, and to her \\ngreat delight it fitted!\\nAlice opened the door and found that it led into a small \\npassage, not much larger than a rat-hole: she knelt down and \\nlooked along the passage into the loveliest garden you ever \\nsaw. How she longed to get out of that dark hall, and wan -\\nder about among those beds of bright flowers and those cool \\nfountains, but she could not even get her head though the \\ndoorway; ‘and even if my head would  go through,’ thought \\npoor Alice, ‘it would be of very little use without my shoul -\\nders. Oh, how I wish I could shut up like a telescope! I think \\nI could, if I only know how to begin.’ For, you see, so many \\nout-of-the-way things had happened lately, that Alice had \\nbegun to think that very few things indeed were really im -\\npossible.\\nThere seemed to be no use in waiting by the little door, \\nso she went back to the table, half hoping she might find \\nanother key on it, or at any rate a book of rules for shut -\\nting people up like telescopes: this time she found a little \\nbottle on it, (’which certainly was not here before,’ said Al -\\nice,) and round the neck of the bottle was a paper label, with \\nthe words ‘DRINK ME’ beautifully printed on it in large \\nletters.\\nIt was all very well to say ‘Drink me,’ but the wise little \\nAlice was not going to do that in a hurry. ‘No, I’ll look first,’ \\nshe said, ‘and see whether it’s marked ‘ poison ’ or not’; for she \\nhad read several nice little histories about children who had 9 Free eBooks at Planet eBoo k.comgot burnt, and eaten up by wild beasts and other unpleas -\\nant things, all because they would  not remember the simple \\nrules their friends had taught them: such as, that a red-hot \\npoker will burn you if you hold it too long; and that if you \\ncut your finger very deeply with a knife, it usually bleeds; \\nand she had never forgotten that, if you drink much from a \\nbottle marked ‘ poison ,’ it is almost certain to disagree with \\nyou, sooner or later.\\nHowever, this bottle was not marked ‘poison,’ so Alice \\nventured to taste it, and finding it very nice, (it had, in fact, \\na sort of mixed flavour of cherry-tart, custard, pine-apple, \\nroast turkey, toffee, and hot buttered toast,) she very soon \\nfinished it off.\\n*****\\n‘What a curious feeling!’ said Alice; ‘I must be shutting \\nup like a telescope.’\\nAnd so it was indeed: she was now only ten inches high, \\nand her face brightened up at the thought that she was now \\nthe right size for going through the little door into that love -\\nly garden. First, however, she waited for a few minutes to see \\nif she was going to shrink any further: she felt a little ner -\\nvous about this; ‘for it might end, you know,’ said Alice to \\nherself, ‘in my going out altogether, like a candle. I wonder \\nwhat I should be like then?’ And she tried to fancy what the \\nflame of a candle is like after the candle is blown out, for she \\ncould not remember ever having seen such a thing.\\nAfter a while, finding that nothing more happened, she \\ndecided on going into the garden at once; but, alas for poor \\nAlice! when she got to the door, she found she had forgotten Alice’s Adventures in Wonderland 10the little golden key, and when she went back to the table for \\nit, she found she could not possibly reach it: she could see \\nit quite plainly through the glass, and she tried her best to \\nclimb up one of the legs of the table, but it was too slippery; \\nand when she had tired herself out with trying, the poor \\nlittle thing sat down and cried.\\n‘Come, there’s no use in crying like that!’ said Alice to \\nherself, rather sharply; ‘I advise you to leave off this minute!’ \\nShe generally gave herself very good advice, (though she \\nvery seldom followed it), and sometimes she scolded her -\\nself so severely as to bring tears into her eyes; and once she \\nremembered trying to box her own ears for having cheated \\nherself in a game of croquet she was playing against herself, \\nfor this curious child was very fond of pretending to be two \\npeople. ‘But it’s no use now,’ thought poor Alice, ‘to pretend \\nto be two people! Why, there’s hardly enough of me left to \\nmake ONE respectable person!’\\nSoon her eye fell on a little glass box that was lying under \\nthe table: she opened it, and found in it a very small cake, on \\nwhich the words ‘EAT ME’ were beautifully marked in cur -\\nrants. ‘Well, I’ll eat it,’ said Alice, ‘and if it makes me grow \\nlarger, I can reach the key; and if it makes me grow smaller, I \\ncan creep under the door; so either way I’ll get into the gar -\\nden, and I don’t care which happens!’\\nShe ate a little bit, and said anxiously to herself, ‘Which \\nway? Which way?’, holding her hand on the top of her head \\nto feel which way it was growing, and she was quite sur -\\nprised to find that she remained the same size: to be sure, \\nthis generally happens when one eats cake, but Alice had got 11 Free eBooks at Planet eBoo k.comso much into the way of expecting nothing but out-of-the-\\nway things to happen, that it seemed quite dull and stupid \\nfor life to go on in the common way.\\nSo she set to work, and very soon finished off the cake.\\n*****Alice’s Adventures in Wonderland 12Chapter II.  \\nThe Pool of Tears\\n‘Curiouser and curiouser!’ cried Alice (she was so much \\nsurprised, that for the moment she quite forgot how \\nto speak good English); ‘now I’m opening out like the larg -\\nest telescope that ever was! Good-bye, feet!’ (for when she \\nlooked down at her feet, they seemed to be almost out of \\nsight, they were getting so far off). ‘Oh, my poor little feet, \\nI wonder who will put on your shoes and stockings for you \\nnow, dears? I’m sure I shan’t be able! I shall be a great deal \\ntoo far off to trouble myself about you: you must manage \\nthe best way you can; —but I must be kind to them,’ thought \\nAlice, ‘or perhaps they won’t walk the way I want to go! Let \\nme see: I’ll give them a new pair of boots every Christmas.’\\nAnd she went on planning to herself how she would \\nmanage it. ‘They must go by the carrier,’ she thought; ‘and \\nhow funny it’ll seem, sending presents to one’s own feet! \\nAnd how odd the directions will look!\\nALICE’S RIGHT FOOT, ESQ.  \\nHEARTHRUG,  \\nNEAR THE FENDER,  \\n(WITH ALICE’S LOVE).\\nOh dear, what nonsense I’m talking!’13 Free eBooks at Planet eBoo k.comJust then her head struck against the roof of the hall: in \\nfact she was now more than nine feet high, and she at once \\ntook up the little golden key and hurried off to the garden \\ndoor.\\nPoor Alice! It was as much as she could do, lying down \\non one side, to look through into the garden with one eye; \\nbut to get through was more hopeless than ever: she sat \\ndown and began to cry again.\\n‘You ought to be ashamed of yourself,’ said Alice, ‘a great \\ngirl like you,’ (she might well say this), ‘to go on crying in \\nthis way! Stop this moment, I tell you!’ But she went on all \\nthe same, shedding gallons of tears, until there was a large \\npool all round her, about four inches deep and reaching half \\ndown the hall.\\nAfter a time she heard a little pattering of feet in the dis -\\ntance, and she hastily dried her eyes to see what was coming. \\nIt was the White Rabbit returning, splendidly dressed, with \\na pair of white kid gloves in one hand and a large fan in the \\nother: he came trotting along in a great hurry, muttering \\nto himself as he came, ‘Oh! the Duchess, the Duchess! Oh! \\nwon’t  she be savage if I’ve kept her waiting!’ Alice felt so des -\\nperate that she was ready to ask help of any one; so, when \\nthe Rabbit came near her, she began, in a low, timid voice, \\n‘If you please, sir—’ The Rabbit started violently, dropped \\nthe white kid gloves and the fan, and skurried away into the \\ndarkness as hard as he could go.\\nAlice took up the fan and gloves, and, as the hall was \\nvery hot, she kept fanning herself all the time she went on \\ntalking: ‘Dear, dear! How queer everything is to-day! And Alice’s Adventures in Wonderland 14yesterday things went on just as usual. I wonder if I’ve been \\nchanged in the night? Let me think: was I the same when I \\ngot up this morning? I almost think I can remember feeling \\na little different. But if I’m not the same, the next ques -\\ntion is, Who in the world am I? Ah, that’s  the great puzzle!’ \\nAnd she began thinking over all the children she knew that \\nwere of the same age as herself, to see if she could have been \\nchanged for any of them.\\n‘I’m sure I’m not Ada,’ she said, ‘for her hair goes in such \\nlong ringlets, and mine doesn’t go in ringlets at all; and I’m \\nsure I can’t be Mabel, for I know all sorts of things, and she, \\noh! she knows such a very little! Besides, she’s  she, and I’m I, \\nand—oh dear, how puzzling it all is! I’ll try if I know all the \\nthings I used to know. Let me see: four times five is twelve, \\nand four times six is thirteen, and four times seven is—oh \\ndear! I shall never get to twenty at that rate! However, the \\nMultiplication Table doesn’t signify: let’s try Geography. \\nLondon is the capital of Paris, and Paris is the capital of \\nRome, and Rome—no, that’s  all wrong, I’m certain! I must \\nhave been changed for Mabel! I’ll try and say ‘ How doth the \\nlittle— ‘ and she crossed her hands on her lap as if she were \\nsaying lessons, and began to repeat it, but her voice sounded \\nhoarse and strange, and the words did not come the same as \\nthey used to do:—\\n‘How doth the little crocodile  \\nImprove his shining tail,  \\nAnd pour the waters of the Nile  \\nOn every golden scale!  15 Free eBooks at Planet eBoo k.com \\n‘How cheerfully he seems to grin,  \\nHow neatly spread his claws,  \\nAnd welcome little fishes in  \\nWith gently smiling jaws!’\\n‘I’m sure those are not the right words,’ said poor Alice, \\nand her eyes filled with tears again as she went on, ‘I must be \\nMabel after all, and I shall have to go and live in that poky \\nlittle house, and have next to no toys to play with, and oh! \\never so many lessons to learn! No, I’ve made up my mind \\nabout it; if I’m Mabel, I’ll stay down here! It’ll be no use \\ntheir putting their heads down and saying ‘Come up again, \\ndear!’ I shall only look up and say ‘Who am I then? Tell me \\nthat first, and then, if I like being that person, I’ll come up: \\nif not, I’ll stay down here till I’m somebody else’—but, oh \\ndear!’ cried Alice, with a sudden burst of tears, ‘I do wish \\nthey would  put their heads down! I am so very tired of be -\\ning all alone here!’\\nAs she said this she looked down at her hands, and was \\nsurprised to see that she had put on one of the Rabbit’s lit -\\ntle white kid gloves while she was talking. ‘How can I have \\ndone that?’ she thought. ‘I must be growing small again.’ \\nShe got up and went to the table to measure herself by it, and \\nfound that, as nearly as she could guess, she was now about \\ntwo feet high, and was going on shrinking rapidly: she soon \\nfound out that the cause of this was the fan she was holding, \\nand she dropped it hastily, just in time to avoid shrinking \\naway altogether.Alice’s Adventures in Wonderland 16‘That was a narrow escape!’ said Alice, a good deal fright -\\nened at the sudden change, but very glad to find herself still \\nin existence; ‘and now for the garden!’ and she ran with all \\nspeed back to the little door: but, alas! the little door was \\nshut again, and the little golden key was lying on the glass \\ntable as before, ‘and things are worse than ever,’ thought the \\npoor child, ‘for I never was so small as this before, never! \\nAnd I declare it’s too bad, that it is!’\\nAs she said these words her foot slipped, and in another \\nmoment, splash! she was up to her chin in salt water. Her \\nfirst idea was that she had somehow fallen into the sea, ‘and \\nin that case I can go back by railway,’ she said to herself. (Al -\\nice had been to the seaside once in her life, and had come \\nto the general conclusion, that wherever you go to on the \\nEnglish coast you find a number of bathing machines in the \\nsea, some children digging in the sand with wooden spades, \\nthen a row of lodging houses, and behind them a railway \\nstation.) However, she soon made out that she was in the \\npool of tears which she had wept when she was nine feet \\nhigh.\\n‘I wish I hadn’t cried so much!’ said Alice, as she swam \\nabout, trying to find her way out. ‘I shall be punished for it \\nnow, I suppose, by being drowned in my own tears! That \\nwill be a queer thing, to be sure! However, everything is \\nqueer to-day.’\\nJust then she heard something splashing about in the \\npool a little way off, and she swam nearer to make out what \\nit was: at first she thought it must be a walrus or hippopota -\\nmus, but then she remembered how small she was now, and 17 Free eBooks at Planet eBoo k.comshe soon made out that it was only a mouse that had slipped \\nin like herself.\\n‘Would it be of any use, now,’ thought Alice, ‘to speak \\nto this mouse? Everything is so out-of-the-way down here, \\nthat I should think very likely it can talk: at any rate, there’s \\nno harm in trying.’ So she began: ‘O Mouse, do you know \\nthe way out of this pool? I am very tired of swimming about \\nhere, O Mouse!’ (Alice thought this must be the right way \\nof speaking to a mouse: she had never done such a thing be -\\nfore, but she remembered having seen in her brother’s Latin \\nGrammar, ‘A mouse—of a mouse—to a mouse—a mouse—\\nO mouse!’ The Mouse looked at her rather inquisitively, and \\nseemed to her to wink with one of its little eyes, but it said \\nnothing.\\n‘Perhaps it doesn’t understand English,’ thought Alice; \\n‘I daresay it’s a French mouse, come over with William the \\nConqueror.’ (For, with all her knowledge of history, Alice \\nhad no very clear notion how long ago anything had hap -\\npened.) So she began again: ‘Ou est ma chatte?’ which was \\nthe first sentence in her French lesson-book. The Mouse \\ngave a sudden leap out of the water, and seemed to quiver all \\nover with fright. ‘Oh, I beg your pardon!’ cried Alice hastily, \\nafraid that she had hurt the poor animal’s feelings. ‘I quite \\nforgot you didn’t like cats.’\\n‘Not like cats!’ cried the Mouse, in a shrill, passionate \\nvoice. ‘Would you like cats if you were me?’\\n‘Well, perhaps not,’ said Alice in a soothing tone: ‘don’t \\nbe angry about it. And yet I wish I could show you our cat \\nDinah: I think you’d take a fancy to cats if you could only Alice’s Adventures in Wonderland 18see her. She is such a dear quiet thing,’ Alice went on, half \\nto herself, as she swam lazily about in the pool, ‘and she sits \\npurring so nicely by the fire, licking her paws and washing \\nher face—and she is such a nice soft thing to nurse—and \\nshe’s such a capital one for catching mice—oh, I beg your \\npardon!’ cried Alice again, for this time the Mouse was bris -\\ntling all over, and she felt certain it must be really offended. \\n‘We won’t talk about her any more if you’d rather not.’\\n‘We indeed!’ cried the Mouse, who was trembling down \\nto the end of his tail. ‘As if I would talk on such a subject! \\nOur family always hated  cats: nasty, low, vulgar things! \\nDon’t let me hear the name again!’\\n‘I won’t indeed!’ said Alice, in a great hurry to change \\nthe subject of conversation. ‘Are you—are you fond—of—of \\ndogs?’ The Mouse did not answer, so Alice went on eagerly: \\n‘There is such a nice little dog near our house I should like \\nto show you! A little bright-eyed terrier, you know, with oh, \\nsuch long curly brown hair! And it’ll fetch things when you \\nthrow them, and it’ll sit up and beg for its dinner, and all \\nsorts of things—I can’t remember half of them—and it be -\\nlongs to a farmer, you know, and he says it’s so useful, it’s \\nworth a hundred pounds! He says it kills all the rats and—\\noh dear!’ cried Alice in a sorrowful tone, ‘I’m afraid I’ve \\noffended it again!’ For the Mouse was swimming away from \\nher as hard as it could go, and making quite a commotion \\nin the pool as it went.\\nSo she called softly after it, ‘Mouse dear! Do come back \\nagain, and we won’t talk about cats or dogs either, if you \\ndon’t like them!’ When the Mouse heard this, it turned 19 Free eBooks at Planet eBoo k.comround and swam slowly back to her: its face was quite pale \\n(with passion, Alice thought), and it said in a low trembling \\nvoice, ‘Let us get to the shore, and then I’ll tell you my his -\\ntory, and you’ll understand why it is I hate cats and dogs.’\\nIt was high time to go, for the pool was getting quite \\ncrowded with the birds and animals that had fallen into it: \\nthere were a Duck and a Dodo, a Lory and an Eaglet, and \\nseveral other curious creatures. Alice led the way, and the \\nwhole party swam to the shore.Alice’s Adventures in Wonderland 20Chapter III.  \\nA Caucus-Race and \\na Long Tale\\nThey were indeed a queer-looking party that assembled \\non the bank—the birds with draggled feathers, the ani -\\nmals with their fur clinging close to them, and all dripping \\nwet, cross, and uncomfortable.\\nThe first question of course was, how to get dry again: \\nthey had a consultation about this, and after a few minutes \\nit seemed quite natural to Alice to find herself talking fa -\\nmiliarly with them, as if she had known them all her life. \\nIndeed, she had quite a long argument with the Lory, who \\nat last turned sulky, and would only say, ‘I am older than \\nyou, and must know better’; and this Alice would not allow \\nwithout knowing how old it was, and, as the Lory positively \\nrefused to tell its age, there was no more to be said.\\nAt last the Mouse, who seemed to be a person of author -\\nity among them, called out, ‘Sit down, all of you, and listen \\nto me! I’ll soon make you dry enough!’ They all sat down \\nat once, in a large ring, with the Mouse in the middle. Al -\\nice kept her eyes anxiously fixed on it, for she felt sure she \\nwould catch a bad cold if she did not get dry very soon.\\n‘Ahem!’ said the Mouse with an important air, ‘are you \\nall ready? This is the driest thing I know. Silence all round, 21 Free eBooks at Planet eBoo k.comif you please! ‘William the Conqueror, whose cause was fa -\\nvoured by the pope, was soon submitted to by the English, \\nwho wanted leaders, and had been of late much accustomed \\nto usurpation and conquest. Edwin and Morcar, the earls of \\nMercia and Northumbria—’\\n‘Ugh!’ said the Lory, with a shiver.\\n‘I beg your pardon!’ said the Mouse, frowning, but very \\npolitely: ‘Did you speak?’\\n‘Not I!’ said the Lory hastily.\\n‘I thought you did,’ said the Mouse. ‘—I proceed. ‘Edwin \\nand Morcar, the earls of Mercia and Northumbria, declared \\nfor him: and even Stigand, the patriotic archbishop of Can -\\nterbury, found it advisable—’\\n‘Found what ?’ said the Duck.\\n‘Found it,’ the Mouse replied rather crossly: ‘of course \\nyou know what ‘it’ means.’\\n‘I know what ‘it’ means well enough, when I find a thing,’ \\nsaid the Duck: ‘it’s generally a frog or a worm. The question \\nis, what did the archbishop find?’\\nThe Mouse did not notice this question, but hurriedly \\nwent on, ‘—found it advisable to go with Edgar Atheling to \\nmeet William and offer him the crown. William’s conduct \\nat first was moderate. But the insolence of his Normans—’ \\nHow are you getting on now, my dear?’ it continued, turn -\\ning to Alice as it spoke.\\n‘As wet as ever,’ said Alice in a melancholy tone: ‘it doesn’t \\nseem to dry me at all.’\\n‘In that case,’ said the Dodo solemnly, rising to its feet, ‘I \\nmove that the meeting adjourn, for the immediate adoption Alice’s Adventures in Wonderland 22of more energetic remedies—’\\n‘Speak English!’ said the Eaglet. ‘I don’t know the mean -\\ning of half those long words, and, what’s more, I don’t believe \\nyou do either!’ And the Eaglet bent down its head to hide a \\nsmile: some of the other birds tittered audibly.\\n‘What I was going to say,’ said the Dodo in an offended \\ntone, ‘was, that the best thing to get us dry would be a Cau -\\ncus-race.’\\n‘What is a Caucus-race?’ said Alice; not that she wanted \\nmuch to know, but the Dodo had paused as if it thought that \\nsomebody  ought to speak, and no one else seemed inclined \\nto say anything.\\n‘Why,’ said the Dodo, ‘the best way to explain it is to do \\nit.’ (And, as you might like to try the thing yourself, some \\nwinter day, I will tell you how the Dodo managed it.)\\nFirst it marked out a race-course, in a sort of circle, (’the \\nexact shape doesn’t matter,’ it said,) and then all the party \\nwere placed along the course, here and there. There was no \\n‘One, two, three, and away,’ but they began running when \\nthey liked, and left off when they liked, so that it was not \\neasy to know when the race was over. However, when they \\nhad been running half an hour or so, and were quite dry \\nagain, the Dodo suddenly called out ‘The race is over!’ and \\nthey all crowded round it, panting, and asking, ‘But who \\nhas won?’\\nThis question the Dodo could not answer without a great \\ndeal of thought, and it sat for a long time with one finger \\npressed upon its forehead (the position in which you usu -\\nally see Shakespeare, in the pictures of him), while the rest 23 Free eBooks at Planet eBoo k.comwaited in silence. At last the Dodo said, ‘ everybody  has won, \\nand all must have prizes.’\\n‘But who is to give the prizes?’ quite a chorus of voices \\nasked.\\n‘Why, she, of course,’ said the Dodo, pointing to Alice \\nwith one finger; and the whole party at once crowded round \\nher, calling out in a confused way, ‘Prizes! Prizes!’\\nAlice had no idea what to do, and in despair she put her \\nhand in her pocket, and pulled out a box of comfits, (luckily \\nthe salt water had not got into it), and handed them round \\nas prizes. There was exactly one a-piece all round.\\n‘But she must have a prize herself, you know,’ said the \\nMouse.\\n‘Of course,’ the Dodo replied very gravely. ‘What else \\nhave you got in your pocket?’ he went on, turning to Alice.\\n‘Only a thimble,’ said Alice sadly.\\n‘Hand it over here,’ said the Dodo.\\nThen they all crowded round her once more, while the \\nDodo solemnly presented the thimble, saying ‘We beg your \\nacceptance of this elegant thimble’; and, when it had fin -\\nished this short speech, they all cheered.\\nAlice thought the whole thing very absurd, but they all \\nlooked so grave that she did not dare to laugh; and, as she \\ncould not think of anything to say, she simply bowed, and \\ntook the thimble, looking as solemn as she could.\\nThe next thing was to eat the comfits: this caused some \\nnoise and confusion, as the large birds complained that they \\ncould not taste theirs, and the small ones choked and had to \\nbe patted on the back. However, it was over at last, and they Alice’s Adventures in Wonderland 24sat down again in a ring, and begged the Mouse to tell them \\nsomething more.\\n‘You promised to tell me your history, you know,’ said \\nAlice, ‘and why it is you hate—C and D,’ she added in a \\nwhisper, half afraid that it would be offended again.\\n‘Mine is a long and a sad tale!’ said the Mouse, turning to \\nAlice, and sighing.\\n‘It IS a long tail, certainly,’ said Alice, looking down with \\nwonder at the Mouse’s tail; ‘but why do you call it sad?’ And \\nshe kept on puzzling about it while the Mouse was speaking, \\nso that her idea of the tale was something like this:—\\nFury said to  \\n  a mouse, That  \\n           he met  \\n              in the  \\n                house,\\n                ‘Let us  \\n            both go  \\n         to law:  \\n      I will \\n    prosecute  \\n  you.— \\n   Come, I’ll  \\n       take no  \\n         denial;  \\n            We must  \\n                   have a  \\n                        trial:  25 Free eBooks at Planet eBoo k.com                        For  \\n                    really  \\n                   this  \\n                    morning  \\n                           I’ve  \\n                      nothing  \\n                   to do. ’  \\n             Said the  \\n              mouse to  \\n         the cur,  \\n             ‘Such a  \\n                   trial,  \\n                dear sir,  \\n            With no  \\n         jury or  \\n     judge  \\n      would be  \\n        wasting  \\n           our breath. ’  \\n             ‘I’ll be  \\n           judge,  \\n        I’ll be  \\n    jury, ’  \\n Said  \\n     cunning  \\n         old Fury!  \\n               ‘I’ll try  \\n                    the whole  \\n                           cause,  \\n                            and  \\n                     condemn  \\n                       you  \\n                     to  \\n                      death. ’  \\n‘You are not attending!’ said the Mouse to Alice severely. \\n‘What are you thinking of?’\\n‘I beg your pardon,’ said Alice very humbly: ‘you had got Alice’s Adventures in Wonderland 26to the fifth bend, I think?’\\n‘I had not!’ cried the Mouse, sharply and very angrily.\\n‘A knot!’ said Alice, always ready to make herself use -\\nful, and looking anxiously about her. ‘Oh, do let me help to \\nundo it!’\\n‘I shall do nothing of the sort,’ said the Mouse, getting \\nup and walking away. ‘You insult me by talking such non -\\nsense!’\\n‘I didn’t mean it!’ pleaded poor Alice. ‘But you’re so easily \\noffended, you know!’\\nThe Mouse only growled in reply.\\n‘Please come back and finish your story!’ Alice called af -\\nter it; and the others all joined in chorus, ‘Yes, please do!’ \\nbut the Mouse only shook its head impatiently, and walked \\na little quicker.\\n‘What a pity it wouldn’t stay!’ sighed the Lory, as soon \\nas it was quite out of sight; and an old Crab took the oppor -\\ntunity of saying to her daughter ‘Ah, my dear! Let this be a \\nlesson to you never to lose your  temper!’ ‘Hold your tongue, \\nMa!’ said the young Crab, a little snappishly. ‘You’re enough \\nto try the patience of an oyster!’\\n‘I wish I had our Dinah here, I know I do!’ said Alice \\naloud, addressing nobody in particular. ‘She’d soon fetch \\nit back!’\\n‘And who is Dinah, if I might venture to ask the ques -\\ntion?’ said the Lory.\\nAlice replied eagerly, for she was always ready to talk \\nabout her pet: ‘Dinah’s our cat. And she’s such a capital one \\nfor catching mice you can’t think! And oh, I wish you could 27 Free eBooks at Planet eBoo k.comsee her after the birds! Why, she’ll eat a little bird as soon as \\nlook at it!’\\nThis speech caused a remarkable sensation among the \\nparty. Some of the birds hurried off at once: one old Magpie \\nbegan wrapping itself up very carefully, remarking, ‘I really \\nmust be getting home; the night-air doesn’t suit my throat!’ \\nand a Canary called out in a trembling voice to its children, \\n‘Come away, my dears! It’s high time you were all in bed!’ \\nOn various pretexts they all moved off, and Alice was soon \\nleft alone.\\n‘I wish I hadn’t mentioned Dinah!’ she said to herself in \\na melancholy tone. ‘Nobody seems to like her, down here, \\nand I’m sure she’s the best cat in the world! Oh, my dear \\nDinah! I wonder if I shall ever see you any more!’ And here \\npoor Alice began to cry again, for she felt very lonely and \\nlow-spirited. In a little while, however, she again heard a lit -\\ntle pattering of footsteps in the distance, and she looked up \\neagerly, half hoping that the Mouse had changed his mind, \\nand was coming back to finish his story.Alice’s Adventures in Wonderland 28Chapter IV .  \\nThe Rabbit Sends \\nin a Little Bill\\nIt was the White Rabbit, trotting slowly back again, and \\nlooking anxiously about as it went, as if it had lost some -\\nthing; and she heard it muttering to itself ‘The Duchess! \\nThe Duchess! Oh my dear paws! Oh my fur and whiskers! \\nShe’ll get me executed, as sure as ferrets are ferrets! Where \\ncan I have dropped them, I wonder?’ Alice guessed in a mo -\\nment that it was looking for the fan and the pair of white kid \\ngloves, and she very good-naturedly began hunting about \\nfor them, but they were nowhere to be seen—everything \\nseemed to have changed since her swim in the pool, and the \\ngreat hall, with the glass table and the little door, had van -\\nished completely.\\nVery soon the Rabbit noticed Alice, as she went hunting \\nabout, and called out to her in an angry tone, ‘Why, Mary \\nAnn, what are you doing out here? Run home this moment, \\nand fetch me a pair of gloves and a fan! Quick, now!’ And \\nAlice was so much frightened that she ran off at once in the \\ndirection it pointed to, without trying to explain the mis -\\ntake it had made.\\n‘He took me for his housemaid,’ she said to herself as \\nshe ran. ‘How surprised he’ll be when he finds out who I 29 Free eBooks at Planet eBoo k.comam! But I’d better take him his fan and gloves—that is, if I \\ncan find them.’ As she said this, she came upon a neat little \\nhouse, on the door of which was a bright brass plate with the \\nname ‘W. RABBIT’ engraved upon it. She went in without \\nknocking, and hurried upstairs, in great fear lest she should \\nmeet the real Mary Ann, and be turned out of the house be -\\nfore she had found the fan and gloves.\\n‘How queer it seems,’ Alice said to herself, ‘to be going \\nmessages for a rabbit! I suppose Dinah’ll be sending me on \\nmessages next!’ And she began fancying the sort of thing \\nthat would happen: ‘“Miss Alice! Come here directly, and get \\nready for your walk!’ ‘Coming in a minute, nurse! But I’ve got \\nto see that the mouse doesn’t get out.’ Only I don’t think,’ Al -\\nice went on, ‘that they’d let Dinah stop in the house if it began \\nordering people about like that!’\\nBy this time she had found her way into a tidy little room \\nwith a table in the window, and on it (as she had hoped) a fan \\nand two or three pairs of tiny white kid gloves: she took up \\nthe fan and a pair of the gloves, and was just going to leave \\nthe room, when her eye fell upon a little bottle that stood \\nnear the lookingglass. There was no label this time with the \\nwords ‘DRINK ME,’ but nevertheless she uncorked it and put \\nit to her lips. ‘I know something  interesting is sure to happen,’ \\nshe said to herself, ‘whenever I eat or drink anything; so I’ll \\njust see what this bottle does. I do hope it’ll make me grow \\nlarge again, for really I’m quite tired of being such a tiny little \\nthing!’\\nIt did so indeed, and much sooner than she had expect -\\ned: before she had drunk half the bottle, she found her head Alice’s Adventures in Wonderland 30pressing against the ceiling, and had to stoop to save her neck \\nfrom being broken. She hastily put down the bottle, saying \\nto herself ‘That’s quite enough—I hope I shan’t grow any \\nmore—As it is, I can’t get out at the door—I do wish I hadn’t \\ndrunk quite so much!’\\nAlas! it was too late to wish that! She went on growing, \\nand growing, and very soon had to kneel down on the floor: \\nin another minute there was not even room for this, and she \\ntried the effect of lying down with one elbow against the \\ndoor, and the other arm curled round her head. Still she went \\non growing, and, as a last resource, she put one arm out of \\nthe window, and one foot up the chimney, and said to herself \\n‘Now I can do no more, whatever happens. What will become \\nof me?’\\nLuckily for Alice, the little magic bottle had now had its \\nfull effect, and she grew no larger: still it was very uncomfort -\\nable, and, as there seemed to be no sort of chance of her ever \\ngetting out of the room again, no wonder she felt unhappy.\\n‘It was much pleasanter at home,’ thought poor Alice, \\n‘when one wasn’t always growing larger and smaller, and be -\\ning ordered about by mice and rabbits. I almost wish I hadn’t \\ngone down that rabbit-hole—and yet—and yet—it’s rather \\ncurious, you know, this sort of life! I do wonder what can \\nhave happened to me! When I used to read fairy-tales, I fan -\\ncied that kind of thing never happened, and now here I am \\nin the middle of one! There ought to be a book written about \\nme, that there ought! And when I grow up, I’ll write one—but \\nI’m grown up now,’ she added in a sorrowful tone; ‘at least \\nthere’s no room to grow up any more here.’31 Free eBooks at Planet eBoo k.com‘But then,’ thought Alice, ‘shall I never  get any older than \\nI am now? That’ll be a comfort, one way—never to be an old \\nwoman— but then—always to have lessons to learn! Oh, I \\nshouldn’t like that!’\\n‘Oh, you foolish Alice!’ she answered herself. ‘How can \\nyou learn lessons in here? Why, there’s hardly room for you, \\nand no room at all for any lesson-books!’\\nAnd so she went on, taking first one side and then the oth -\\ner, and making quite a conversation of it altogether; but after \\na few minutes she heard a voice outside, and stopped to lis -\\nten.\\n‘Mary Ann! Mary Ann!’ said the voice. ‘Fetch me my \\ngloves this moment!’ Then came a little pattering of feet on \\nthe stairs. Alice knew it was the Rabbit coming to look for \\nher, and she trembled till she shook the house, quite forget -\\nting that she was now about a thousand times as large as the \\nRabbit, and had no reason to be afraid of it.\\nPresently the Rabbit came up to the door, and tried to \\nopen it; but, as the door opened inwards, and Alice’s elbow \\nwas pressed hard against it, that attempt proved a failure. Al -\\nice heard it say to itself ‘Then I’ll go round and get in at the \\nwindow.’\\n‘That  you won’t’ thought Alice, and, after waiting till she \\nfancied she heard the Rabbit just under the window, she sud -\\ndenly spread out her hand, and made a snatch in the air. She \\ndid not get hold of anything, but she heard a little shriek and \\na fall, and a crash of broken glass, from which she concluded \\nthat it was just possible it had fallen into a cucumber-frame, \\nor something of the sort.Alice’s Adventures in Wonderland 32Next came an angry voice—the Rabbit’s—‘Pat! Pat! Where \\nare you?’ And then a voice she had never heard before, ‘Sure \\nthen I’m here! Digging for apples, yer honour!’\\n‘Digging for apples, indeed!’ said the Rabbit angrily. \\n‘Here! Come and help me out of this!’ (Sounds of more bro -\\nken glass.)\\n‘Now tell me, Pat, what’s that in the window?’\\n‘Sure, it’s an arm, yer honour!’ (He pronounced it ‘ar -\\nrum.’)\\n‘An arm, you goose! Who ever saw one that size? Why, it \\nfills the whole window!’\\n‘Sure, it does, yer honour: but it’s an arm for all that.’\\n‘Well, it’s got no business there, at any rate: go and take it \\naway!’\\nThere was a long silence after this, and Alice could only \\nhear whispers now and then; such as, ‘Sure, I don’t like it, yer \\nhonour, at all, at all!’ ‘Do as I tell you, you coward!’ and at \\nlast she spread out her hand again, and made another snatch \\nin the air. This time there were two little shrieks, and more \\nsounds of broken glass. ‘What a number of cucumber-frames \\nthere must be!’ thought Alice. ‘I wonder what they’ll do next! \\nAs for pulling me out of the window, I only wish they could ! \\nI’m sure I don’t want to stay in here any longer!’\\nShe waited for some time without hearing anything more: \\nat last came a rumbling of little cartwheels, and the sound \\nof a good many voices all talking together: she made out the \\nwords: ‘Where’s the other ladder?—Why, I hadn’t to bring but \\none; Bill’s got the other—Bill! fetch it here, lad!—Here, put \\n‘em up at this corner—No, tie ‘em together first—they don’t 33 Free eBooks at Planet eBoo k.comreach half high enough yet—Oh! they’ll do well enough; \\ndon’t be particular— Here, Bill! catch hold of this rope—Will \\nthe roof bear?—Mind that loose slate—Oh, it’s coming down! \\nHeads below!’ (a loud crash)—‘Now, who did that?—It was \\nBill, I fancy—Who’s to go down the chimney?—Nay, I shan’t! \\nyou do it!—That I won’t, then!—Bill’s to go down—Here, Bill! \\nthe master says you’re to go down the chimney!’\\n‘Oh! So Bill’s got to come down the chimney, has he?’ said \\nAlice to herself. ‘Shy, they seem to put everything upon Bill! I \\nwouldn’t be in Bill’s place for a good deal: this fireplace is nar -\\nrow, to be sure; but I think  I can kick a little!’\\nShe drew her foot as far down the chimney as she could, \\nand waited till she heard a little animal (she couldn’t guess \\nof what sort it was) scratching and scrambling about in the \\nchimney close above her: then, saying to herself ‘This is Bill,’ \\nshe gave one sharp kick, and waited to see what would hap -\\npen next.\\nThe first thing she heard was a general chorus of ‘There \\ngoes Bill!’ then the Rabbit’s voice along—‘Catch him, you \\nby the hedge!’ then silence, and then another confusion of \\nvoices—‘Hold up his head—Brandy now—Don’t choke \\nhim—How was it, old fellow? What happened to you? Tell \\nus all about it!’\\nLast came a little feeble, squeaking voice, (’That’s Bill,’ \\nthought Alice,) ‘Well, I hardly know—No more, thank ye; \\nI’m better now—but I’m a deal too flustered to tell you—all I \\nknow is, something comes at me like a Jack-in-the-box, and \\nup I goes like a sky-rocket!’\\n‘So you did, old fellow!’ said the others.Alice’s Adventures in Wonderland 34‘We must burn the house down!’ said the Rabbit’s voice; \\nand Alice called out as loud as she could, ‘If you do. I’ll set \\nDinah at you!’\\nThere was a dead silence instantly, and Alice thought to \\nherself, ‘I wonder what they will do next! If they had any \\nsense, they’d take the roof off.’ After a minute or two, they \\nbegan moving about again, and Alice heard the Rabbit say, ‘A \\nbarrowful will do, to begin with.’\\n‘A barrowful of what ?’ thought Alice; but she had not long \\nto doubt, for the next moment a shower of little pebbles came \\nrattling in at the window, and some of them hit her in the \\nface. ‘I’ll put a stop to this,’ she said to herself, and shouted \\nout, ‘You’d better not do that again!’ which produced another \\ndead silence.\\nAlice noticed with some surprise that the pebbles were \\nall turning into little cakes as they lay on the floor, and a \\nbright idea came into her head. ‘If I eat one of these cakes,’ \\nshe thought, ‘it’s sure to make some  change in my size; and \\nas it can’t possibly make me larger, it must make me smaller, \\nI suppose.’\\nSo she swallowed one of the cakes, and was delighted to \\nfind that she began shrinking directly. As soon as she was \\nsmall enough to get through the door, she ran out of the \\nhouse, and found quite a crowd of little animals and birds \\nwaiting outside. The poor little Lizard, Bill, was in the mid -\\ndle, being held up by two guinea-pigs, who were giving it \\nsomething out of a bottle. They all made a rush at Alice the \\nmoment she appeared; but she ran off as hard as she could, \\nand soon found herself safe in a thick wood.35 Free eBooks at Planet eBoo k.com‘The first thing I’ve got to do,’ said Alice to herself, as she \\nwandered about in the wood, ‘is to grow to my right size \\nagain; and the second thing is to find my way into that lovely \\ngarden. I think that will be the best plan.’\\nIt sounded an excellent plan, no doubt, and very neatly \\nand simply arranged; the only difficulty was, that she had not \\nthe smallest idea how to set about it; and while she was peer -\\ning about anxiously among the trees, a little sharp bark just \\nover her head made her look up in a great hurry.\\nAn enormous puppy was looking down at her with large \\nround eyes, and feebly stretching out one paw, trying to touch \\nher. ‘Poor little thing!’ said Alice, in a coaxing tone, and she \\ntried hard to whistle to it; but she was terribly frightened all \\nthe time at the thought that it might be hungry, in which case \\nit would be very likely to eat her up in spite of all her coax -\\ning.\\nHardly knowing what she did, she picked up a little bit \\nof stick, and held it out to the puppy; whereupon the puppy \\njumped into the air off all its feet at once, with a yelp of de -\\nlight, and rushed at the stick, and made believe to worry it; \\nthen Alice dodged behind a great thistle, to keep herself from \\nbeing run over; and the moment she appeared on the other \\nside, the puppy made another rush at the stick, and tumbled \\nhead over heels in its hurry to get hold of it; then Alice, think -\\ning it was very like having a game of play with a cart-horse, \\nand expecting every moment to be trampled under its feet, \\nran round the thistle again; then the puppy began a series of \\nshort charges at the stick, running a very little way forwards \\neach time and a long way back, and barking hoarsely all the Alice’s Adventures in Wonderland 36while, till at last it sat down a good way off, panting, with its \\ntongue hanging out of its mouth, and its great eyes half shut.\\nThis seemed to Alice a good opportunity for making her \\nescape; so she set off at once, and ran till she was quite tired \\nand out of breath, and till the puppy’s bark sounded quite \\nfaint in the distance.\\n‘And yet what a dear little puppy it was!’ said Alice, as she \\nleant against a buttercup to rest herself, and fanned herself \\nwith one of the leaves: ‘I should have liked teaching it tricks \\nvery much, if—if I’d only been the right size to do it! Oh dear! \\nI’d nearly forgotten that I’ve got to grow up again! Let me \\nsee—how IS it to be managed? I suppose I ought to eat or \\ndrink something or other; but the great question is, what?’\\nThe great question certainly was, what? Alice looked all \\nround her at the flowers and the blades of grass, but she did \\nnot see anything that looked like the right thing to eat or \\ndrink under the circumstances. There was a large mushroom \\ngrowing near her, about the same height as herself; and when \\nshe had looked under it, and on both sides of it, and behind \\nit, it occurred to her that she might as well look and see what \\nwas on the top of it.\\nShe stretched herself up on tiptoe, and peeped over the \\nedge of the mushroom, and her eyes immediately met those \\nof a large caterpillar, that was sitting on the top with its arms \\nfolded, quietly smoking a long hookah, and taking not the \\nsmallest notice of her or of anything else.37 Free eBooks at Planet eBoo k.comChapter V .  \\nAdvice from a Caterpillar\\nThe Caterpillar and Alice looked at each other for some \\ntime in silence: at last the Caterpillar took the hookah \\nout of its mouth, and addressed her in a languid, sleepy \\nvoice.\\n‘Who are you?’ said the Caterpillar.\\nThis was not an encouraging opening for a conversa -\\ntion. Alice replied, rather shyly, ‘I—I hardly know, sir, just \\nat present— at least I know who I WAS when I got up this \\nmorning, but I think I must have been changed several \\ntimes since then.’\\n‘What do you mean by that?’ said the Caterpillar sternly. \\n‘Explain yourself!’\\n‘I can’t explain myself , I’m afraid, sir’ said Alice, ‘because \\nI’m not myself, you see.’\\n‘I don’t see,’ said the Caterpillar.\\n‘I’m afraid I can’t put it more clearly,’ Alice replied very \\npolitely, ‘for I can’t understand it myself to begin with; and \\nbeing so many different sizes in a day is very confusing.’\\n‘It isn’t,’ said the Caterpillar.\\n‘Well, perhaps you haven’t found it so yet,’ said Alice; \\n‘but when you have to turn into a chrysalis—you will some \\nday, you know—and then after that into a butterfly, I should \\nthink you’ll feel it a little queer, won’t you?’Alice’s Adventures in Wonderland 38‘Not a bit,’ said the Caterpillar.\\n‘Well, perhaps your feelings may be different,’ said Alice; \\n‘all I know is, it would feel very queer to me.’\\n‘You!’ said the Caterpillar contemptuously. ‘Who are \\nyou?’\\nWhich brought them back again to the beginning of the \\nconversation. Alice felt a little irritated at the Caterpillar’s \\nmaking such very short remarks, and she drew herself up \\nand said, very gravely, ‘I think, you ought to tell me who \\nyou are, first.’\\n‘Why?’ said the Caterpillar.\\nHere was another puzzling question; and as Alice could \\nnot think of any good reason, and as the Caterpillar seemed \\nto be in a very unpleasant state of mind, she turned away.\\n‘Come back!’ the Caterpillar called after her. ‘I’ve some -\\nthing important to say!’\\nThis sounded promising, certainly: Alice turned and \\ncame back again.\\n‘Keep your temper,’ said the Caterpillar.\\n‘Is that all?’ said Alice, swallowing down her anger as \\nwell as she could.\\n‘No,’ said the Caterpillar.\\nAlice thought she might as well wait, as she had nothing \\nelse to do, and perhaps after all it might tell her something \\nworth hearing. For some minutes it puffed away without \\nspeaking, but at last it unfolded its arms, took the hoo -\\nkah out of its mouth again, and said, ‘So you think you’re \\nchanged, do you?’\\n‘I’m afraid I am, sir,’ said Alice; ‘I can’t remember things 39 Free eBooks at Planet eBoo k.comas I used—and I don’t keep the same size for ten minutes \\ntogether!’\\n‘Can’t remember what  things?’ said the Caterpillar.\\n‘Well, I’ve tried to say ‘ How doth the little busy bee, ’ but \\nit all came different!’ Alice replied in a very melancholy \\nvoice.\\n‘Repeat, ‘ you are old, Father William, ‘ said the Caterpil -\\nlar.\\nAlice folded her hands, and began:—\\n‘You are old, Father William,’ the young man said,\\n  ‘And your hair has become very white;\\nAnd yet you incessantly stand on your head--\\n  Do you think, at your age, it is right?’\\n‘In my youth,’ Father William replied to his son,\\n  ‘I feared it might injure the brain;\\nBut, now that I’m perfectly sure I have none,\\n  Why, I do it again and again.’\\n‘You are old,’ said the youth, ‘as I mentioned before,\\n  And have grown most uncommonly fat;\\nYet you turned a back-somersault in at the door--\\n  Pray, what is the reason of that?’\\n‘In my youth,’ said the sage, as he shook his grey locks,\\n  ‘I kept all my limbs very supple\\nBy the use of this ointment--one shilling the box--\\n  Allow me to sell you a couple?’Alice’s Adventures in Wonderland 40‘You are old,’ said the youth, ‘and your jaws are too weak\\n  For anything tougher than suet;\\nYet you finished the goose, with the bones and the beak--\\n  Pray how did you manage to do it?’\\n‘In my youth,’ said his father, ‘I took to the law,\\n  And argued each case with my wife;\\nAnd the muscular strength, which it gave to my jaw,\\n  Has lasted the rest of my life.’\\n‘You are old,’ said the youth, ‘one would hardly suppose\\n  That your eye was as steady as ever;\\nYet you balanced an eel on the end of your nose--\\n  What made you so awfully clever?’\\n‘I have answered three questions, and that is enough,’\\n  Said his father; `don’t give yourself airs!\\nDo you think I can listen all day to such stuff?\\n  Be off, or I’ll kick you down stairs!’\\n‘That is not said right,’ said the Caterpillar.\\n‘Not quite  right, I’m afraid,’ said Alice, timidly; ‘some of \\nthe words have got altered.’\\n‘It is wrong from beginning to end,’ said the Caterpillar \\ndecidedly, and there was silence for some minutes.\\nThe Caterpillar was the first to speak.\\n‘What size do you want to be?’ it asked.\\n‘Oh, I’m not particular as to size,’ Alice hastily replied; 41 Free eBooks at Planet eBoo k.com‘only one doesn’t like changing so often, you know.’\\n‘I don’t  know,’ said the Caterpillar.\\nAlice said nothing: she had never been so much contra -\\ndicted in her life before, and she felt that she was losing her \\ntemper.\\n‘Are you content now?’ said the Caterpillar.\\n‘Well, I should like to be a little  larger, sir, if you wouldn’t \\nmind,’ said Alice: ‘three inches is such a wretched height \\nto be.’\\n‘It is a very good height indeed!’ said the Caterpillar an -\\ngrily, rearing itself upright as it spoke (it was exactly three \\ninches high).\\n‘But I’m not used to it!’ pleaded poor Alice in a pite -\\nous tone. And she thought of herself, ‘I wish the creatures \\nwouldn’t be so easily offended!’\\n‘You’ll get used to it in time,’ said the Caterpillar; and it \\nput the hookah into its mouth and began smoking again.\\nThis time Alice waited patiently until it chose to speak \\nagain. In a minute or two the Caterpillar took the hookah \\nout of its mouth and yawned once or twice, and shook itself. \\nThen it got down off the mushroom, and crawled away in the \\ngrass, merely remarking as it went, ‘One side will make you \\ngrow taller, and the other side will make you grow shorter.’\\n‘One side of what ? The other side of what ?’ thought Alice \\nto herself.\\n‘Of the mushroom,’ said the Caterpillar, just as if she had \\nasked it aloud; and in another moment it was out of sight.\\nAlice remained looking thoughtfully at the mushroom \\nfor a minute, trying to make out which were the two sides of Alice’s Adventures in Wonderland 42it; and as it was perfectly round, she found this a very diffi -\\ncult question. However, at last she stretched her arms round \\nit as far as they would go, and broke off a bit of the edge with \\neach hand.\\n‘And now which is which?’ she said to herself, and nib -\\nbled a little of the right-hand bit to try the effect: the next \\nmoment she felt a violent blow underneath her chin: it had \\nstruck her foot!\\nShe was a good deal frightened by this very sudden \\nchange, but she felt that there was no time to be lost, as she \\nwas shrinking rapidly; so she set to work at once to eat some \\nof the other bit. Her chin was pressed so closely against her \\nfoot, that there was hardly room to open her mouth; but \\nshe did it at last, and managed to swallow a morsel of the \\nlefthand bit.\\n*****\\n‘Come, my head’s free at last!’ said Alice in a tone of de -\\nlight, which changed into alarm in another moment, when \\nshe found that her shoulders were nowhere to be found: \\nall she could see, when she looked down, was an immense \\nlength of neck, which seemed to rise like a stalk out of a sea \\nof green leaves that lay far below her.\\n‘What can all that green stuff be?’ said Alice. ‘And where \\nhave  my shoulders got to? And oh, my poor hands, how is it \\nI can’t see you?’ She was moving them about as she spoke, \\nbut no result seemed to follow, except a little shaking among \\nthe distant green leaves.\\nAs there seemed to be no chance of getting her hands \\nup to her head, she tried to get her head down to them, and 43 Free eBooks at Planet eBoo k.comwas delighted to find that her neck would bend about eas -\\nily in any direction, like a serpent. She had just succeeded \\nin curving it down into a graceful zigzag, and was going to \\ndive in among the leaves, which she found to be nothing but \\nthe tops of the trees under which she had been wandering, \\nwhen a sharp hiss made her draw back in a hurry: a large pi -\\ngeon had flown into her face, and was beating her violently \\nwith its wings.\\n‘Serpent!’ screamed the Pigeon.\\n‘I’m not a serpent!’ said Alice indignantly. ‘Let me \\nalone!’\\n‘Serpent, I say again!’ repeated the Pigeon, but in a more \\nsubdued tone, and added with a kind of sob, ‘I’ve tried every \\nway, and nothing seems to suit them!’\\n‘I haven’t the least idea what you’re talking about,’ said \\nAlice.\\n‘I’ve tried the roots of trees, and I’ve tried banks, and I’ve \\ntried hedges,’ the Pigeon went on, without attending to her; \\n‘but those serpents! There’s no pleasing them!’\\nAlice was more and more puzzled, but she thought there \\nwas no use in saying anything more till the Pigeon had fin -\\nished.\\n‘As if it wasn’t trouble enough hatching the eggs,’ said the \\nPigeon; ‘but I must be on the look-out for serpents night and \\nday! Why, I haven’t had a wink of sleep these three weeks!’\\n‘I’m very sorry you’ve been annoyed,’ said Alice, who was \\nbeginning to see its meaning.\\n‘And just as I’d taken the highest tree in the wood,’ con -\\ntinued the Pigeon, raising its voice to a shriek, ‘and just as Alice’s Adventures in Wonderland 44I was thinking I should be free of them at last, they must \\nneeds come wriggling down from the sky! Ugh, Serpent!’\\n‘But I’m not a serpent, I tell you!’ said Alice. ‘I’m a—I’m \\na—’\\n‘Well! what  are you?’ said the Pigeon. ‘I can see you’re \\ntrying to invent something!’\\n‘I—I’m a little girl,’ said Alice, rather doubtfully, as she \\nremembered the number of changes she had gone through \\nthat day.\\n‘A likely story indeed!’ said the Pigeon in a tone of the \\ndeepest contempt. ‘I’ve seen a good many little girls in my \\ntime, but never one with such a neck as that! No, no! You’re \\na serpent; and there’s no use denying it. I suppose you’ll be \\ntelling me next that you never tasted an egg!’\\n‘I have  tasted eggs, certainly,’ said Alice, who was a very \\ntruthful child; ‘but little girls eat eggs quite as much as ser -\\npents do, you know.’\\n‘I don’t believe it,’ said the Pigeon; ‘but if they do, why \\nthen they’re a kind of serpent, that’s all I can say.’\\nThis was such a new idea to Alice, that she was quite \\nsilent for a minute or two, which gave the Pigeon the op -\\nportunity of adding, ‘You’re looking for eggs, I know that \\nwell enough; and what does it matter to me whether you’re \\na little girl or a serpent?’\\n‘It matters a good deal to me,’ said Alice hastily; ‘but I’m \\nnot looking for eggs, as it happens; and if I was, I shouldn’t \\nwant yours : I don’t like them raw.’\\n‘Well, be off, then!’ said the Pigeon in a sulky tone, as it \\nsettled down again into its nest. Alice crouched down among 45 Free eBooks at Planet eBoo k.comthe trees as well as she could, for her neck kept getting en -\\ntangled among the branches, and every now and then she \\nhad to stop and untwist it. After a while she remembered \\nthat she still held the pieces of mushroom in her hands, and \\nshe set to work very carefully, nibbling first at one and then \\nat the other, and growing sometimes taller and sometimes \\nshorter, until she had succeeded in bringing herself down to \\nher usual height.\\nIt was so long since she had been anything near the right \\nsize, that it felt quite strange at first; but she got used to it in \\na few minutes, and began talking to herself, as usual. ‘Come, \\nthere’s half my plan done now! How puzzling all these \\nchanges are! I’m never sure what I’m going to be, from one \\nminute to another! However, I’ve got back to my right size: \\nthe next thing is, to get into that beautiful garden—how is \\nthat to be done, I wonder?’ As she said this, she came sud -\\ndenly upon an open place, with a little house in it about four \\nfeet high. ‘Whoever lives there,’ thought Alice, ‘it’ll never \\ndo to come upon them this size: why, I should frighten them \\nout of their wits!’ So she began nibbling at the righthand bit \\nagain, and did not venture to go near the house till she had \\nbrought herself down to nine inches high.Alice’s Adventures in Wonderland 46Chapter VI.  \\nPig and Pepper\\nFor a minute or two she stood looking at the house, and \\nwondering what to do next, when suddenly a footman \\nin livery came running out of the wood—(she considered \\nhim to be a footman because he was in livery: otherwise, \\njudging by his face only, she would have called him a fish)—\\nand rapped loudly at the door with his knuckles. It was \\nopened by another footman in livery, with a round face, and \\nlarge eyes like a frog; and both footmen, Alice noticed, had \\npowdered hair that curled all over their heads. She felt very \\ncurious to know what it was all about, and crept a little way \\nout of the wood to listen.\\nThe Fish-Footman began by producing from under his \\narm a great letter, nearly as large as himself, and this he \\nhanded over to the other, saying, in a solemn tone, ‘For the \\nDuchess. An invitation from the Queen to play croquet.’ \\nThe Frog-Footman repeated, in the same solemn tone, only \\nchanging the order of the words a little, ‘From the Queen. \\nAn invitation for the Duchess to play croquet.’\\nThen they both bowed low, and their curls got entangled \\ntogether.\\nAlice laughed so much at this, that she had to run back \\ninto the wood for fear of their hearing her; and when she \\nnext peeped out the Fish-Footman was gone, and the other 47 Free eBooks at Planet eBoo k.comwas sitting on the ground near the door, staring stupidly up \\ninto the sky.\\nAlice went timidly up to the door, and knocked.\\n‘There’s no sort of use in knocking,’ said the Footman, \\n‘and that for two reasons. First, because I’m on the same \\nside of the door as you are; secondly, because they’re mak -\\ning such a noise inside, no one could possibly hear you.’ \\nAnd certainly there was a most extraordinary noise going \\non within—a constant howling and sneezing, and every \\nnow and then a great crash, as if a dish or kettle had been \\nbroken to pieces.\\n‘Please, then,’ said Alice, ‘how am I to get in?’\\n‘There might be some sense in your knocking,’ the Foot -\\nman went on without attending to her, ‘if we had the door \\nbetween us. For instance, if you were inside , you might \\nknock, and I could let you out, you know.’ He was looking \\nup into the sky all the time he was speaking, and this Alice \\nthought decidedly uncivil. ‘But perhaps he can’t help it,’ she \\nsaid to herself; ‘his eyes are so very nearly at the top of his \\nhead. But at any rate he might answer questions.—How am \\nI to get in?’ she repeated, aloud.\\n‘I shall sit here,’ the Footman remarked, ‘till tomorrow—’\\nAt this moment the door of the house opened, and a large \\nplate came skimming out, straight at the Footman’s head: it \\njust grazed his nose, and broke to pieces against one of the \\ntrees behind him.\\n‘—or next day, maybe,’ the Footman continued in the \\nsame tone, exactly as if nothing had happened.\\n‘How am I to get in?’ asked Alice again, in a louder tone.Alice’s Adventures in Wonderland 48‘Are you to get in at all?’ said the Footman. ‘That’s the \\nfirst question, you know.’\\nIt was, no doubt: only Alice did not like to be told so. \\n‘It’s really dreadful,’ she muttered to herself, ‘the way all the \\ncreatures argue. It’s enough to drive one crazy!’\\nThe Footman seemed to think this a good opportunity \\nfor repeating his remark, with variations. ‘I shall sit here,’ \\nhe said, ‘on and off, for days and days.’\\n‘But what am I to do?’ said Alice.\\n‘Anything you like,’ said the Footman, and began whis -\\ntling.\\n‘Oh, there’s no use in talking to him,’ said Alice desper -\\nately: ‘he’s perfectly idiotic!’ And she opened the door and \\nwent in.\\nThe door led right into a large kitchen, which was full \\nof smoke from one end to the other: the Duchess was sit -\\nting on a three-legged stool in the middle, nursing a baby; \\nthe cook was leaning over the fire, stirring a large cauldron \\nwhich seemed to be full of soup.\\n‘There’s certainly too much pepper in that soup!’ Alice \\nsaid to herself, as well as she could for sneezing.\\nThere was certainly too much of it in the air. Even the \\nDuchess sneezed occasionally; and as for the baby, it was \\nsneezing and howling alternately without a moment’s pause. \\nThe only things in the kitchen that did not sneeze, were the \\ncook, and a large cat which was sitting on the hearth and \\ngrinning from ear to ear.\\n‘Please would you tell me,’ said Alice, a little timidly, for \\nshe was not quite sure whether it was good manners for her 49 Free eBooks at Planet eBoo k.comto speak first, ‘why your cat grins like that?’\\n‘It’s a Cheshire cat,’ said the Duchess, ‘and that’s why. \\nPig!’\\nShe said the last word with such sudden violence that Al -\\nice quite jumped; but she saw in another moment that it was \\naddressed to the baby, and not to her, so she took courage, \\nand went on again:—\\n‘I didn’t know that Cheshire cats always grinned; in fact, \\nI didn’t know that cats could  grin.’\\n‘They all can,’ said the Duchess; ‘and most of ‘em do.’\\n‘I don’t know of any that do,’ Alice said very politely, feel -\\ning quite pleased to have got into a conversation.\\n‘You don’t know much,’ said the Duchess; ‘and that’s a \\nfact.’\\nAlice did not at all like the tone of this remark, and \\nthought it would be as well to introduce some other sub -\\nject of conversation. While she was trying to fix on one, the \\ncook took the cauldron of soup off the fire, and at once set \\nto work throwing everything within her reach at the Duch -\\ness and the baby —the fire-irons came first; then followed a \\nshower of saucepans, plates, and dishes. The Duchess took \\nno notice of them even when they hit her; and the baby was \\nhowling so much already, that it was quite impossible to say \\nwhether the blows hurt it or not.\\n‘Oh, please  mind what you’re doing!’ cried Alice, jump -\\ning up and down in an agony of terror. ‘Oh, there goes his \\nprecious  nose’; as an unusually large saucepan flew close by \\nit, and very nearly carried it off.\\n‘If everybody minded their own business,’ the Duchess Alice’s Adventures in Wonderland 50said in a hoarse growl, ‘the world would go round a deal \\nfaster than it does.’\\n‘Which would not be an advantage,’ said Alice, who felt \\nvery glad to get an opportunity of showing off a little of her \\nknowledge. ‘Just think of what work it would make with the \\nday and night! You see the earth takes twenty-four hours to \\nturn round on its axis—’\\n‘Talking of axes,’ said the Duchess, ‘chop off her head!’\\nAlice glanced rather anxiously at the cook, to see if she \\nmeant to take the hint; but the cook was busily stirring the \\nsoup, and seemed not to be listening, so she went on again: \\n‘Twenty-four hours, I think ; or is it twelve? I—’\\n‘Oh, don’t bother ME,’ said the Duchess; ‘I never could \\nabide figures!’ And with that she began nursing her child \\nagain, singing a sort of lullaby to it as she did so, and giving \\nit a violent shake at the end of every line:\\n‘Speak roughly to your little boy,  \\nAnd beat him when he sneezes:  \\nHe only does it to annoy,  \\nBecause he knows it teases.’\\nCHORUS\\n(In which the cook and the baby joined):—\\n‘Wow! wow! wow!’\\nWhile the Duchess sang the second verse of the song, 51 Free eBooks at Planet eBoo k.comshe kept tossing the baby violently up and down, and the \\npoor little thing howled so, that Alice could hardly hear the \\nwords:—\\n‘I speak severely to my boy,  \\nI beat him when he sneezes;  \\nFor he can thoroughly enjoy  \\nThe pepper when he pleases!’ \\nCHORUS\\n‘Wow! wow! wow!’\\n‘Here! you may nurse it a bit, if you like!’ the Duchess \\nsaid to Alice, flinging the baby at her as she spoke. ‘I must \\ngo and get ready to play croquet with the Queen,’ and she \\nhurried out of the room. The cook threw a frying-pan after \\nher as she went out, but it just missed her.\\nAlice caught the baby with some difficulty, as it was a \\nqueershaped little creature, and held out its arms and legs \\nin all directions, ‘just like a star-fish,’ thought Alice. The \\npoor little thing was snorting like a steam-engine when she \\ncaught it, and kept doubling itself up and straightening it -\\nself out again, so that altogether, for the first minute or two, \\nit was as much as she could do to hold it.\\nAs soon as she had made out the proper way of nursing \\nit, (which was to twist it up into a sort of knot, and then \\nkeep tight hold of its right ear and left foot, so as to prevent \\nits undoing itself,) she carried it out into the open air. ‘ If I \\ndon’t take this child away with me,’ thought Alice, ‘they’re \\nsure to kill it in a day or two: wouldn’t it be murder to leave Alice’s Adventures in Wonderland 52it behind?’ She said the last words out loud, and the little \\nthing grunted in reply (it had left off sneezing by this time). \\n‘Don’t grunt,’ said Alice; ‘that’s not at all a proper way of ex -\\npressing yourself.’\\nThe baby grunted again, and Alice looked very anxiously \\ninto its face to see what was the matter with it. There could \\nbe no doubt that it had a very turn-up nose, much more \\nlike a snout than a real nose; also its eyes were getting ex -\\ntremely small for a baby: altogether Alice did not like the \\nlook of the thing at all. ‘But perhaps it was only sobbing,’ \\nshe thought, and looked into its eyes again, to see if there \\nwere any tears.\\nNo, there were no tears. ‘If you’re going to turn into a pig, \\nmy dear,’ said Alice, seriously, ‘I’ll have nothing more to do \\nwith you. Mind now!’ The poor little thing sobbed again (or \\ngrunted, it was impossible to say which), and they went on \\nfor some while in silence.\\nAlice was just beginning to think to herself, ‘Now, what \\nam I to do with this creature when I get it home?’ when it \\ngrunted again, so violently, that she looked down into its \\nface in some alarm. This time there could be no mistake \\nabout it: it was neither more nor less than a pig, and she felt \\nthat it would be quite absurd for her to carry it further.\\nSo she set the little creature down, and felt quite relieved \\nto see it trot away quietly into the wood. ‘If it had grown up,’ \\nshe said to herself, ‘it would have made a dreadfully ugly \\nchild: but it makes rather a handsome pig, I think.’ And she \\nbegan thinking over other children she knew, who might do \\nvery well as pigs, and was just saying to herself, ‘if one only 53 Free eBooks at Planet eBoo k.comknew the right way to change them—’ when she was a little \\nstartled by seeing the Cheshire Cat sitting on a bough of a \\ntree a few yards off.\\nThe Cat only grinned when it saw Alice. It looked good -\\nnatured, she thought: still it had very long claws and a great \\nmany teeth, so she felt that it ought to be treated with re -\\nspect.\\n‘Cheshire Puss,’ she began, rather timidly, as she did not \\nat all know whether it would like the name: however, it only \\ngrinned a little wider. ‘Come, it’s pleased so far,’ thought Al -\\nice, and she went on. ‘Would you tell me, please, which way \\nI ought to go from here?’\\n‘That depends a good deal on where you want to get to,’ \\nsaid the Cat.\\n‘I don’t much care where—’ said Alice.\\n‘Then it doesn’t matter which way you go,’ said the Cat.\\n‘—so long as I get somewhere ,’ Alice added as an expla -\\nnation.\\n‘Oh, you’re sure to do that,’ said the Cat, ‘if you only walk \\nlong enough.’\\nAlice felt that this could not be denied, so she tried an -\\nother question. ‘What sort of people live about here?’\\n‘In that direction,’ the Cat said, waving its right paw \\nround, ‘lives a Hatter: and in that direction,’ waving the \\nother paw, ‘lives a March Hare. Visit either you like: they’re \\nboth mad.’\\n‘But I don’t want to go among mad people,’ Alice re -\\nmarked.\\n‘Oh, you can’t help that,’ said the Cat: ‘we’re all mad here. Alice’s Adventures in Wonderland 54I’m mad. You’re mad.’\\n‘How do you know I’m mad?’ said Alice.\\n‘You must be,’ said the Cat, ‘or you wouldn’t have come \\nhere.’\\nAlice didn’t think that proved it at all; however, she went \\non ‘And how do you know that you’re mad?’\\n‘To begin with,’ said the Cat, ‘a dog’s not mad. You grant \\nthat?’\\n‘I suppose so,’ said Alice.\\n‘Well, then,’ the Cat went on, ‘you see, a dog growls when \\nit’s angry, and wags its tail when it’s pleased. Now I growl \\nwhen I’m pleased, and wag my tail when I’m angry. There -\\nfore I’m mad.’\\n‘I call it purring, not growling,’ said Alice.\\n‘Call it what you like,’ said the Cat. ‘Do you play croquet \\nwith the Queen to-day?’\\n‘I should like it very much,’ said Alice, ‘but I haven’t been \\ninvited yet.’\\n‘You’ll see me there,’ said the Cat, and vanished.\\nAlice was not much surprised at this, she was getting so \\nused to queer things happening. While she was looking at \\nthe place where it had been, it suddenly appeared again.\\n‘By-the-bye, what became of the baby?’ said the Cat. ‘I’d \\nnearly forgotten to ask.’\\n‘It turned into a pig,’ Alice quietly said, just as if it had \\ncome back in a natural way.\\n‘I thought it would,’ said the Cat, and vanished again.\\nAlice waited a little, half expecting to see it again, but \\nit did not appear, and after a minute or two she walked on 55 Free eBooks at Planet eBoo k.comin the direction in which the March Hare was said to live. \\n‘I’ve seen hatters before,’ she said to herself; ‘the March Hare \\nwill be much the most interesting, and perhaps as this is \\nMay it won’t be raving mad—at least not so mad as it was in \\nMarch.’ As she said this, she looked up, and there was the \\nCat again, sitting on a branch of a tree.\\n‘Did you say pig, or fig?’ said the Cat.\\n‘I said pig,’ replied Alice; ‘and I wish you wouldn’t keep \\nappearing and vanishing so suddenly: you make one quite \\ngiddy.’\\n‘All right,’ said the Cat; and this time it vanished quite \\nslowly, beginning with the end of the tail, and ending with \\nthe grin, which remained some time after the rest of it had \\ngone.\\n‘Well! I’ve often seen a cat without a grin,’ thought Alice; \\n‘but a grin without a cat! It’s the most curious thing I ever \\nsaw in my life!’\\nShe had not gone much farther before she came in sight \\nof the house of the March Hare: she thought it must be the \\nright house, because the chimneys were shaped like ears \\nand the roof was thatched with fur. It was so large a house, \\nthat she did not like to go nearer till she had nibbled some \\nmore of the lefthand bit of mushroom, and raised herself \\nto about two feet high: even then she walked up towards it \\nrather timidly, saying to herself ‘Suppose it should be rav -\\ning mad after all! I almost wish I’d gone to see the Hatter \\ninstead!’Alice’s Adventures in Wonderland 56Chapter VII.  \\nA Mad Tea-P arty\\nThere was a table set out under a tree in front of the \\nhouse, and the March Hare and the Hatter were having \\ntea at it: a Dormouse was sitting between them, fast asleep, \\nand the other two were using it as a cushion, resting their \\nelbows on it, and talking over its head. ‘Very uncomfortable \\nfor the Dormouse,’ thought Alice; ‘only, as it’s asleep, I sup -\\npose it doesn’t mind.’\\nThe table was a large one, but the three were all crowded \\ntogether at one corner of it: ‘No room! No room!’ they cried \\nout when they saw Alice coming. ‘There’s plenty  of room!’ \\nsaid Alice indignantly, and she sat down in a large arm-\\nchair at one end of the table.\\n‘Have some wine,’ the March Hare said in an encourag -\\ning tone.\\nAlice looked all round the table, but there was nothing \\non it but tea. ‘I don’t see any wine,’ she remarked.\\n‘There isn’t any,’ said the March Hare.\\n‘Then it wasn’t very civil of you to offer it,’ said Alice an -\\ngrily.\\n‘It wasn’t very civil of you to sit down without being in -\\nvited,’ said the March Hare.\\n‘I didn’t know it was your  table,’ said Alice; ‘it’s laid for a \\ngreat many more than three.’57 Free eBooks at Planet eBoo k.com‘Your hair wants cutting,’ said the Hatter. He had been \\nlooking at Alice for some time with great curiosity, and this \\nwas his first speech.\\n‘You should learn not to make personal remarks,’ Alice \\nsaid with some severity; ‘it’s very rude.’\\nThe Hatter opened his eyes very wide on hearing this; \\nbut all he said was, ‘Why is a raven like a writing-desk?’\\n‘Come, we shall have some fun now!’ thought Alice. ‘I’m \\nglad they’ve begun asking riddles.—I believe I can guess \\nthat,’ she added aloud.\\n‘Do you mean that you think you can find out the answer \\nto it?’ said the March Hare.\\n‘Exactly so,’ said Alice.\\n‘Then you should say what you mean,’ the March Hare \\nwent on.\\n‘I do,’ Alice hastily replied; ‘at least—at least I mean what \\nI say—that’s the same thing, you know.’\\n‘Not the same thing a bit!’ said the Hatter. ‘You might \\njust as well say that ‘I see what I eat’ is the same thing as ‘I \\neat what I see’!’\\n‘You might just as well say,’ added the March Hare, ‘that \\n‘I like what I get’ is the same thing as ‘I get what I like’!’\\n‘You might just as well say,’ added the Dormouse, who \\nseemed to be talking in his sleep, ‘that ‘I breathe when I \\nsleep’ is the same thing as ‘I sleep when I breathe’!’\\n‘It is the same thing with you,’ said the Hatter, and here \\nthe conversation dropped, and the party sat silent for a min -\\nute, while Alice thought over all she could remember about \\nravens and writing-desks, which wasn’t much.Alice’s Adventures in Wonderland 58The Hatter was the first to break the silence. ‘What day \\nof the month is it?’ he said, turning to Alice: he had taken \\nhis watch out of his pocket, and was looking at it uneasily, \\nshaking it every now and then, and holding it to his ear.\\nAlice considered a little, and then said ‘The fourth.’\\n‘Two days wrong!’ sighed the Hatter. ‘I told you butter \\nwouldn’t suit the works!’ he added looking angrily at the \\nMarch Hare.\\n‘It was the best butter,’ the March Hare meekly replied.\\n‘Yes, but some crumbs must have got in as well,’ the \\nHatter grumbled: ‘you shouldn’t have put it in with the \\nbread-knife.’\\nThe March Hare took the watch and looked at it gloom -\\nily: then he dipped it into his cup of tea, and looked at it \\nagain: but he could think of nothing better to say than his \\nfirst remark, ‘It was the best butter, you know.’\\nAlice had been looking over his shoulder with some cu -\\nriosity. ‘What a funny watch!’ she remarked. ‘It tells the day \\nof the month, and doesn’t tell what o’clock it is!’\\n‘Why should it?’ muttered the Hatter. ‘Does your  watch \\ntell you what year it is?’\\n‘Of course not,’ Alice replied very readily: ‘but that’s be -\\ncause it stays the same year for such a long time together.’\\n‘Which is just the case with mine ,’ said the Hatter.\\nAlice felt dreadfully puzzled. The Hatter’s remark seemed \\nto have no sort of meaning in it, and yet it was certainly \\nEnglish. ‘I don’t quite understand you,’ she said, as politely \\nas she could.\\n‘The Dormouse is asleep again,’ said the Hatter, and he 59 Free eBooks at Planet eBoo k.compoured a little hot tea upon its nose.\\nThe Dormouse shook its head impatiently, and said, \\nwithout opening its eyes, ‘Of course, of course; just what I \\nwas going to remark myself.’\\n‘Have you guessed the riddle yet?’ the Hatter said, turn -\\ning to Alice again.\\n‘No, I give it up,’ Alice replied: ‘what’s the answer?’\\n‘I haven’t the slightest idea,’ said the Hatter.\\n‘Nor I,’ said the March Hare.\\nAlice sighed wearily. ‘I think you might do something \\nbetter with the time,’ she said, ‘than waste it in asking rid -\\ndles that have no answers.’\\n‘If you knew Time as well as I do,’ said the Hatter, ‘you \\nwouldn’t talk about wasting it. It’s him.’\\n‘I don’t know what you mean,’ said Alice.\\n‘Of course you don’t!’ the Hatter said, tossing his head \\ncontemptuously. ‘I dare say you never even spoke to Time!’\\n‘Perhaps not,’ Alice cautiously replied: ‘but I know I have \\nto beat time when I learn music.’\\n‘Ah! that accounts for it,’ said the Hatter. ‘He won’t stand \\nbeating. Now, if you only kept on good terms with him, he’d \\ndo almost anything you liked with the clock. For instance, \\nsuppose it were nine o’clock in the morning, just time to be -\\ngin lessons: you’d only have to whisper a hint to Time, and \\nround goes the clock in a twinkling! Half-past one, time for \\ndinner!’\\n(’I only wish it was,’ the March Hare said to itself in a \\nwhisper.)\\n‘That would be grand, certainly,’ said Alice thoughtfully: Alice’s Adventures in Wonderland 60‘but then—I shouldn’t be hungry for it, you know.’\\n‘Not at first, perhaps,’ said the Hatter: ‘but you could \\nkeep it to half-past one as long as you liked.’\\n‘Is that the way you manage?’ Alice asked.\\nThe Hatter shook his head mournfully. ‘Not I!’ he replied. \\n‘We quarrelled last March—just before he went mad, you \\nknow—’ (pointing with his tea spoon at the March Hare,) \\n‘—it was at the great concert given by the Queen of Hearts, \\nand I had to sing\\n“Twinkle, twinkle, little bat!  \\nHow I wonder what you’re at!’\\nYou know the song, perhaps?’\\n‘I’ve heard something like it,’ said Alice.\\n‘It goes on, you know,’ the Hatter continued, ‘in this \\nway:—\\n“Up above the world you fly,  \\nLike a tea-tray in the sky.  \\nTwinkle, twinkle—‘\\nHere the Dormouse shook itself, and began singing in its \\nsleep ‘ Twinkle, twinkle, twinkle, twinkle— ’ and went on so \\nlong that they had to pinch it to make it stop.\\n‘Well, I’d hardly finished the first verse,’ said the Hatter, \\n‘when the Queen jumped up and bawled out, ‘He’s murder -\\ning the time! Off with his head!‘\\n‘How dreadfully savage!’ exclaimed Alice.61 Free eBooks at Planet eBoo k.com‘And ever since that,’ the Hatter went on in a mournful \\ntone, ‘he won’t do a thing I ask! It’s always six o’clock now.’\\nA bright idea came into Alice’s head. ‘Is that the reason \\nso many tea-things are put out here?’ she asked.\\n‘Yes, that’s it,’ said the Hatter with a sigh: ‘it’s always \\ntea-time, and we’ve no time to wash the things between \\nwhiles.’\\n‘Then you keep moving round, I suppose?’ said Alice.\\n‘Exactly so,’ said the Hatter: ‘as the things get used up.’\\n‘But what happens when you come to the beginning \\nagain?’ Alice ventured to ask.\\n‘Suppose we change the subject,’ the March Hare inter -\\nrupted, yawning. ‘I’m getting tired of this. I vote the young \\nlady tells us a story.’\\n‘I’m afraid I don’t know one,’ said Alice, rather alarmed \\nat the proposal.\\n‘Then the Dormouse shall!’ they both cried. ‘Wake up, \\nDormouse!’ And they pinched it on both sides at once.\\nThe Dormouse slowly opened his eyes. ‘I wasn’t asleep,’ \\nhe said in a hoarse, feeble voice: ‘I heard every word you fel -\\nlows were saying.’\\n‘Tell us a story!’ said the March Hare.\\n‘Yes, please do!’ pleaded Alice.\\n‘And be quick about it,’ added the Hatter, ‘or you’ll be \\nasleep again before it’s done.’\\n‘Once upon a time there were three little sisters,’ the Dor -\\nmouse began in a great hurry; ‘and their names were Elsie, \\nLacie, and Tillie; and they lived at the bottom of a well—’\\n‘What did they live on?’ said Alice, who always took a Alice’s Adventures in Wonderland 62great interest in questions of eating and drinking.\\n‘They lived on treacle,’ said the Dormouse, after thinking \\na minute or two.\\n‘They couldn’t have done that, you know,’ Alice gently \\nremarked; ‘they’d have been ill.’\\n‘So they were,’ said the Dormouse; ‘ very ill.’\\nAlice tried to fancy to herself what such an extraordinary \\nways of living would be like, but it puzzled her too much, so \\nshe went on: ‘But why did they live at the bottom of a well?’\\n‘Take some more tea,’ the March Hare said to Alice, very \\nearnestly.\\n‘I’ve had nothing yet,’ Alice replied in an offended tone, \\n‘so I can’t take more.’\\n‘You mean you can’t take less,’ said the Hatter: ‘it’s very \\neasy to take more  than nothing.’\\n‘Nobody asked your  opinion,’ said Alice.\\n‘Who’s making personal remarks now?’ the Hatter asked \\ntriumphantly.\\nAlice did not quite know what to say to this: so she helped \\nherself to some tea and bread-and-butter, and then turned \\nto the Dormouse, and repeated her question. ‘Why did they \\nlive at the bottom of a well?’\\nThe Dormouse again took a minute or two to think about \\nit, and then said, ‘It was a treacle-well.’\\n‘There’s no such thing!’ Alice was beginning very angri -\\nly, but the Hatter and the March Hare went ‘Sh! sh!’ and \\nthe Dormouse sulkily remarked, ‘If you can’t be civil, you’d \\nbetter finish the story for yourself.’\\n‘No, please go on!’ Alice said very humbly; ‘I won’t inter -63 Free eBooks at Planet eBoo k.comrupt again. I dare say there may be one.’\\n‘One, indeed!’ said the Dormouse indignantly. However, \\nhe consented to go on. ‘And so these three little sisters—\\nthey were learning to draw, you know—’\\n‘What did they draw?’ said Alice, quite forgetting her \\npromise.\\n‘Treacle,’ said the Dormouse, without considering at all \\nthis time.\\n‘I want a clean cup,’ interrupted the Hatter: ‘let’s all move \\none place on.’\\nHe moved on as he spoke, and the Dormouse followed \\nhim: the March Hare moved into the Dormouse’s place, and \\nAlice rather unwillingly took the place of the March Hare. \\nThe Hatter was the only one who got any advantage from \\nthe change: and Alice was a good deal worse off than be -\\nfore, as the March Hare had just upset the milk-jug into his \\nplate.\\nAlice did not wish to offend the Dormouse again, so she \\nbegan very cautiously: ‘But I don’t understand. Where did \\nthey draw the treacle from?’\\n‘You can draw water out of a water-well,’ said the Hatter; \\n‘so I should think you could draw treacle out of a treacle-\\nwell—eh, stupid?’\\n‘But they were in the well,’ Alice said to the Dormouse, \\nnot choosing to notice this last remark.\\n‘Of course they were’, said the Dormouse; ‘—well in.’\\nThis answer so confused poor Alice, that she let the Dor -\\nmouse go on for some time without interrupting it.\\n‘They were learning to draw,’ the Dormouse went on, Alice’s Adventures in Wonderland 64yawning and rubbing its eyes, for it was getting very sleepy; \\n‘and they drew all manner of things—everything that be -\\ngins with an M—’\\n‘Why with an M?’ said Alice.\\n‘Why not?’ said the March Hare.\\nAlice was silent.\\nThe Dormouse had closed its eyes by this time, and was \\ngoing off into a doze; but, on being pinched by the Hatter, \\nit woke up again with a little shriek, and went on: ‘—that \\nbegins with an M, such as mouse-traps, and the moon, and \\nmemory, and muchness— you know you say things are \\n‘much of a muchness’—did you ever see such a thing as a \\ndrawing of a muchness?’\\n‘Really, now you ask me,’ said Alice, very much confused, \\n‘I don’t think—’\\n‘Then you shouldn’t talk,’ said the Hatter.\\nThis piece of rudeness was more than Alice could bear: \\nshe got up in great disgust, and walked off; the Dormouse \\nfell asleep instantly, and neither of the others took the least \\nnotice of her going, though she looked back once or twice, \\nhalf hoping that they would call after her: the last time she \\nsaw them, they were trying to put the Dormouse into the \\nteapot.\\n‘At any rate I’ll never go there  again!’ said Alice as she \\npicked her way through the wood. ‘It’s the stupidest tea-\\nparty I ever was at in all my life!’\\nJust as she said this, she noticed that one of the trees \\nhad a door leading right into it. ‘That’s very curious!’ she \\nthought. ‘But everything’s curious today. I think I may as 65 Free eBooks at Planet eBoo k.comwell go in at once.’ And in she went.\\nOnce more she found herself in the long hall, and close to \\nthe little glass table. ‘Now, I’ll manage better this time,’ she \\nsaid to herself, and began by taking the little golden key, and \\nunlocking the door that led into the garden. Then she went \\nto work nibbling at the mushroom (she had kept a piece of it \\nin her pocket) till she was about a foot high: then she walked \\ndown the little passage: and then —she found herself at last \\nin the beautiful garden, among the bright flower-beds and \\nthe cool fountains.Alice’s Adventures in Wonderland 66Chapter VIII.  \\nThe Queen’s Croquet-\\nGround\\nA large rose-tree stood near the entrance of the garden: \\nthe roses growing on it were white, but there were three \\ngardeners at it, busily painting them red. Alice thought this \\na very curious thing, and she went nearer to watch them, \\nand just as she came up to them she heard one of them say, \\n‘Look out now, Five! Don’t go splashing paint over me like \\nthat!’\\n‘I couldn’t help it,’ said Five, in a sulky tone; ‘Seven jogged \\nmy elbow.’\\nOn which Seven looked up and said, ‘That’s right, Five! \\nAlways lay the blame on others!’\\nYou’ d  better not talk!’ said Five. ‘I heard the Queen say \\nonly yesterday you deserved to be beheaded!’\\n‘What for?’ said the one who had spoken first.\\n‘That’s none of your  business, Two!’ said Seven.\\n‘Yes, it is his business!’ said Five, ‘and I’ll tell him—it was \\nfor bringing the cook tulip-roots instead of onions.’\\nSeven flung down his brush, and had just begun ‘Well, \\nof all the unjust things—’ when his eye chanced to fall upon \\nAlice, as she stood watching them, and he checked him -\\nself suddenly: the others looked round also, and all of them 67 Free eBooks at Planet eBoo k.combowed low.\\n‘Would you tell me,’ said Alice, a little timidly, ‘why you \\nare painting those roses?’\\nFive and Seven said nothing, but looked at Two. Two be -\\ngan in a low voice, ‘Why the fact is, you see, Miss, this here \\nought to have been a red rose-tree, and we put a white one \\nin by mistake; and if the Queen was to find it out, we should \\nall have our heads cut off, you know. So you see, Miss, we’re \\ndoing our best, afore she comes, to—’ At this moment Five, \\nwho had been anxiously looking across the garden, called \\nout ‘The Queen! The Queen!’ and the three gardeners in -\\nstantly threw themselves flat upon their faces. There was a \\nsound of many footsteps, and Alice looked round, eager to \\nsee the Queen.\\nFirst came ten soldiers carrying clubs; these were all \\nshaped like the three gardeners, oblong and flat, with their \\nhands and feet at the corners: next the ten courtiers; these \\nwere ornamented all over with diamonds, and walked two \\nand two, as the soldiers did. After these came the royal \\nchildren; there were ten of them, and the little dears came \\njumping merrily along hand in hand, in couples: they were \\nall ornamented with hearts. Next came the guests, mostly \\nKings and Queens, and among them Alice recognised the \\nWhite Rabbit: it was talking in a hurried nervous manner, \\nsmiling at everything that was said, and went by without \\nnoticing her. Then followed the Knave of Hearts, carrying \\nthe King’s crown on a crimson velvet cushion; and, last of \\nall this grand procession, came THE KING AND QUEEN \\nOF HEARTS.Alice’s Adventures in Wonderland 68Alice was rather doubtful whether she ought not to lie \\ndown on her face like the three gardeners, but she could \\nnot remember ever having heard of such a rule at proces -\\nsions; ‘and besides, what would be the use of a procession,’ \\nthought she, ‘if people had all to lie down upon their faces, \\nso that they couldn’t see it?’ So she stood still where she was, \\nand waited.\\nWhen the procession came opposite to Alice, they all \\nstopped and looked at her, and the Queen said severely \\n‘Who is this?’ She said it to the Knave of Hearts, who only \\nbowed and smiled in reply.\\n‘Idiot!’ said the Queen, tossing her head impatiently; and, \\nturning to Alice, she went on, ‘What’s your name, child?’\\n‘My name is Alice, so please your Majesty,’ said Alice \\nvery politely; but she added, to herself, ‘Why, they’re only a \\npack of cards, after all. I needn’t be afraid of them!’\\n‘And who are these ?’ said the Queen, pointing to the \\nthree gardeners who were lying round the rosetree; for, you \\nsee, as they were lying on their faces, and the pattern on \\ntheir backs was the same as the rest of the pack, she could \\nnot tell whether they were gardeners, or soldiers, or court -\\niers, or three of her own children.\\n‘How should I know?’ said Alice, surprised at her own \\ncourage. ‘It’s no business of mine .’\\nThe Queen turned crimson with fury, and, after glaring \\nat her for a moment like a wild beast, screamed ‘Off with \\nher head! Off—’\\n‘Nonsense!’ said Alice, very loudly and decidedly, and \\nthe Queen was silent.69 Free eBooks at Planet eBoo k.comThe King laid his hand upon her arm, and timidly said \\n‘Consider, my dear: she is only a child!’\\nThe Queen turned angrily away from him, and said to \\nthe Knave ‘Turn them over!’\\nThe Knave did so, very carefully, with one foot.\\n‘Get up!’ said the Queen, in a shrill, loud voice, and the \\nthree gardeners instantly jumped up, and began bowing \\nto the King, the Queen, the royal children, and everybody \\nelse.\\n‘Leave off that!’ screamed the Queen. ‘You make me gid -\\ndy.’ And then, turning to the rose-tree, she went on, ‘What \\nhave  you been doing here?’\\n‘May it please your Majesty,’ said Two, in a very humble \\ntone, going down on one knee as he spoke, ‘we were try -\\ning—’\\n‘I see!’ said the Queen, who had meanwhile been exam -\\nining the roses. ‘Off with their heads!’ and the procession \\nmoved on, three of the soldiers remaining behind to execute \\nthe unfortunate gardeners, who ran to Alice for protection.\\n‘You shan’t be beheaded!’ said Alice, and she put them \\ninto a large flower-pot that stood near. The three soldiers \\nwandered about for a minute or two, looking for them, and \\nthen quietly marched off after the others.\\n‘Are their heads off?’ shouted the Queen.\\n‘Their heads are gone, if it please your Majesty!’ the sol -\\ndiers shouted in reply.\\n‘That’s right!’ shouted the Queen. ‘Can you play cro -\\nquet?’\\nThe soldiers were silent, and looked at Alice, as the ques -Alice’s Adventures in Wonderland 70tion was evidently meant for her.\\n‘Yes!’ shouted Alice.\\n‘Come on, then!’ roared the Queen, and Alice joined \\nthe procession, wondering very much what would happen \\nnext.\\n‘It’s—it’s a very fine day!’ said a timid voice at her side. \\nShe was walking by the White Rabbit, who was peeping \\nanxiously into her face.\\n‘Very,’ said Alice: ‘—where’s the Duchess?’\\n‘Hush! Hush!’ said the Rabbit in a low, hurried tone. He \\nlooked anxiously over his shoulder as he spoke, and then \\nraised himself upon tiptoe, put his mouth close to her ear, \\nand whispered ‘She’s under sentence of execution.’\\n‘What for?’ said Alice.\\n‘Did you say ‘What a pity!’?’ the Rabbit asked.\\n‘No, I didn’t,’ said Alice: ‘I don’t think it’s at all a pity. I \\nsaid ‘What for?‘\\n‘She boxed the Queen’s ears—’ the Rabbit began. Alice \\ngave a little scream of laughter. ‘Oh, hush!’ the Rabbit whis -\\npered in a frightened tone. ‘The Queen will hear you! You \\nsee, she came rather late, and the Queen said—’\\n‘Get to your places!’ shouted the Queen in a voice of \\nthunder, and people began running about in all directions, \\ntumbling up against each other; however, they got set -\\ntled down in a minute or two, and the game began. Alice \\nthought she had never seen such a curious croquet-ground \\nin her life; it was all ridges and furrows; the balls were live \\nhedgehogs, the mallets live flamingoes, and the soldiers had \\nto double themselves up and to stand on their hands and 71 Free eBooks at Planet eBoo k.comfeet, to make the arches.\\nThe chief difficulty Alice found at first was in manag -\\ning her flamingo: she succeeded in getting its body tucked \\naway, comfortably enough, under her arm, with its legs \\nhanging down, but generally, just as she had got its neck \\nnicely straightened out, and was going to give the hedgehog \\na blow with its head, it would  twist itself round and look up \\nin her face, with such a puzzled expression that she could \\nnot help bursting out laughing: and when she had got its \\nhead down, and was going to begin again, it was very pro -\\nvoking to find that the hedgehog had unrolled itself, and \\nwas in the act of crawling away: besides all this, there was \\ngenerally a ridge or furrow in the way wherever she want -\\ned to send the hedgehog to, and, as the doubled-up soldiers \\nwere always getting up and walking off to other parts of the \\nground, Alice soon came to the conclusion that it was a very \\ndifficult game indeed.\\nThe players all played at once without waiting for turns, \\nquarrelling all the while, and fighting for the hedgehogs; \\nand in a very short time the Queen was in a furious passion, \\nand went stamping about, and shouting ‘Off with his head!’ \\nor ‘Off with her head!’ about once in a minute.\\nAlice began to feel very uneasy: to be sure, she had not \\nas yet had any dispute with the Queen, but she knew that \\nit might happen any minute, ‘and then,’ thought she, ‘what \\nwould become of me? They’re dreadfully fond of behead -\\ning people here; the great wonder is, that there’s any one \\nleft alive!’\\nShe was looking about for some way of escape, and won -Alice’s Adventures in Wonderland 72dering whether she could get away without being seen, \\nwhen she noticed a curious appearance in the air: it puzzled \\nher very much at first, but, after watching it a minute or two, \\nshe made it out to be a grin, and she said to herself ‘It’s the \\nCheshire Cat: now I shall have somebody to talk to.’\\n‘How are you getting on?’ said the Cat, as soon as there \\nwas mouth enough for it to speak with.\\nAlice waited till the eyes appeared, and then nodded. ‘It’s \\nno use speaking to it,’ she thought, ‘till its ears have come, \\nor at least one of them.’ In another minute the whole head \\nappeared, and then Alice put down her flamingo, and began \\nan account of the game, feeling very glad she had someone \\nto listen to her. The Cat seemed to think that there was \\nenough of it now in sight, and no more of it appeared.\\n‘I don’t think they play at all fairly,’ Alice began, in rath -\\ner a complaining tone, ‘and they all quarrel so dreadfully \\none can’t hear oneself speak—and they don’t seem to have \\nany rules in particular; at least, if there are, nobody at -\\ntends to them—and you’ve no idea how confusing it is all \\nthe things being alive; for instance, there’s the arch I’ve got \\nto go through next walking about at the other end of the \\nground—and I should have croqueted the Queen’s hedge -\\nhog just now, only it ran away when it saw mine coming!’\\n‘How do you like the Queen?’ said the Cat in a low \\nvoice.\\n‘Not at all,’ said Alice: ‘she’s so extremely—’ Just then she \\nnoticed that the Queen was close behind her, listening: so \\nshe went on, ‘—likely to win, that it’s hardly worth while \\nfinishing the game.’73 Free eBooks at Planet eBoo k.comThe Queen smiled and passed on.\\n‘Who are you talking to?’ said the King, going up to Al -\\nice, and looking at the Cat’s head with great curiosity.\\n‘It’s a friend of mine—a Cheshire Cat,’ said Alice: ‘allow \\nme to introduce it.’\\n‘I don’t like the look of it at all,’ said the King: ‘however, \\nit may kiss my hand if it likes.’\\n‘I’d rather not,’ the Cat remarked.\\n‘Don’t be impertinent,’ said the King, ‘and don’t look at \\nme like that!’ He got behind Alice as he spoke.\\n‘A cat may look at a king,’ said Alice. ‘I’ve read that in \\nsome book, but I don’t remember where.’\\n‘Well, it must be removed,’ said the King very decidedly, \\nand he called the Queen, who was passing at the moment, \\n‘My dear! I wish you would have this cat removed!’\\nThe Queen had only one way of settling all difficulties, \\ngreat or small. ‘Off with his head!’ she said, without even \\nlooking round.\\n‘I’ll fetch the executioner myself,’ said the King eagerly, \\nand he hurried off.\\nAlice thought she might as well go back, and see how the \\ngame was going on, as she heard the Queen’s voice in the \\ndistance, screaming with passion. She had already heard \\nher sentence three of the players to be executed for having \\nmissed their turns, and she did not like the look of things at \\nall, as the game was in such confusion that she never knew \\nwhether it was her turn or not. So she went in search of her \\nhedgehog.\\nThe hedgehog was engaged in a fight with another hedge -Alice’s Adventures in Wonderland 74hog, which seemed to Alice an excellent opportunity for \\ncroqueting one of them with the other: the only difficulty \\nwas, that her flamingo was gone across to the other side of \\nthe garden, where Alice could see it trying in a helpless sort \\nof way to fly up into a tree.\\nBy the time she had caught the flamingo and brought it \\nback, the fight was over, and both the hedgehogs were out of \\nsight: ‘but it doesn’t matter much,’ thought Alice, ‘as all the \\narches are gone from this side of the ground.’ So she tucked \\nit away under her arm, that it might not escape again, and \\nwent back for a little more conversation with her friend.\\nWhen she got back to the Cheshire Cat, she was sur -\\nprised to find quite a large crowd collected round it: there \\nwas a dispute going on between the executioner, the King, \\nand the Queen, who were all talking at once, while all the \\nrest were quite silent, and looked very uncomfortable.\\nThe moment Alice appeared, she was appealed to by all \\nthree to settle the question, and they repeated their argu -\\nments to her, though, as they all spoke at once, she found it \\nvery hard indeed to make out exactly what they said.\\nThe executioner’s argument was, that you couldn’t cut off \\na head unless there was a body to cut it off from: that he had \\nnever had to do such a thing before, and he wasn’t going to \\nbegin at his time of life.\\nThe King’s argument was, that anything that had a head \\ncould be beheaded, and that you weren’t to talk nonsense.\\nThe Queen’s argument was, that if something wasn’t \\ndone about it in less than no time she’d have everybody ex -\\necuted, all round. (It was this last remark that had made the 75 Free eBooks at Planet eBoo k.comwhole party look so grave and anxious.)\\nAlice could think of nothing else to say but ‘It belongs to \\nthe Duchess: you’d better ask her about it.’\\n‘She’s in prison,’ the Queen said to the executioner: ‘fetch \\nher here.’ And the executioner went off like an arrow.\\nThe Cat’s head began fading away the moment he was \\ngone, and, by the time he had come back with the Dutchess, \\nit had entirely disappeared; so the King and the executioner \\nran wildly up and down looking for it, while the rest of the \\nparty went back to the game.Alice’s Adventures in Wonderland 76Chapter IX.  \\nThe Mock T urtle’s Story\\n‘You can’t think how glad I am to see you again, you \\ndear old thing!’ said the Duchess, as she tucked her \\narm affectionately into Alice’s, and they walked off togeth -\\ner.\\nAlice was very glad to find her in such a pleasant temper, \\nand thought to herself that perhaps it was only the pepper \\nthat had made her so savage when they met in the kitchen.\\n‘When I’m a Duchess,’ she said to herself, (not in a very \\nhopeful tone though), ‘I won’t have any pepper in my kitch -\\nen at all . Soup does very well without—Maybe it’s always \\npepper that makes people hot-tempered,’ she went on, very \\nmuch pleased at having found out a new kind of rule, ‘and \\nvinegar that makes them sour—and camomile that makes \\nthem bitter—and—and barley-sugar and such things that \\nmake children sweet-tempered. I only wish people knew \\nthat: then they wouldn’t be so stingy about it, you know—’\\nShe had quite forgotten the Duchess by this time, and \\nwas a little startled when she heard her voice close to her \\near. ‘You’re thinking about something, my dear, and that \\nmakes you forget to talk. I can’t tell you just now what the \\nmoral of that is, but I shall remember it in a bit.’\\n‘Perhaps it hasn’t one,’ Alice ventured to remark.\\n‘Tut, tut, child!’ said the Duchess. ‘Everything’s got a 77 Free eBooks at Planet eBoo k.commoral, if only you can find it.’ And she squeezed herself up \\ncloser to Alice’s side as she spoke.\\nAlice did not much like keeping so close to her: first, be -\\ncause the Duchess was VERY ugly; and secondly, because \\nshe was exactly the right height to rest her chin upon Alice’s \\nshoulder, and it was an uncomfortably sharp chin. How -\\never, she did not like to be rude, so she bore it as well as she \\ncould.\\n‘The game’s going on rather better now,’ she said, by way \\nof keeping up the conversation a little.\\n‘Tis so,’ said the Duchess: ‘and the moral of that is—‘Oh, \\n‘tis love, ‘tis love, that makes the world go round!‘\\n‘Somebody said,’ Alice whispered, ‘that it’s done by ev -\\nerybody minding their own business!’\\n‘Ah, well! It means much the same thing,’ said the Duch -\\ness, digging her sharp little chin into Alice’s shoulder as she \\nadded, ‘and the moral of that is—‘Take care of the sense, \\nand the sounds will take care of themselves.‘\\n‘How fond she is of finding morals in things!’ Alice \\nthought to herself.\\n‘I dare say you’re wondering why I don’t put my arm \\nround your waist,’ the Duchess said after a pause: ‘the rea -\\nson is, that I’m doubtful about the temper of your flamingo. \\nShall I try the experiment?’\\n‘He might bite,’ Alice cautiously replied, not feeling at all \\nanxious to have the experiment tried.\\n‘Very true,’ said the Duchess: ‘flamingoes and mustard \\nboth bite. And the moral of that is—‘Birds of a feather flock \\ntogether.‘Alice’s Adventures in Wonderland 78‘Only mustard isn’t a bird,’ Alice remarked.\\n‘Right, as usual,’ said the Duchess: ‘what a clear way you \\nhave of putting things!’\\n‘It’s a mineral, I think ,’ said Alice.\\n‘Of course it is,’ said the Duchess, who seemed ready to \\nagree to everything that Alice said; ‘there’s a large mustard-\\nmine near here. And the moral of that is—‘The more there \\nis of mine, the less there is of yours.‘\\n‘Oh, I know!’ exclaimed Alice, who had not attended to \\nthis last remark, ‘it’s a vegetable. It doesn’t look like one, \\nbut it is.’\\n‘I quite agree with you,’ said the Duchess; ‘and the moral \\nof that is—‘Be what you would seem to be’—or if you’d like \\nit put more simply—‘Never imagine yourself not to be oth -\\nerwise than what it might appear to others that what you \\nwere or might have been was not otherwise than what you \\nhad been would have appeared to them to be otherwise.‘\\n‘I think I should understand that better,’ Alice said very \\npolitely, ‘if I had it written down: but I can’t quite follow it \\nas you say it.’\\n‘That’s nothing to what I could say if I chose,’ the Duch -\\ness replied, in a pleased tone.\\n‘Pray don’t trouble yourself to say it any longer than that,’ \\nsaid Alice.\\n‘Oh, don’t talk about trouble!’ said the Duchess. ‘I make \\nyou a present of everything I’ve said as yet.’\\n‘A cheap sort of present!’ thought Alice. ‘I’m glad they \\ndon’t give birthday presents like that!’ But she did not ven -\\nture to say it out loud.79 Free eBooks at Planet eBoo k.com‘Thinking again?’ the Duchess asked, with another dig of \\nher sharp little chin.\\n‘I’ve a right to think,’ said Alice sharply, for she was be -\\nginning to feel a little worried.\\n‘Just about as much right,’ said the Duchess, ‘as pigs have \\nto fly; and the m—’\\nBut here, to Alice’s great surprise, the Duchess’s voice \\ndied away, even in the middle of her favourite word ‘moral,’ \\nand the arm that was linked into hers began to tremble. Al -\\nice looked up, and there stood the Queen in front of them, \\nwith her arms folded, frowning like a thunderstorm.\\n‘A fine day, your Majesty!’ the Duchess began in a low, \\nweak voice.\\n‘Now, I give you fair warning,’ shouted the Queen, \\nstamping on the ground as she spoke; ‘either you or your \\nhead must be off, and that in about half no time! Take your \\nchoice!’\\nThe Duchess took her choice, and was gone in a mo -\\nment.\\n‘Let’s go on with the game,’ the Queen said to Alice; and \\nAlice was too much frightened to say a word, but slowly fol -\\nlowed her back to the croquet-ground.\\nThe other guests had taken advantage of the Queen’s ab -\\nsence, and were resting in the shade: however, the moment \\nthey saw her, they hurried back to the game, the Queen \\nmerely remarking that a moment’s delay would cost them \\ntheir lives.\\nAll the time they were playing the Queen never left off  \\nquarrelling with the other players, and shouting ‘Off with Alice’s Adventures in Wonderland 80his head!’ or ‘Off with her head!’ Those whom she sentenced \\nwere taken into custody by the soldiers, who of course had \\nto leave off being arches to do this, so that by the end of half \\nan hour or so there were no arches left, and all the players, \\nexcept the King, the Queen, and Alice, were in custody and \\nunder sentence of execution.\\nThen the Queen left off, quite out of breath, and said to \\nAlice, ‘Have you seen the Mock Turtle yet?’\\n‘No,’ said Alice. ‘I don’t even know what a Mock Turtle \\nis.’\\n‘It’s the thing Mock Turtle Soup is made from,’ said the \\nQueen.\\n‘I never saw one, or heard of one,’ said Alice.\\n‘Come on, then,’ said the Queen, ‘and he shall tell you \\nhis history,’\\nAs they walked off together, Alice heard the King say in a \\nlow voice, to the company generally, ‘You are all pardoned.’ \\n‘Come, that’s  a good thing!’ she said to herself, for she had \\nfelt quite unhappy at the number of executions the Queen \\nhad ordered.\\nThey very soon came upon a Gryphon, lying fast asleep \\nin the sun. (IF you don’t know what a Gryphon is, look at \\nthe picture.) ‘Up, lazy thing!’ said the Queen, ‘and take this \\nyoung lady to see the Mock Turtle, and to hear his history. I \\nmust go back and see after some executions I have ordered’; \\nand she walked off, leaving Alice alone with the Gryphon. \\nAlice did not quite like the look of the creature, but on the \\nwhole she thought it would be quite as safe to stay with it as \\nto go after that savage Queen: so she waited.81 Free eBooks at Planet eBoo k.comThe Gryphon sat up and rubbed its eyes: then it watched \\nthe Queen till she was out of sight: then it chuckled. ‘What \\nfun!’ said the Gryphon, half to itself, half to Alice.\\n‘What IS the fun?’ said Alice.\\n‘Why, she,’ said the Gryphon. ‘It’s all her fancy, that: they \\nnever executes nobody, you know. Come on!’\\n‘Everybody says ‘come on!’ here,’ thought Alice, as she \\nwent slowly after it: ‘I never was so ordered about in all my \\nlife, never!’\\nThey had not gone far before they saw the Mock Turtle in \\nthe distance, sitting sad and lonely on a little ledge of rock, \\nand, as they came nearer, Alice could hear him sighing as \\nif his heart would break. She pitied him deeply. ‘What is \\nhis sorrow?’ she asked the Gryphon, and the Gryphon an -\\nswered, very nearly in the same words as before, ‘It’s all his \\nfancy, that: he hasn’t got no sorrow, you know. Come on!’\\nSo they went up to the Mock Turtle, who looked at them \\nwith large eyes full of tears, but said nothing.\\n‘This here young lady,’ said the Gryphon, ‘she wants for \\nto know your history, she do.’\\n‘I’ll tell it her,’ said the Mock Turtle in a deep, hollow \\ntone: ‘sit down, both of you, and don’t speak a word till I’ve \\nfinished.’\\nSo they sat down, and nobody spoke for some minutes. \\nAlice thought to herself, ‘I don’t see how he can even  finish, \\nif he doesn’t begin.’ But she waited patiently.\\n‘Once,’ said the Mock Turtle at last, with a deep sigh, ‘I \\nwas a real Turtle.’\\nThese words were followed by a very long silence, bro -Alice’s Adventures in Wonderland 82ken only by an occasional exclamation of ‘Hjckrrh!’ from \\nthe Gryphon, and the constant heavy sobbing of the Mock \\nTurtle. Alice was very nearly getting up and saying, ‘Thank \\nyou, sir, for your interesting story,’ but she could not help \\nthinking there must  be more to come, so she sat still and \\nsaid nothing.\\n‘When we were little,’ the Mock Turtle went on at last, \\nmore calmly, though still sobbing a little now and then, ‘we \\nwent to school in the sea. The master was an old Turtle—we \\nused to call him Tortoise—’\\n‘Why did you call him Tortoise, if he wasn’t one?’ Alice \\nasked.\\n‘We called him Tortoise because he taught us,’ said the \\nMock Turtle angrily: ‘really you are very dull!’\\n‘You ought to be ashamed of yourself for asking such a \\nsimple question,’ added the Gryphon; and then they both \\nsat silent and looked at poor Alice, who felt ready to sink \\ninto the earth. At last the Gryphon said to the Mock Turtle, \\n‘Drive on, old fellow! Don’t be all day about it!’ and he went \\non in these words:\\n‘Yes, we went to school in the sea, though you mayn’t \\nbelieve it—’\\n‘I never said I didn’t!’ interrupted Alice.\\n‘You did,’ said the Mock Turtle.\\n‘Hold your tongue!’ added the Gryphon, before Alice \\ncould speak again. The Mock Turtle went on.\\n‘We had the best of educations—in fact, we went to \\nschool every day—’\\n‘I’ve been to a day-school, too,’ said Alice; ‘you needn’t be 83 Free eBooks at Planet eBoo k.comso proud as all that.’\\n‘With extras?’ asked the Mock Turtle a little anxiously.\\n‘Yes,’ said Alice, ‘we learned French and music.’\\n‘And washing?’ said the Mock Turtle.\\n‘Certainly not!’ said Alice indignantly.\\n‘Ah! then yours wasn’t a really good school,’ said the \\nMock Turtle in a tone of great relief. ‘Now at ours  they had \\nat the end of the bill, ‘French, music, and washing —extra.‘\\n‘You couldn’t have wanted it much,’ said Alice; ‘living at \\nthe bottom of the sea.’\\n‘I couldn’t afford to learn it.’ said the Mock Turtle with a \\nsigh. ‘I only took the regular course.’\\n‘What was that?’ inquired Alice.\\n‘Reeling and Writhing, of course, to begin with,’ the \\nMock Turtle replied; ‘and then the different branches of \\nArithmetic— Ambition, Distraction, Uglification, and De -\\nrision.’\\n‘I never heard of ‘Uglification,‘ Alice ventured to say. \\n‘What is it?’\\nThe Gryphon lifted up both its paws in surprise. ‘What! \\nNever heard of uglifying!’ it exclaimed. ‘You know what to \\nbeautify is, I suppose?’\\n‘Yes,’ said Alice doubtfully: ‘it means—to—make—any -\\nthing—prettier.’\\n‘Well, then,’ the Gryphon went on, ‘if you don’t know \\nwhat to uglify is, you are a simpleton.’\\nAlice did not feel encouraged to ask any more questions \\nabout it, so she turned to the Mock Turtle, and said ‘What \\nelse had you to learn?’Alice’s Adventures in Wonderland 84‘Well, there was Mystery,’ the Mock Turtle replied, \\ncounting off the subjects on his flappers, ‘—Mystery, an -\\ncient and modern, with Seaography: then Drawling—the \\nDrawling-master was an old conger-eel, that used to come \\nonce a week: He taught us Drawling, Stretching, and Faint -\\ning in Coils.’\\n‘What was that like?’ said Alice.\\n‘Well, I can’t show it you myself,’ the Mock Turtle said: \\n‘I’m too stiff. And the Gryphon never learnt it.’\\n‘Hadn’t time,’ said the Gryphon: ‘I went to the Classics \\nmaster, though. He was an old crab, he was.’\\n‘I never went to him,’ the Mock Turtle said with a sigh: \\n‘he taught Laughing and Grief, they used to say.’\\n‘So he did, so he did,’ said the Gryphon, sighing in his \\nturn; and both creatures hid their faces in their paws.\\n‘And how many hours a day did you do lessons?’ said Al -\\nice, in a hurry to change the subject.\\n‘Ten hours the first day,’ said the Mock Turtle: ‘nine the \\nnext, and so on.’\\n‘What a curious plan!’ exclaimed Alice.\\n‘That’s the reason they’re called lessons,’ the Gryphon re -\\nmarked: ‘because they lessen from day to day.’\\nThis was quite a new idea to Alice, and she thought it \\nover a little before she made her next remark. ‘Then the \\neleventh day must have been a holiday?’\\n‘Of course it was,’ said the Mock Turtle.\\n‘And how did you manage on the twelfth?’ Alice went on \\neagerly.\\n‘That’s enough about lessons,’ the Gryphon interrupted 85 Free eBooks at Planet eBoo k.comin a very decided tone: ‘tell her something about the games \\nnow.’Alice’s Adventures in Wonderland 86Chapter X.  \\nThe Lobster Quadrille\\nThe Mock Turtle sighed deeply, and drew the back of one \\nflapper across his eyes. He looked at Alice, and tried to \\nspeak, but for a minute or two sobs choked his voice. ‘Same \\nas if he had a bone in his throat,’ said the Gryphon: and \\nit set to work shaking him and punching him in the back. \\nAt last the Mock Turtle recovered his voice, and, with tears \\nrunning down his cheeks, he went on again:—\\n‘You may not have lived much under the sea—’ (’I \\nhaven’t,’ said Alice)— ‘and perhaps you were never even in -\\ntroduced to a lobster—’ (Alice began to say ‘I once tasted—’ \\nbut checked herself hastily, and said ‘No, never’) ‘—so you \\ncan have no idea what a delightful thing a Lobster Quadrille \\nis!’\\n‘No, indeed,’ said Alice. ‘What sort of a dance is it?’\\n‘Why,’ said the Gryphon, ‘you first form into a line along \\nthe sea-shore—’\\n‘Two lines!’ cried the Mock Turtle. ‘Seals, turtles, salm -\\non, and so on; then, when you’ve cleared all the jelly-fish out \\nof the way—’\\n‘THAT  generally takes some time,’ interrupted the Gry -\\nphon.\\n‘—you advance twice—’\\n‘Each with a lobster as a partner!’ cried the Gryphon.87 Free eBooks at Planet eBoo k.com‘Of course,’ the Mock Turtle said: ‘advance twice, set to \\npartners—’\\n‘—change lobsters, and retire in same order,’ continued \\nthe Gryphon.\\n‘Then, you know,’ the Mock Turtle went on, ‘you throw \\nthe—’\\n‘The lobsters!’ shouted the Gryphon, with a bound into \\nthe air.\\n‘—as far out to sea as you can—’\\n‘Swim after them!’ screamed the Gryphon.\\n‘Turn a somersault in the sea!’ cried the Mock Turtle, ca -\\npering wildly about.\\n‘Change lobster’s again!’ yelled the Gryphon at the top \\nof its voice.\\n‘Back to land again, and that’s all the first figure,’ said \\nthe Mock Turtle, suddenly dropping his voice; and the two \\ncreatures, who had been jumping about like mad things all \\nthis time, sat down again very sadly and quietly, and looked \\nat Alice.\\n‘It must be a very pretty dance,’ said Alice timidly.\\n‘Would you like to see a little of it?’ said the Mock Tur -\\ntle.\\n‘Very much indeed,’ said Alice.\\n‘Come, let’s try the first figure!’ said the Mock Turtle \\nto the Gryphon. ‘We can do without lobsters, you know. \\nWhich shall sing?’\\n‘Oh, YOU  sing,’ said the Gryphon. ‘I’ve forgotten the \\nwords.’\\nSo they began solemnly dancing round and round Alice, Alice’s Adventures in Wonderland 88every now and then treading on her toes when they passed \\ntoo close, and waving their forepaws to mark the time, while \\nthe Mock Turtle sang this, very slowly and sadly:—\\n‘Will you walk a little faster?’ said a whiting to a snail. \\n‘There’s a porpoise close behind us, and he’s treading on my \\ntail. See how eagerly the lobsters and the turtles all advance! \\nThey are waiting on the shingle—will you come and join the \\ndance?\\nWill you, won’t you, will you, won’t you, will you join the \\ndance? Will you, won’t you, will you, won’t you, won’t you \\njoin the dance?\\n‘You can really have no notion how delightful it will be \\nWhen they take us up and throw us, with the lobsters, out to \\nsea!’ But the snail replied ‘Too far, too far!’ and gave a look \\naskance— Said he thanked the whiting kindly, but he would \\nnot join the dance. Would not, could not, would not, could \\nnot, would not join the dance. Would not, could not, would \\nnot, could not, could not join the dance.\\n‘What matters it how far we go?’ his scaly friend replied. \\n‘There is another shore, you know, upon the other side. The \\nfurther off from England the nearer is to France— Then turn \\nnot pale, beloved snail, but come and join the dance.\\nWill you, won’t you, will you, won’t you, will you join the \\ndance? Will you, won’t you, will you, won’t you, won’t you \\njoin the dance?‘\\n‘Thank you, it’s a very interesting dance to watch,’ said \\nAlice, feeling very glad that it was over at last: ‘and I do so \\nlike that curious song about the whiting!’\\n‘Oh, as to the whiting,’ said the Mock Turtle, ‘they—89 Free eBooks at Planet eBoo k.comyou’ve seen them, of course?’\\n‘Yes,’ said Alice, ‘I’ve often seen them at dinn—’ she \\nchecked herself hastily.\\n‘I don’t know where Dinn may be,’ said the Mock Turtle, \\n‘but if you’ve seen them so often, of course you know what \\nthey’re like.’\\n‘I believe so,’ Alice replied thoughtfully. ‘They have their \\ntails in their mouths—and they’re all over crumbs.’\\n‘You’re wrong about the crumbs,’ said the Mock Turtle: \\n‘crumbs would all wash off in the sea. But they have  their \\ntails in their mouths; and the reason is—’ here the Mock \\nTurtle yawned and shut his eyes.—‘Tell her about the reason \\nand all that,’ he said to the Gryphon.\\n‘The reason is,’ said the Gryphon, ‘that they would  go \\nwith the lobsters to the dance. So they got thrown out to \\nsea. So they had to fall a long way. So they got their tails \\nfast in their mouths. So they couldn’t get them out again. \\nThat’s all.’\\n‘Thank you,’ said Alice, ‘it’s very interesting. I never \\nknew so much about a whiting before.’\\n‘I can tell you more than that, if you like,’ said the Gry -\\nphon. ‘Do you know why it’s called a whiting?’\\n‘I never thought about it,’ said Alice. ‘Why?’\\n‘It does the boots and shoes.’  the Gryphon replied very \\nsolemnly.\\nAlice was thoroughly puzzled. ‘Does the boots and \\nshoes!’ she repeated in a wondering tone.\\n‘Why, what are your  shoes done with?’ said the Gryphon. \\n‘I mean, what makes them so shiny?’Alice’s Adventures in Wonderland 90Alice looked down at them, and considered a little before \\nshe gave her answer. ‘They’re done with blacking, I believe.’\\n‘Boots and shoes under the sea,’ the Gryphon went on in \\na deep voice, ‘are done with a whiting. Now you know.’\\n‘And what are they made of?’ Alice asked in a tone of \\ngreat curiosity.\\n‘Soles and eels, of course,’ the Gryphon replied rather \\nimpatiently: ‘any shrimp could have told you that.’\\n‘If I’d been the whiting,’ said Alice, whose thoughts were \\nstill running on the song, ‘I’d have said to the porpoise, \\n‘Keep back, please: we don’t want you with us!‘\\n‘They were obliged to have him with them,’ the Mock \\nTurtle said: ‘no wise fish would go anywhere without a por -\\npoise.’\\n‘Wouldn’t it really?’ said Alice in a tone of great sur -\\nprise.\\n‘Of course not,’ said the Mock Turtle: ‘why, if a fish came \\nto me, and told me he was going a journey, I should say \\n‘With what porpoise?‘\\n‘Don’t you mean ‘purpose’?’ said Alice.\\n‘I mean what I say,’ the Mock Turtle replied in an offend -\\ned tone. And the Gryphon added ‘Come, let’s hear some of \\nyour  adventures.’\\n‘I could tell you my adventures—beginning from this \\nmorning,’ said Alice a little timidly: ‘but it’s no use going \\nback to yesterday, because I was a different person then.’\\n‘Explain all that,’ said the Mock Turtle.\\n‘No, no! The adventures first,’ said the Gryphon in an \\nimpatient tone: ‘explanations take such a dreadful time.’91 Free eBooks at Planet eBoo k.comSo Alice began telling them her adventures from the time \\nwhen she first saw the White Rabbit. She was a little nervous \\nabout it just at first, the two creatures got so close to her, \\none on each side, and opened their eyes and mouths so very \\nwide, but she gained courage as she went on. Her listeners \\nwere perfectly quiet till she got to the part about her repeat -\\ning ’You are old, Father William,’  to the Caterpillar, and the \\nwords all coming different, and then the Mock Turtle drew \\na long breath, and said ‘That’s very curious.’\\n‘It’s all about as curious as it can be,’ said the Gryphon.\\n‘It all came different!’ the Mock Turtle repeated thought -\\nfully. ‘I should like to hear her try and repeat something \\nnow. Tell her to begin.’ He looked at the Gryphon as if he \\nthought it had some kind of authority over Alice.\\n‘Stand up and repeat ‘Tis the voice of the sluggard,‘  said \\nthe Gryphon.\\n‘How the creatures order one about, and make one re -\\npeat lessons!’ thought Alice; ‘I might as well be at school at \\nonce.’ However, she got up, and began to repeat it, but her \\nhead was so full of the Lobster Quadrille, that she hardly \\nknew what she was saying, and the words came very queer \\nindeed:—\\n‘Tis the voice of the Lobster; I heard him declare,  \\n“You have baked me too brown, I must sugar my hair.”  \\nAs a duck with its eyelids, so he with his nose  \\nTrims his belt and his buttons, and turns out his toes.’\\n[Note: Later editions continued as follows: When the sands Alice’s Adventures in Wonderland 92are all dry, he is gay as a lark, And will talk in contemptuous \\ntones of the Shark, But, when the tide rises and sharks are \\naround, His voice has a timid and tremulous sound.]\\n‘That’s different from what I used to say when I was a \\nchild,’ said the Gryphon.\\n‘Well, I never heard it before,’ said the Mock Turtle; ‘but \\nit sounds uncommon nonsense.’\\nAlice said nothing; she had sat down with her face in her \\nhands, wondering if anything would ever happen in a natu -\\nral way again.\\n‘I should like to have it explained,’ said the Mock Turtle.\\n‘She can’t explain it,’ said the Gryphon hastily. ‘Go on \\nwith the next verse.’\\n‘But about his toes?’ the Mock Turtle persisted. ‘How \\ncould  he turn them out with his nose, you know?’\\n‘It’s the first position in dancing.’ Alice said; but was \\ndreadfully puzzled by the whole thing, and longed to change \\nthe subject.\\n‘Go on with the next verse,’ the Gryphon repeated impa -\\ntiently: ‘it begins ‘I passed by his garden.‘\\nAlice did not dare to disobey, though she felt sure it would \\nall come wrong, and she went on in a trembling voice:—\\n‘I passed by his garden, and marked, with one eye,  \\nHow the Owl and the Panther were sharing a pie—‘\\n[Note: Later editions continued as follows: The Panther took \\npie-crust, and gravy, and meat, While the Owl had the dish 93 Free eBooks at Planet eBoo k.comas its share of the treat. When the pie was all finished, the \\nOwl, as a boon, Was kindly permitted to pocket the spoon: \\nWhile the Panther received knife and fork with a growl, And \\nconcluded the banquet—]\\n‘What IS the use of repeating all that stuff,’ the Mock \\nTurtle interrupted, ‘if you don’t explain it as you go on? It’s \\nby far the most confusing thing I ever heard!’\\n‘Yes, I think you’d better leave off,’ said the Gryphon: \\nand Alice was only too glad to do so.\\n‘Shall we try another figure of the Lobster Quadrille?’ \\nthe Gryphon went on. ‘Or would you like the Mock Turtle \\nto sing you a song?’\\n‘Oh, a song, please, if the Mock Turtle would be so kind,’ \\nAlice replied, so eagerly that the Gryphon said, in a rath -\\ner offended tone, ‘Hm! No accounting for tastes! Sing her \\n‘Turtle Soup,’ will you, old fellow?’\\nThe Mock Turtle sighed deeply, and began, in a voice \\nsometimes choked with sobs, to sing this:—\\n‘Beautiful Soup, so rich and green,  \\nWaiting in a hot tureen!  \\nWho for such dainties would not stoop?  \\nSoup of the evening, beautiful Soup!  \\nSoup of the evening, beautiful Soup!  \\n  Beau—ootiful Soo—oop!  \\n  Beau—ootiful Soo—oop!  \\nSoo—oop of the e—e—evening,  \\n  Beautiful, beautiful Soup!Alice’s Adventures in Wonderland 94‘Beautiful Soup! Who cares for fish,  \\nGame, or any other dish?  \\nWho would not give all else for two  \\npennyworth only of beautiful Soup?  \\nPennyworth only of beautiful Soup?  \\n  Beau—ootiful Soo—oop!  \\n  Beau—ootiful Soo—oop!  \\nSoo—oop of the e—e—evening,  \\n  Beautiful, beauti—FUL SOUP!’\\n‘Chorus again!’ cried the Gryphon, and the Mock Turtle \\nhad just begun to repeat it, when a cry of ‘The trial’s begin -\\nning!’ was heard in the distance.\\n‘Come on!’ cried the Gryphon, and, taking Alice by \\nthe hand, it hurried off, without waiting for the end of the \\nsong.\\n‘What trial is it?’ Alice panted as she ran; but the Gry -\\nphon only answered ‘Come on!’ and ran the faster, while \\nmore and more faintly came, carried on the breeze that \\nfollowed them, the melancholy words:—\\n‘Soo—oop of the e—e—evening,  \\n  Beautiful, beautiful Soup!’95 Free eBooks at Planet eBoo k.comChapter XI.  \\nWho Stole the Tarts?\\nThe King and Queen of Hearts were seated on their \\nthrone when they arrived, with a great crowd assem -\\nbled about them—all sorts of little birds and beasts, as well \\nas the whole pack of cards: the Knave was standing before \\nthem, in chains, with a soldier on each side to guard him; \\nand near the King was the White Rabbit, with a trumpet \\nin one hand, and a scroll of parchment in the other. In the \\nvery middle of the court was a table, with a large dish of \\ntarts upon it: they looked so good, that it made Alice quite \\nhungry to look at them—‘I wish they’d get the trial done,’ \\nshe thought, ‘and hand round the refreshments!’ But there \\nseemed to be no chance of this, so she began looking at ev -\\nerything about her, to pass away the time.\\nAlice had never been in a court of justice before, but she \\nhad read about them in books, and she was quite pleased \\nto find that she knew the name of nearly everything there. \\n‘That’s the judge,’ she said to herself, ‘because of his great \\nwig.’\\nThe judge, by the way, was the King; and as he wore his \\ncrown over the wig, (look at the frontispiece if you want to \\nsee how he did it,) he did not look at all comfortable, and it \\nwas certainly not becoming.\\n‘And that’s the jury-box,’ thought Alice, ‘and those twelve Alice’s Adventures in Wonderland 96creatures,’ (she was obliged to say ‘creatures,’ you see, be -\\ncause some of them were animals, and some were birds,) ‘I \\nsuppose they are the jurors.’ She said this last word two or \\nthree times over to herself, being rather proud of it: for she \\nthought, and rightly too, that very few little girls of her age \\nknew the meaning of it at all. However, ‘jury-men’ would \\nhave done just as well.\\nThe twelve jurors were all writing very busily on slates. \\n‘What are they doing?’ Alice whispered to the Gryphon. \\n‘They can’t have anything to put down yet, before the trial’s \\nbegun.’\\n‘They’re putting down their names,’ the Gryphon whis -\\npered in reply, ‘for fear they should forget them before the \\nend of the trial.’\\n‘Stupid things!’ Alice began in a loud, indignant voice, \\nbut she stopped hastily, for the White Rabbit cried out, ‘Si -\\nlence in the court!’ and the King put on his spectacles and \\nlooked anxiously round, to make out who was talking.\\nAlice could see, as well as if she were looking over their \\nshoulders, that all the jurors were writing down ‘stupid \\nthings!’ on their slates, and she could even make out that \\none of them didn’t know how to spell ‘stupid,’ and that he \\nhad to ask his neighbour to tell him. ‘A nice muddle their \\nslates’ll be in before the trial’s over!’ thought Alice.\\nOne of the jurors had a pencil that squeaked. This of \\ncourse, Alice could not stand, and she went round the court \\nand got behind him, and very soon found an opportunity of \\ntaking it away. She did it so quickly that the poor little juror \\n(it was Bill, the Lizard) could not make out at all what had 97 Free eBooks at Planet eBoo k.combecome of it; so, after hunting all about for it, he was obliged \\nto write with one finger for the rest of the day; and this was \\nof very little use, as it left no mark on the slate.\\n‘Herald, read the accusation!’ said the King.\\nOn this the White Rabbit blew three blasts on the trum -\\npet, and then unrolled the parchment scroll, and read as \\nfollows:—\\n‘The Queen of Hearts, she made some tarts, All on a sum -\\nmer day: The Knave of Hearts, he stole those tarts, And took \\nthem quite away!’\\n‘Consider your verdict,’ the King said to the jury.\\n‘Not yet, not yet!’ the Rabbit hastily interrupted. ‘There’s \\na great deal to come before that!’\\n‘Call the first witness,’ said the King; and the White Rab -\\nbit blew three blasts on the trumpet, and called out, ‘First \\nwitness!’\\nThe first witness was the Hatter. He came in with a teacup \\nin one hand and a piece of bread-and-butter in the other. ‘I \\nbeg pardon, your Majesty,’ he began, ‘for bringing these in: \\nbut I hadn’t quite finished my tea when I was sent for.’\\n‘You ought to have finished,’ said the King. ‘When did \\nyou begin?’\\nThe Hatter looked at the March Hare, who had followed \\nhim into the court, arm-in-arm with the Dormouse. ‘Four -\\nteenth of March, I think  it was,’ he said.\\n‘Fifteenth,’ said the March Hare.\\n‘Sixteenth,’ added the Dormouse.\\n‘Write that down,’ the King said to the jury, and the jury \\neagerly wrote down all three dates on their slates, and then Alice’s Adventures in Wonderland 98added them up, and reduced the answer to shillings and \\npence.\\n‘Take off your hat,’ the King said to the Hatter.\\n‘It isn’t mine,’ said the Hatter.\\n‘Stolen! ’ the King exclaimed, turning to the jury, who in -\\nstantly made a memorandum of the fact.\\n‘I keep them to sell,’ the Hatter added as an explanation; \\n‘I’ve none of my own. I’m a hatter.’\\nHere the Queen put on her spectacles, and began staring \\nat the Hatter, who turned pale and fidgeted.\\n‘Give your evidence,’ said the King; ‘and don’t be ner -\\nvous, or I’ll have you executed on the spot.’\\nThis did not seem to encourage the witness at all: he kept \\nshifting from one foot to the other, looking uneasily at the \\nQueen, and in his confusion he bit a large piece out of his \\nteacup instead of the bread-and-butter.\\nJust at this moment Alice felt a very curious sensation, \\nwhich puzzled her a good deal until she made out what \\nit was: she was beginning to grow larger again, and she \\nthought at first she would get up and leave the court; but \\non second thoughts she decided to remain where she was as \\nlong as there was room for her.\\n‘I wish you wouldn’t squeeze so.’ said the Dormouse, \\nwho was sitting next to her. ‘I can hardly breathe.’\\n‘I can’t help it,’ said Alice very meekly: ‘I’m growing.’\\n‘You’ve no right to grow here,’ said the Dormouse.\\n‘Don’t talk nonsense,’ said Alice more boldly: ‘you know \\nyou’re growing too.’\\n‘Yes, but I grow at a reasonable pace,’ said the Dormouse: 99 Free eBooks at Planet eBoo k.com‘not in that ridiculous fashion.’ And he got up very sulkily \\nand crossed over to the other side of the court.\\nAll this time the Queen had never left off staring at the \\nHatter, and, just as the Dormouse crossed the court, she \\nsaid to one of the officers of the court, ‘Bring me the list of \\nthe singers in the last concert!’ on which the wretched Hat -\\nter trembled so, that he shook both his shoes off.\\n‘Give your evidence,’ the King repeated angrily, ‘or I’ll \\nhave you executed, whether you’re nervous or not.’\\n‘I’m a poor man, your Majesty,’ the Hatter began, in a \\ntrembling voice, ‘—and I hadn’t begun my tea—not above a \\nweek or so—and what with the bread-and-butter getting so \\nthin—and the twinkling of the tea—’\\n‘The twinkling of the what ?’ said the King.\\n‘It began  with the tea,’ the Hatter replied.\\n‘Of course twinkling begins  with a T!’ said the King \\nsharply. ‘Do you take me for a dunce? Go on!’\\n‘I’m a poor man,’ the Hatter went on, ‘and most things \\ntwinkled after that—only the March Hare said—’\\n‘I didn’t!’ the March Hare interrupted in a great hurry.\\n‘You did!’ said the Hatter.\\n‘I deny it!’ said the March Hare.\\n‘He denies it,’ said the King: ‘leave out that part.’\\n‘Well, at any rate, the Dormouse said—’ the Hatter went \\non, looking anxiously round to see if he would deny it too: \\nbut the Dormouse denied nothing, being fast asleep.\\n‘After that,’ continued the Hatter, ‘I cut some more \\nbreadand-butter—’\\n‘But what did the Dormouse say?’ one of the jury asked.Alice’s Adventures in Wonderland 100‘That I can’t remember,’ said the Hatter.\\n‘You must  remember,’ remarked the King, ‘or I’ll have \\nyou executed.’\\nThe miserable Hatter dropped his teacup and bread-and-\\nbutter, and went down on one knee. ‘I’m a poor man, your \\nMajesty,’ he began.\\n‘You’re a very poor speaker ,’ said the King.\\nHere one of the guinea-pigs cheered, and was immediate -\\nly suppressed by the officers of the court. (As that is rather a \\nhard word, I will just explain to you how it was done. They \\nhad a large canvas bag, which tied up at the mouth with \\nstrings: into this they slipped the guinea-pig, head first, and \\nthen sat upon it.)\\n‘I’m glad I’ve seen that done,’ thought Alice. ‘I’ve so often \\nread in the newspapers, at the end of trials, ‘There was some \\nattempts at applause, which was immediately suppressed \\nby the officers of the court,’ and I never understood what it \\nmeant till now.’\\n‘If that’s all you know about it, you may stand down,’ \\ncontinued the King.\\n‘I can’t go no lower,’ said the Hatter: ‘I’m on the floor, as \\nit is.’\\n‘Then you may sit down,’ the King replied.\\nHere the other guinea-pig cheered, and was suppressed.\\n‘Come, that finished the guinea-pigs!’ thought Alice. \\n‘Now we shall get on better.’\\n‘I’d rather finish my tea,’ said the Hatter, with an anxious \\nlook at the Queen, who was reading the list of singers.\\n‘You may go,’ said the King, and the Hatter hurriedly left 101 Free eBooks at Planet eBoo k.comthe court, without even waiting to put his shoes on.\\n‘—and just take his head off outside,’ the Queen added to \\none of the officers: but the Hatter was out of sight before the \\nofficer could get to the door.\\n‘Call the next witness!’ said the King.\\nThe next witness was the Duchess’s cook. She carried the \\npepper-box in her hand, and Alice guessed who it was, even \\nbefore she got into the court, by the way the people near the \\ndoor began sneezing all at once.\\n‘Give your evidence,’ said the King.\\n‘Shan’t,’ said the cook.\\nThe King looked anxiously at the White Rabbit, who said \\nin a low voice, ‘Your Majesty must cross-examine THIS wit -\\nness.’\\n‘Well, if I must, I must,’ the King said, with a melancholy \\nair, and, after folding his arms and frowning at the cook \\ntill his eyes were nearly out of sight, he said in a deep voice, \\n‘What are tarts made of?’\\n‘Pepper, mostly,’ said the cook.\\n‘Treacle,’ said a sleepy voice behind her.\\n‘Collar that Dormouse,’ the Queen shrieked out. ‘Behead \\nthat Dormouse! Turn that Dormouse out of court! Suppress \\nhim! Pinch him! Off with his whiskers!’\\nFor some minutes the whole court was in confusion, get -\\nting the Dormouse turned out, and, by the time they had \\nsettled down again, the cook had disappeared.\\n‘Never mind!’ said the King, with an air of great relief. \\n‘Call the next witness.’ And he added in an undertone to the \\nQueen, ‘Really, my dear, you must cross-examine the next Alice’s Adventures in Wonderland 102witness. It quite makes my forehead ache!’\\nAlice watched the White Rabbit as he fumbled over the \\nlist, feeling very curious to see what the next witness would \\nbe like, ‘—for they haven’t got much evidence yet,’ she said to \\nherself. Imagine her surprise, when the White Rabbit read \\nout, at the top of his shrill little voice, the name ‘Alice!’103 Free eBooks at Planet eBoo k.comChapter XII.  \\nAlice’s Evidence\\n‘Here!’ cried Alice, quite forgetting in the flurry of the \\nmoment how large she had grown in the last few min -\\nutes, and she jumped up in such a hurry that she tipped over \\nthe jury-box with the edge of her skirt, upsetting all the ju -\\nrymen on to the heads of the crowd below, and there they \\nlay sprawling about, reminding her very much of a globe of \\ngoldfish she had accidentally upset the week before.\\n‘Oh, I beg your pardon!’ she exclaimed in a tone of great \\ndismay, and began picking them up again as quickly as she \\ncould, for the accident of the goldfish kept running in her \\nhead, and she had a vague sort of idea that they must be col -\\nlected at once and put back into the jury-box, or they would \\ndie.\\n‘The trial cannot proceed,’ said the King in a very grave \\nvoice, ‘until all the jurymen are back in their proper plac -\\nes— all,’ he repeated with great emphasis, looking hard at \\nAlice as he said do.\\nAlice looked at the jury-box, and saw that, in her haste, \\nshe had put the Lizard in head downwards, and the poor \\nlittle thing was waving its tail about in a melancholy way, \\nbeing quite unable to move. She soon got it out again, and \\nput it right; ‘not that it signifies much,’ she said to herself; ‘I \\nshould think it would be quite  as much use in the trial one Alice’s Adventures in Wonderland 104way up as the other.’\\nAs soon as the jury had a little recovered from the shock \\nof being upset, and their slates and pencils had been found \\nand handed back to them, they set to work very diligently \\nto write out a history of the accident, all except the Lizard, \\nwho seemed too much overcome to do anything but sit with \\nits mouth open, gazing up into the roof of the court.\\n‘What do you know about this business?’ the King said \\nto Alice.\\n‘Nothing,’ said Alice.\\n‘Nothing whatever? ’ persisted the King.\\n‘Nothing whatever, ’ said Alice.\\n‘That’s very important,’ the King said, turning to the \\njury. They were just beginning to write this down on their \\nslates, when the White Rabbit interrupted: ‘ Unimportant, \\nyour Majesty means, of course,’ he said in a very respectful \\ntone, but frowning and making faces at him as he spoke.\\n‘Unimportant, of course, I meant,’ the King hastily said, \\nand went on to himself in an undertone, ‘important—unim -\\nportant— unimportant—important—’ as if he were trying \\nwhich word sounded best.\\nSome of the jury wrote it down ‘important,’ and some \\n‘unimportant.’ Alice could see this, as she was near enough \\nto look over their slates; ‘but it doesn’t matter a bit,’ she \\nthought to herself.\\nAt this moment the King, who had been for some time \\nbusily writing in his note-book, cackled out ‘Silence!’ and \\nread out from his book, ‘Rule Forty-two. All persons more \\nthan a mile hight to leave the court .’105 Free eBooks at Planet eBoo k.comEverybody looked at Alice.\\n‘I’m not a mile high,’ said Alice.\\n‘You are,’ said the King.\\n‘Nearly two miles high,’ added the Queen.\\n‘Well, I shan’t go, at any rate,’ said Alice: ‘besides, that’s \\nnot a regular rule: you invented it just now.’\\n‘It’s the oldest rule in the book,’ said the King.\\n‘Then it ought to be Number One,’ said Alice.\\nThe King turned pale, and shut his note-book hastily. \\n‘Consider your verdict,’ he said to the jury, in a low, trem -\\nbling voice.\\n‘There’s more evidence to come yet, please your Majesty,’ \\nsaid the White Rabbit, jumping up in a great hurry; ‘this pa -\\nper has just been picked up.’\\n‘What’s in it?’ said the Queen.\\n‘I haven’t opened it yet,’ said the White Rabbit, ‘but it \\nseems to be a letter, written by the prisoner to—to some -\\nbody.’\\n‘It must have been that,’ said the King, ‘unless it was writ -\\nten to nobody, which isn’t usual, you know.’\\n‘Who is it directed to?’ said one of the jurymen.\\n‘It isn’t directed at all,’ said the White Rabbit; ‘in fact, \\nthere’s nothing written on the outside .’ He unfolded the pa -\\nper as he spoke, and added ‘It isn’t a letter, after all: it’s a set \\nof verses.’\\n‘Are they in the prisoner’s handwriting?’ asked another \\nof they jurymen.\\n‘No, they’re not,’ said the White Rabbit, ‘and that’s the \\nqueerest thing about it.’ (The jury all looked puzzled.)Alice’s Adventures in Wonderland 106‘He must have imitated somebody else’s hand,’ said the \\nKing. (The jury all brightened up again.)\\n‘Please your Majesty,’ said the Knave, ‘I didn’t write it, \\nand they can’t prove I did: there’s no name signed at the \\nend.’\\n‘If you didn’t sign it,’ said the King, ‘that only makes the \\nmatter worse. You must  have meant some mischief, or else \\nyou’d have signed your name like an honest man.’\\nThere was a general clapping of hands at this: it was the \\nfirst really clever thing the King had said that day.\\n‘That proves  his guilt,’ said the Queen.\\n‘It proves nothing of the sort!’ said Alice. ‘Why, you don’t \\neven know what they’re about!’\\n‘Read them,’ said the King.\\nThe White Rabbit put on his spectacles. ‘Where shall I \\nbegin, please your Majesty?’ he asked.\\n‘Begin at the beginning,’ the King said gravely, ‘and go \\non till you come to the end: then stop.’\\nThese were the verses the White Rabbit read:—\\n‘They told me you had been to her,  \\n  And mentioned me to him:  \\nShe gave me a good character,  \\n  But said I could not swim.\\nHe sent them word I had not gone  \\n  (We know it to be true):  \\nIf she should push the matter on,  \\n  What would become of you?107 Free eBooks at Planet eBoo k.comI gave her one, they gave him two,  \\n  You gave us three or more;  \\nThey all returned from him to you,  \\n  Though they were mine before.\\nIf I or she should chance to be  \\n  Involved in this affair,  \\nHe trusts to you to set them free,  \\n  Exactly as we were.\\nMy notion was that you had been  \\n  (Before she had this fit)  \\nAn obstacle that came between  \\n  Him, and ourselves, and it.\\nDon’t let him know she liked them best,  \\n  For this must ever be  \\nA secret, kept from all the rest,  \\n  Between yourself and me.’\\n‘That’s the most important piece of evidence we’ve \\nheard yet,’ said the King, rubbing his hands; ‘so now let the \\njury—’\\n‘If any one of them can explain it,’ said Alice, (she had \\ngrown so large in the last few minutes that she wasn’t a bit \\nafraid of interrupting him,) ‘I’ll give him sixpence. I don’t \\nbelieve there’s an atom of meaning in it.’\\nThe jury all wrote down on their slates, ‘ She doesn’t be -\\nlieve there’s an atom of meaning in it,’ but none of them Alice’s Adventures in Wonderland 108attempted to explain the paper.\\n‘If there’s no meaning in it,’ said the King, ‘that saves a \\nworld of trouble, you know, as we needn’t try to find any. \\nAnd yet I don’t know,’ he went on, spreading out the verses \\non his knee, and looking at them with one eye; ‘I seem to see \\nsome meaning in them, after all. ‘ -said I could not swim— ’ \\nyou can’t swim, can you?’ he added, turning to the Knave.\\nThe Knave shook his head sadly. ‘Do I look like it?’ he \\nsaid. (Which he certainly did not, being made entirely of \\ncardboard.)\\n‘All right, so far,’ said the King, and he went on muttering \\nover the verses to himself: ‘“ We know it to be true— ’ that’s \\nthe jury, of course— ‘ I gave her one, they gave him two— ’ \\nwhy, that must be what he did with the tarts, you know—’\\n‘But, it goes on ‘ they all returned from him to you, ‘ said \\nAlice.\\n‘Why, there they are!’ said the King triumphantly, point -\\ning to the tarts on the table. ‘Nothing can be clearer than \\nthat. Then again—‘ before she had this fit- -’ you never had \\nfits, my dear, I think?’ he said to the Queen.\\n‘Never!’ said the Queen furiously, throwing an inkstand \\nat the Lizard as she spoke. (The unfortunate little Bill had \\nleft off writing on his slate with one finger, as he found it \\nmade no mark; but he now hastily began again, using the \\nink, that was trickling down his face, as long as it lasted.)\\n‘Then the words don’t fit you,’ said the King, looking \\nround the court with a smile. There was a dead silence.\\n‘It’s a pun!’ the King added in an offended tone, and ev -\\nerybody laughed, ‘Let the jury consider their verdict,’ the 109 Free eBooks at Planet eBoo k.comKing said, for about the twentieth time that day.\\n‘No, no!’ said the Queen. ‘Sentence first—verdict after -\\nwards.’\\n‘Stuff and nonsense!’ said Alice loudly. ‘The idea of hav -\\ning the sentence first!’\\n‘Hold your tongue!’ said the Queen, turning purple.\\n‘I won’t!’ said Alice.\\n‘Off with her head!’ the Queen shouted at the top of her \\nvoice. Nobody moved.\\n‘Who cares for you?’ said Alice, (she had grown to her \\nfull size by this time.) ‘You’re nothing but a pack of cards!’\\nAt this the whole pack rose up into the air, and came fly -\\ning down upon her: she gave a little scream, half of fright \\nand half of anger, and tried to beat them off, and found her -\\nself lying on the bank, with her head in the lap of her sister, \\nwho was gently brushing away some dead leaves that had \\nfluttered down from the trees upon her face.\\n‘Wake up, Alice dear!’ said her sister; ‘Why, what a long \\nsleep you’ve had!’\\n‘Oh, I’ve had such a curious dream!’ said Alice, and she \\ntold her sister, as well as she could remember them, all these \\nstrange Adventures of hers that you have just been reading \\nabout; and when she had finished, her sister kissed her, and \\nsaid, ‘It was a curious dream, dear, certainly: but now run \\nin to your tea; it’s getting late.’ So Alice got up and ran off, \\nthinking while she ran, as well she might, what a wonderful \\ndream it had been.\\nBut her sister sat still just as she left her, leaning her head \\non her hand, watching the setting sun, and thinking of little Alice’s Adventures in Wonderland 110Alice and all her wonderful Adventures, till she too began \\ndreaming after a fashion, and this was her dream:—\\nFirst, she dreamed of little Alice herself, and once again \\nthe tiny hands were clasped upon her knee, and the bright \\neager eyes were looking up into hers—she could hear the \\nvery tones of her voice, and see that queer little toss of her \\nhead to keep back the wandering hair that would  always get \\ninto her eyes—and still as she listened, or seemed to listen, \\nthe whole place around her became alive the strange crea -\\ntures of her little sister’s dream.\\nThe long grass rustled at her feet as the White Rabbit hur -\\nried by—the frightened Mouse splashed his way through the \\nneighbouring pool—she could hear the rattle of the teacups \\nas the March Hare and his friends shared their never-end -\\ning meal, and the shrill voice of the Queen ordering off her \\nunfortunate guests to execution—once more the pig-baby \\nwas sneezing on the Duchess’s knee, while plates and dishes \\ncrashed around it—once more the shriek of the Gryphon, \\nthe squeaking of the Lizard’s slate-pencil, and the choking \\nof the suppressed guinea-pigs, filled the air, mixed up with \\nthe distant sobs of the miserable Mock Turtle.\\nSo she sat on, with closed eyes, and half believed her -\\nself in Wonderland, though she knew she had but to open \\nthem again, and all would change to dull reality—the grass \\nwould be only rustling in the wind, and the pool rippling to \\nthe waving of the reeds—the rattling teacups would change \\nto tinkling sheepbells, and the Queen’s shrill cries to the \\nvoice of the shepherd boy—and the sneeze of the baby, the \\nshriek of the Gryphon, and all thy other queer noises, would 111 Free eBooks at Planet eBoo k.comchange (she knew) to the confused clamour of the busy \\nfarm-yard—while the lowing of the cattle in the distance \\nwould take the place of the Mock Turtle’s heavy sobs.\\nLastly, she pictured to herself how this same little sister \\nof hers would, in the after-time, be herself a grown wom -\\nan; and how she would keep, through all her riper years, \\nthe simple and loving heart of her childhood: and how \\nshe would gather about her other little children, and make \\nTHEIR eyes bright and eager with many a strange tale, per -\\nhaps even with the dream of Wonderland of long ago: and \\nhow she would feel with all their simple sorrows, and find \\na pleasure in all their simple joys, remembering her own \\nchild-life, and the happy summer days.'"
            ]
          },
          "execution_count": 806,
          "metadata": {},
          "output_type": "execute_result"
        }
      ],
      "source": [
        "text"
      ]
    },
    {
      "cell_type": "code",
      "execution_count": null,
      "metadata": {
        "id": "mAIFtnpq8BtP",
        "outputId": "5502ef18-9d65-47dd-de2d-80ee936bb0f8"
      },
      "outputs": [
        {
          "name": "stdout",
          "output_type": "stream",
          "text": [
            "Text content has been saved to 'cleaned.txt'\n"
          ]
        }
      ],
      "source": [
        "\n",
        "# File path to save the text file\n",
        "file_path = \"cleaned.txt\"\n",
        "\n",
        "# Open the file in write mode and saving the text content\n",
        "with open(file_path, 'w') as file:\n",
        "    file.write(text.replace(\"\\n\", \" \"))\n",
        "\n",
        "print(f\"Text content has been saved to '{file_path}'\")\n"
      ]
    },
    {
      "cell_type": "code",
      "execution_count": null,
      "metadata": {
        "id": "sXIdmz9-8BtQ"
      },
      "outputs": [],
      "source": [
        "# storing all chapters in a list 'chapters' and also removing desceiption part of book\n",
        "chapters = text.split(\"Chapter\")[1:]"
      ]
    },
    {
      "cell_type": "code",
      "execution_count": null,
      "metadata": {
        "id": "e2Zj4LkY8BtS",
        "outputId": "7d79a28e-9d16-4e4d-f1d3-324ad2e9ba5e"
      },
      "outputs": [
        {
          "data": {
            "text/plain": [
              "12"
            ]
          },
          "execution_count": 808,
          "metadata": {},
          "output_type": "execute_result"
        }
      ],
      "source": [
        "len(chapters)"
      ]
    },
    {
      "cell_type": "code",
      "execution_count": null,
      "metadata": {
        "id": "QLNbH10Q8BtT",
        "outputId": "56a823bd-facf-4f7e-c62d-d78257f1e033"
      },
      "outputs": [
        {
          "data": {
            "text/plain": [
              "' III.  \\nA Caucus-Race and \\na Long Tale\\nThey were indeed a queer-looking party that assembled \\non the bank—the birds with draggled feathers, the ani -\\nmals with their fur clinging close to them, and all dripping \\nwet, cross, and uncomfortable.\\nThe first question of course was, how to get dry again: \\nthey had a consultation about this, and after a few minutes \\nit seemed quite natural to Alice to find herself talking fa -\\nmiliarly with them, as if she had known them all her life. \\nIndeed, she had quite a long argument with the Lory, who \\nat last turned sulky, and would only say, ‘I am older than \\nyou, and must know better’; and this Alice would not allow \\nwithout knowing how old it was, and, as the Lory positively \\nrefused to tell its age, there was no more to be said.\\nAt last the Mouse, who seemed to be a person of author -\\nity among them, called out, ‘Sit down, all of you, and listen \\nto me! I’ll soon make you dry enough!’ They all sat down \\nat once, in a large ring, with the Mouse in the middle. Al -\\nice kept her eyes anxiously fixed on it, for she felt sure she \\nwould catch a bad cold if she did not get dry very soon.\\n‘Ahem!’ said the Mouse with an important air, ‘are you \\nall ready? This is the driest thing I know. Silence all round, 21 Free eBooks at Planet eBoo k.comif you please! ‘William the Conqueror, whose cause was fa -\\nvoured by the pope, was soon submitted to by the English, \\nwho wanted leaders, and had been of late much accustomed \\nto usurpation and conquest. Edwin and Morcar, the earls of \\nMercia and Northumbria—’\\n‘Ugh!’ said the Lory, with a shiver.\\n‘I beg your pardon!’ said the Mouse, frowning, but very \\npolitely: ‘Did you speak?’\\n‘Not I!’ said the Lory hastily.\\n‘I thought you did,’ said the Mouse. ‘—I proceed. ‘Edwin \\nand Morcar, the earls of Mercia and Northumbria, declared \\nfor him: and even Stigand, the patriotic archbishop of Can -\\nterbury, found it advisable—’\\n‘Found what ?’ said the Duck.\\n‘Found it,’ the Mouse replied rather crossly: ‘of course \\nyou know what ‘it’ means.’\\n‘I know what ‘it’ means well enough, when I find a thing,’ \\nsaid the Duck: ‘it’s generally a frog or a worm. The question \\nis, what did the archbishop find?’\\nThe Mouse did not notice this question, but hurriedly \\nwent on, ‘—found it advisable to go with Edgar Atheling to \\nmeet William and offer him the crown. William’s conduct \\nat first was moderate. But the insolence of his Normans—’ \\nHow are you getting on now, my dear?’ it continued, turn -\\ning to Alice as it spoke.\\n‘As wet as ever,’ said Alice in a melancholy tone: ‘it doesn’t \\nseem to dry me at all.’\\n‘In that case,’ said the Dodo solemnly, rising to its feet, ‘I \\nmove that the meeting adjourn, for the immediate adoption Alice’s Adventures in Wonderland 22of more energetic remedies—’\\n‘Speak English!’ said the Eaglet. ‘I don’t know the mean -\\ning of half those long words, and, what’s more, I don’t believe \\nyou do either!’ And the Eaglet bent down its head to hide a \\nsmile: some of the other birds tittered audibly.\\n‘What I was going to say,’ said the Dodo in an offended \\ntone, ‘was, that the best thing to get us dry would be a Cau -\\ncus-race.’\\n‘What is a Caucus-race?’ said Alice; not that she wanted \\nmuch to know, but the Dodo had paused as if it thought that \\nsomebody  ought to speak, and no one else seemed inclined \\nto say anything.\\n‘Why,’ said the Dodo, ‘the best way to explain it is to do \\nit.’ (And, as you might like to try the thing yourself, some \\nwinter day, I will tell you how the Dodo managed it.)\\nFirst it marked out a race-course, in a sort of circle, (’the \\nexact shape doesn’t matter,’ it said,) and then all the party \\nwere placed along the course, here and there. There was no \\n‘One, two, three, and away,’ but they began running when \\nthey liked, and left off when they liked, so that it was not \\neasy to know when the race was over. However, when they \\nhad been running half an hour or so, and were quite dry \\nagain, the Dodo suddenly called out ‘The race is over!’ and \\nthey all crowded round it, panting, and asking, ‘But who \\nhas won?’\\nThis question the Dodo could not answer without a great \\ndeal of thought, and it sat for a long time with one finger \\npressed upon its forehead (the position in which you usu -\\nally see Shakespeare, in the pictures of him), while the rest 23 Free eBooks at Planet eBoo k.comwaited in silence. At last the Dodo said, ‘ everybody  has won, \\nand all must have prizes.’\\n‘But who is to give the prizes?’ quite a chorus of voices \\nasked.\\n‘Why, she, of course,’ said the Dodo, pointing to Alice \\nwith one finger; and the whole party at once crowded round \\nher, calling out in a confused way, ‘Prizes! Prizes!’\\nAlice had no idea what to do, and in despair she put her \\nhand in her pocket, and pulled out a box of comfits, (luckily \\nthe salt water had not got into it), and handed them round \\nas prizes. There was exactly one a-piece all round.\\n‘But she must have a prize herself, you know,’ said the \\nMouse.\\n‘Of course,’ the Dodo replied very gravely. ‘What else \\nhave you got in your pocket?’ he went on, turning to Alice.\\n‘Only a thimble,’ said Alice sadly.\\n‘Hand it over here,’ said the Dodo.\\nThen they all crowded round her once more, while the \\nDodo solemnly presented the thimble, saying ‘We beg your \\nacceptance of this elegant thimble’; and, when it had fin -\\nished this short speech, they all cheered.\\nAlice thought the whole thing very absurd, but they all \\nlooked so grave that she did not dare to laugh; and, as she \\ncould not think of anything to say, she simply bowed, and \\ntook the thimble, looking as solemn as she could.\\nThe next thing was to eat the comfits: this caused some \\nnoise and confusion, as the large birds complained that they \\ncould not taste theirs, and the small ones choked and had to \\nbe patted on the back. However, it was over at last, and they Alice’s Adventures in Wonderland 24sat down again in a ring, and begged the Mouse to tell them \\nsomething more.\\n‘You promised to tell me your history, you know,’ said \\nAlice, ‘and why it is you hate—C and D,’ she added in a \\nwhisper, half afraid that it would be offended again.\\n‘Mine is a long and a sad tale!’ said the Mouse, turning to \\nAlice, and sighing.\\n‘It IS a long tail, certainly,’ said Alice, looking down with \\nwonder at the Mouse’s tail; ‘but why do you call it sad?’ And \\nshe kept on puzzling about it while the Mouse was speaking, \\nso that her idea of the tale was something like this:—\\nFury said to  \\n  a mouse, That  \\n           he met  \\n              in the  \\n                house,\\n                ‘Let us  \\n            both go  \\n         to law:  \\n      I will \\n    prosecute  \\n  you.— \\n   Come, I’ll  \\n       take no  \\n         denial;  \\n            We must  \\n                   have a  \\n                        trial:  25 Free eBooks at Planet eBoo k.com                        For  \\n                    really  \\n                   this  \\n                    morning  \\n                           I’ve  \\n                      nothing  \\n                   to do. ’  \\n             Said the  \\n              mouse to  \\n         the cur,  \\n             ‘Such a  \\n                   trial,  \\n                dear sir,  \\n            With no  \\n         jury or  \\n     judge  \\n      would be  \\n        wasting  \\n           our breath. ’  \\n             ‘I’ll be  \\n           judge,  \\n        I’ll be  \\n    jury, ’  \\n Said  \\n     cunning  \\n         old Fury!  \\n               ‘I’ll try  \\n                    the whole  \\n                           cause,  \\n                            and  \\n                     condemn  \\n                       you  \\n                     to  \\n                      death. ’  \\n‘You are not attending!’ said the Mouse to Alice severely. \\n‘What are you thinking of?’\\n‘I beg your pardon,’ said Alice very humbly: ‘you had got Alice’s Adventures in Wonderland 26to the fifth bend, I think?’\\n‘I had not!’ cried the Mouse, sharply and very angrily.\\n‘A knot!’ said Alice, always ready to make herself use -\\nful, and looking anxiously about her. ‘Oh, do let me help to \\nundo it!’\\n‘I shall do nothing of the sort,’ said the Mouse, getting \\nup and walking away. ‘You insult me by talking such non -\\nsense!’\\n‘I didn’t mean it!’ pleaded poor Alice. ‘But you’re so easily \\noffended, you know!’\\nThe Mouse only growled in reply.\\n‘Please come back and finish your story!’ Alice called af -\\nter it; and the others all joined in chorus, ‘Yes, please do!’ \\nbut the Mouse only shook its head impatiently, and walked \\na little quicker.\\n‘What a pity it wouldn’t stay!’ sighed the Lory, as soon \\nas it was quite out of sight; and an old Crab took the oppor -\\ntunity of saying to her daughter ‘Ah, my dear! Let this be a \\nlesson to you never to lose your  temper!’ ‘Hold your tongue, \\nMa!’ said the young Crab, a little snappishly. ‘You’re enough \\nto try the patience of an oyster!’\\n‘I wish I had our Dinah here, I know I do!’ said Alice \\naloud, addressing nobody in particular. ‘She’d soon fetch \\nit back!’\\n‘And who is Dinah, if I might venture to ask the ques -\\ntion?’ said the Lory.\\nAlice replied eagerly, for she was always ready to talk \\nabout her pet: ‘Dinah’s our cat. And she’s such a capital one \\nfor catching mice you can’t think! And oh, I wish you could 27 Free eBooks at Planet eBoo k.comsee her after the birds! Why, she’ll eat a little bird as soon as \\nlook at it!’\\nThis speech caused a remarkable sensation among the \\nparty. Some of the birds hurried off at once: one old Magpie \\nbegan wrapping itself up very carefully, remarking, ‘I really \\nmust be getting home; the night-air doesn’t suit my throat!’ \\nand a Canary called out in a trembling voice to its children, \\n‘Come away, my dears! It’s high time you were all in bed!’ \\nOn various pretexts they all moved off, and Alice was soon \\nleft alone.\\n‘I wish I hadn’t mentioned Dinah!’ she said to herself in \\na melancholy tone. ‘Nobody seems to like her, down here, \\nand I’m sure she’s the best cat in the world! Oh, my dear \\nDinah! I wonder if I shall ever see you any more!’ And here \\npoor Alice began to cry again, for she felt very lonely and \\nlow-spirited. In a little while, however, she again heard a lit -\\ntle pattering of footsteps in the distance, and she looked up \\neagerly, half hoping that the Mouse had changed his mind, \\nand was coming back to finish his story.Alice’s Adventures in Wonderland 28'"
            ]
          },
          "execution_count": 809,
          "metadata": {},
          "output_type": "execute_result"
        }
      ],
      "source": [
        "chapters[2]\n",
        "# line=''\n",
        "# for i in range(len(chapters[9].split('\\n'))):\n"
      ]
    },
    {
      "cell_type": "code",
      "execution_count": null,
      "metadata": {
        "id": "MOaX3KhC8BtU",
        "outputId": "dbbb12b4-8299-4217-c197-fecf88e1af0a"
      },
      "outputs": [
        {
          "data": {
            "text/plain": [
              "'A Caucus-Race and '"
            ]
          },
          "execution_count": 810,
          "metadata": {},
          "output_type": "execute_result"
        }
      ],
      "source": [
        "# checking chapter name\n",
        "chapters[2].split('\\n')[1]"
      ]
    },
    {
      "cell_type": "code",
      "execution_count": null,
      "metadata": {
        "id": "hb8xZA1X8BtU",
        "outputId": "e8fffe27-bbe0-4a56-b423-0c066a2eb0c4"
      },
      "outputs": [
        {
          "data": {
            "text/plain": [
              "12"
            ]
          },
          "execution_count": 811,
          "metadata": {},
          "output_type": "execute_result"
        }
      ],
      "source": [
        "len(chapters)"
      ]
    },
    {
      "cell_type": "code",
      "execution_count": null,
      "metadata": {
        "id": "w_9QI5uT8BtW",
        "outputId": "7688a3f3-b09d-4813-d1e8-7697e36a10d8"
      },
      "outputs": [
        {
          "data": {
            "text/plain": [
              "{'NOUN': 3, 'VERB': 2, 'ADJ': 1, 'PRT': 1, 'ADP': 1}"
            ]
          },
          "execution_count": 812,
          "metadata": {},
          "output_type": "execute_result"
        }
      ],
      "source": [
        "import nltk\n",
        "from nltk.corpus import stopwords\n",
        "from nltk.tokenize import sent_tokenize, word_tokenize\n",
        "from nltk.tag import pos_tag\n",
        "\n",
        "#analyzing the pos tag of texts\n",
        "def analyze_pos_of_text(text):\n",
        "    # Tokenize the text into words\n",
        "    words = word_tokenize(text)\n",
        "\n",
        "    # Perform part-of-speech tagging\n",
        "    words_pos = nltk.pos_tag(words, tagset=\"universal\")\n",
        "    pos=[]\n",
        "    summary_main={}\n",
        "\n",
        "    for i in words_pos:\n",
        "        if i[1] not in pos:\n",
        "            pos.append(i[1])\n",
        "    count=0\n",
        "    # pos tag and no of occurence respectively are being stored in a dictionary\n",
        "    for i in range(len(pos)):\n",
        "        for j in words_pos:\n",
        "            if j[1]==pos[i]:\n",
        "                count+=1\n",
        "        summary_main[pos[i]]=count\n",
        "        count=0\n",
        "    return summary_main\n",
        "\n",
        "#testing the function\n",
        "analyze_pos_of_text('hii i am good ko know to about')"
      ]
    },
    {
      "cell_type": "code",
      "execution_count": null,
      "metadata": {
        "id": "lTXH7akz8BtY",
        "outputId": "4ab22a94-0c52-4a4b-a676-8281c903a8c7"
      },
      "outputs": [
        {
          "data": {
            "text/plain": [
              "'‘Here!’ cried Alice, quite forgetting in the flurry of the  moment how large she had grown in the last few min - utes, and she jumped up in such a hurry that she tipped over  the jury-box with the edge of her skirt, upsetting all the ju - rymen on to the heads of the crowd below, and there they  lay sprawling about, reminding her very much of a globe of  goldfish she had accidentally upset the week before.'"
            ]
          },
          "execution_count": 813,
          "metadata": {},
          "output_type": "execute_result"
        }
      ],
      "source": [
        "# extracting all paragraphs from every chapter\n",
        "def para(chapters,i):\n",
        "\n",
        "    lines=chapters[i]\n",
        "\n",
        "    main_data=[]\n",
        "    data=''\n",
        "    # Iterate through each line\n",
        "    for i in range(len(str(lines))-6):\n",
        "        data+=lines[i]\n",
        "\n",
        "        # Check if the line starts with '\\n' and the next character is a capital letter or is \" ' \" and it should not Alice\n",
        "        if lines[i+1]!=\"I\" or lines[i+1]=='A':\n",
        "            if ((str(lines[i]) == '\\n' and (lines[i+1].isupper() or lines[i+2].isupper() or lines[i]==\"'\")) and lines[i+1:i+6]!=\"Alice\") or (str(lines[i]) == '\\n' and lines[i+1]==\"'\"):\n",
        "                data=data.replace(\"\\n\", ' ')\n",
        "                main_data.append(data[:-1])\n",
        "                data=\"\"\n",
        "    return main_data\n",
        "\n",
        "(para(chapters,11)[1])\n",
        "\n"
      ]
    },
    {
      "cell_type": "code",
      "execution_count": null,
      "metadata": {
        "id": "5wyu6bh18BtZ",
        "outputId": "3e3bda8c-bc8a-48a1-ae55-716568de59e6"
      },
      "outputs": [
        {
          "data": {
            "text/plain": [
              "[' I.  \\nDown the Rabbit-Hole\\nAlice was beginning to get very tired of sitting by her \\nsister on the bank, and of having nothing to do: once \\nor twice she had peeped into the book her sister was read -\\ning, but it had no pictures or conversations in it, ‘and what \\nis the use of a book,’ thought Alice ‘without pictures or con -\\nversation?’\\nSo she was considering in her own mind (as well as she \\ncould, for the hot day made her feel very sleepy and stu -\\npid), whether the pleasure of making a daisy-chain would \\nbe worth the trouble of getting up and picking the daisies, \\nwhen suddenly a White Rabbit with pink eyes ran close by \\nher.\\nThere was nothing so very remarkable in that; nor did \\nAlice think it so very much out of the way to hear the Rab -\\nbit say to itself, ‘Oh dear! Oh dear! I shall be late!’ (when \\nshe thought it over afterwards, it occurred to her that she \\nought to have wondered at this, but at the time it all seemed \\nquite natural); but when the Rabbit actually took a watch \\nout of its waistcoat-pocket,  and looked at it, and then hur -\\nried on, Alice started to her feet, for it flashed across her \\nmind that she had never before seen a rabbit with either a \\nwaistcoat-pocket, or a watch to take out of it, and burning \\nwith curiosity, she ran across the field after it, and fortu -5 Free eBooks at Planet eBoo k.comnately was just in time to see it pop down a large rabbit-hole \\nunder the hedge.\\nIn another moment down went Alice after it, never once \\nconsidering how in the world she was to get out again.\\nThe rabbit-hole went straight on like a tunnel for some \\nway, and then dipped suddenly down, so suddenly that Al -\\nice had not a moment to think about stopping herself before \\nshe found herself falling down a very deep well.\\nEither the well was very deep, or she fell very slowly, for \\nshe had plenty of time as she went down to look about her \\nand to wonder what was going to happen next. First, she \\ntried to look down and make out what she was coming to, \\nbut it was too dark to see anything; then she looked at the \\nsides of the well, and noticed that they were filled with cup -\\nboards and book-shelves; here and there she saw maps and \\npictures hung upon pegs. She took down a jar from one of \\nthe shelves as she passed; it was labelled ‘ORANGE MAR -\\nMALADE’, but to her great disappointment it was empty: \\nshe did not like to drop the jar for fear of killing somebody, \\nso managed to put it into one of the cupboards as she fell \\npast it.\\n‘Well!’ thought Alice to herself, ‘after such a fall as this, \\nI shall think nothing of tumbling down stairs! How brave \\nthey’ll all think me at home! Why, I wouldn’t say anything \\nabout it, even if I fell off the top of the house!’ (Which was \\nvery likely true.)\\nDown, down, down. Would the fall never  come to an \\nend! ‘I wonder how many miles I’ve fallen by this time?’ \\nshe said aloud. ‘I must be getting somewhere near the cen -Alice’s Adventures in Wonderland 6tre of the earth. Let me see: that would be four thousand \\nmiles down, I think—’ (for, you see, Alice had learnt sev -\\neral things of this sort in her lessons in the schoolroom, and \\nthough this was not a VERY good opportunity for showing \\noff her knowledge, as there was no one to listen to her, still it \\nwas good practice to say it over) ‘—yes, that’s about the right \\ndistance—but then I wonder what Latitude or Longitude \\nI’ve got to?’ (Alice had no idea what Latitude was, or Longi -\\ntude either, but thought they were nice grand words to say.)\\nPresently she began again. ‘I wonder if I shall fall right \\nthrough  the earth! How funny it’ll seem to come out among \\nthe people that walk with their heads downward! The An -\\ntipathies, I think—’ (she was rather glad there WAS no one \\nlistening, this time, as it didn’t sound at all the right word) \\n‘—but I shall have to ask them what the name of the country \\nis, you know. Please, Ma’am, is this New Zealand or Austra -\\nlia?’ (and she tried to curtsey as she spoke—fancy curtseying  \\nas you’re falling through the air! Do you think you could \\nmanage it?) ‘And what an ignorant little girl she’ll think me \\nfor asking! No, it’ll never do to ask: perhaps I shall see it \\nwritten up somewhere.’\\nDown, down, down. There was nothing else to do, so Al -\\nice soon began talking again. ‘Dinah’ll miss me very much \\nto-night, I should think!’ (Dinah was the cat.) ‘I hope they’ll \\nremember her saucer of milk at tea-time. Dinah my dear! \\nI wish you were down here with me! There are no mice in \\nthe air, I’m afraid, but you might catch a bat, and that’s very \\nlike a mouse, you know. But do cats eat bats, I wonder?’ And \\nhere Alice began to get rather sleepy, and went on saying to 7 Free eBooks at Planet eBoo k.comherself, in a dreamy sort of way, ‘Do cats eat bats? Do cats \\neat bats?’ and sometimes, ‘Do bats eat cats?’ for, you see, as \\nshe couldn’t answer either question, it didn’t much matter \\nwhich way she put it. She felt that she was dozing off, and \\nhad just begun to dream that she was walking hand in hand \\nwith Dinah, and saying to her very earnestly, ‘Now, Dinah, \\ntell me the truth: did you ever eat a bat?’ when suddenly, \\nthump! thump! down she came upon a heap of sticks and \\ndry leaves, and the fall was over.\\nAlice was not a bit hurt, and she jumped up on to her \\nfeet in a moment: she looked up, but it was all dark over -\\nhead; before her was another long passage, and the White \\nRabbit was still in sight, hurrying down it. There was not a \\nmoment to be lost: away went Alice like the wind, and was \\njust in time to hear it say, as it turned a corner, ‘Oh my ears \\nand whiskers, how late it’s getting!’ She was close behind it \\nwhen she turned the corner, but the Rabbit was no longer to \\nbe seen: she found herself in a long, low hall, which was lit \\nup by a row of lamps hanging from the roof.\\nThere were doors all round the hall, but they were all \\nlocked; and when Alice had been all the way down one side \\nand up the other, trying every door, she walked sadly down \\nthe middle, wondering how she was ever to get out again.\\nSuddenly she came upon a little three-legged table, all \\nmade of solid glass; there was nothing on it except a tiny \\ngolden key, and Alice’s first thought was that it might be -\\nlong to one of the doors of the hall; but, alas! either the locks \\nwere too large, or the key was too small, but at any rate it \\nwould not open any of them. However, on the second time Alice’s Adventures in Wonderland 8round, she came upon a low curtain she had not noticed \\nbefore, and behind it was a little door about fifteen inches \\nhigh: she tried the little golden key in the lock, and to her \\ngreat delight it fitted!\\nAlice opened the door and found that it led into a small \\npassage, not much larger than a rat-hole: she knelt down and \\nlooked along the passage into the loveliest garden you ever \\nsaw. How she longed to get out of that dark hall, and wan -\\nder about among those beds of bright flowers and those cool \\nfountains, but she could not even get her head though the \\ndoorway; ‘and even if my head would  go through,’ thought \\npoor Alice, ‘it would be of very little use without my shoul -\\nders. Oh, how I wish I could shut up like a telescope! I think \\nI could, if I only know how to begin.’ For, you see, so many \\nout-of-the-way things had happened lately, that Alice had \\nbegun to think that very few things indeed were really im -\\npossible.\\nThere seemed to be no use in waiting by the little door, \\nso she went back to the table, half hoping she might find \\nanother key on it, or at any rate a book of rules for shut -\\nting people up like telescopes: this time she found a little \\nbottle on it, (’which certainly was not here before,’ said Al -\\nice,) and round the neck of the bottle was a paper label, with \\nthe words ‘DRINK ME’ beautifully printed on it in large \\nletters.\\nIt was all very well to say ‘Drink me,’ but the wise little \\nAlice was not going to do that in a hurry. ‘No, I’ll look first,’ \\nshe said, ‘and see whether it’s marked ‘ poison ’ or not’; for she \\nhad read several nice little histories about children who had 9 Free eBooks at Planet eBoo k.comgot burnt, and eaten up by wild beasts and other unpleas -\\nant things, all because they would  not remember the simple \\nrules their friends had taught them: such as, that a red-hot \\npoker will burn you if you hold it too long; and that if you \\ncut your finger very deeply with a knife, it usually bleeds; \\nand she had never forgotten that, if you drink much from a \\nbottle marked ‘ poison ,’ it is almost certain to disagree with \\nyou, sooner or later.\\nHowever, this bottle was not marked ‘poison,’ so Alice \\nventured to taste it, and finding it very nice, (it had, in fact, \\na sort of mixed flavour of cherry-tart, custard, pine-apple, \\nroast turkey, toffee, and hot buttered toast,) she very soon \\nfinished it off.\\n*****\\n‘What a curious feeling!’ said Alice; ‘I must be shutting \\nup like a telescope.’\\nAnd so it was indeed: she was now only ten inches high, \\nand her face brightened up at the thought that she was now \\nthe right size for going through the little door into that love -\\nly garden. First, however, she waited for a few minutes to see \\nif she was going to shrink any further: she felt a little ner -\\nvous about this; ‘for it might end, you know,’ said Alice to \\nherself, ‘in my going out altogether, like a candle. I wonder \\nwhat I should be like then?’ And she tried to fancy what the \\nflame of a candle is like after the candle is blown out, for she \\ncould not remember ever having seen such a thing.\\nAfter a while, finding that nothing more happened, she \\ndecided on going into the garden at once; but, alas for poor \\nAlice! when she got to the door, she found she had forgotten Alice’s Adventures in Wonderland 10the little golden key, and when she went back to the table for \\nit, she found she could not possibly reach it: she could see \\nit quite plainly through the glass, and she tried her best to \\nclimb up one of the legs of the table, but it was too slippery; \\nand when she had tired herself out with trying, the poor \\nlittle thing sat down and cried.\\n‘Come, there’s no use in crying like that!’ said Alice to \\nherself, rather sharply; ‘I advise you to leave off this minute!’ \\nShe generally gave herself very good advice, (though she \\nvery seldom followed it), and sometimes she scolded her -\\nself so severely as to bring tears into her eyes; and once she \\nremembered trying to box her own ears for having cheated \\nherself in a game of croquet she was playing against herself, \\nfor this curious child was very fond of pretending to be two \\npeople. ‘But it’s no use now,’ thought poor Alice, ‘to pretend \\nto be two people! Why, there’s hardly enough of me left to \\nmake ONE respectable person!’\\nSoon her eye fell on a little glass box that was lying under \\nthe table: she opened it, and found in it a very small cake, on \\nwhich the words ‘EAT ME’ were beautifully marked in cur -\\nrants. ‘Well, I’ll eat it,’ said Alice, ‘and if it makes me grow \\nlarger, I can reach the key; and if it makes me grow smaller, I \\ncan creep under the door; so either way I’ll get into the gar -\\nden, and I don’t care which happens!’\\nShe ate a little bit, and said anxiously to herself, ‘Which \\nway? Which way?’, holding her hand on the top of her head \\nto feel which way it was growing, and she was quite sur -\\nprised to find that she remained the same size: to be sure, \\nthis generally happens when one eats cake, but Alice had got 11 Free eBooks at Planet eBoo k.comso much into the way of expecting nothing but out-of-the-\\nway things to happen, that it seemed quite dull and stupid \\nfor life to go on in the common way.\\nSo she set to work, and very soon finished off the cake.\\n*****Alice’s Adventures in Wonderland 12',\n",
              " ' II.  \\nThe Pool of Tears\\n‘Curiouser and curiouser!’ cried Alice (she was so much \\nsurprised, that for the moment she quite forgot how \\nto speak good English); ‘now I’m opening out like the larg -\\nest telescope that ever was! Good-bye, feet!’ (for when she \\nlooked down at her feet, they seemed to be almost out of \\nsight, they were getting so far off). ‘Oh, my poor little feet, \\nI wonder who will put on your shoes and stockings for you \\nnow, dears? I’m sure I shan’t be able! I shall be a great deal \\ntoo far off to trouble myself about you: you must manage \\nthe best way you can; —but I must be kind to them,’ thought \\nAlice, ‘or perhaps they won’t walk the way I want to go! Let \\nme see: I’ll give them a new pair of boots every Christmas.’\\nAnd she went on planning to herself how she would \\nmanage it. ‘They must go by the carrier,’ she thought; ‘and \\nhow funny it’ll seem, sending presents to one’s own feet! \\nAnd how odd the directions will look!\\nALICE’S RIGHT FOOT, ESQ.  \\nHEARTHRUG,  \\nNEAR THE FENDER,  \\n(WITH ALICE’S LOVE).\\nOh dear, what nonsense I’m talking!’13 Free eBooks at Planet eBoo k.comJust then her head struck against the roof of the hall: in \\nfact she was now more than nine feet high, and she at once \\ntook up the little golden key and hurried off to the garden \\ndoor.\\nPoor Alice! It was as much as she could do, lying down \\non one side, to look through into the garden with one eye; \\nbut to get through was more hopeless than ever: she sat \\ndown and began to cry again.\\n‘You ought to be ashamed of yourself,’ said Alice, ‘a great \\ngirl like you,’ (she might well say this), ‘to go on crying in \\nthis way! Stop this moment, I tell you!’ But she went on all \\nthe same, shedding gallons of tears, until there was a large \\npool all round her, about four inches deep and reaching half \\ndown the hall.\\nAfter a time she heard a little pattering of feet in the dis -\\ntance, and she hastily dried her eyes to see what was coming. \\nIt was the White Rabbit returning, splendidly dressed, with \\na pair of white kid gloves in one hand and a large fan in the \\nother: he came trotting along in a great hurry, muttering \\nto himself as he came, ‘Oh! the Duchess, the Duchess! Oh! \\nwon’t  she be savage if I’ve kept her waiting!’ Alice felt so des -\\nperate that she was ready to ask help of any one; so, when \\nthe Rabbit came near her, she began, in a low, timid voice, \\n‘If you please, sir—’ The Rabbit started violently, dropped \\nthe white kid gloves and the fan, and skurried away into the \\ndarkness as hard as he could go.\\nAlice took up the fan and gloves, and, as the hall was \\nvery hot, she kept fanning herself all the time she went on \\ntalking: ‘Dear, dear! How queer everything is to-day! And Alice’s Adventures in Wonderland 14yesterday things went on just as usual. I wonder if I’ve been \\nchanged in the night? Let me think: was I the same when I \\ngot up this morning? I almost think I can remember feeling \\na little different. But if I’m not the same, the next ques -\\ntion is, Who in the world am I? Ah, that’s  the great puzzle!’ \\nAnd she began thinking over all the children she knew that \\nwere of the same age as herself, to see if she could have been \\nchanged for any of them.\\n‘I’m sure I’m not Ada,’ she said, ‘for her hair goes in such \\nlong ringlets, and mine doesn’t go in ringlets at all; and I’m \\nsure I can’t be Mabel, for I know all sorts of things, and she, \\noh! she knows such a very little! Besides, she’s  she, and I’m I, \\nand—oh dear, how puzzling it all is! I’ll try if I know all the \\nthings I used to know. Let me see: four times five is twelve, \\nand four times six is thirteen, and four times seven is—oh \\ndear! I shall never get to twenty at that rate! However, the \\nMultiplication Table doesn’t signify: let’s try Geography. \\nLondon is the capital of Paris, and Paris is the capital of \\nRome, and Rome—no, that’s  all wrong, I’m certain! I must \\nhave been changed for Mabel! I’ll try and say ‘ How doth the \\nlittle— ‘ and she crossed her hands on her lap as if she were \\nsaying lessons, and began to repeat it, but her voice sounded \\nhoarse and strange, and the words did not come the same as \\nthey used to do:—\\n‘How doth the little crocodile  \\nImprove his shining tail,  \\nAnd pour the waters of the Nile  \\nOn every golden scale!  15 Free eBooks at Planet eBoo k.com \\n‘How cheerfully he seems to grin,  \\nHow neatly spread his claws,  \\nAnd welcome little fishes in  \\nWith gently smiling jaws!’\\n‘I’m sure those are not the right words,’ said poor Alice, \\nand her eyes filled with tears again as she went on, ‘I must be \\nMabel after all, and I shall have to go and live in that poky \\nlittle house, and have next to no toys to play with, and oh! \\never so many lessons to learn! No, I’ve made up my mind \\nabout it; if I’m Mabel, I’ll stay down here! It’ll be no use \\ntheir putting their heads down and saying ‘Come up again, \\ndear!’ I shall only look up and say ‘Who am I then? Tell me \\nthat first, and then, if I like being that person, I’ll come up: \\nif not, I’ll stay down here till I’m somebody else’—but, oh \\ndear!’ cried Alice, with a sudden burst of tears, ‘I do wish \\nthey would  put their heads down! I am so very tired of be -\\ning all alone here!’\\nAs she said this she looked down at her hands, and was \\nsurprised to see that she had put on one of the Rabbit’s lit -\\ntle white kid gloves while she was talking. ‘How can I have \\ndone that?’ she thought. ‘I must be growing small again.’ \\nShe got up and went to the table to measure herself by it, and \\nfound that, as nearly as she could guess, she was now about \\ntwo feet high, and was going on shrinking rapidly: she soon \\nfound out that the cause of this was the fan she was holding, \\nand she dropped it hastily, just in time to avoid shrinking \\naway altogether.Alice’s Adventures in Wonderland 16‘That was a narrow escape!’ said Alice, a good deal fright -\\nened at the sudden change, but very glad to find herself still \\nin existence; ‘and now for the garden!’ and she ran with all \\nspeed back to the little door: but, alas! the little door was \\nshut again, and the little golden key was lying on the glass \\ntable as before, ‘and things are worse than ever,’ thought the \\npoor child, ‘for I never was so small as this before, never! \\nAnd I declare it’s too bad, that it is!’\\nAs she said these words her foot slipped, and in another \\nmoment, splash! she was up to her chin in salt water. Her \\nfirst idea was that she had somehow fallen into the sea, ‘and \\nin that case I can go back by railway,’ she said to herself. (Al -\\nice had been to the seaside once in her life, and had come \\nto the general conclusion, that wherever you go to on the \\nEnglish coast you find a number of bathing machines in the \\nsea, some children digging in the sand with wooden spades, \\nthen a row of lodging houses, and behind them a railway \\nstation.) However, she soon made out that she was in the \\npool of tears which she had wept when she was nine feet \\nhigh.\\n‘I wish I hadn’t cried so much!’ said Alice, as she swam \\nabout, trying to find her way out. ‘I shall be punished for it \\nnow, I suppose, by being drowned in my own tears! That \\nwill be a queer thing, to be sure! However, everything is \\nqueer to-day.’\\nJust then she heard something splashing about in the \\npool a little way off, and she swam nearer to make out what \\nit was: at first she thought it must be a walrus or hippopota -\\nmus, but then she remembered how small she was now, and 17 Free eBooks at Planet eBoo k.comshe soon made out that it was only a mouse that had slipped \\nin like herself.\\n‘Would it be of any use, now,’ thought Alice, ‘to speak \\nto this mouse? Everything is so out-of-the-way down here, \\nthat I should think very likely it can talk: at any rate, there’s \\nno harm in trying.’ So she began: ‘O Mouse, do you know \\nthe way out of this pool? I am very tired of swimming about \\nhere, O Mouse!’ (Alice thought this must be the right way \\nof speaking to a mouse: she had never done such a thing be -\\nfore, but she remembered having seen in her brother’s Latin \\nGrammar, ‘A mouse—of a mouse—to a mouse—a mouse—\\nO mouse!’ The Mouse looked at her rather inquisitively, and \\nseemed to her to wink with one of its little eyes, but it said \\nnothing.\\n‘Perhaps it doesn’t understand English,’ thought Alice; \\n‘I daresay it’s a French mouse, come over with William the \\nConqueror.’ (For, with all her knowledge of history, Alice \\nhad no very clear notion how long ago anything had hap -\\npened.) So she began again: ‘Ou est ma chatte?’ which was \\nthe first sentence in her French lesson-book. The Mouse \\ngave a sudden leap out of the water, and seemed to quiver all \\nover with fright. ‘Oh, I beg your pardon!’ cried Alice hastily, \\nafraid that she had hurt the poor animal’s feelings. ‘I quite \\nforgot you didn’t like cats.’\\n‘Not like cats!’ cried the Mouse, in a shrill, passionate \\nvoice. ‘Would you like cats if you were me?’\\n‘Well, perhaps not,’ said Alice in a soothing tone: ‘don’t \\nbe angry about it. And yet I wish I could show you our cat \\nDinah: I think you’d take a fancy to cats if you could only Alice’s Adventures in Wonderland 18see her. She is such a dear quiet thing,’ Alice went on, half \\nto herself, as she swam lazily about in the pool, ‘and she sits \\npurring so nicely by the fire, licking her paws and washing \\nher face—and she is such a nice soft thing to nurse—and \\nshe’s such a capital one for catching mice—oh, I beg your \\npardon!’ cried Alice again, for this time the Mouse was bris -\\ntling all over, and she felt certain it must be really offended. \\n‘We won’t talk about her any more if you’d rather not.’\\n‘We indeed!’ cried the Mouse, who was trembling down \\nto the end of his tail. ‘As if I would talk on such a subject! \\nOur family always hated  cats: nasty, low, vulgar things! \\nDon’t let me hear the name again!’\\n‘I won’t indeed!’ said Alice, in a great hurry to change \\nthe subject of conversation. ‘Are you—are you fond—of—of \\ndogs?’ The Mouse did not answer, so Alice went on eagerly: \\n‘There is such a nice little dog near our house I should like \\nto show you! A little bright-eyed terrier, you know, with oh, \\nsuch long curly brown hair! And it’ll fetch things when you \\nthrow them, and it’ll sit up and beg for its dinner, and all \\nsorts of things—I can’t remember half of them—and it be -\\nlongs to a farmer, you know, and he says it’s so useful, it’s \\nworth a hundred pounds! He says it kills all the rats and—\\noh dear!’ cried Alice in a sorrowful tone, ‘I’m afraid I’ve \\noffended it again!’ For the Mouse was swimming away from \\nher as hard as it could go, and making quite a commotion \\nin the pool as it went.\\nSo she called softly after it, ‘Mouse dear! Do come back \\nagain, and we won’t talk about cats or dogs either, if you \\ndon’t like them!’ When the Mouse heard this, it turned 19 Free eBooks at Planet eBoo k.comround and swam slowly back to her: its face was quite pale \\n(with passion, Alice thought), and it said in a low trembling \\nvoice, ‘Let us get to the shore, and then I’ll tell you my his -\\ntory, and you’ll understand why it is I hate cats and dogs.’\\nIt was high time to go, for the pool was getting quite \\ncrowded with the birds and animals that had fallen into it: \\nthere were a Duck and a Dodo, a Lory and an Eaglet, and \\nseveral other curious creatures. Alice led the way, and the \\nwhole party swam to the shore.Alice’s Adventures in Wonderland 20',\n",
              " ' III.  \\nA Caucus-Race and \\na Long Tale\\nThey were indeed a queer-looking party that assembled \\non the bank—the birds with draggled feathers, the ani -\\nmals with their fur clinging close to them, and all dripping \\nwet, cross, and uncomfortable.\\nThe first question of course was, how to get dry again: \\nthey had a consultation about this, and after a few minutes \\nit seemed quite natural to Alice to find herself talking fa -\\nmiliarly with them, as if she had known them all her life. \\nIndeed, she had quite a long argument with the Lory, who \\nat last turned sulky, and would only say, ‘I am older than \\nyou, and must know better’; and this Alice would not allow \\nwithout knowing how old it was, and, as the Lory positively \\nrefused to tell its age, there was no more to be said.\\nAt last the Mouse, who seemed to be a person of author -\\nity among them, called out, ‘Sit down, all of you, and listen \\nto me! I’ll soon make you dry enough!’ They all sat down \\nat once, in a large ring, with the Mouse in the middle. Al -\\nice kept her eyes anxiously fixed on it, for she felt sure she \\nwould catch a bad cold if she did not get dry very soon.\\n‘Ahem!’ said the Mouse with an important air, ‘are you \\nall ready? This is the driest thing I know. Silence all round, 21 Free eBooks at Planet eBoo k.comif you please! ‘William the Conqueror, whose cause was fa -\\nvoured by the pope, was soon submitted to by the English, \\nwho wanted leaders, and had been of late much accustomed \\nto usurpation and conquest. Edwin and Morcar, the earls of \\nMercia and Northumbria—’\\n‘Ugh!’ said the Lory, with a shiver.\\n‘I beg your pardon!’ said the Mouse, frowning, but very \\npolitely: ‘Did you speak?’\\n‘Not I!’ said the Lory hastily.\\n‘I thought you did,’ said the Mouse. ‘—I proceed. ‘Edwin \\nand Morcar, the earls of Mercia and Northumbria, declared \\nfor him: and even Stigand, the patriotic archbishop of Can -\\nterbury, found it advisable—’\\n‘Found what ?’ said the Duck.\\n‘Found it,’ the Mouse replied rather crossly: ‘of course \\nyou know what ‘it’ means.’\\n‘I know what ‘it’ means well enough, when I find a thing,’ \\nsaid the Duck: ‘it’s generally a frog or a worm. The question \\nis, what did the archbishop find?’\\nThe Mouse did not notice this question, but hurriedly \\nwent on, ‘—found it advisable to go with Edgar Atheling to \\nmeet William and offer him the crown. William’s conduct \\nat first was moderate. But the insolence of his Normans—’ \\nHow are you getting on now, my dear?’ it continued, turn -\\ning to Alice as it spoke.\\n‘As wet as ever,’ said Alice in a melancholy tone: ‘it doesn’t \\nseem to dry me at all.’\\n‘In that case,’ said the Dodo solemnly, rising to its feet, ‘I \\nmove that the meeting adjourn, for the immediate adoption Alice’s Adventures in Wonderland 22of more energetic remedies—’\\n‘Speak English!’ said the Eaglet. ‘I don’t know the mean -\\ning of half those long words, and, what’s more, I don’t believe \\nyou do either!’ And the Eaglet bent down its head to hide a \\nsmile: some of the other birds tittered audibly.\\n‘What I was going to say,’ said the Dodo in an offended \\ntone, ‘was, that the best thing to get us dry would be a Cau -\\ncus-race.’\\n‘What is a Caucus-race?’ said Alice; not that she wanted \\nmuch to know, but the Dodo had paused as if it thought that \\nsomebody  ought to speak, and no one else seemed inclined \\nto say anything.\\n‘Why,’ said the Dodo, ‘the best way to explain it is to do \\nit.’ (And, as you might like to try the thing yourself, some \\nwinter day, I will tell you how the Dodo managed it.)\\nFirst it marked out a race-course, in a sort of circle, (’the \\nexact shape doesn’t matter,’ it said,) and then all the party \\nwere placed along the course, here and there. There was no \\n‘One, two, three, and away,’ but they began running when \\nthey liked, and left off when they liked, so that it was not \\neasy to know when the race was over. However, when they \\nhad been running half an hour or so, and were quite dry \\nagain, the Dodo suddenly called out ‘The race is over!’ and \\nthey all crowded round it, panting, and asking, ‘But who \\nhas won?’\\nThis question the Dodo could not answer without a great \\ndeal of thought, and it sat for a long time with one finger \\npressed upon its forehead (the position in which you usu -\\nally see Shakespeare, in the pictures of him), while the rest 23 Free eBooks at Planet eBoo k.comwaited in silence. At last the Dodo said, ‘ everybody  has won, \\nand all must have prizes.’\\n‘But who is to give the prizes?’ quite a chorus of voices \\nasked.\\n‘Why, she, of course,’ said the Dodo, pointing to Alice \\nwith one finger; and the whole party at once crowded round \\nher, calling out in a confused way, ‘Prizes! Prizes!’\\nAlice had no idea what to do, and in despair she put her \\nhand in her pocket, and pulled out a box of comfits, (luckily \\nthe salt water had not got into it), and handed them round \\nas prizes. There was exactly one a-piece all round.\\n‘But she must have a prize herself, you know,’ said the \\nMouse.\\n‘Of course,’ the Dodo replied very gravely. ‘What else \\nhave you got in your pocket?’ he went on, turning to Alice.\\n‘Only a thimble,’ said Alice sadly.\\n‘Hand it over here,’ said the Dodo.\\nThen they all crowded round her once more, while the \\nDodo solemnly presented the thimble, saying ‘We beg your \\nacceptance of this elegant thimble’; and, when it had fin -\\nished this short speech, they all cheered.\\nAlice thought the whole thing very absurd, but they all \\nlooked so grave that she did not dare to laugh; and, as she \\ncould not think of anything to say, she simply bowed, and \\ntook the thimble, looking as solemn as she could.\\nThe next thing was to eat the comfits: this caused some \\nnoise and confusion, as the large birds complained that they \\ncould not taste theirs, and the small ones choked and had to \\nbe patted on the back. However, it was over at last, and they Alice’s Adventures in Wonderland 24sat down again in a ring, and begged the Mouse to tell them \\nsomething more.\\n‘You promised to tell me your history, you know,’ said \\nAlice, ‘and why it is you hate—C and D,’ she added in a \\nwhisper, half afraid that it would be offended again.\\n‘Mine is a long and a sad tale!’ said the Mouse, turning to \\nAlice, and sighing.\\n‘It IS a long tail, certainly,’ said Alice, looking down with \\nwonder at the Mouse’s tail; ‘but why do you call it sad?’ And \\nshe kept on puzzling about it while the Mouse was speaking, \\nso that her idea of the tale was something like this:—\\nFury said to  \\n  a mouse, That  \\n           he met  \\n              in the  \\n                house,\\n                ‘Let us  \\n            both go  \\n         to law:  \\n      I will \\n    prosecute  \\n  you.— \\n   Come, I’ll  \\n       take no  \\n         denial;  \\n            We must  \\n                   have a  \\n                        trial:  25 Free eBooks at Planet eBoo k.com                        For  \\n                    really  \\n                   this  \\n                    morning  \\n                           I’ve  \\n                      nothing  \\n                   to do. ’  \\n             Said the  \\n              mouse to  \\n         the cur,  \\n             ‘Such a  \\n                   trial,  \\n                dear sir,  \\n            With no  \\n         jury or  \\n     judge  \\n      would be  \\n        wasting  \\n           our breath. ’  \\n             ‘I’ll be  \\n           judge,  \\n        I’ll be  \\n    jury, ’  \\n Said  \\n     cunning  \\n         old Fury!  \\n               ‘I’ll try  \\n                    the whole  \\n                           cause,  \\n                            and  \\n                     condemn  \\n                       you  \\n                     to  \\n                      death. ’  \\n‘You are not attending!’ said the Mouse to Alice severely. \\n‘What are you thinking of?’\\n‘I beg your pardon,’ said Alice very humbly: ‘you had got Alice’s Adventures in Wonderland 26to the fifth bend, I think?’\\n‘I had not!’ cried the Mouse, sharply and very angrily.\\n‘A knot!’ said Alice, always ready to make herself use -\\nful, and looking anxiously about her. ‘Oh, do let me help to \\nundo it!’\\n‘I shall do nothing of the sort,’ said the Mouse, getting \\nup and walking away. ‘You insult me by talking such non -\\nsense!’\\n‘I didn’t mean it!’ pleaded poor Alice. ‘But you’re so easily \\noffended, you know!’\\nThe Mouse only growled in reply.\\n‘Please come back and finish your story!’ Alice called af -\\nter it; and the others all joined in chorus, ‘Yes, please do!’ \\nbut the Mouse only shook its head impatiently, and walked \\na little quicker.\\n‘What a pity it wouldn’t stay!’ sighed the Lory, as soon \\nas it was quite out of sight; and an old Crab took the oppor -\\ntunity of saying to her daughter ‘Ah, my dear! Let this be a \\nlesson to you never to lose your  temper!’ ‘Hold your tongue, \\nMa!’ said the young Crab, a little snappishly. ‘You’re enough \\nto try the patience of an oyster!’\\n‘I wish I had our Dinah here, I know I do!’ said Alice \\naloud, addressing nobody in particular. ‘She’d soon fetch \\nit back!’\\n‘And who is Dinah, if I might venture to ask the ques -\\ntion?’ said the Lory.\\nAlice replied eagerly, for she was always ready to talk \\nabout her pet: ‘Dinah’s our cat. And she’s such a capital one \\nfor catching mice you can’t think! And oh, I wish you could 27 Free eBooks at Planet eBoo k.comsee her after the birds! Why, she’ll eat a little bird as soon as \\nlook at it!’\\nThis speech caused a remarkable sensation among the \\nparty. Some of the birds hurried off at once: one old Magpie \\nbegan wrapping itself up very carefully, remarking, ‘I really \\nmust be getting home; the night-air doesn’t suit my throat!’ \\nand a Canary called out in a trembling voice to its children, \\n‘Come away, my dears! It’s high time you were all in bed!’ \\nOn various pretexts they all moved off, and Alice was soon \\nleft alone.\\n‘I wish I hadn’t mentioned Dinah!’ she said to herself in \\na melancholy tone. ‘Nobody seems to like her, down here, \\nand I’m sure she’s the best cat in the world! Oh, my dear \\nDinah! I wonder if I shall ever see you any more!’ And here \\npoor Alice began to cry again, for she felt very lonely and \\nlow-spirited. In a little while, however, she again heard a lit -\\ntle pattering of footsteps in the distance, and she looked up \\neagerly, half hoping that the Mouse had changed his mind, \\nand was coming back to finish his story.Alice’s Adventures in Wonderland 28',\n",
              " ' IV .  \\nThe Rabbit Sends \\nin a Little Bill\\nIt was the White Rabbit, trotting slowly back again, and \\nlooking anxiously about as it went, as if it had lost some -\\nthing; and she heard it muttering to itself ‘The Duchess! \\nThe Duchess! Oh my dear paws! Oh my fur and whiskers! \\nShe’ll get me executed, as sure as ferrets are ferrets! Where \\ncan I have dropped them, I wonder?’ Alice guessed in a mo -\\nment that it was looking for the fan and the pair of white kid \\ngloves, and she very good-naturedly began hunting about \\nfor them, but they were nowhere to be seen—everything \\nseemed to have changed since her swim in the pool, and the \\ngreat hall, with the glass table and the little door, had van -\\nished completely.\\nVery soon the Rabbit noticed Alice, as she went hunting \\nabout, and called out to her in an angry tone, ‘Why, Mary \\nAnn, what are you doing out here? Run home this moment, \\nand fetch me a pair of gloves and a fan! Quick, now!’ And \\nAlice was so much frightened that she ran off at once in the \\ndirection it pointed to, without trying to explain the mis -\\ntake it had made.\\n‘He took me for his housemaid,’ she said to herself as \\nshe ran. ‘How surprised he’ll be when he finds out who I 29 Free eBooks at Planet eBoo k.comam! But I’d better take him his fan and gloves—that is, if I \\ncan find them.’ As she said this, she came upon a neat little \\nhouse, on the door of which was a bright brass plate with the \\nname ‘W. RABBIT’ engraved upon it. She went in without \\nknocking, and hurried upstairs, in great fear lest she should \\nmeet the real Mary Ann, and be turned out of the house be -\\nfore she had found the fan and gloves.\\n‘How queer it seems,’ Alice said to herself, ‘to be going \\nmessages for a rabbit! I suppose Dinah’ll be sending me on \\nmessages next!’ And she began fancying the sort of thing \\nthat would happen: ‘“Miss Alice! Come here directly, and get \\nready for your walk!’ ‘Coming in a minute, nurse! But I’ve got \\nto see that the mouse doesn’t get out.’ Only I don’t think,’ Al -\\nice went on, ‘that they’d let Dinah stop in the house if it began \\nordering people about like that!’\\nBy this time she had found her way into a tidy little room \\nwith a table in the window, and on it (as she had hoped) a fan \\nand two or three pairs of tiny white kid gloves: she took up \\nthe fan and a pair of the gloves, and was just going to leave \\nthe room, when her eye fell upon a little bottle that stood \\nnear the lookingglass. There was no label this time with the \\nwords ‘DRINK ME,’ but nevertheless she uncorked it and put \\nit to her lips. ‘I know something  interesting is sure to happen,’ \\nshe said to herself, ‘whenever I eat or drink anything; so I’ll \\njust see what this bottle does. I do hope it’ll make me grow \\nlarge again, for really I’m quite tired of being such a tiny little \\nthing!’\\nIt did so indeed, and much sooner than she had expect -\\ned: before she had drunk half the bottle, she found her head Alice’s Adventures in Wonderland 30pressing against the ceiling, and had to stoop to save her neck \\nfrom being broken. She hastily put down the bottle, saying \\nto herself ‘That’s quite enough—I hope I shan’t grow any \\nmore—As it is, I can’t get out at the door—I do wish I hadn’t \\ndrunk quite so much!’\\nAlas! it was too late to wish that! She went on growing, \\nand growing, and very soon had to kneel down on the floor: \\nin another minute there was not even room for this, and she \\ntried the effect of lying down with one elbow against the \\ndoor, and the other arm curled round her head. Still she went \\non growing, and, as a last resource, she put one arm out of \\nthe window, and one foot up the chimney, and said to herself \\n‘Now I can do no more, whatever happens. What will become \\nof me?’\\nLuckily for Alice, the little magic bottle had now had its \\nfull effect, and she grew no larger: still it was very uncomfort -\\nable, and, as there seemed to be no sort of chance of her ever \\ngetting out of the room again, no wonder she felt unhappy.\\n‘It was much pleasanter at home,’ thought poor Alice, \\n‘when one wasn’t always growing larger and smaller, and be -\\ning ordered about by mice and rabbits. I almost wish I hadn’t \\ngone down that rabbit-hole—and yet—and yet—it’s rather \\ncurious, you know, this sort of life! I do wonder what can \\nhave happened to me! When I used to read fairy-tales, I fan -\\ncied that kind of thing never happened, and now here I am \\nin the middle of one! There ought to be a book written about \\nme, that there ought! And when I grow up, I’ll write one—but \\nI’m grown up now,’ she added in a sorrowful tone; ‘at least \\nthere’s no room to grow up any more here.’31 Free eBooks at Planet eBoo k.com‘But then,’ thought Alice, ‘shall I never  get any older than \\nI am now? That’ll be a comfort, one way—never to be an old \\nwoman— but then—always to have lessons to learn! Oh, I \\nshouldn’t like that!’\\n‘Oh, you foolish Alice!’ she answered herself. ‘How can \\nyou learn lessons in here? Why, there’s hardly room for you, \\nand no room at all for any lesson-books!’\\nAnd so she went on, taking first one side and then the oth -\\ner, and making quite a conversation of it altogether; but after \\na few minutes she heard a voice outside, and stopped to lis -\\nten.\\n‘Mary Ann! Mary Ann!’ said the voice. ‘Fetch me my \\ngloves this moment!’ Then came a little pattering of feet on \\nthe stairs. Alice knew it was the Rabbit coming to look for \\nher, and she trembled till she shook the house, quite forget -\\nting that she was now about a thousand times as large as the \\nRabbit, and had no reason to be afraid of it.\\nPresently the Rabbit came up to the door, and tried to \\nopen it; but, as the door opened inwards, and Alice’s elbow \\nwas pressed hard against it, that attempt proved a failure. Al -\\nice heard it say to itself ‘Then I’ll go round and get in at the \\nwindow.’\\n‘That  you won’t’ thought Alice, and, after waiting till she \\nfancied she heard the Rabbit just under the window, she sud -\\ndenly spread out her hand, and made a snatch in the air. She \\ndid not get hold of anything, but she heard a little shriek and \\na fall, and a crash of broken glass, from which she concluded \\nthat it was just possible it had fallen into a cucumber-frame, \\nor something of the sort.Alice’s Adventures in Wonderland 32Next came an angry voice—the Rabbit’s—‘Pat! Pat! Where \\nare you?’ And then a voice she had never heard before, ‘Sure \\nthen I’m here! Digging for apples, yer honour!’\\n‘Digging for apples, indeed!’ said the Rabbit angrily. \\n‘Here! Come and help me out of this!’ (Sounds of more bro -\\nken glass.)\\n‘Now tell me, Pat, what’s that in the window?’\\n‘Sure, it’s an arm, yer honour!’ (He pronounced it ‘ar -\\nrum.’)\\n‘An arm, you goose! Who ever saw one that size? Why, it \\nfills the whole window!’\\n‘Sure, it does, yer honour: but it’s an arm for all that.’\\n‘Well, it’s got no business there, at any rate: go and take it \\naway!’\\nThere was a long silence after this, and Alice could only \\nhear whispers now and then; such as, ‘Sure, I don’t like it, yer \\nhonour, at all, at all!’ ‘Do as I tell you, you coward!’ and at \\nlast she spread out her hand again, and made another snatch \\nin the air. This time there were two little shrieks, and more \\nsounds of broken glass. ‘What a number of cucumber-frames \\nthere must be!’ thought Alice. ‘I wonder what they’ll do next! \\nAs for pulling me out of the window, I only wish they could ! \\nI’m sure I don’t want to stay in here any longer!’\\nShe waited for some time without hearing anything more: \\nat last came a rumbling of little cartwheels, and the sound \\nof a good many voices all talking together: she made out the \\nwords: ‘Where’s the other ladder?—Why, I hadn’t to bring but \\none; Bill’s got the other—Bill! fetch it here, lad!—Here, put \\n‘em up at this corner—No, tie ‘em together first—they don’t 33 Free eBooks at Planet eBoo k.comreach half high enough yet—Oh! they’ll do well enough; \\ndon’t be particular— Here, Bill! catch hold of this rope—Will \\nthe roof bear?—Mind that loose slate—Oh, it’s coming down! \\nHeads below!’ (a loud crash)—‘Now, who did that?—It was \\nBill, I fancy—Who’s to go down the chimney?—Nay, I shan’t! \\nyou do it!—That I won’t, then!—Bill’s to go down—Here, Bill! \\nthe master says you’re to go down the chimney!’\\n‘Oh! So Bill’s got to come down the chimney, has he?’ said \\nAlice to herself. ‘Shy, they seem to put everything upon Bill! I \\nwouldn’t be in Bill’s place for a good deal: this fireplace is nar -\\nrow, to be sure; but I think  I can kick a little!’\\nShe drew her foot as far down the chimney as she could, \\nand waited till she heard a little animal (she couldn’t guess \\nof what sort it was) scratching and scrambling about in the \\nchimney close above her: then, saying to herself ‘This is Bill,’ \\nshe gave one sharp kick, and waited to see what would hap -\\npen next.\\nThe first thing she heard was a general chorus of ‘There \\ngoes Bill!’ then the Rabbit’s voice along—‘Catch him, you \\nby the hedge!’ then silence, and then another confusion of \\nvoices—‘Hold up his head—Brandy now—Don’t choke \\nhim—How was it, old fellow? What happened to you? Tell \\nus all about it!’\\nLast came a little feeble, squeaking voice, (’That’s Bill,’ \\nthought Alice,) ‘Well, I hardly know—No more, thank ye; \\nI’m better now—but I’m a deal too flustered to tell you—all I \\nknow is, something comes at me like a Jack-in-the-box, and \\nup I goes like a sky-rocket!’\\n‘So you did, old fellow!’ said the others.Alice’s Adventures in Wonderland 34‘We must burn the house down!’ said the Rabbit’s voice; \\nand Alice called out as loud as she could, ‘If you do. I’ll set \\nDinah at you!’\\nThere was a dead silence instantly, and Alice thought to \\nherself, ‘I wonder what they will do next! If they had any \\nsense, they’d take the roof off.’ After a minute or two, they \\nbegan moving about again, and Alice heard the Rabbit say, ‘A \\nbarrowful will do, to begin with.’\\n‘A barrowful of what ?’ thought Alice; but she had not long \\nto doubt, for the next moment a shower of little pebbles came \\nrattling in at the window, and some of them hit her in the \\nface. ‘I’ll put a stop to this,’ she said to herself, and shouted \\nout, ‘You’d better not do that again!’ which produced another \\ndead silence.\\nAlice noticed with some surprise that the pebbles were \\nall turning into little cakes as they lay on the floor, and a \\nbright idea came into her head. ‘If I eat one of these cakes,’ \\nshe thought, ‘it’s sure to make some  change in my size; and \\nas it can’t possibly make me larger, it must make me smaller, \\nI suppose.’\\nSo she swallowed one of the cakes, and was delighted to \\nfind that she began shrinking directly. As soon as she was \\nsmall enough to get through the door, she ran out of the \\nhouse, and found quite a crowd of little animals and birds \\nwaiting outside. The poor little Lizard, Bill, was in the mid -\\ndle, being held up by two guinea-pigs, who were giving it \\nsomething out of a bottle. They all made a rush at Alice the \\nmoment she appeared; but she ran off as hard as she could, \\nand soon found herself safe in a thick wood.35 Free eBooks at Planet eBoo k.com‘The first thing I’ve got to do,’ said Alice to herself, as she \\nwandered about in the wood, ‘is to grow to my right size \\nagain; and the second thing is to find my way into that lovely \\ngarden. I think that will be the best plan.’\\nIt sounded an excellent plan, no doubt, and very neatly \\nand simply arranged; the only difficulty was, that she had not \\nthe smallest idea how to set about it; and while she was peer -\\ning about anxiously among the trees, a little sharp bark just \\nover her head made her look up in a great hurry.\\nAn enormous puppy was looking down at her with large \\nround eyes, and feebly stretching out one paw, trying to touch \\nher. ‘Poor little thing!’ said Alice, in a coaxing tone, and she \\ntried hard to whistle to it; but she was terribly frightened all \\nthe time at the thought that it might be hungry, in which case \\nit would be very likely to eat her up in spite of all her coax -\\ning.\\nHardly knowing what she did, she picked up a little bit \\nof stick, and held it out to the puppy; whereupon the puppy \\njumped into the air off all its feet at once, with a yelp of de -\\nlight, and rushed at the stick, and made believe to worry it; \\nthen Alice dodged behind a great thistle, to keep herself from \\nbeing run over; and the moment she appeared on the other \\nside, the puppy made another rush at the stick, and tumbled \\nhead over heels in its hurry to get hold of it; then Alice, think -\\ning it was very like having a game of play with a cart-horse, \\nand expecting every moment to be trampled under its feet, \\nran round the thistle again; then the puppy began a series of \\nshort charges at the stick, running a very little way forwards \\neach time and a long way back, and barking hoarsely all the Alice’s Adventures in Wonderland 36while, till at last it sat down a good way off, panting, with its \\ntongue hanging out of its mouth, and its great eyes half shut.\\nThis seemed to Alice a good opportunity for making her \\nescape; so she set off at once, and ran till she was quite tired \\nand out of breath, and till the puppy’s bark sounded quite \\nfaint in the distance.\\n‘And yet what a dear little puppy it was!’ said Alice, as she \\nleant against a buttercup to rest herself, and fanned herself \\nwith one of the leaves: ‘I should have liked teaching it tricks \\nvery much, if—if I’d only been the right size to do it! Oh dear! \\nI’d nearly forgotten that I’ve got to grow up again! Let me \\nsee—how IS it to be managed? I suppose I ought to eat or \\ndrink something or other; but the great question is, what?’\\nThe great question certainly was, what? Alice looked all \\nround her at the flowers and the blades of grass, but she did \\nnot see anything that looked like the right thing to eat or \\ndrink under the circumstances. There was a large mushroom \\ngrowing near her, about the same height as herself; and when \\nshe had looked under it, and on both sides of it, and behind \\nit, it occurred to her that she might as well look and see what \\nwas on the top of it.\\nShe stretched herself up on tiptoe, and peeped over the \\nedge of the mushroom, and her eyes immediately met those \\nof a large caterpillar, that was sitting on the top with its arms \\nfolded, quietly smoking a long hookah, and taking not the \\nsmallest notice of her or of anything else.37 Free eBooks at Planet eBoo k.com',\n",
              " ' V .  \\nAdvice from a Caterpillar\\nThe Caterpillar and Alice looked at each other for some \\ntime in silence: at last the Caterpillar took the hookah \\nout of its mouth, and addressed her in a languid, sleepy \\nvoice.\\n‘Who are you?’ said the Caterpillar.\\nThis was not an encouraging opening for a conversa -\\ntion. Alice replied, rather shyly, ‘I—I hardly know, sir, just \\nat present— at least I know who I WAS when I got up this \\nmorning, but I think I must have been changed several \\ntimes since then.’\\n‘What do you mean by that?’ said the Caterpillar sternly. \\n‘Explain yourself!’\\n‘I can’t explain myself , I’m afraid, sir’ said Alice, ‘because \\nI’m not myself, you see.’\\n‘I don’t see,’ said the Caterpillar.\\n‘I’m afraid I can’t put it more clearly,’ Alice replied very \\npolitely, ‘for I can’t understand it myself to begin with; and \\nbeing so many different sizes in a day is very confusing.’\\n‘It isn’t,’ said the Caterpillar.\\n‘Well, perhaps you haven’t found it so yet,’ said Alice; \\n‘but when you have to turn into a chrysalis—you will some \\nday, you know—and then after that into a butterfly, I should \\nthink you’ll feel it a little queer, won’t you?’Alice’s Adventures in Wonderland 38‘Not a bit,’ said the Caterpillar.\\n‘Well, perhaps your feelings may be different,’ said Alice; \\n‘all I know is, it would feel very queer to me.’\\n‘You!’ said the Caterpillar contemptuously. ‘Who are \\nyou?’\\nWhich brought them back again to the beginning of the \\nconversation. Alice felt a little irritated at the Caterpillar’s \\nmaking such very short remarks, and she drew herself up \\nand said, very gravely, ‘I think, you ought to tell me who \\nyou are, first.’\\n‘Why?’ said the Caterpillar.\\nHere was another puzzling question; and as Alice could \\nnot think of any good reason, and as the Caterpillar seemed \\nto be in a very unpleasant state of mind, she turned away.\\n‘Come back!’ the Caterpillar called after her. ‘I’ve some -\\nthing important to say!’\\nThis sounded promising, certainly: Alice turned and \\ncame back again.\\n‘Keep your temper,’ said the Caterpillar.\\n‘Is that all?’ said Alice, swallowing down her anger as \\nwell as she could.\\n‘No,’ said the Caterpillar.\\nAlice thought she might as well wait, as she had nothing \\nelse to do, and perhaps after all it might tell her something \\nworth hearing. For some minutes it puffed away without \\nspeaking, but at last it unfolded its arms, took the hoo -\\nkah out of its mouth again, and said, ‘So you think you’re \\nchanged, do you?’\\n‘I’m afraid I am, sir,’ said Alice; ‘I can’t remember things 39 Free eBooks at Planet eBoo k.comas I used—and I don’t keep the same size for ten minutes \\ntogether!’\\n‘Can’t remember what  things?’ said the Caterpillar.\\n‘Well, I’ve tried to say ‘ How doth the little busy bee, ’ but \\nit all came different!’ Alice replied in a very melancholy \\nvoice.\\n‘Repeat, ‘ you are old, Father William, ‘ said the Caterpil -\\nlar.\\nAlice folded her hands, and began:—\\n‘You are old, Father William,’ the young man said,\\n  ‘And your hair has become very white;\\nAnd yet you incessantly stand on your head--\\n  Do you think, at your age, it is right?’\\n‘In my youth,’ Father William replied to his son,\\n  ‘I feared it might injure the brain;\\nBut, now that I’m perfectly sure I have none,\\n  Why, I do it again and again.’\\n‘You are old,’ said the youth, ‘as I mentioned before,\\n  And have grown most uncommonly fat;\\nYet you turned a back-somersault in at the door--\\n  Pray, what is the reason of that?’\\n‘In my youth,’ said the sage, as he shook his grey locks,\\n  ‘I kept all my limbs very supple\\nBy the use of this ointment--one shilling the box--\\n  Allow me to sell you a couple?’Alice’s Adventures in Wonderland 40‘You are old,’ said the youth, ‘and your jaws are too weak\\n  For anything tougher than suet;\\nYet you finished the goose, with the bones and the beak--\\n  Pray how did you manage to do it?’\\n‘In my youth,’ said his father, ‘I took to the law,\\n  And argued each case with my wife;\\nAnd the muscular strength, which it gave to my jaw,\\n  Has lasted the rest of my life.’\\n‘You are old,’ said the youth, ‘one would hardly suppose\\n  That your eye was as steady as ever;\\nYet you balanced an eel on the end of your nose--\\n  What made you so awfully clever?’\\n‘I have answered three questions, and that is enough,’\\n  Said his father; `don’t give yourself airs!\\nDo you think I can listen all day to such stuff?\\n  Be off, or I’ll kick you down stairs!’\\n‘That is not said right,’ said the Caterpillar.\\n‘Not quite  right, I’m afraid,’ said Alice, timidly; ‘some of \\nthe words have got altered.’\\n‘It is wrong from beginning to end,’ said the Caterpillar \\ndecidedly, and there was silence for some minutes.\\nThe Caterpillar was the first to speak.\\n‘What size do you want to be?’ it asked.\\n‘Oh, I’m not particular as to size,’ Alice hastily replied; 41 Free eBooks at Planet eBoo k.com‘only one doesn’t like changing so often, you know.’\\n‘I don’t  know,’ said the Caterpillar.\\nAlice said nothing: she had never been so much contra -\\ndicted in her life before, and she felt that she was losing her \\ntemper.\\n‘Are you content now?’ said the Caterpillar.\\n‘Well, I should like to be a little  larger, sir, if you wouldn’t \\nmind,’ said Alice: ‘three inches is such a wretched height \\nto be.’\\n‘It is a very good height indeed!’ said the Caterpillar an -\\ngrily, rearing itself upright as it spoke (it was exactly three \\ninches high).\\n‘But I’m not used to it!’ pleaded poor Alice in a pite -\\nous tone. And she thought of herself, ‘I wish the creatures \\nwouldn’t be so easily offended!’\\n‘You’ll get used to it in time,’ said the Caterpillar; and it \\nput the hookah into its mouth and began smoking again.\\nThis time Alice waited patiently until it chose to speak \\nagain. In a minute or two the Caterpillar took the hookah \\nout of its mouth and yawned once or twice, and shook itself. \\nThen it got down off the mushroom, and crawled away in the \\ngrass, merely remarking as it went, ‘One side will make you \\ngrow taller, and the other side will make you grow shorter.’\\n‘One side of what ? The other side of what ?’ thought Alice \\nto herself.\\n‘Of the mushroom,’ said the Caterpillar, just as if she had \\nasked it aloud; and in another moment it was out of sight.\\nAlice remained looking thoughtfully at the mushroom \\nfor a minute, trying to make out which were the two sides of Alice’s Adventures in Wonderland 42it; and as it was perfectly round, she found this a very diffi -\\ncult question. However, at last she stretched her arms round \\nit as far as they would go, and broke off a bit of the edge with \\neach hand.\\n‘And now which is which?’ she said to herself, and nib -\\nbled a little of the right-hand bit to try the effect: the next \\nmoment she felt a violent blow underneath her chin: it had \\nstruck her foot!\\nShe was a good deal frightened by this very sudden \\nchange, but she felt that there was no time to be lost, as she \\nwas shrinking rapidly; so she set to work at once to eat some \\nof the other bit. Her chin was pressed so closely against her \\nfoot, that there was hardly room to open her mouth; but \\nshe did it at last, and managed to swallow a morsel of the \\nlefthand bit.\\n*****\\n‘Come, my head’s free at last!’ said Alice in a tone of de -\\nlight, which changed into alarm in another moment, when \\nshe found that her shoulders were nowhere to be found: \\nall she could see, when she looked down, was an immense \\nlength of neck, which seemed to rise like a stalk out of a sea \\nof green leaves that lay far below her.\\n‘What can all that green stuff be?’ said Alice. ‘And where \\nhave  my shoulders got to? And oh, my poor hands, how is it \\nI can’t see you?’ She was moving them about as she spoke, \\nbut no result seemed to follow, except a little shaking among \\nthe distant green leaves.\\nAs there seemed to be no chance of getting her hands \\nup to her head, she tried to get her head down to them, and 43 Free eBooks at Planet eBoo k.comwas delighted to find that her neck would bend about eas -\\nily in any direction, like a serpent. She had just succeeded \\nin curving it down into a graceful zigzag, and was going to \\ndive in among the leaves, which she found to be nothing but \\nthe tops of the trees under which she had been wandering, \\nwhen a sharp hiss made her draw back in a hurry: a large pi -\\ngeon had flown into her face, and was beating her violently \\nwith its wings.\\n‘Serpent!’ screamed the Pigeon.\\n‘I’m not a serpent!’ said Alice indignantly. ‘Let me \\nalone!’\\n‘Serpent, I say again!’ repeated the Pigeon, but in a more \\nsubdued tone, and added with a kind of sob, ‘I’ve tried every \\nway, and nothing seems to suit them!’\\n‘I haven’t the least idea what you’re talking about,’ said \\nAlice.\\n‘I’ve tried the roots of trees, and I’ve tried banks, and I’ve \\ntried hedges,’ the Pigeon went on, without attending to her; \\n‘but those serpents! There’s no pleasing them!’\\nAlice was more and more puzzled, but she thought there \\nwas no use in saying anything more till the Pigeon had fin -\\nished.\\n‘As if it wasn’t trouble enough hatching the eggs,’ said the \\nPigeon; ‘but I must be on the look-out for serpents night and \\nday! Why, I haven’t had a wink of sleep these three weeks!’\\n‘I’m very sorry you’ve been annoyed,’ said Alice, who was \\nbeginning to see its meaning.\\n‘And just as I’d taken the highest tree in the wood,’ con -\\ntinued the Pigeon, raising its voice to a shriek, ‘and just as Alice’s Adventures in Wonderland 44I was thinking I should be free of them at last, they must \\nneeds come wriggling down from the sky! Ugh, Serpent!’\\n‘But I’m not a serpent, I tell you!’ said Alice. ‘I’m a—I’m \\na—’\\n‘Well! what  are you?’ said the Pigeon. ‘I can see you’re \\ntrying to invent something!’\\n‘I—I’m a little girl,’ said Alice, rather doubtfully, as she \\nremembered the number of changes she had gone through \\nthat day.\\n‘A likely story indeed!’ said the Pigeon in a tone of the \\ndeepest contempt. ‘I’ve seen a good many little girls in my \\ntime, but never one with such a neck as that! No, no! You’re \\na serpent; and there’s no use denying it. I suppose you’ll be \\ntelling me next that you never tasted an egg!’\\n‘I have  tasted eggs, certainly,’ said Alice, who was a very \\ntruthful child; ‘but little girls eat eggs quite as much as ser -\\npents do, you know.’\\n‘I don’t believe it,’ said the Pigeon; ‘but if they do, why \\nthen they’re a kind of serpent, that’s all I can say.’\\nThis was such a new idea to Alice, that she was quite \\nsilent for a minute or two, which gave the Pigeon the op -\\nportunity of adding, ‘You’re looking for eggs, I know that \\nwell enough; and what does it matter to me whether you’re \\na little girl or a serpent?’\\n‘It matters a good deal to me,’ said Alice hastily; ‘but I’m \\nnot looking for eggs, as it happens; and if I was, I shouldn’t \\nwant yours : I don’t like them raw.’\\n‘Well, be off, then!’ said the Pigeon in a sulky tone, as it \\nsettled down again into its nest. Alice crouched down among 45 Free eBooks at Planet eBoo k.comthe trees as well as she could, for her neck kept getting en -\\ntangled among the branches, and every now and then she \\nhad to stop and untwist it. After a while she remembered \\nthat she still held the pieces of mushroom in her hands, and \\nshe set to work very carefully, nibbling first at one and then \\nat the other, and growing sometimes taller and sometimes \\nshorter, until she had succeeded in bringing herself down to \\nher usual height.\\nIt was so long since she had been anything near the right \\nsize, that it felt quite strange at first; but she got used to it in \\na few minutes, and began talking to herself, as usual. ‘Come, \\nthere’s half my plan done now! How puzzling all these \\nchanges are! I’m never sure what I’m going to be, from one \\nminute to another! However, I’ve got back to my right size: \\nthe next thing is, to get into that beautiful garden—how is \\nthat to be done, I wonder?’ As she said this, she came sud -\\ndenly upon an open place, with a little house in it about four \\nfeet high. ‘Whoever lives there,’ thought Alice, ‘it’ll never \\ndo to come upon them this size: why, I should frighten them \\nout of their wits!’ So she began nibbling at the righthand bit \\nagain, and did not venture to go near the house till she had \\nbrought herself down to nine inches high.Alice’s Adventures in Wonderland 46',\n",
              " ' VI.  \\nPig and Pepper\\nFor a minute or two she stood looking at the house, and \\nwondering what to do next, when suddenly a footman \\nin livery came running out of the wood—(she considered \\nhim to be a footman because he was in livery: otherwise, \\njudging by his face only, she would have called him a fish)—\\nand rapped loudly at the door with his knuckles. It was \\nopened by another footman in livery, with a round face, and \\nlarge eyes like a frog; and both footmen, Alice noticed, had \\npowdered hair that curled all over their heads. She felt very \\ncurious to know what it was all about, and crept a little way \\nout of the wood to listen.\\nThe Fish-Footman began by producing from under his \\narm a great letter, nearly as large as himself, and this he \\nhanded over to the other, saying, in a solemn tone, ‘For the \\nDuchess. An invitation from the Queen to play croquet.’ \\nThe Frog-Footman repeated, in the same solemn tone, only \\nchanging the order of the words a little, ‘From the Queen. \\nAn invitation for the Duchess to play croquet.’\\nThen they both bowed low, and their curls got entangled \\ntogether.\\nAlice laughed so much at this, that she had to run back \\ninto the wood for fear of their hearing her; and when she \\nnext peeped out the Fish-Footman was gone, and the other 47 Free eBooks at Planet eBoo k.comwas sitting on the ground near the door, staring stupidly up \\ninto the sky.\\nAlice went timidly up to the door, and knocked.\\n‘There’s no sort of use in knocking,’ said the Footman, \\n‘and that for two reasons. First, because I’m on the same \\nside of the door as you are; secondly, because they’re mak -\\ning such a noise inside, no one could possibly hear you.’ \\nAnd certainly there was a most extraordinary noise going \\non within—a constant howling and sneezing, and every \\nnow and then a great crash, as if a dish or kettle had been \\nbroken to pieces.\\n‘Please, then,’ said Alice, ‘how am I to get in?’\\n‘There might be some sense in your knocking,’ the Foot -\\nman went on without attending to her, ‘if we had the door \\nbetween us. For instance, if you were inside , you might \\nknock, and I could let you out, you know.’ He was looking \\nup into the sky all the time he was speaking, and this Alice \\nthought decidedly uncivil. ‘But perhaps he can’t help it,’ she \\nsaid to herself; ‘his eyes are so very nearly at the top of his \\nhead. But at any rate he might answer questions.—How am \\nI to get in?’ she repeated, aloud.\\n‘I shall sit here,’ the Footman remarked, ‘till tomorrow—’\\nAt this moment the door of the house opened, and a large \\nplate came skimming out, straight at the Footman’s head: it \\njust grazed his nose, and broke to pieces against one of the \\ntrees behind him.\\n‘—or next day, maybe,’ the Footman continued in the \\nsame tone, exactly as if nothing had happened.\\n‘How am I to get in?’ asked Alice again, in a louder tone.Alice’s Adventures in Wonderland 48‘Are you to get in at all?’ said the Footman. ‘That’s the \\nfirst question, you know.’\\nIt was, no doubt: only Alice did not like to be told so. \\n‘It’s really dreadful,’ she muttered to herself, ‘the way all the \\ncreatures argue. It’s enough to drive one crazy!’\\nThe Footman seemed to think this a good opportunity \\nfor repeating his remark, with variations. ‘I shall sit here,’ \\nhe said, ‘on and off, for days and days.’\\n‘But what am I to do?’ said Alice.\\n‘Anything you like,’ said the Footman, and began whis -\\ntling.\\n‘Oh, there’s no use in talking to him,’ said Alice desper -\\nately: ‘he’s perfectly idiotic!’ And she opened the door and \\nwent in.\\nThe door led right into a large kitchen, which was full \\nof smoke from one end to the other: the Duchess was sit -\\nting on a three-legged stool in the middle, nursing a baby; \\nthe cook was leaning over the fire, stirring a large cauldron \\nwhich seemed to be full of soup.\\n‘There’s certainly too much pepper in that soup!’ Alice \\nsaid to herself, as well as she could for sneezing.\\nThere was certainly too much of it in the air. Even the \\nDuchess sneezed occasionally; and as for the baby, it was \\nsneezing and howling alternately without a moment’s pause. \\nThe only things in the kitchen that did not sneeze, were the \\ncook, and a large cat which was sitting on the hearth and \\ngrinning from ear to ear.\\n‘Please would you tell me,’ said Alice, a little timidly, for \\nshe was not quite sure whether it was good manners for her 49 Free eBooks at Planet eBoo k.comto speak first, ‘why your cat grins like that?’\\n‘It’s a Cheshire cat,’ said the Duchess, ‘and that’s why. \\nPig!’\\nShe said the last word with such sudden violence that Al -\\nice quite jumped; but she saw in another moment that it was \\naddressed to the baby, and not to her, so she took courage, \\nand went on again:—\\n‘I didn’t know that Cheshire cats always grinned; in fact, \\nI didn’t know that cats could  grin.’\\n‘They all can,’ said the Duchess; ‘and most of ‘em do.’\\n‘I don’t know of any that do,’ Alice said very politely, feel -\\ning quite pleased to have got into a conversation.\\n‘You don’t know much,’ said the Duchess; ‘and that’s a \\nfact.’\\nAlice did not at all like the tone of this remark, and \\nthought it would be as well to introduce some other sub -\\nject of conversation. While she was trying to fix on one, the \\ncook took the cauldron of soup off the fire, and at once set \\nto work throwing everything within her reach at the Duch -\\ness and the baby —the fire-irons came first; then followed a \\nshower of saucepans, plates, and dishes. The Duchess took \\nno notice of them even when they hit her; and the baby was \\nhowling so much already, that it was quite impossible to say \\nwhether the blows hurt it or not.\\n‘Oh, please  mind what you’re doing!’ cried Alice, jump -\\ning up and down in an agony of terror. ‘Oh, there goes his \\nprecious  nose’; as an unusually large saucepan flew close by \\nit, and very nearly carried it off.\\n‘If everybody minded their own business,’ the Duchess Alice’s Adventures in Wonderland 50said in a hoarse growl, ‘the world would go round a deal \\nfaster than it does.’\\n‘Which would not be an advantage,’ said Alice, who felt \\nvery glad to get an opportunity of showing off a little of her \\nknowledge. ‘Just think of what work it would make with the \\nday and night! You see the earth takes twenty-four hours to \\nturn round on its axis—’\\n‘Talking of axes,’ said the Duchess, ‘chop off her head!’\\nAlice glanced rather anxiously at the cook, to see if she \\nmeant to take the hint; but the cook was busily stirring the \\nsoup, and seemed not to be listening, so she went on again: \\n‘Twenty-four hours, I think ; or is it twelve? I—’\\n‘Oh, don’t bother ME,’ said the Duchess; ‘I never could \\nabide figures!’ And with that she began nursing her child \\nagain, singing a sort of lullaby to it as she did so, and giving \\nit a violent shake at the end of every line:\\n‘Speak roughly to your little boy,  \\nAnd beat him when he sneezes:  \\nHe only does it to annoy,  \\nBecause he knows it teases.’\\nCHORUS\\n(In which the cook and the baby joined):—\\n‘Wow! wow! wow!’\\nWhile the Duchess sang the second verse of the song, 51 Free eBooks at Planet eBoo k.comshe kept tossing the baby violently up and down, and the \\npoor little thing howled so, that Alice could hardly hear the \\nwords:—\\n‘I speak severely to my boy,  \\nI beat him when he sneezes;  \\nFor he can thoroughly enjoy  \\nThe pepper when he pleases!’ \\nCHORUS\\n‘Wow! wow! wow!’\\n‘Here! you may nurse it a bit, if you like!’ the Duchess \\nsaid to Alice, flinging the baby at her as she spoke. ‘I must \\ngo and get ready to play croquet with the Queen,’ and she \\nhurried out of the room. The cook threw a frying-pan after \\nher as she went out, but it just missed her.\\nAlice caught the baby with some difficulty, as it was a \\nqueershaped little creature, and held out its arms and legs \\nin all directions, ‘just like a star-fish,’ thought Alice. The \\npoor little thing was snorting like a steam-engine when she \\ncaught it, and kept doubling itself up and straightening it -\\nself out again, so that altogether, for the first minute or two, \\nit was as much as she could do to hold it.\\nAs soon as she had made out the proper way of nursing \\nit, (which was to twist it up into a sort of knot, and then \\nkeep tight hold of its right ear and left foot, so as to prevent \\nits undoing itself,) she carried it out into the open air. ‘ If I \\ndon’t take this child away with me,’ thought Alice, ‘they’re \\nsure to kill it in a day or two: wouldn’t it be murder to leave Alice’s Adventures in Wonderland 52it behind?’ She said the last words out loud, and the little \\nthing grunted in reply (it had left off sneezing by this time). \\n‘Don’t grunt,’ said Alice; ‘that’s not at all a proper way of ex -\\npressing yourself.’\\nThe baby grunted again, and Alice looked very anxiously \\ninto its face to see what was the matter with it. There could \\nbe no doubt that it had a very turn-up nose, much more \\nlike a snout than a real nose; also its eyes were getting ex -\\ntremely small for a baby: altogether Alice did not like the \\nlook of the thing at all. ‘But perhaps it was only sobbing,’ \\nshe thought, and looked into its eyes again, to see if there \\nwere any tears.\\nNo, there were no tears. ‘If you’re going to turn into a pig, \\nmy dear,’ said Alice, seriously, ‘I’ll have nothing more to do \\nwith you. Mind now!’ The poor little thing sobbed again (or \\ngrunted, it was impossible to say which), and they went on \\nfor some while in silence.\\nAlice was just beginning to think to herself, ‘Now, what \\nam I to do with this creature when I get it home?’ when it \\ngrunted again, so violently, that she looked down into its \\nface in some alarm. This time there could be no mistake \\nabout it: it was neither more nor less than a pig, and she felt \\nthat it would be quite absurd for her to carry it further.\\nSo she set the little creature down, and felt quite relieved \\nto see it trot away quietly into the wood. ‘If it had grown up,’ \\nshe said to herself, ‘it would have made a dreadfully ugly \\nchild: but it makes rather a handsome pig, I think.’ And she \\nbegan thinking over other children she knew, who might do \\nvery well as pigs, and was just saying to herself, ‘if one only 53 Free eBooks at Planet eBoo k.comknew the right way to change them—’ when she was a little \\nstartled by seeing the Cheshire Cat sitting on a bough of a \\ntree a few yards off.\\nThe Cat only grinned when it saw Alice. It looked good -\\nnatured, she thought: still it had very long claws and a great \\nmany teeth, so she felt that it ought to be treated with re -\\nspect.\\n‘Cheshire Puss,’ she began, rather timidly, as she did not \\nat all know whether it would like the name: however, it only \\ngrinned a little wider. ‘Come, it’s pleased so far,’ thought Al -\\nice, and she went on. ‘Would you tell me, please, which way \\nI ought to go from here?’\\n‘That depends a good deal on where you want to get to,’ \\nsaid the Cat.\\n‘I don’t much care where—’ said Alice.\\n‘Then it doesn’t matter which way you go,’ said the Cat.\\n‘—so long as I get somewhere ,’ Alice added as an expla -\\nnation.\\n‘Oh, you’re sure to do that,’ said the Cat, ‘if you only walk \\nlong enough.’\\nAlice felt that this could not be denied, so she tried an -\\nother question. ‘What sort of people live about here?’\\n‘In that direction,’ the Cat said, waving its right paw \\nround, ‘lives a Hatter: and in that direction,’ waving the \\nother paw, ‘lives a March Hare. Visit either you like: they’re \\nboth mad.’\\n‘But I don’t want to go among mad people,’ Alice re -\\nmarked.\\n‘Oh, you can’t help that,’ said the Cat: ‘we’re all mad here. Alice’s Adventures in Wonderland 54I’m mad. You’re mad.’\\n‘How do you know I’m mad?’ said Alice.\\n‘You must be,’ said the Cat, ‘or you wouldn’t have come \\nhere.’\\nAlice didn’t think that proved it at all; however, she went \\non ‘And how do you know that you’re mad?’\\n‘To begin with,’ said the Cat, ‘a dog’s not mad. You grant \\nthat?’\\n‘I suppose so,’ said Alice.\\n‘Well, then,’ the Cat went on, ‘you see, a dog growls when \\nit’s angry, and wags its tail when it’s pleased. Now I growl \\nwhen I’m pleased, and wag my tail when I’m angry. There -\\nfore I’m mad.’\\n‘I call it purring, not growling,’ said Alice.\\n‘Call it what you like,’ said the Cat. ‘Do you play croquet \\nwith the Queen to-day?’\\n‘I should like it very much,’ said Alice, ‘but I haven’t been \\ninvited yet.’\\n‘You’ll see me there,’ said the Cat, and vanished.\\nAlice was not much surprised at this, she was getting so \\nused to queer things happening. While she was looking at \\nthe place where it had been, it suddenly appeared again.\\n‘By-the-bye, what became of the baby?’ said the Cat. ‘I’d \\nnearly forgotten to ask.’\\n‘It turned into a pig,’ Alice quietly said, just as if it had \\ncome back in a natural way.\\n‘I thought it would,’ said the Cat, and vanished again.\\nAlice waited a little, half expecting to see it again, but \\nit did not appear, and after a minute or two she walked on 55 Free eBooks at Planet eBoo k.comin the direction in which the March Hare was said to live. \\n‘I’ve seen hatters before,’ she said to herself; ‘the March Hare \\nwill be much the most interesting, and perhaps as this is \\nMay it won’t be raving mad—at least not so mad as it was in \\nMarch.’ As she said this, she looked up, and there was the \\nCat again, sitting on a branch of a tree.\\n‘Did you say pig, or fig?’ said the Cat.\\n‘I said pig,’ replied Alice; ‘and I wish you wouldn’t keep \\nappearing and vanishing so suddenly: you make one quite \\ngiddy.’\\n‘All right,’ said the Cat; and this time it vanished quite \\nslowly, beginning with the end of the tail, and ending with \\nthe grin, which remained some time after the rest of it had \\ngone.\\n‘Well! I’ve often seen a cat without a grin,’ thought Alice; \\n‘but a grin without a cat! It’s the most curious thing I ever \\nsaw in my life!’\\nShe had not gone much farther before she came in sight \\nof the house of the March Hare: she thought it must be the \\nright house, because the chimneys were shaped like ears \\nand the roof was thatched with fur. It was so large a house, \\nthat she did not like to go nearer till she had nibbled some \\nmore of the lefthand bit of mushroom, and raised herself \\nto about two feet high: even then she walked up towards it \\nrather timidly, saying to herself ‘Suppose it should be rav -\\ning mad after all! I almost wish I’d gone to see the Hatter \\ninstead!’Alice’s Adventures in Wonderland 56',\n",
              " ' VII.  \\nA Mad Tea-P arty\\nThere was a table set out under a tree in front of the \\nhouse, and the March Hare and the Hatter were having \\ntea at it: a Dormouse was sitting between them, fast asleep, \\nand the other two were using it as a cushion, resting their \\nelbows on it, and talking over its head. ‘Very uncomfortable \\nfor the Dormouse,’ thought Alice; ‘only, as it’s asleep, I sup -\\npose it doesn’t mind.’\\nThe table was a large one, but the three were all crowded \\ntogether at one corner of it: ‘No room! No room!’ they cried \\nout when they saw Alice coming. ‘There’s plenty  of room!’ \\nsaid Alice indignantly, and she sat down in a large arm-\\nchair at one end of the table.\\n‘Have some wine,’ the March Hare said in an encourag -\\ning tone.\\nAlice looked all round the table, but there was nothing \\non it but tea. ‘I don’t see any wine,’ she remarked.\\n‘There isn’t any,’ said the March Hare.\\n‘Then it wasn’t very civil of you to offer it,’ said Alice an -\\ngrily.\\n‘It wasn’t very civil of you to sit down without being in -\\nvited,’ said the March Hare.\\n‘I didn’t know it was your  table,’ said Alice; ‘it’s laid for a \\ngreat many more than three.’57 Free eBooks at Planet eBoo k.com‘Your hair wants cutting,’ said the Hatter. He had been \\nlooking at Alice for some time with great curiosity, and this \\nwas his first speech.\\n‘You should learn not to make personal remarks,’ Alice \\nsaid with some severity; ‘it’s very rude.’\\nThe Hatter opened his eyes very wide on hearing this; \\nbut all he said was, ‘Why is a raven like a writing-desk?’\\n‘Come, we shall have some fun now!’ thought Alice. ‘I’m \\nglad they’ve begun asking riddles.—I believe I can guess \\nthat,’ she added aloud.\\n‘Do you mean that you think you can find out the answer \\nto it?’ said the March Hare.\\n‘Exactly so,’ said Alice.\\n‘Then you should say what you mean,’ the March Hare \\nwent on.\\n‘I do,’ Alice hastily replied; ‘at least—at least I mean what \\nI say—that’s the same thing, you know.’\\n‘Not the same thing a bit!’ said the Hatter. ‘You might \\njust as well say that ‘I see what I eat’ is the same thing as ‘I \\neat what I see’!’\\n‘You might just as well say,’ added the March Hare, ‘that \\n‘I like what I get’ is the same thing as ‘I get what I like’!’\\n‘You might just as well say,’ added the Dormouse, who \\nseemed to be talking in his sleep, ‘that ‘I breathe when I \\nsleep’ is the same thing as ‘I sleep when I breathe’!’\\n‘It is the same thing with you,’ said the Hatter, and here \\nthe conversation dropped, and the party sat silent for a min -\\nute, while Alice thought over all she could remember about \\nravens and writing-desks, which wasn’t much.Alice’s Adventures in Wonderland 58The Hatter was the first to break the silence. ‘What day \\nof the month is it?’ he said, turning to Alice: he had taken \\nhis watch out of his pocket, and was looking at it uneasily, \\nshaking it every now and then, and holding it to his ear.\\nAlice considered a little, and then said ‘The fourth.’\\n‘Two days wrong!’ sighed the Hatter. ‘I told you butter \\nwouldn’t suit the works!’ he added looking angrily at the \\nMarch Hare.\\n‘It was the best butter,’ the March Hare meekly replied.\\n‘Yes, but some crumbs must have got in as well,’ the \\nHatter grumbled: ‘you shouldn’t have put it in with the \\nbread-knife.’\\nThe March Hare took the watch and looked at it gloom -\\nily: then he dipped it into his cup of tea, and looked at it \\nagain: but he could think of nothing better to say than his \\nfirst remark, ‘It was the best butter, you know.’\\nAlice had been looking over his shoulder with some cu -\\nriosity. ‘What a funny watch!’ she remarked. ‘It tells the day \\nof the month, and doesn’t tell what o’clock it is!’\\n‘Why should it?’ muttered the Hatter. ‘Does your  watch \\ntell you what year it is?’\\n‘Of course not,’ Alice replied very readily: ‘but that’s be -\\ncause it stays the same year for such a long time together.’\\n‘Which is just the case with mine ,’ said the Hatter.\\nAlice felt dreadfully puzzled. The Hatter’s remark seemed \\nto have no sort of meaning in it, and yet it was certainly \\nEnglish. ‘I don’t quite understand you,’ she said, as politely \\nas she could.\\n‘The Dormouse is asleep again,’ said the Hatter, and he 59 Free eBooks at Planet eBoo k.compoured a little hot tea upon its nose.\\nThe Dormouse shook its head impatiently, and said, \\nwithout opening its eyes, ‘Of course, of course; just what I \\nwas going to remark myself.’\\n‘Have you guessed the riddle yet?’ the Hatter said, turn -\\ning to Alice again.\\n‘No, I give it up,’ Alice replied: ‘what’s the answer?’\\n‘I haven’t the slightest idea,’ said the Hatter.\\n‘Nor I,’ said the March Hare.\\nAlice sighed wearily. ‘I think you might do something \\nbetter with the time,’ she said, ‘than waste it in asking rid -\\ndles that have no answers.’\\n‘If you knew Time as well as I do,’ said the Hatter, ‘you \\nwouldn’t talk about wasting it. It’s him.’\\n‘I don’t know what you mean,’ said Alice.\\n‘Of course you don’t!’ the Hatter said, tossing his head \\ncontemptuously. ‘I dare say you never even spoke to Time!’\\n‘Perhaps not,’ Alice cautiously replied: ‘but I know I have \\nto beat time when I learn music.’\\n‘Ah! that accounts for it,’ said the Hatter. ‘He won’t stand \\nbeating. Now, if you only kept on good terms with him, he’d \\ndo almost anything you liked with the clock. For instance, \\nsuppose it were nine o’clock in the morning, just time to be -\\ngin lessons: you’d only have to whisper a hint to Time, and \\nround goes the clock in a twinkling! Half-past one, time for \\ndinner!’\\n(’I only wish it was,’ the March Hare said to itself in a \\nwhisper.)\\n‘That would be grand, certainly,’ said Alice thoughtfully: Alice’s Adventures in Wonderland 60‘but then—I shouldn’t be hungry for it, you know.’\\n‘Not at first, perhaps,’ said the Hatter: ‘but you could \\nkeep it to half-past one as long as you liked.’\\n‘Is that the way you manage?’ Alice asked.\\nThe Hatter shook his head mournfully. ‘Not I!’ he replied. \\n‘We quarrelled last March—just before he went mad, you \\nknow—’ (pointing with his tea spoon at the March Hare,) \\n‘—it was at the great concert given by the Queen of Hearts, \\nand I had to sing\\n“Twinkle, twinkle, little bat!  \\nHow I wonder what you’re at!’\\nYou know the song, perhaps?’\\n‘I’ve heard something like it,’ said Alice.\\n‘It goes on, you know,’ the Hatter continued, ‘in this \\nway:—\\n“Up above the world you fly,  \\nLike a tea-tray in the sky.  \\nTwinkle, twinkle—‘\\nHere the Dormouse shook itself, and began singing in its \\nsleep ‘ Twinkle, twinkle, twinkle, twinkle— ’ and went on so \\nlong that they had to pinch it to make it stop.\\n‘Well, I’d hardly finished the first verse,’ said the Hatter, \\n‘when the Queen jumped up and bawled out, ‘He’s murder -\\ning the time! Off with his head!‘\\n‘How dreadfully savage!’ exclaimed Alice.61 Free eBooks at Planet eBoo k.com‘And ever since that,’ the Hatter went on in a mournful \\ntone, ‘he won’t do a thing I ask! It’s always six o’clock now.’\\nA bright idea came into Alice’s head. ‘Is that the reason \\nso many tea-things are put out here?’ she asked.\\n‘Yes, that’s it,’ said the Hatter with a sigh: ‘it’s always \\ntea-time, and we’ve no time to wash the things between \\nwhiles.’\\n‘Then you keep moving round, I suppose?’ said Alice.\\n‘Exactly so,’ said the Hatter: ‘as the things get used up.’\\n‘But what happens when you come to the beginning \\nagain?’ Alice ventured to ask.\\n‘Suppose we change the subject,’ the March Hare inter -\\nrupted, yawning. ‘I’m getting tired of this. I vote the young \\nlady tells us a story.’\\n‘I’m afraid I don’t know one,’ said Alice, rather alarmed \\nat the proposal.\\n‘Then the Dormouse shall!’ they both cried. ‘Wake up, \\nDormouse!’ And they pinched it on both sides at once.\\nThe Dormouse slowly opened his eyes. ‘I wasn’t asleep,’ \\nhe said in a hoarse, feeble voice: ‘I heard every word you fel -\\nlows were saying.’\\n‘Tell us a story!’ said the March Hare.\\n‘Yes, please do!’ pleaded Alice.\\n‘And be quick about it,’ added the Hatter, ‘or you’ll be \\nasleep again before it’s done.’\\n‘Once upon a time there were three little sisters,’ the Dor -\\nmouse began in a great hurry; ‘and their names were Elsie, \\nLacie, and Tillie; and they lived at the bottom of a well—’\\n‘What did they live on?’ said Alice, who always took a Alice’s Adventures in Wonderland 62great interest in questions of eating and drinking.\\n‘They lived on treacle,’ said the Dormouse, after thinking \\na minute or two.\\n‘They couldn’t have done that, you know,’ Alice gently \\nremarked; ‘they’d have been ill.’\\n‘So they were,’ said the Dormouse; ‘ very ill.’\\nAlice tried to fancy to herself what such an extraordinary \\nways of living would be like, but it puzzled her too much, so \\nshe went on: ‘But why did they live at the bottom of a well?’\\n‘Take some more tea,’ the March Hare said to Alice, very \\nearnestly.\\n‘I’ve had nothing yet,’ Alice replied in an offended tone, \\n‘so I can’t take more.’\\n‘You mean you can’t take less,’ said the Hatter: ‘it’s very \\neasy to take more  than nothing.’\\n‘Nobody asked your  opinion,’ said Alice.\\n‘Who’s making personal remarks now?’ the Hatter asked \\ntriumphantly.\\nAlice did not quite know what to say to this: so she helped \\nherself to some tea and bread-and-butter, and then turned \\nto the Dormouse, and repeated her question. ‘Why did they \\nlive at the bottom of a well?’\\nThe Dormouse again took a minute or two to think about \\nit, and then said, ‘It was a treacle-well.’\\n‘There’s no such thing!’ Alice was beginning very angri -\\nly, but the Hatter and the March Hare went ‘Sh! sh!’ and \\nthe Dormouse sulkily remarked, ‘If you can’t be civil, you’d \\nbetter finish the story for yourself.’\\n‘No, please go on!’ Alice said very humbly; ‘I won’t inter -63 Free eBooks at Planet eBoo k.comrupt again. I dare say there may be one.’\\n‘One, indeed!’ said the Dormouse indignantly. However, \\nhe consented to go on. ‘And so these three little sisters—\\nthey were learning to draw, you know—’\\n‘What did they draw?’ said Alice, quite forgetting her \\npromise.\\n‘Treacle,’ said the Dormouse, without considering at all \\nthis time.\\n‘I want a clean cup,’ interrupted the Hatter: ‘let’s all move \\none place on.’\\nHe moved on as he spoke, and the Dormouse followed \\nhim: the March Hare moved into the Dormouse’s place, and \\nAlice rather unwillingly took the place of the March Hare. \\nThe Hatter was the only one who got any advantage from \\nthe change: and Alice was a good deal worse off than be -\\nfore, as the March Hare had just upset the milk-jug into his \\nplate.\\nAlice did not wish to offend the Dormouse again, so she \\nbegan very cautiously: ‘But I don’t understand. Where did \\nthey draw the treacle from?’\\n‘You can draw water out of a water-well,’ said the Hatter; \\n‘so I should think you could draw treacle out of a treacle-\\nwell—eh, stupid?’\\n‘But they were in the well,’ Alice said to the Dormouse, \\nnot choosing to notice this last remark.\\n‘Of course they were’, said the Dormouse; ‘—well in.’\\nThis answer so confused poor Alice, that she let the Dor -\\nmouse go on for some time without interrupting it.\\n‘They were learning to draw,’ the Dormouse went on, Alice’s Adventures in Wonderland 64yawning and rubbing its eyes, for it was getting very sleepy; \\n‘and they drew all manner of things—everything that be -\\ngins with an M—’\\n‘Why with an M?’ said Alice.\\n‘Why not?’ said the March Hare.\\nAlice was silent.\\nThe Dormouse had closed its eyes by this time, and was \\ngoing off into a doze; but, on being pinched by the Hatter, \\nit woke up again with a little shriek, and went on: ‘—that \\nbegins with an M, such as mouse-traps, and the moon, and \\nmemory, and muchness— you know you say things are \\n‘much of a muchness’—did you ever see such a thing as a \\ndrawing of a muchness?’\\n‘Really, now you ask me,’ said Alice, very much confused, \\n‘I don’t think—’\\n‘Then you shouldn’t talk,’ said the Hatter.\\nThis piece of rudeness was more than Alice could bear: \\nshe got up in great disgust, and walked off; the Dormouse \\nfell asleep instantly, and neither of the others took the least \\nnotice of her going, though she looked back once or twice, \\nhalf hoping that they would call after her: the last time she \\nsaw them, they were trying to put the Dormouse into the \\nteapot.\\n‘At any rate I’ll never go there  again!’ said Alice as she \\npicked her way through the wood. ‘It’s the stupidest tea-\\nparty I ever was at in all my life!’\\nJust as she said this, she noticed that one of the trees \\nhad a door leading right into it. ‘That’s very curious!’ she \\nthought. ‘But everything’s curious today. I think I may as 65 Free eBooks at Planet eBoo k.comwell go in at once.’ And in she went.\\nOnce more she found herself in the long hall, and close to \\nthe little glass table. ‘Now, I’ll manage better this time,’ she \\nsaid to herself, and began by taking the little golden key, and \\nunlocking the door that led into the garden. Then she went \\nto work nibbling at the mushroom (she had kept a piece of it \\nin her pocket) till she was about a foot high: then she walked \\ndown the little passage: and then —she found herself at last \\nin the beautiful garden, among the bright flower-beds and \\nthe cool fountains.Alice’s Adventures in Wonderland 66',\n",
              " ' VIII.  \\nThe Queen’s Croquet-\\nGround\\nA large rose-tree stood near the entrance of the garden: \\nthe roses growing on it were white, but there were three \\ngardeners at it, busily painting them red. Alice thought this \\na very curious thing, and she went nearer to watch them, \\nand just as she came up to them she heard one of them say, \\n‘Look out now, Five! Don’t go splashing paint over me like \\nthat!’\\n‘I couldn’t help it,’ said Five, in a sulky tone; ‘Seven jogged \\nmy elbow.’\\nOn which Seven looked up and said, ‘That’s right, Five! \\nAlways lay the blame on others!’\\nYou’ d  better not talk!’ said Five. ‘I heard the Queen say \\nonly yesterday you deserved to be beheaded!’\\n‘What for?’ said the one who had spoken first.\\n‘That’s none of your  business, Two!’ said Seven.\\n‘Yes, it is his business!’ said Five, ‘and I’ll tell him—it was \\nfor bringing the cook tulip-roots instead of onions.’\\nSeven flung down his brush, and had just begun ‘Well, \\nof all the unjust things—’ when his eye chanced to fall upon \\nAlice, as she stood watching them, and he checked him -\\nself suddenly: the others looked round also, and all of them 67 Free eBooks at Planet eBoo k.combowed low.\\n‘Would you tell me,’ said Alice, a little timidly, ‘why you \\nare painting those roses?’\\nFive and Seven said nothing, but looked at Two. Two be -\\ngan in a low voice, ‘Why the fact is, you see, Miss, this here \\nought to have been a red rose-tree, and we put a white one \\nin by mistake; and if the Queen was to find it out, we should \\nall have our heads cut off, you know. So you see, Miss, we’re \\ndoing our best, afore she comes, to—’ At this moment Five, \\nwho had been anxiously looking across the garden, called \\nout ‘The Queen! The Queen!’ and the three gardeners in -\\nstantly threw themselves flat upon their faces. There was a \\nsound of many footsteps, and Alice looked round, eager to \\nsee the Queen.\\nFirst came ten soldiers carrying clubs; these were all \\nshaped like the three gardeners, oblong and flat, with their \\nhands and feet at the corners: next the ten courtiers; these \\nwere ornamented all over with diamonds, and walked two \\nand two, as the soldiers did. After these came the royal \\nchildren; there were ten of them, and the little dears came \\njumping merrily along hand in hand, in couples: they were \\nall ornamented with hearts. Next came the guests, mostly \\nKings and Queens, and among them Alice recognised the \\nWhite Rabbit: it was talking in a hurried nervous manner, \\nsmiling at everything that was said, and went by without \\nnoticing her. Then followed the Knave of Hearts, carrying \\nthe King’s crown on a crimson velvet cushion; and, last of \\nall this grand procession, came THE KING AND QUEEN \\nOF HEARTS.Alice’s Adventures in Wonderland 68Alice was rather doubtful whether she ought not to lie \\ndown on her face like the three gardeners, but she could \\nnot remember ever having heard of such a rule at proces -\\nsions; ‘and besides, what would be the use of a procession,’ \\nthought she, ‘if people had all to lie down upon their faces, \\nso that they couldn’t see it?’ So she stood still where she was, \\nand waited.\\nWhen the procession came opposite to Alice, they all \\nstopped and looked at her, and the Queen said severely \\n‘Who is this?’ She said it to the Knave of Hearts, who only \\nbowed and smiled in reply.\\n‘Idiot!’ said the Queen, tossing her head impatiently; and, \\nturning to Alice, she went on, ‘What’s your name, child?’\\n‘My name is Alice, so please your Majesty,’ said Alice \\nvery politely; but she added, to herself, ‘Why, they’re only a \\npack of cards, after all. I needn’t be afraid of them!’\\n‘And who are these ?’ said the Queen, pointing to the \\nthree gardeners who were lying round the rosetree; for, you \\nsee, as they were lying on their faces, and the pattern on \\ntheir backs was the same as the rest of the pack, she could \\nnot tell whether they were gardeners, or soldiers, or court -\\niers, or three of her own children.\\n‘How should I know?’ said Alice, surprised at her own \\ncourage. ‘It’s no business of mine .’\\nThe Queen turned crimson with fury, and, after glaring \\nat her for a moment like a wild beast, screamed ‘Off with \\nher head! Off—’\\n‘Nonsense!’ said Alice, very loudly and decidedly, and \\nthe Queen was silent.69 Free eBooks at Planet eBoo k.comThe King laid his hand upon her arm, and timidly said \\n‘Consider, my dear: she is only a child!’\\nThe Queen turned angrily away from him, and said to \\nthe Knave ‘Turn them over!’\\nThe Knave did so, very carefully, with one foot.\\n‘Get up!’ said the Queen, in a shrill, loud voice, and the \\nthree gardeners instantly jumped up, and began bowing \\nto the King, the Queen, the royal children, and everybody \\nelse.\\n‘Leave off that!’ screamed the Queen. ‘You make me gid -\\ndy.’ And then, turning to the rose-tree, she went on, ‘What \\nhave  you been doing here?’\\n‘May it please your Majesty,’ said Two, in a very humble \\ntone, going down on one knee as he spoke, ‘we were try -\\ning—’\\n‘I see!’ said the Queen, who had meanwhile been exam -\\nining the roses. ‘Off with their heads!’ and the procession \\nmoved on, three of the soldiers remaining behind to execute \\nthe unfortunate gardeners, who ran to Alice for protection.\\n‘You shan’t be beheaded!’ said Alice, and she put them \\ninto a large flower-pot that stood near. The three soldiers \\nwandered about for a minute or two, looking for them, and \\nthen quietly marched off after the others.\\n‘Are their heads off?’ shouted the Queen.\\n‘Their heads are gone, if it please your Majesty!’ the sol -\\ndiers shouted in reply.\\n‘That’s right!’ shouted the Queen. ‘Can you play cro -\\nquet?’\\nThe soldiers were silent, and looked at Alice, as the ques -Alice’s Adventures in Wonderland 70tion was evidently meant for her.\\n‘Yes!’ shouted Alice.\\n‘Come on, then!’ roared the Queen, and Alice joined \\nthe procession, wondering very much what would happen \\nnext.\\n‘It’s—it’s a very fine day!’ said a timid voice at her side. \\nShe was walking by the White Rabbit, who was peeping \\nanxiously into her face.\\n‘Very,’ said Alice: ‘—where’s the Duchess?’\\n‘Hush! Hush!’ said the Rabbit in a low, hurried tone. He \\nlooked anxiously over his shoulder as he spoke, and then \\nraised himself upon tiptoe, put his mouth close to her ear, \\nand whispered ‘She’s under sentence of execution.’\\n‘What for?’ said Alice.\\n‘Did you say ‘What a pity!’?’ the Rabbit asked.\\n‘No, I didn’t,’ said Alice: ‘I don’t think it’s at all a pity. I \\nsaid ‘What for?‘\\n‘She boxed the Queen’s ears—’ the Rabbit began. Alice \\ngave a little scream of laughter. ‘Oh, hush!’ the Rabbit whis -\\npered in a frightened tone. ‘The Queen will hear you! You \\nsee, she came rather late, and the Queen said—’\\n‘Get to your places!’ shouted the Queen in a voice of \\nthunder, and people began running about in all directions, \\ntumbling up against each other; however, they got set -\\ntled down in a minute or two, and the game began. Alice \\nthought she had never seen such a curious croquet-ground \\nin her life; it was all ridges and furrows; the balls were live \\nhedgehogs, the mallets live flamingoes, and the soldiers had \\nto double themselves up and to stand on their hands and 71 Free eBooks at Planet eBoo k.comfeet, to make the arches.\\nThe chief difficulty Alice found at first was in manag -\\ning her flamingo: she succeeded in getting its body tucked \\naway, comfortably enough, under her arm, with its legs \\nhanging down, but generally, just as she had got its neck \\nnicely straightened out, and was going to give the hedgehog \\na blow with its head, it would  twist itself round and look up \\nin her face, with such a puzzled expression that she could \\nnot help bursting out laughing: and when she had got its \\nhead down, and was going to begin again, it was very pro -\\nvoking to find that the hedgehog had unrolled itself, and \\nwas in the act of crawling away: besides all this, there was \\ngenerally a ridge or furrow in the way wherever she want -\\ned to send the hedgehog to, and, as the doubled-up soldiers \\nwere always getting up and walking off to other parts of the \\nground, Alice soon came to the conclusion that it was a very \\ndifficult game indeed.\\nThe players all played at once without waiting for turns, \\nquarrelling all the while, and fighting for the hedgehogs; \\nand in a very short time the Queen was in a furious passion, \\nand went stamping about, and shouting ‘Off with his head!’ \\nor ‘Off with her head!’ about once in a minute.\\nAlice began to feel very uneasy: to be sure, she had not \\nas yet had any dispute with the Queen, but she knew that \\nit might happen any minute, ‘and then,’ thought she, ‘what \\nwould become of me? They’re dreadfully fond of behead -\\ning people here; the great wonder is, that there’s any one \\nleft alive!’\\nShe was looking about for some way of escape, and won -Alice’s Adventures in Wonderland 72dering whether she could get away without being seen, \\nwhen she noticed a curious appearance in the air: it puzzled \\nher very much at first, but, after watching it a minute or two, \\nshe made it out to be a grin, and she said to herself ‘It’s the \\nCheshire Cat: now I shall have somebody to talk to.’\\n‘How are you getting on?’ said the Cat, as soon as there \\nwas mouth enough for it to speak with.\\nAlice waited till the eyes appeared, and then nodded. ‘It’s \\nno use speaking to it,’ she thought, ‘till its ears have come, \\nor at least one of them.’ In another minute the whole head \\nappeared, and then Alice put down her flamingo, and began \\nan account of the game, feeling very glad she had someone \\nto listen to her. The Cat seemed to think that there was \\nenough of it now in sight, and no more of it appeared.\\n‘I don’t think they play at all fairly,’ Alice began, in rath -\\ner a complaining tone, ‘and they all quarrel so dreadfully \\none can’t hear oneself speak—and they don’t seem to have \\nany rules in particular; at least, if there are, nobody at -\\ntends to them—and you’ve no idea how confusing it is all \\nthe things being alive; for instance, there’s the arch I’ve got \\nto go through next walking about at the other end of the \\nground—and I should have croqueted the Queen’s hedge -\\nhog just now, only it ran away when it saw mine coming!’\\n‘How do you like the Queen?’ said the Cat in a low \\nvoice.\\n‘Not at all,’ said Alice: ‘she’s so extremely—’ Just then she \\nnoticed that the Queen was close behind her, listening: so \\nshe went on, ‘—likely to win, that it’s hardly worth while \\nfinishing the game.’73 Free eBooks at Planet eBoo k.comThe Queen smiled and passed on.\\n‘Who are you talking to?’ said the King, going up to Al -\\nice, and looking at the Cat’s head with great curiosity.\\n‘It’s a friend of mine—a Cheshire Cat,’ said Alice: ‘allow \\nme to introduce it.’\\n‘I don’t like the look of it at all,’ said the King: ‘however, \\nit may kiss my hand if it likes.’\\n‘I’d rather not,’ the Cat remarked.\\n‘Don’t be impertinent,’ said the King, ‘and don’t look at \\nme like that!’ He got behind Alice as he spoke.\\n‘A cat may look at a king,’ said Alice. ‘I’ve read that in \\nsome book, but I don’t remember where.’\\n‘Well, it must be removed,’ said the King very decidedly, \\nand he called the Queen, who was passing at the moment, \\n‘My dear! I wish you would have this cat removed!’\\nThe Queen had only one way of settling all difficulties, \\ngreat or small. ‘Off with his head!’ she said, without even \\nlooking round.\\n‘I’ll fetch the executioner myself,’ said the King eagerly, \\nand he hurried off.\\nAlice thought she might as well go back, and see how the \\ngame was going on, as she heard the Queen’s voice in the \\ndistance, screaming with passion. She had already heard \\nher sentence three of the players to be executed for having \\nmissed their turns, and she did not like the look of things at \\nall, as the game was in such confusion that she never knew \\nwhether it was her turn or not. So she went in search of her \\nhedgehog.\\nThe hedgehog was engaged in a fight with another hedge -Alice’s Adventures in Wonderland 74hog, which seemed to Alice an excellent opportunity for \\ncroqueting one of them with the other: the only difficulty \\nwas, that her flamingo was gone across to the other side of \\nthe garden, where Alice could see it trying in a helpless sort \\nof way to fly up into a tree.\\nBy the time she had caught the flamingo and brought it \\nback, the fight was over, and both the hedgehogs were out of \\nsight: ‘but it doesn’t matter much,’ thought Alice, ‘as all the \\narches are gone from this side of the ground.’ So she tucked \\nit away under her arm, that it might not escape again, and \\nwent back for a little more conversation with her friend.\\nWhen she got back to the Cheshire Cat, she was sur -\\nprised to find quite a large crowd collected round it: there \\nwas a dispute going on between the executioner, the King, \\nand the Queen, who were all talking at once, while all the \\nrest were quite silent, and looked very uncomfortable.\\nThe moment Alice appeared, she was appealed to by all \\nthree to settle the question, and they repeated their argu -\\nments to her, though, as they all spoke at once, she found it \\nvery hard indeed to make out exactly what they said.\\nThe executioner’s argument was, that you couldn’t cut off \\na head unless there was a body to cut it off from: that he had \\nnever had to do such a thing before, and he wasn’t going to \\nbegin at his time of life.\\nThe King’s argument was, that anything that had a head \\ncould be beheaded, and that you weren’t to talk nonsense.\\nThe Queen’s argument was, that if something wasn’t \\ndone about it in less than no time she’d have everybody ex -\\necuted, all round. (It was this last remark that had made the 75 Free eBooks at Planet eBoo k.comwhole party look so grave and anxious.)\\nAlice could think of nothing else to say but ‘It belongs to \\nthe Duchess: you’d better ask her about it.’\\n‘She’s in prison,’ the Queen said to the executioner: ‘fetch \\nher here.’ And the executioner went off like an arrow.\\nThe Cat’s head began fading away the moment he was \\ngone, and, by the time he had come back with the Dutchess, \\nit had entirely disappeared; so the King and the executioner \\nran wildly up and down looking for it, while the rest of the \\nparty went back to the game.Alice’s Adventures in Wonderland 76',\n",
              " ' IX.  \\nThe Mock T urtle’s Story\\n‘You can’t think how glad I am to see you again, you \\ndear old thing!’ said the Duchess, as she tucked her \\narm affectionately into Alice’s, and they walked off togeth -\\ner.\\nAlice was very glad to find her in such a pleasant temper, \\nand thought to herself that perhaps it was only the pepper \\nthat had made her so savage when they met in the kitchen.\\n‘When I’m a Duchess,’ she said to herself, (not in a very \\nhopeful tone though), ‘I won’t have any pepper in my kitch -\\nen at all . Soup does very well without—Maybe it’s always \\npepper that makes people hot-tempered,’ she went on, very \\nmuch pleased at having found out a new kind of rule, ‘and \\nvinegar that makes them sour—and camomile that makes \\nthem bitter—and—and barley-sugar and such things that \\nmake children sweet-tempered. I only wish people knew \\nthat: then they wouldn’t be so stingy about it, you know—’\\nShe had quite forgotten the Duchess by this time, and \\nwas a little startled when she heard her voice close to her \\near. ‘You’re thinking about something, my dear, and that \\nmakes you forget to talk. I can’t tell you just now what the \\nmoral of that is, but I shall remember it in a bit.’\\n‘Perhaps it hasn’t one,’ Alice ventured to remark.\\n‘Tut, tut, child!’ said the Duchess. ‘Everything’s got a 77 Free eBooks at Planet eBoo k.commoral, if only you can find it.’ And she squeezed herself up \\ncloser to Alice’s side as she spoke.\\nAlice did not much like keeping so close to her: first, be -\\ncause the Duchess was VERY ugly; and secondly, because \\nshe was exactly the right height to rest her chin upon Alice’s \\nshoulder, and it was an uncomfortably sharp chin. How -\\never, she did not like to be rude, so she bore it as well as she \\ncould.\\n‘The game’s going on rather better now,’ she said, by way \\nof keeping up the conversation a little.\\n‘Tis so,’ said the Duchess: ‘and the moral of that is—‘Oh, \\n‘tis love, ‘tis love, that makes the world go round!‘\\n‘Somebody said,’ Alice whispered, ‘that it’s done by ev -\\nerybody minding their own business!’\\n‘Ah, well! It means much the same thing,’ said the Duch -\\ness, digging her sharp little chin into Alice’s shoulder as she \\nadded, ‘and the moral of that is—‘Take care of the sense, \\nand the sounds will take care of themselves.‘\\n‘How fond she is of finding morals in things!’ Alice \\nthought to herself.\\n‘I dare say you’re wondering why I don’t put my arm \\nround your waist,’ the Duchess said after a pause: ‘the rea -\\nson is, that I’m doubtful about the temper of your flamingo. \\nShall I try the experiment?’\\n‘He might bite,’ Alice cautiously replied, not feeling at all \\nanxious to have the experiment tried.\\n‘Very true,’ said the Duchess: ‘flamingoes and mustard \\nboth bite. And the moral of that is—‘Birds of a feather flock \\ntogether.‘Alice’s Adventures in Wonderland 78‘Only mustard isn’t a bird,’ Alice remarked.\\n‘Right, as usual,’ said the Duchess: ‘what a clear way you \\nhave of putting things!’\\n‘It’s a mineral, I think ,’ said Alice.\\n‘Of course it is,’ said the Duchess, who seemed ready to \\nagree to everything that Alice said; ‘there’s a large mustard-\\nmine near here. And the moral of that is—‘The more there \\nis of mine, the less there is of yours.‘\\n‘Oh, I know!’ exclaimed Alice, who had not attended to \\nthis last remark, ‘it’s a vegetable. It doesn’t look like one, \\nbut it is.’\\n‘I quite agree with you,’ said the Duchess; ‘and the moral \\nof that is—‘Be what you would seem to be’—or if you’d like \\nit put more simply—‘Never imagine yourself not to be oth -\\nerwise than what it might appear to others that what you \\nwere or might have been was not otherwise than what you \\nhad been would have appeared to them to be otherwise.‘\\n‘I think I should understand that better,’ Alice said very \\npolitely, ‘if I had it written down: but I can’t quite follow it \\nas you say it.’\\n‘That’s nothing to what I could say if I chose,’ the Duch -\\ness replied, in a pleased tone.\\n‘Pray don’t trouble yourself to say it any longer than that,’ \\nsaid Alice.\\n‘Oh, don’t talk about trouble!’ said the Duchess. ‘I make \\nyou a present of everything I’ve said as yet.’\\n‘A cheap sort of present!’ thought Alice. ‘I’m glad they \\ndon’t give birthday presents like that!’ But she did not ven -\\nture to say it out loud.79 Free eBooks at Planet eBoo k.com‘Thinking again?’ the Duchess asked, with another dig of \\nher sharp little chin.\\n‘I’ve a right to think,’ said Alice sharply, for she was be -\\nginning to feel a little worried.\\n‘Just about as much right,’ said the Duchess, ‘as pigs have \\nto fly; and the m—’\\nBut here, to Alice’s great surprise, the Duchess’s voice \\ndied away, even in the middle of her favourite word ‘moral,’ \\nand the arm that was linked into hers began to tremble. Al -\\nice looked up, and there stood the Queen in front of them, \\nwith her arms folded, frowning like a thunderstorm.\\n‘A fine day, your Majesty!’ the Duchess began in a low, \\nweak voice.\\n‘Now, I give you fair warning,’ shouted the Queen, \\nstamping on the ground as she spoke; ‘either you or your \\nhead must be off, and that in about half no time! Take your \\nchoice!’\\nThe Duchess took her choice, and was gone in a mo -\\nment.\\n‘Let’s go on with the game,’ the Queen said to Alice; and \\nAlice was too much frightened to say a word, but slowly fol -\\nlowed her back to the croquet-ground.\\nThe other guests had taken advantage of the Queen’s ab -\\nsence, and were resting in the shade: however, the moment \\nthey saw her, they hurried back to the game, the Queen \\nmerely remarking that a moment’s delay would cost them \\ntheir lives.\\nAll the time they were playing the Queen never left off  \\nquarrelling with the other players, and shouting ‘Off with Alice’s Adventures in Wonderland 80his head!’ or ‘Off with her head!’ Those whom she sentenced \\nwere taken into custody by the soldiers, who of course had \\nto leave off being arches to do this, so that by the end of half \\nan hour or so there were no arches left, and all the players, \\nexcept the King, the Queen, and Alice, were in custody and \\nunder sentence of execution.\\nThen the Queen left off, quite out of breath, and said to \\nAlice, ‘Have you seen the Mock Turtle yet?’\\n‘No,’ said Alice. ‘I don’t even know what a Mock Turtle \\nis.’\\n‘It’s the thing Mock Turtle Soup is made from,’ said the \\nQueen.\\n‘I never saw one, or heard of one,’ said Alice.\\n‘Come on, then,’ said the Queen, ‘and he shall tell you \\nhis history,’\\nAs they walked off together, Alice heard the King say in a \\nlow voice, to the company generally, ‘You are all pardoned.’ \\n‘Come, that’s  a good thing!’ she said to herself, for she had \\nfelt quite unhappy at the number of executions the Queen \\nhad ordered.\\nThey very soon came upon a Gryphon, lying fast asleep \\nin the sun. (IF you don’t know what a Gryphon is, look at \\nthe picture.) ‘Up, lazy thing!’ said the Queen, ‘and take this \\nyoung lady to see the Mock Turtle, and to hear his history. I \\nmust go back and see after some executions I have ordered’; \\nand she walked off, leaving Alice alone with the Gryphon. \\nAlice did not quite like the look of the creature, but on the \\nwhole she thought it would be quite as safe to stay with it as \\nto go after that savage Queen: so she waited.81 Free eBooks at Planet eBoo k.comThe Gryphon sat up and rubbed its eyes: then it watched \\nthe Queen till she was out of sight: then it chuckled. ‘What \\nfun!’ said the Gryphon, half to itself, half to Alice.\\n‘What IS the fun?’ said Alice.\\n‘Why, she,’ said the Gryphon. ‘It’s all her fancy, that: they \\nnever executes nobody, you know. Come on!’\\n‘Everybody says ‘come on!’ here,’ thought Alice, as she \\nwent slowly after it: ‘I never was so ordered about in all my \\nlife, never!’\\nThey had not gone far before they saw the Mock Turtle in \\nthe distance, sitting sad and lonely on a little ledge of rock, \\nand, as they came nearer, Alice could hear him sighing as \\nif his heart would break. She pitied him deeply. ‘What is \\nhis sorrow?’ she asked the Gryphon, and the Gryphon an -\\nswered, very nearly in the same words as before, ‘It’s all his \\nfancy, that: he hasn’t got no sorrow, you know. Come on!’\\nSo they went up to the Mock Turtle, who looked at them \\nwith large eyes full of tears, but said nothing.\\n‘This here young lady,’ said the Gryphon, ‘she wants for \\nto know your history, she do.’\\n‘I’ll tell it her,’ said the Mock Turtle in a deep, hollow \\ntone: ‘sit down, both of you, and don’t speak a word till I’ve \\nfinished.’\\nSo they sat down, and nobody spoke for some minutes. \\nAlice thought to herself, ‘I don’t see how he can even  finish, \\nif he doesn’t begin.’ But she waited patiently.\\n‘Once,’ said the Mock Turtle at last, with a deep sigh, ‘I \\nwas a real Turtle.’\\nThese words were followed by a very long silence, bro -Alice’s Adventures in Wonderland 82ken only by an occasional exclamation of ‘Hjckrrh!’ from \\nthe Gryphon, and the constant heavy sobbing of the Mock \\nTurtle. Alice was very nearly getting up and saying, ‘Thank \\nyou, sir, for your interesting story,’ but she could not help \\nthinking there must  be more to come, so she sat still and \\nsaid nothing.\\n‘When we were little,’ the Mock Turtle went on at last, \\nmore calmly, though still sobbing a little now and then, ‘we \\nwent to school in the sea. The master was an old Turtle—we \\nused to call him Tortoise—’\\n‘Why did you call him Tortoise, if he wasn’t one?’ Alice \\nasked.\\n‘We called him Tortoise because he taught us,’ said the \\nMock Turtle angrily: ‘really you are very dull!’\\n‘You ought to be ashamed of yourself for asking such a \\nsimple question,’ added the Gryphon; and then they both \\nsat silent and looked at poor Alice, who felt ready to sink \\ninto the earth. At last the Gryphon said to the Mock Turtle, \\n‘Drive on, old fellow! Don’t be all day about it!’ and he went \\non in these words:\\n‘Yes, we went to school in the sea, though you mayn’t \\nbelieve it—’\\n‘I never said I didn’t!’ interrupted Alice.\\n‘You did,’ said the Mock Turtle.\\n‘Hold your tongue!’ added the Gryphon, before Alice \\ncould speak again. The Mock Turtle went on.\\n‘We had the best of educations—in fact, we went to \\nschool every day—’\\n‘I’ve been to a day-school, too,’ said Alice; ‘you needn’t be 83 Free eBooks at Planet eBoo k.comso proud as all that.’\\n‘With extras?’ asked the Mock Turtle a little anxiously.\\n‘Yes,’ said Alice, ‘we learned French and music.’\\n‘And washing?’ said the Mock Turtle.\\n‘Certainly not!’ said Alice indignantly.\\n‘Ah! then yours wasn’t a really good school,’ said the \\nMock Turtle in a tone of great relief. ‘Now at ours  they had \\nat the end of the bill, ‘French, music, and washing —extra.‘\\n‘You couldn’t have wanted it much,’ said Alice; ‘living at \\nthe bottom of the sea.’\\n‘I couldn’t afford to learn it.’ said the Mock Turtle with a \\nsigh. ‘I only took the regular course.’\\n‘What was that?’ inquired Alice.\\n‘Reeling and Writhing, of course, to begin with,’ the \\nMock Turtle replied; ‘and then the different branches of \\nArithmetic— Ambition, Distraction, Uglification, and De -\\nrision.’\\n‘I never heard of ‘Uglification,‘ Alice ventured to say. \\n‘What is it?’\\nThe Gryphon lifted up both its paws in surprise. ‘What! \\nNever heard of uglifying!’ it exclaimed. ‘You know what to \\nbeautify is, I suppose?’\\n‘Yes,’ said Alice doubtfully: ‘it means—to—make—any -\\nthing—prettier.’\\n‘Well, then,’ the Gryphon went on, ‘if you don’t know \\nwhat to uglify is, you are a simpleton.’\\nAlice did not feel encouraged to ask any more questions \\nabout it, so she turned to the Mock Turtle, and said ‘What \\nelse had you to learn?’Alice’s Adventures in Wonderland 84‘Well, there was Mystery,’ the Mock Turtle replied, \\ncounting off the subjects on his flappers, ‘—Mystery, an -\\ncient and modern, with Seaography: then Drawling—the \\nDrawling-master was an old conger-eel, that used to come \\nonce a week: He taught us Drawling, Stretching, and Faint -\\ning in Coils.’\\n‘What was that like?’ said Alice.\\n‘Well, I can’t show it you myself,’ the Mock Turtle said: \\n‘I’m too stiff. And the Gryphon never learnt it.’\\n‘Hadn’t time,’ said the Gryphon: ‘I went to the Classics \\nmaster, though. He was an old crab, he was.’\\n‘I never went to him,’ the Mock Turtle said with a sigh: \\n‘he taught Laughing and Grief, they used to say.’\\n‘So he did, so he did,’ said the Gryphon, sighing in his \\nturn; and both creatures hid their faces in their paws.\\n‘And how many hours a day did you do lessons?’ said Al -\\nice, in a hurry to change the subject.\\n‘Ten hours the first day,’ said the Mock Turtle: ‘nine the \\nnext, and so on.’\\n‘What a curious plan!’ exclaimed Alice.\\n‘That’s the reason they’re called lessons,’ the Gryphon re -\\nmarked: ‘because they lessen from day to day.’\\nThis was quite a new idea to Alice, and she thought it \\nover a little before she made her next remark. ‘Then the \\neleventh day must have been a holiday?’\\n‘Of course it was,’ said the Mock Turtle.\\n‘And how did you manage on the twelfth?’ Alice went on \\neagerly.\\n‘That’s enough about lessons,’ the Gryphon interrupted 85 Free eBooks at Planet eBoo k.comin a very decided tone: ‘tell her something about the games \\nnow.’Alice’s Adventures in Wonderland 86',\n",
              " ' X.  \\nThe Lobster Quadrille\\nThe Mock Turtle sighed deeply, and drew the back of one \\nflapper across his eyes. He looked at Alice, and tried to \\nspeak, but for a minute or two sobs choked his voice. ‘Same \\nas if he had a bone in his throat,’ said the Gryphon: and \\nit set to work shaking him and punching him in the back. \\nAt last the Mock Turtle recovered his voice, and, with tears \\nrunning down his cheeks, he went on again:—\\n‘You may not have lived much under the sea—’ (’I \\nhaven’t,’ said Alice)— ‘and perhaps you were never even in -\\ntroduced to a lobster—’ (Alice began to say ‘I once tasted—’ \\nbut checked herself hastily, and said ‘No, never’) ‘—so you \\ncan have no idea what a delightful thing a Lobster Quadrille \\nis!’\\n‘No, indeed,’ said Alice. ‘What sort of a dance is it?’\\n‘Why,’ said the Gryphon, ‘you first form into a line along \\nthe sea-shore—’\\n‘Two lines!’ cried the Mock Turtle. ‘Seals, turtles, salm -\\non, and so on; then, when you’ve cleared all the jelly-fish out \\nof the way—’\\n‘THAT  generally takes some time,’ interrupted the Gry -\\nphon.\\n‘—you advance twice—’\\n‘Each with a lobster as a partner!’ cried the Gryphon.87 Free eBooks at Planet eBoo k.com‘Of course,’ the Mock Turtle said: ‘advance twice, set to \\npartners—’\\n‘—change lobsters, and retire in same order,’ continued \\nthe Gryphon.\\n‘Then, you know,’ the Mock Turtle went on, ‘you throw \\nthe—’\\n‘The lobsters!’ shouted the Gryphon, with a bound into \\nthe air.\\n‘—as far out to sea as you can—’\\n‘Swim after them!’ screamed the Gryphon.\\n‘Turn a somersault in the sea!’ cried the Mock Turtle, ca -\\npering wildly about.\\n‘Change lobster’s again!’ yelled the Gryphon at the top \\nof its voice.\\n‘Back to land again, and that’s all the first figure,’ said \\nthe Mock Turtle, suddenly dropping his voice; and the two \\ncreatures, who had been jumping about like mad things all \\nthis time, sat down again very sadly and quietly, and looked \\nat Alice.\\n‘It must be a very pretty dance,’ said Alice timidly.\\n‘Would you like to see a little of it?’ said the Mock Tur -\\ntle.\\n‘Very much indeed,’ said Alice.\\n‘Come, let’s try the first figure!’ said the Mock Turtle \\nto the Gryphon. ‘We can do without lobsters, you know. \\nWhich shall sing?’\\n‘Oh, YOU  sing,’ said the Gryphon. ‘I’ve forgotten the \\nwords.’\\nSo they began solemnly dancing round and round Alice, Alice’s Adventures in Wonderland 88every now and then treading on her toes when they passed \\ntoo close, and waving their forepaws to mark the time, while \\nthe Mock Turtle sang this, very slowly and sadly:—\\n‘Will you walk a little faster?’ said a whiting to a snail. \\n‘There’s a porpoise close behind us, and he’s treading on my \\ntail. See how eagerly the lobsters and the turtles all advance! \\nThey are waiting on the shingle—will you come and join the \\ndance?\\nWill you, won’t you, will you, won’t you, will you join the \\ndance? Will you, won’t you, will you, won’t you, won’t you \\njoin the dance?\\n‘You can really have no notion how delightful it will be \\nWhen they take us up and throw us, with the lobsters, out to \\nsea!’ But the snail replied ‘Too far, too far!’ and gave a look \\naskance— Said he thanked the whiting kindly, but he would \\nnot join the dance. Would not, could not, would not, could \\nnot, would not join the dance. Would not, could not, would \\nnot, could not, could not join the dance.\\n‘What matters it how far we go?’ his scaly friend replied. \\n‘There is another shore, you know, upon the other side. The \\nfurther off from England the nearer is to France— Then turn \\nnot pale, beloved snail, but come and join the dance.\\nWill you, won’t you, will you, won’t you, will you join the \\ndance? Will you, won’t you, will you, won’t you, won’t you \\njoin the dance?‘\\n‘Thank you, it’s a very interesting dance to watch,’ said \\nAlice, feeling very glad that it was over at last: ‘and I do so \\nlike that curious song about the whiting!’\\n‘Oh, as to the whiting,’ said the Mock Turtle, ‘they—89 Free eBooks at Planet eBoo k.comyou’ve seen them, of course?’\\n‘Yes,’ said Alice, ‘I’ve often seen them at dinn—’ she \\nchecked herself hastily.\\n‘I don’t know where Dinn may be,’ said the Mock Turtle, \\n‘but if you’ve seen them so often, of course you know what \\nthey’re like.’\\n‘I believe so,’ Alice replied thoughtfully. ‘They have their \\ntails in their mouths—and they’re all over crumbs.’\\n‘You’re wrong about the crumbs,’ said the Mock Turtle: \\n‘crumbs would all wash off in the sea. But they have  their \\ntails in their mouths; and the reason is—’ here the Mock \\nTurtle yawned and shut his eyes.—‘Tell her about the reason \\nand all that,’ he said to the Gryphon.\\n‘The reason is,’ said the Gryphon, ‘that they would  go \\nwith the lobsters to the dance. So they got thrown out to \\nsea. So they had to fall a long way. So they got their tails \\nfast in their mouths. So they couldn’t get them out again. \\nThat’s all.’\\n‘Thank you,’ said Alice, ‘it’s very interesting. I never \\nknew so much about a whiting before.’\\n‘I can tell you more than that, if you like,’ said the Gry -\\nphon. ‘Do you know why it’s called a whiting?’\\n‘I never thought about it,’ said Alice. ‘Why?’\\n‘It does the boots and shoes.’  the Gryphon replied very \\nsolemnly.\\nAlice was thoroughly puzzled. ‘Does the boots and \\nshoes!’ she repeated in a wondering tone.\\n‘Why, what are your  shoes done with?’ said the Gryphon. \\n‘I mean, what makes them so shiny?’Alice’s Adventures in Wonderland 90Alice looked down at them, and considered a little before \\nshe gave her answer. ‘They’re done with blacking, I believe.’\\n‘Boots and shoes under the sea,’ the Gryphon went on in \\na deep voice, ‘are done with a whiting. Now you know.’\\n‘And what are they made of?’ Alice asked in a tone of \\ngreat curiosity.\\n‘Soles and eels, of course,’ the Gryphon replied rather \\nimpatiently: ‘any shrimp could have told you that.’\\n‘If I’d been the whiting,’ said Alice, whose thoughts were \\nstill running on the song, ‘I’d have said to the porpoise, \\n‘Keep back, please: we don’t want you with us!‘\\n‘They were obliged to have him with them,’ the Mock \\nTurtle said: ‘no wise fish would go anywhere without a por -\\npoise.’\\n‘Wouldn’t it really?’ said Alice in a tone of great sur -\\nprise.\\n‘Of course not,’ said the Mock Turtle: ‘why, if a fish came \\nto me, and told me he was going a journey, I should say \\n‘With what porpoise?‘\\n‘Don’t you mean ‘purpose’?’ said Alice.\\n‘I mean what I say,’ the Mock Turtle replied in an offend -\\ned tone. And the Gryphon added ‘Come, let’s hear some of \\nyour  adventures.’\\n‘I could tell you my adventures—beginning from this \\nmorning,’ said Alice a little timidly: ‘but it’s no use going \\nback to yesterday, because I was a different person then.’\\n‘Explain all that,’ said the Mock Turtle.\\n‘No, no! The adventures first,’ said the Gryphon in an \\nimpatient tone: ‘explanations take such a dreadful time.’91 Free eBooks at Planet eBoo k.comSo Alice began telling them her adventures from the time \\nwhen she first saw the White Rabbit. She was a little nervous \\nabout it just at first, the two creatures got so close to her, \\none on each side, and opened their eyes and mouths so very \\nwide, but she gained courage as she went on. Her listeners \\nwere perfectly quiet till she got to the part about her repeat -\\ning ’You are old, Father William,’  to the Caterpillar, and the \\nwords all coming different, and then the Mock Turtle drew \\na long breath, and said ‘That’s very curious.’\\n‘It’s all about as curious as it can be,’ said the Gryphon.\\n‘It all came different!’ the Mock Turtle repeated thought -\\nfully. ‘I should like to hear her try and repeat something \\nnow. Tell her to begin.’ He looked at the Gryphon as if he \\nthought it had some kind of authority over Alice.\\n‘Stand up and repeat ‘Tis the voice of the sluggard,‘  said \\nthe Gryphon.\\n‘How the creatures order one about, and make one re -\\npeat lessons!’ thought Alice; ‘I might as well be at school at \\nonce.’ However, she got up, and began to repeat it, but her \\nhead was so full of the Lobster Quadrille, that she hardly \\nknew what she was saying, and the words came very queer \\nindeed:—\\n‘Tis the voice of the Lobster; I heard him declare,  \\n“You have baked me too brown, I must sugar my hair.”  \\nAs a duck with its eyelids, so he with his nose  \\nTrims his belt and his buttons, and turns out his toes.’\\n[Note: Later editions continued as follows: When the sands Alice’s Adventures in Wonderland 92are all dry, he is gay as a lark, And will talk in contemptuous \\ntones of the Shark, But, when the tide rises and sharks are \\naround, His voice has a timid and tremulous sound.]\\n‘That’s different from what I used to say when I was a \\nchild,’ said the Gryphon.\\n‘Well, I never heard it before,’ said the Mock Turtle; ‘but \\nit sounds uncommon nonsense.’\\nAlice said nothing; she had sat down with her face in her \\nhands, wondering if anything would ever happen in a natu -\\nral way again.\\n‘I should like to have it explained,’ said the Mock Turtle.\\n‘She can’t explain it,’ said the Gryphon hastily. ‘Go on \\nwith the next verse.’\\n‘But about his toes?’ the Mock Turtle persisted. ‘How \\ncould  he turn them out with his nose, you know?’\\n‘It’s the first position in dancing.’ Alice said; but was \\ndreadfully puzzled by the whole thing, and longed to change \\nthe subject.\\n‘Go on with the next verse,’ the Gryphon repeated impa -\\ntiently: ‘it begins ‘I passed by his garden.‘\\nAlice did not dare to disobey, though she felt sure it would \\nall come wrong, and she went on in a trembling voice:—\\n‘I passed by his garden, and marked, with one eye,  \\nHow the Owl and the Panther were sharing a pie—‘\\n[Note: Later editions continued as follows: The Panther took \\npie-crust, and gravy, and meat, While the Owl had the dish 93 Free eBooks at Planet eBoo k.comas its share of the treat. When the pie was all finished, the \\nOwl, as a boon, Was kindly permitted to pocket the spoon: \\nWhile the Panther received knife and fork with a growl, And \\nconcluded the banquet—]\\n‘What IS the use of repeating all that stuff,’ the Mock \\nTurtle interrupted, ‘if you don’t explain it as you go on? It’s \\nby far the most confusing thing I ever heard!’\\n‘Yes, I think you’d better leave off,’ said the Gryphon: \\nand Alice was only too glad to do so.\\n‘Shall we try another figure of the Lobster Quadrille?’ \\nthe Gryphon went on. ‘Or would you like the Mock Turtle \\nto sing you a song?’\\n‘Oh, a song, please, if the Mock Turtle would be so kind,’ \\nAlice replied, so eagerly that the Gryphon said, in a rath -\\ner offended tone, ‘Hm! No accounting for tastes! Sing her \\n‘Turtle Soup,’ will you, old fellow?’\\nThe Mock Turtle sighed deeply, and began, in a voice \\nsometimes choked with sobs, to sing this:—\\n‘Beautiful Soup, so rich and green,  \\nWaiting in a hot tureen!  \\nWho for such dainties would not stoop?  \\nSoup of the evening, beautiful Soup!  \\nSoup of the evening, beautiful Soup!  \\n  Beau—ootiful Soo—oop!  \\n  Beau—ootiful Soo—oop!  \\nSoo—oop of the e—e—evening,  \\n  Beautiful, beautiful Soup!Alice’s Adventures in Wonderland 94‘Beautiful Soup! Who cares for fish,  \\nGame, or any other dish?  \\nWho would not give all else for two  \\npennyworth only of beautiful Soup?  \\nPennyworth only of beautiful Soup?  \\n  Beau—ootiful Soo—oop!  \\n  Beau—ootiful Soo—oop!  \\nSoo—oop of the e—e—evening,  \\n  Beautiful, beauti—FUL SOUP!’\\n‘Chorus again!’ cried the Gryphon, and the Mock Turtle \\nhad just begun to repeat it, when a cry of ‘The trial’s begin -\\nning!’ was heard in the distance.\\n‘Come on!’ cried the Gryphon, and, taking Alice by \\nthe hand, it hurried off, without waiting for the end of the \\nsong.\\n‘What trial is it?’ Alice panted as she ran; but the Gry -\\nphon only answered ‘Come on!’ and ran the faster, while \\nmore and more faintly came, carried on the breeze that \\nfollowed them, the melancholy words:—\\n‘Soo—oop of the e—e—evening,  \\n  Beautiful, beautiful Soup!’95 Free eBooks at Planet eBoo k.com',\n",
              " ' XI.  \\nWho Stole the Tarts?\\nThe King and Queen of Hearts were seated on their \\nthrone when they arrived, with a great crowd assem -\\nbled about them—all sorts of little birds and beasts, as well \\nas the whole pack of cards: the Knave was standing before \\nthem, in chains, with a soldier on each side to guard him; \\nand near the King was the White Rabbit, with a trumpet \\nin one hand, and a scroll of parchment in the other. In the \\nvery middle of the court was a table, with a large dish of \\ntarts upon it: they looked so good, that it made Alice quite \\nhungry to look at them—‘I wish they’d get the trial done,’ \\nshe thought, ‘and hand round the refreshments!’ But there \\nseemed to be no chance of this, so she began looking at ev -\\nerything about her, to pass away the time.\\nAlice had never been in a court of justice before, but she \\nhad read about them in books, and she was quite pleased \\nto find that she knew the name of nearly everything there. \\n‘That’s the judge,’ she said to herself, ‘because of his great \\nwig.’\\nThe judge, by the way, was the King; and as he wore his \\ncrown over the wig, (look at the frontispiece if you want to \\nsee how he did it,) he did not look at all comfortable, and it \\nwas certainly not becoming.\\n‘And that’s the jury-box,’ thought Alice, ‘and those twelve Alice’s Adventures in Wonderland 96creatures,’ (she was obliged to say ‘creatures,’ you see, be -\\ncause some of them were animals, and some were birds,) ‘I \\nsuppose they are the jurors.’ She said this last word two or \\nthree times over to herself, being rather proud of it: for she \\nthought, and rightly too, that very few little girls of her age \\nknew the meaning of it at all. However, ‘jury-men’ would \\nhave done just as well.\\nThe twelve jurors were all writing very busily on slates. \\n‘What are they doing?’ Alice whispered to the Gryphon. \\n‘They can’t have anything to put down yet, before the trial’s \\nbegun.’\\n‘They’re putting down their names,’ the Gryphon whis -\\npered in reply, ‘for fear they should forget them before the \\nend of the trial.’\\n‘Stupid things!’ Alice began in a loud, indignant voice, \\nbut she stopped hastily, for the White Rabbit cried out, ‘Si -\\nlence in the court!’ and the King put on his spectacles and \\nlooked anxiously round, to make out who was talking.\\nAlice could see, as well as if she were looking over their \\nshoulders, that all the jurors were writing down ‘stupid \\nthings!’ on their slates, and she could even make out that \\none of them didn’t know how to spell ‘stupid,’ and that he \\nhad to ask his neighbour to tell him. ‘A nice muddle their \\nslates’ll be in before the trial’s over!’ thought Alice.\\nOne of the jurors had a pencil that squeaked. This of \\ncourse, Alice could not stand, and she went round the court \\nand got behind him, and very soon found an opportunity of \\ntaking it away. She did it so quickly that the poor little juror \\n(it was Bill, the Lizard) could not make out at all what had 97 Free eBooks at Planet eBoo k.combecome of it; so, after hunting all about for it, he was obliged \\nto write with one finger for the rest of the day; and this was \\nof very little use, as it left no mark on the slate.\\n‘Herald, read the accusation!’ said the King.\\nOn this the White Rabbit blew three blasts on the trum -\\npet, and then unrolled the parchment scroll, and read as \\nfollows:—\\n‘The Queen of Hearts, she made some tarts, All on a sum -\\nmer day: The Knave of Hearts, he stole those tarts, And took \\nthem quite away!’\\n‘Consider your verdict,’ the King said to the jury.\\n‘Not yet, not yet!’ the Rabbit hastily interrupted. ‘There’s \\na great deal to come before that!’\\n‘Call the first witness,’ said the King; and the White Rab -\\nbit blew three blasts on the trumpet, and called out, ‘First \\nwitness!’\\nThe first witness was the Hatter. He came in with a teacup \\nin one hand and a piece of bread-and-butter in the other. ‘I \\nbeg pardon, your Majesty,’ he began, ‘for bringing these in: \\nbut I hadn’t quite finished my tea when I was sent for.’\\n‘You ought to have finished,’ said the King. ‘When did \\nyou begin?’\\nThe Hatter looked at the March Hare, who had followed \\nhim into the court, arm-in-arm with the Dormouse. ‘Four -\\nteenth of March, I think  it was,’ he said.\\n‘Fifteenth,’ said the March Hare.\\n‘Sixteenth,’ added the Dormouse.\\n‘Write that down,’ the King said to the jury, and the jury \\neagerly wrote down all three dates on their slates, and then Alice’s Adventures in Wonderland 98added them up, and reduced the answer to shillings and \\npence.\\n‘Take off your hat,’ the King said to the Hatter.\\n‘It isn’t mine,’ said the Hatter.\\n‘Stolen! ’ the King exclaimed, turning to the jury, who in -\\nstantly made a memorandum of the fact.\\n‘I keep them to sell,’ the Hatter added as an explanation; \\n‘I’ve none of my own. I’m a hatter.’\\nHere the Queen put on her spectacles, and began staring \\nat the Hatter, who turned pale and fidgeted.\\n‘Give your evidence,’ said the King; ‘and don’t be ner -\\nvous, or I’ll have you executed on the spot.’\\nThis did not seem to encourage the witness at all: he kept \\nshifting from one foot to the other, looking uneasily at the \\nQueen, and in his confusion he bit a large piece out of his \\nteacup instead of the bread-and-butter.\\nJust at this moment Alice felt a very curious sensation, \\nwhich puzzled her a good deal until she made out what \\nit was: she was beginning to grow larger again, and she \\nthought at first she would get up and leave the court; but \\non second thoughts she decided to remain where she was as \\nlong as there was room for her.\\n‘I wish you wouldn’t squeeze so.’ said the Dormouse, \\nwho was sitting next to her. ‘I can hardly breathe.’\\n‘I can’t help it,’ said Alice very meekly: ‘I’m growing.’\\n‘You’ve no right to grow here,’ said the Dormouse.\\n‘Don’t talk nonsense,’ said Alice more boldly: ‘you know \\nyou’re growing too.’\\n‘Yes, but I grow at a reasonable pace,’ said the Dormouse: 99 Free eBooks at Planet eBoo k.com‘not in that ridiculous fashion.’ And he got up very sulkily \\nand crossed over to the other side of the court.\\nAll this time the Queen had never left off staring at the \\nHatter, and, just as the Dormouse crossed the court, she \\nsaid to one of the officers of the court, ‘Bring me the list of \\nthe singers in the last concert!’ on which the wretched Hat -\\nter trembled so, that he shook both his shoes off.\\n‘Give your evidence,’ the King repeated angrily, ‘or I’ll \\nhave you executed, whether you’re nervous or not.’\\n‘I’m a poor man, your Majesty,’ the Hatter began, in a \\ntrembling voice, ‘—and I hadn’t begun my tea—not above a \\nweek or so—and what with the bread-and-butter getting so \\nthin—and the twinkling of the tea—’\\n‘The twinkling of the what ?’ said the King.\\n‘It began  with the tea,’ the Hatter replied.\\n‘Of course twinkling begins  with a T!’ said the King \\nsharply. ‘Do you take me for a dunce? Go on!’\\n‘I’m a poor man,’ the Hatter went on, ‘and most things \\ntwinkled after that—only the March Hare said—’\\n‘I didn’t!’ the March Hare interrupted in a great hurry.\\n‘You did!’ said the Hatter.\\n‘I deny it!’ said the March Hare.\\n‘He denies it,’ said the King: ‘leave out that part.’\\n‘Well, at any rate, the Dormouse said—’ the Hatter went \\non, looking anxiously round to see if he would deny it too: \\nbut the Dormouse denied nothing, being fast asleep.\\n‘After that,’ continued the Hatter, ‘I cut some more \\nbreadand-butter—’\\n‘But what did the Dormouse say?’ one of the jury asked.Alice’s Adventures in Wonderland 100‘That I can’t remember,’ said the Hatter.\\n‘You must  remember,’ remarked the King, ‘or I’ll have \\nyou executed.’\\nThe miserable Hatter dropped his teacup and bread-and-\\nbutter, and went down on one knee. ‘I’m a poor man, your \\nMajesty,’ he began.\\n‘You’re a very poor speaker ,’ said the King.\\nHere one of the guinea-pigs cheered, and was immediate -\\nly suppressed by the officers of the court. (As that is rather a \\nhard word, I will just explain to you how it was done. They \\nhad a large canvas bag, which tied up at the mouth with \\nstrings: into this they slipped the guinea-pig, head first, and \\nthen sat upon it.)\\n‘I’m glad I’ve seen that done,’ thought Alice. ‘I’ve so often \\nread in the newspapers, at the end of trials, ‘There was some \\nattempts at applause, which was immediately suppressed \\nby the officers of the court,’ and I never understood what it \\nmeant till now.’\\n‘If that’s all you know about it, you may stand down,’ \\ncontinued the King.\\n‘I can’t go no lower,’ said the Hatter: ‘I’m on the floor, as \\nit is.’\\n‘Then you may sit down,’ the King replied.\\nHere the other guinea-pig cheered, and was suppressed.\\n‘Come, that finished the guinea-pigs!’ thought Alice. \\n‘Now we shall get on better.’\\n‘I’d rather finish my tea,’ said the Hatter, with an anxious \\nlook at the Queen, who was reading the list of singers.\\n‘You may go,’ said the King, and the Hatter hurriedly left 101 Free eBooks at Planet eBoo k.comthe court, without even waiting to put his shoes on.\\n‘—and just take his head off outside,’ the Queen added to \\none of the officers: but the Hatter was out of sight before the \\nofficer could get to the door.\\n‘Call the next witness!’ said the King.\\nThe next witness was the Duchess’s cook. She carried the \\npepper-box in her hand, and Alice guessed who it was, even \\nbefore she got into the court, by the way the people near the \\ndoor began sneezing all at once.\\n‘Give your evidence,’ said the King.\\n‘Shan’t,’ said the cook.\\nThe King looked anxiously at the White Rabbit, who said \\nin a low voice, ‘Your Majesty must cross-examine THIS wit -\\nness.’\\n‘Well, if I must, I must,’ the King said, with a melancholy \\nair, and, after folding his arms and frowning at the cook \\ntill his eyes were nearly out of sight, he said in a deep voice, \\n‘What are tarts made of?’\\n‘Pepper, mostly,’ said the cook.\\n‘Treacle,’ said a sleepy voice behind her.\\n‘Collar that Dormouse,’ the Queen shrieked out. ‘Behead \\nthat Dormouse! Turn that Dormouse out of court! Suppress \\nhim! Pinch him! Off with his whiskers!’\\nFor some minutes the whole court was in confusion, get -\\nting the Dormouse turned out, and, by the time they had \\nsettled down again, the cook had disappeared.\\n‘Never mind!’ said the King, with an air of great relief. \\n‘Call the next witness.’ And he added in an undertone to the \\nQueen, ‘Really, my dear, you must cross-examine the next Alice’s Adventures in Wonderland 102witness. It quite makes my forehead ache!’\\nAlice watched the White Rabbit as he fumbled over the \\nlist, feeling very curious to see what the next witness would \\nbe like, ‘—for they haven’t got much evidence yet,’ she said to \\nherself. Imagine her surprise, when the White Rabbit read \\nout, at the top of his shrill little voice, the name ‘Alice!’103 Free eBooks at Planet eBoo k.com',\n",
              " ' XII.  \\nAlice’s Evidence\\n‘Here!’ cried Alice, quite forgetting in the flurry of the \\nmoment how large she had grown in the last few min -\\nutes, and she jumped up in such a hurry that she tipped over \\nthe jury-box with the edge of her skirt, upsetting all the ju -\\nrymen on to the heads of the crowd below, and there they \\nlay sprawling about, reminding her very much of a globe of \\ngoldfish she had accidentally upset the week before.\\n‘Oh, I beg your pardon!’ she exclaimed in a tone of great \\ndismay, and began picking them up again as quickly as she \\ncould, for the accident of the goldfish kept running in her \\nhead, and she had a vague sort of idea that they must be col -\\nlected at once and put back into the jury-box, or they would \\ndie.\\n‘The trial cannot proceed,’ said the King in a very grave \\nvoice, ‘until all the jurymen are back in their proper plac -\\nes— all,’ he repeated with great emphasis, looking hard at \\nAlice as he said do.\\nAlice looked at the jury-box, and saw that, in her haste, \\nshe had put the Lizard in head downwards, and the poor \\nlittle thing was waving its tail about in a melancholy way, \\nbeing quite unable to move. She soon got it out again, and \\nput it right; ‘not that it signifies much,’ she said to herself; ‘I \\nshould think it would be quite  as much use in the trial one Alice’s Adventures in Wonderland 104way up as the other.’\\nAs soon as the jury had a little recovered from the shock \\nof being upset, and their slates and pencils had been found \\nand handed back to them, they set to work very diligently \\nto write out a history of the accident, all except the Lizard, \\nwho seemed too much overcome to do anything but sit with \\nits mouth open, gazing up into the roof of the court.\\n‘What do you know about this business?’ the King said \\nto Alice.\\n‘Nothing,’ said Alice.\\n‘Nothing whatever? ’ persisted the King.\\n‘Nothing whatever, ’ said Alice.\\n‘That’s very important,’ the King said, turning to the \\njury. They were just beginning to write this down on their \\nslates, when the White Rabbit interrupted: ‘ Unimportant, \\nyour Majesty means, of course,’ he said in a very respectful \\ntone, but frowning and making faces at him as he spoke.\\n‘Unimportant, of course, I meant,’ the King hastily said, \\nand went on to himself in an undertone, ‘important—unim -\\nportant— unimportant—important—’ as if he were trying \\nwhich word sounded best.\\nSome of the jury wrote it down ‘important,’ and some \\n‘unimportant.’ Alice could see this, as she was near enough \\nto look over their slates; ‘but it doesn’t matter a bit,’ she \\nthought to herself.\\nAt this moment the King, who had been for some time \\nbusily writing in his note-book, cackled out ‘Silence!’ and \\nread out from his book, ‘Rule Forty-two. All persons more \\nthan a mile hight to leave the court .’105 Free eBooks at Planet eBoo k.comEverybody looked at Alice.\\n‘I’m not a mile high,’ said Alice.\\n‘You are,’ said the King.\\n‘Nearly two miles high,’ added the Queen.\\n‘Well, I shan’t go, at any rate,’ said Alice: ‘besides, that’s \\nnot a regular rule: you invented it just now.’\\n‘It’s the oldest rule in the book,’ said the King.\\n‘Then it ought to be Number One,’ said Alice.\\nThe King turned pale, and shut his note-book hastily. \\n‘Consider your verdict,’ he said to the jury, in a low, trem -\\nbling voice.\\n‘There’s more evidence to come yet, please your Majesty,’ \\nsaid the White Rabbit, jumping up in a great hurry; ‘this pa -\\nper has just been picked up.’\\n‘What’s in it?’ said the Queen.\\n‘I haven’t opened it yet,’ said the White Rabbit, ‘but it \\nseems to be a letter, written by the prisoner to—to some -\\nbody.’\\n‘It must have been that,’ said the King, ‘unless it was writ -\\nten to nobody, which isn’t usual, you know.’\\n‘Who is it directed to?’ said one of the jurymen.\\n‘It isn’t directed at all,’ said the White Rabbit; ‘in fact, \\nthere’s nothing written on the outside .’ He unfolded the pa -\\nper as he spoke, and added ‘It isn’t a letter, after all: it’s a set \\nof verses.’\\n‘Are they in the prisoner’s handwriting?’ asked another \\nof they jurymen.\\n‘No, they’re not,’ said the White Rabbit, ‘and that’s the \\nqueerest thing about it.’ (The jury all looked puzzled.)Alice’s Adventures in Wonderland 106‘He must have imitated somebody else’s hand,’ said the \\nKing. (The jury all brightened up again.)\\n‘Please your Majesty,’ said the Knave, ‘I didn’t write it, \\nand they can’t prove I did: there’s no name signed at the \\nend.’\\n‘If you didn’t sign it,’ said the King, ‘that only makes the \\nmatter worse. You must  have meant some mischief, or else \\nyou’d have signed your name like an honest man.’\\nThere was a general clapping of hands at this: it was the \\nfirst really clever thing the King had said that day.\\n‘That proves  his guilt,’ said the Queen.\\n‘It proves nothing of the sort!’ said Alice. ‘Why, you don’t \\neven know what they’re about!’\\n‘Read them,’ said the King.\\nThe White Rabbit put on his spectacles. ‘Where shall I \\nbegin, please your Majesty?’ he asked.\\n‘Begin at the beginning,’ the King said gravely, ‘and go \\non till you come to the end: then stop.’\\nThese were the verses the White Rabbit read:—\\n‘They told me you had been to her,  \\n  And mentioned me to him:  \\nShe gave me a good character,  \\n  But said I could not swim.\\nHe sent them word I had not gone  \\n  (We know it to be true):  \\nIf she should push the matter on,  \\n  What would become of you?107 Free eBooks at Planet eBoo k.comI gave her one, they gave him two,  \\n  You gave us three or more;  \\nThey all returned from him to you,  \\n  Though they were mine before.\\nIf I or she should chance to be  \\n  Involved in this affair,  \\nHe trusts to you to set them free,  \\n  Exactly as we were.\\nMy notion was that you had been  \\n  (Before she had this fit)  \\nAn obstacle that came between  \\n  Him, and ourselves, and it.\\nDon’t let him know she liked them best,  \\n  For this must ever be  \\nA secret, kept from all the rest,  \\n  Between yourself and me.’\\n‘That’s the most important piece of evidence we’ve \\nheard yet,’ said the King, rubbing his hands; ‘so now let the \\njury—’\\n‘If any one of them can explain it,’ said Alice, (she had \\ngrown so large in the last few minutes that she wasn’t a bit \\nafraid of interrupting him,) ‘I’ll give him sixpence. I don’t \\nbelieve there’s an atom of meaning in it.’\\nThe jury all wrote down on their slates, ‘ She doesn’t be -\\nlieve there’s an atom of meaning in it,’ but none of them Alice’s Adventures in Wonderland 108attempted to explain the paper.\\n‘If there’s no meaning in it,’ said the King, ‘that saves a \\nworld of trouble, you know, as we needn’t try to find any. \\nAnd yet I don’t know,’ he went on, spreading out the verses \\non his knee, and looking at them with one eye; ‘I seem to see \\nsome meaning in them, after all. ‘ -said I could not swim— ’ \\nyou can’t swim, can you?’ he added, turning to the Knave.\\nThe Knave shook his head sadly. ‘Do I look like it?’ he \\nsaid. (Which he certainly did not, being made entirely of \\ncardboard.)\\n‘All right, so far,’ said the King, and he went on muttering \\nover the verses to himself: ‘“ We know it to be true— ’ that’s \\nthe jury, of course— ‘ I gave her one, they gave him two— ’ \\nwhy, that must be what he did with the tarts, you know—’\\n‘But, it goes on ‘ they all returned from him to you, ‘ said \\nAlice.\\n‘Why, there they are!’ said the King triumphantly, point -\\ning to the tarts on the table. ‘Nothing can be clearer than \\nthat. Then again—‘ before she had this fit- -’ you never had \\nfits, my dear, I think?’ he said to the Queen.\\n‘Never!’ said the Queen furiously, throwing an inkstand \\nat the Lizard as she spoke. (The unfortunate little Bill had \\nleft off writing on his slate with one finger, as he found it \\nmade no mark; but he now hastily began again, using the \\nink, that was trickling down his face, as long as it lasted.)\\n‘Then the words don’t fit you,’ said the King, looking \\nround the court with a smile. There was a dead silence.\\n‘It’s a pun!’ the King added in an offended tone, and ev -\\nerybody laughed, ‘Let the jury consider their verdict,’ the 109 Free eBooks at Planet eBoo k.comKing said, for about the twentieth time that day.\\n‘No, no!’ said the Queen. ‘Sentence first—verdict after -\\nwards.’\\n‘Stuff and nonsense!’ said Alice loudly. ‘The idea of hav -\\ning the sentence first!’\\n‘Hold your tongue!’ said the Queen, turning purple.\\n‘I won’t!’ said Alice.\\n‘Off with her head!’ the Queen shouted at the top of her \\nvoice. Nobody moved.\\n‘Who cares for you?’ said Alice, (she had grown to her \\nfull size by this time.) ‘You’re nothing but a pack of cards!’\\nAt this the whole pack rose up into the air, and came fly -\\ning down upon her: she gave a little scream, half of fright \\nand half of anger, and tried to beat them off, and found her -\\nself lying on the bank, with her head in the lap of her sister, \\nwho was gently brushing away some dead leaves that had \\nfluttered down from the trees upon her face.\\n‘Wake up, Alice dear!’ said her sister; ‘Why, what a long \\nsleep you’ve had!’\\n‘Oh, I’ve had such a curious dream!’ said Alice, and she \\ntold her sister, as well as she could remember them, all these \\nstrange Adventures of hers that you have just been reading \\nabout; and when she had finished, her sister kissed her, and \\nsaid, ‘It was a curious dream, dear, certainly: but now run \\nin to your tea; it’s getting late.’ So Alice got up and ran off, \\nthinking while she ran, as well she might, what a wonderful \\ndream it had been.\\nBut her sister sat still just as she left her, leaning her head \\non her hand, watching the setting sun, and thinking of little Alice’s Adventures in Wonderland 110Alice and all her wonderful Adventures, till she too began \\ndreaming after a fashion, and this was her dream:—\\nFirst, she dreamed of little Alice herself, and once again \\nthe tiny hands were clasped upon her knee, and the bright \\neager eyes were looking up into hers—she could hear the \\nvery tones of her voice, and see that queer little toss of her \\nhead to keep back the wandering hair that would  always get \\ninto her eyes—and still as she listened, or seemed to listen, \\nthe whole place around her became alive the strange crea -\\ntures of her little sister’s dream.\\nThe long grass rustled at her feet as the White Rabbit hur -\\nried by—the frightened Mouse splashed his way through the \\nneighbouring pool—she could hear the rattle of the teacups \\nas the March Hare and his friends shared their never-end -\\ning meal, and the shrill voice of the Queen ordering off her \\nunfortunate guests to execution—once more the pig-baby \\nwas sneezing on the Duchess’s knee, while plates and dishes \\ncrashed around it—once more the shriek of the Gryphon, \\nthe squeaking of the Lizard’s slate-pencil, and the choking \\nof the suppressed guinea-pigs, filled the air, mixed up with \\nthe distant sobs of the miserable Mock Turtle.\\nSo she sat on, with closed eyes, and half believed her -\\nself in Wonderland, though she knew she had but to open \\nthem again, and all would change to dull reality—the grass \\nwould be only rustling in the wind, and the pool rippling to \\nthe waving of the reeds—the rattling teacups would change \\nto tinkling sheepbells, and the Queen’s shrill cries to the \\nvoice of the shepherd boy—and the sneeze of the baby, the \\nshriek of the Gryphon, and all thy other queer noises, would 111 Free eBooks at Planet eBoo k.comchange (she knew) to the confused clamour of the busy \\nfarm-yard—while the lowing of the cattle in the distance \\nwould take the place of the Mock Turtle’s heavy sobs.\\nLastly, she pictured to herself how this same little sister \\nof hers would, in the after-time, be herself a grown wom -\\nan; and how she would keep, through all her riper years, \\nthe simple and loving heart of her childhood: and how \\nshe would gather about her other little children, and make \\nTHEIR eyes bright and eager with many a strange tale, per -\\nhaps even with the dream of Wonderland of long ago: and \\nhow she would feel with all their simple sorrows, and find \\na pleasure in all their simple joys, remembering her own \\nchild-life, and the happy summer days.']"
            ]
          },
          "execution_count": 814,
          "metadata": {},
          "output_type": "execute_result"
        }
      ],
      "source": [
        "chapters"
      ]
    },
    {
      "cell_type": "code",
      "execution_count": null,
      "metadata": {
        "id": "klNI_RIO8Btb"
      },
      "outputs": [],
      "source": [
        "import nltk\n",
        "from nltk.corpus import stopwords\n",
        "from nltk.tokenize import sent_tokenize, word_tokenize\n",
        "from nltk.tag import pos_tag\n",
        "# making a nested loop of all book details for every paragraph like chapter no, chapter name, texts, and storing all pos tags analysis in a dictionary\n",
        "\n",
        "pos_data=[]\n",
        "whole_book_data=[]\n",
        "for i in range(len(chapters)):\n",
        "\n",
        "    chapter_no=i   # chapter no\n",
        "    paragragh_no=1  # paragraph no in respective chapter\n",
        "    para_list=para(chapters,chapter_no)  # calling the function to extract all paragraphs from a chapter\n",
        "    chapter_title=chapters[i].split('\\n')[1]  # storing chapter title\n",
        "    chapter_no=i+1\n",
        "\n",
        "    for i in para_list[2:]:   # checking after 2 indexing, in list, first two elements are chapter number and chapter name so I removed\n",
        "        whole_book_data.append([chapter_no,chapter_title,paragragh_no,i,len(sent_tokenize(i)),len(word_tokenize(i))])\n",
        "        pos_data.append(analyze_pos_of_text(i))\n",
        "        paragragh_no+=1\n",
        "    paragragh_no=0\n"
      ]
    },
    {
      "cell_type": "code",
      "execution_count": null,
      "metadata": {
        "id": "8hAIrxA-8Btb",
        "outputId": "81773c25-416c-4c8b-c5a0-ddb0d67e4a4d"
      },
      "outputs": [
        {
          "data": {
            "text/plain": [
              "855"
            ]
          },
          "execution_count": 816,
          "metadata": {},
          "output_type": "execute_result"
        }
      ],
      "source": [
        "len(pos_data)"
      ]
    },
    {
      "cell_type": "code",
      "execution_count": null,
      "metadata": {
        "id": "ajsLBICw8Btb",
        "outputId": "2f6295f4-836b-44d0-dc66-f53efa5271fe"
      },
      "outputs": [
        {
          "data": {
            "text/plain": [
              "[1,\n",
              " 'Down the Rabbit-Hole',\n",
              " 8,\n",
              " 'Presently she began again. ‘I wonder if I shall fall right  through  the earth! How funny it’ll seem to come out among  the people that walk with their heads downward! The An - tipathies, I think—’ (she was rather glad there WAS no one  listening, this time, as it didn’t sound at all the right word)  ‘—but I shall have to ask them what the name of the country  is, you know. Please, Ma’am, is this New Zealand or Austra - lia?’ (and she tried to curtsey as she spoke—fancy curtseying   as you’re falling through the air! Do you think you could  manage it?) ‘And what an ignorant little girl she’ll think me  for asking! No, it’ll never do to ask: perhaps I shall see it  written up somewhere.’',\n",
              " 8,\n",
              " 168]"
            ]
          },
          "execution_count": 817,
          "metadata": {},
          "output_type": "execute_result"
        }
      ],
      "source": [
        "whole_book_data[7]"
      ]
    },
    {
      "cell_type": "code",
      "execution_count": null,
      "metadata": {
        "id": "ofk6iw5X8Btc",
        "outputId": "7c6c062b-39cb-4d02-84a6-d6aa4f7a6ae3"
      },
      "outputs": [
        {
          "data": {
            "text/plain": [
              "855"
            ]
          },
          "execution_count": 818,
          "metadata": {},
          "output_type": "execute_result"
        }
      ],
      "source": [
        "len(whole_book_data)"
      ]
    },
    {
      "cell_type": "markdown",
      "metadata": {
        "id": "UEWxp2nE8Btc"
      },
      "source": [
        "# creating dataframes"
      ]
    },
    {
      "cell_type": "code",
      "execution_count": null,
      "metadata": {
        "id": "pSITlv6p8Btf",
        "outputId": "654d2d28-b982-413d-abaf-4979c0c01118"
      },
      "outputs": [
        {
          "name": "stdout",
          "output_type": "stream",
          "text": [
            "     Chapter_No          Chapter_name  Paragraph no  \\\n",
            "0             1  Down the Rabbit-Hole             1   \n",
            "1             1  Down the Rabbit-Hole             2   \n",
            "2             1  Down the Rabbit-Hole             3   \n",
            "3             1  Down the Rabbit-Hole             4   \n",
            "4             1  Down the Rabbit-Hole             5   \n",
            "..          ...                   ...           ...   \n",
            "850          12      Alice’s Evidence            68   \n",
            "851          12      Alice’s Evidence            69   \n",
            "852          12      Alice’s Evidence            70   \n",
            "853          12      Alice’s Evidence            71   \n",
            "854          12      Alice’s Evidence            72   \n",
            "\n",
            "                                                  Text  no of sentence  \\\n",
            "0    So she was considering in her own mind (as wel...               1   \n",
            "1    There was nothing so very remarkable in that; ...               4   \n",
            "2    The rabbit-hole went straight on like a tunnel...               1   \n",
            "3    Either the well was very deep, or she fell ver...               3   \n",
            "4    MALADE’, but to her great disappointment it wa...               1   \n",
            "..                                                 ...             ...   \n",
            "850  But her sister sat still just as she left her,...               1   \n",
            "851  First, she dreamed of little Alice herself, an...               1   \n",
            "852  The long grass rustled at her feet as the Whit...               1   \n",
            "853  So she sat on, with closed eyes, and half beli...               1   \n",
            "854  Lastly, she pictured to herself how this same ...               1   \n",
            "\n",
            "     no of words  \n",
            "0             63  \n",
            "1            196  \n",
            "2             44  \n",
            "3            118  \n",
            "4             42  \n",
            "..           ...  \n",
            "850           56  \n",
            "851           92  \n",
            "852          118  \n",
            "853          137  \n",
            "854           61  \n",
            "\n",
            "[855 rows x 6 columns]\n"
          ]
        }
      ],
      "source": [
        "import pandas as pd\n",
        "\n",
        "# Create a DataFrame from the nested list of book data\n",
        "df1 = pd.DataFrame(whole_book_data, columns=['Chapter_No', 'Chapter_name', 'Paragraph no', 'Text', 'no of sentence', 'no of words'])\n",
        "\n",
        "# Display the DataFrame\n",
        "print(df1)\n"
      ]
    },
    {
      "cell_type": "code",
      "execution_count": null,
      "metadata": {
        "id": "Fj6nW4xP8Btg",
        "outputId": "256ad12f-7730-43be-b16b-588d576c6f9e"
      },
      "outputs": [
        {
          "data": {
            "text/html": [
              "<div>\n",
              "<style scoped>\n",
              "    .dataframe tbody tr th:only-of-type {\n",
              "        vertical-align: middle;\n",
              "    }\n",
              "\n",
              "    .dataframe tbody tr th {\n",
              "        vertical-align: top;\n",
              "    }\n",
              "\n",
              "    .dataframe thead th {\n",
              "        text-align: right;\n",
              "    }\n",
              "</style>\n",
              "<table border=\"1\" class=\"dataframe\">\n",
              "  <thead>\n",
              "    <tr style=\"text-align: right;\">\n",
              "      <th></th>\n",
              "      <th>Chapter_No</th>\n",
              "      <th>Chapter_name</th>\n",
              "      <th>Paragraph no</th>\n",
              "      <th>Text</th>\n",
              "      <th>no of sentence</th>\n",
              "      <th>no of words</th>\n",
              "    </tr>\n",
              "  </thead>\n",
              "  <tbody>\n",
              "    <tr>\n",
              "      <th>0</th>\n",
              "      <td>1</td>\n",
              "      <td>Down the Rabbit-Hole</td>\n",
              "      <td>1</td>\n",
              "      <td>So she was considering in her own mind (as wel...</td>\n",
              "      <td>1</td>\n",
              "      <td>63</td>\n",
              "    </tr>\n",
              "    <tr>\n",
              "      <th>1</th>\n",
              "      <td>1</td>\n",
              "      <td>Down the Rabbit-Hole</td>\n",
              "      <td>2</td>\n",
              "      <td>There was nothing so very remarkable in that; ...</td>\n",
              "      <td>4</td>\n",
              "      <td>196</td>\n",
              "    </tr>\n",
              "    <tr>\n",
              "      <th>2</th>\n",
              "      <td>1</td>\n",
              "      <td>Down the Rabbit-Hole</td>\n",
              "      <td>3</td>\n",
              "      <td>The rabbit-hole went straight on like a tunnel...</td>\n",
              "      <td>1</td>\n",
              "      <td>44</td>\n",
              "    </tr>\n",
              "    <tr>\n",
              "      <th>3</th>\n",
              "      <td>1</td>\n",
              "      <td>Down the Rabbit-Hole</td>\n",
              "      <td>4</td>\n",
              "      <td>Either the well was very deep, or she fell ver...</td>\n",
              "      <td>3</td>\n",
              "      <td>118</td>\n",
              "    </tr>\n",
              "    <tr>\n",
              "      <th>4</th>\n",
              "      <td>1</td>\n",
              "      <td>Down the Rabbit-Hole</td>\n",
              "      <td>5</td>\n",
              "      <td>MALADE’, but to her great disappointment it wa...</td>\n",
              "      <td>1</td>\n",
              "      <td>42</td>\n",
              "    </tr>\n",
              "  </tbody>\n",
              "</table>\n",
              "</div>"
            ],
            "text/plain": [
              "   Chapter_No          Chapter_name  Paragraph no  \\\n",
              "0           1  Down the Rabbit-Hole             1   \n",
              "1           1  Down the Rabbit-Hole             2   \n",
              "2           1  Down the Rabbit-Hole             3   \n",
              "3           1  Down the Rabbit-Hole             4   \n",
              "4           1  Down the Rabbit-Hole             5   \n",
              "\n",
              "                                                Text  no of sentence  \\\n",
              "0  So she was considering in her own mind (as wel...               1   \n",
              "1  There was nothing so very remarkable in that; ...               4   \n",
              "2  The rabbit-hole went straight on like a tunnel...               1   \n",
              "3  Either the well was very deep, or she fell ver...               3   \n",
              "4  MALADE’, but to her great disappointment it wa...               1   \n",
              "\n",
              "   no of words  \n",
              "0           63  \n",
              "1          196  \n",
              "2           44  \n",
              "3          118  \n",
              "4           42  "
            ]
          },
          "execution_count": 820,
          "metadata": {},
          "output_type": "execute_result"
        }
      ],
      "source": [
        "df1.head(5)"
      ]
    },
    {
      "cell_type": "code",
      "execution_count": null,
      "metadata": {
        "id": "goQTnHqg8Btg",
        "outputId": "de111f32-e2be-4209-95d2-a469f59ef2f4"
      },
      "outputs": [
        {
          "name": "stdout",
          "output_type": "stream",
          "text": [
            "      ADP  PRON  VERB   ADJ  NOUN     .   ADV   DET  CONJ   PRT    X  NUM\n",
            "0    10.0   5.0  10.0   6.0  10.0   7.0   6.0   6.0   2.0   1.0  0.0  0.0\n",
            "1    26.0  21.0  33.0   7.0  28.0  24.0  17.0  18.0   8.0  11.0  3.0  0.0\n",
            "2     7.0   3.0   7.0   2.0   6.0   4.0   7.0   5.0   1.0   2.0  0.0  0.0\n",
            "3    12.0  15.0  26.0   3.0  17.0  12.0   9.0   5.0   9.0   9.0  0.0  1.0\n",
            "4     7.0   6.0   7.0   2.0   7.0   4.0   2.0   2.0   1.0   3.0  0.0  1.0\n",
            "..    ...   ...   ...   ...   ...   ...   ...   ...   ...   ...  ...  ...\n",
            "850   5.0   8.0   8.0   2.0  15.0   6.0   3.0   4.0   4.0   0.0  0.0  1.0\n",
            "851  10.0   9.0  15.0  11.0  18.0   8.0   6.0   7.0   4.0   4.0  0.0  0.0\n",
            "852  14.0   5.0  15.0   9.0  39.0   9.0   0.0  19.0   4.0   3.0  1.0  0.0\n",
            "853  15.0   6.0  21.0   8.0  38.0  13.0   2.0  20.0   6.0   6.0  1.0  1.0\n",
            "854   5.0   7.0  10.0   6.0   9.0   9.0   4.0   6.0   4.0   1.0  0.0  0.0\n",
            "\n",
            "[855 rows x 12 columns]\n"
          ]
        }
      ],
      "source": [
        "import pandas as pd\n",
        "\n",
        "\n",
        "# Create DataFrame from the list of dictionaries of pos data analysis\n",
        "df2 = pd.DataFrame(pos_data)\n",
        "\n",
        "# Fill missing values with 0\n",
        "df2 = df2.fillna(0)\n",
        "\n",
        "# Display the DataFrame\n",
        "print(df2)\n"
      ]
    },
    {
      "cell_type": "code",
      "execution_count": null,
      "metadata": {
        "id": "LUl63l4B8Bth"
      },
      "outputs": [],
      "source": [
        "# merged both dataframes to make complete dataframe\n",
        "\n",
        "for col in df2:\n",
        "    df1[df2[col].name]=df2[col]"
      ]
    },
    {
      "cell_type": "code",
      "execution_count": null,
      "metadata": {
        "id": "fzb9j9HF8Bti",
        "outputId": "0407e3e2-afc0-43aa-f34f-0b6844d43dad"
      },
      "outputs": [
        {
          "data": {
            "text/html": [
              "<div>\n",
              "<style scoped>\n",
              "    .dataframe tbody tr th:only-of-type {\n",
              "        vertical-align: middle;\n",
              "    }\n",
              "\n",
              "    .dataframe tbody tr th {\n",
              "        vertical-align: top;\n",
              "    }\n",
              "\n",
              "    .dataframe thead th {\n",
              "        text-align: right;\n",
              "    }\n",
              "</style>\n",
              "<table border=\"1\" class=\"dataframe\">\n",
              "  <thead>\n",
              "    <tr style=\"text-align: right;\">\n",
              "      <th></th>\n",
              "      <th>Chapter_No</th>\n",
              "      <th>Chapter_name</th>\n",
              "      <th>Paragraph no</th>\n",
              "      <th>Text</th>\n",
              "      <th>no of sentence</th>\n",
              "      <th>no of words</th>\n",
              "      <th>ADP</th>\n",
              "      <th>PRON</th>\n",
              "      <th>VERB</th>\n",
              "      <th>ADJ</th>\n",
              "      <th>NOUN</th>\n",
              "      <th>.</th>\n",
              "      <th>ADV</th>\n",
              "      <th>DET</th>\n",
              "      <th>CONJ</th>\n",
              "      <th>PRT</th>\n",
              "      <th>X</th>\n",
              "      <th>NUM</th>\n",
              "    </tr>\n",
              "  </thead>\n",
              "  <tbody>\n",
              "    <tr>\n",
              "      <th>0</th>\n",
              "      <td>1</td>\n",
              "      <td>Down the Rabbit-Hole</td>\n",
              "      <td>1</td>\n",
              "      <td>So she was considering in her own mind (as wel...</td>\n",
              "      <td>1</td>\n",
              "      <td>63</td>\n",
              "      <td>10.0</td>\n",
              "      <td>5.0</td>\n",
              "      <td>10.0</td>\n",
              "      <td>6.0</td>\n",
              "      <td>10.0</td>\n",
              "      <td>7.0</td>\n",
              "      <td>6.0</td>\n",
              "      <td>6.0</td>\n",
              "      <td>2.0</td>\n",
              "      <td>1.0</td>\n",
              "      <td>0.0</td>\n",
              "      <td>0.0</td>\n",
              "    </tr>\n",
              "    <tr>\n",
              "      <th>1</th>\n",
              "      <td>1</td>\n",
              "      <td>Down the Rabbit-Hole</td>\n",
              "      <td>2</td>\n",
              "      <td>There was nothing so very remarkable in that; ...</td>\n",
              "      <td>4</td>\n",
              "      <td>196</td>\n",
              "      <td>26.0</td>\n",
              "      <td>21.0</td>\n",
              "      <td>33.0</td>\n",
              "      <td>7.0</td>\n",
              "      <td>28.0</td>\n",
              "      <td>24.0</td>\n",
              "      <td>17.0</td>\n",
              "      <td>18.0</td>\n",
              "      <td>8.0</td>\n",
              "      <td>11.0</td>\n",
              "      <td>3.0</td>\n",
              "      <td>0.0</td>\n",
              "    </tr>\n",
              "    <tr>\n",
              "      <th>2</th>\n",
              "      <td>1</td>\n",
              "      <td>Down the Rabbit-Hole</td>\n",
              "      <td>3</td>\n",
              "      <td>The rabbit-hole went straight on like a tunnel...</td>\n",
              "      <td>1</td>\n",
              "      <td>44</td>\n",
              "      <td>7.0</td>\n",
              "      <td>3.0</td>\n",
              "      <td>7.0</td>\n",
              "      <td>2.0</td>\n",
              "      <td>6.0</td>\n",
              "      <td>4.0</td>\n",
              "      <td>7.0</td>\n",
              "      <td>5.0</td>\n",
              "      <td>1.0</td>\n",
              "      <td>2.0</td>\n",
              "      <td>0.0</td>\n",
              "      <td>0.0</td>\n",
              "    </tr>\n",
              "    <tr>\n",
              "      <th>3</th>\n",
              "      <td>1</td>\n",
              "      <td>Down the Rabbit-Hole</td>\n",
              "      <td>4</td>\n",
              "      <td>Either the well was very deep, or she fell ver...</td>\n",
              "      <td>3</td>\n",
              "      <td>118</td>\n",
              "      <td>12.0</td>\n",
              "      <td>15.0</td>\n",
              "      <td>26.0</td>\n",
              "      <td>3.0</td>\n",
              "      <td>17.0</td>\n",
              "      <td>12.0</td>\n",
              "      <td>9.0</td>\n",
              "      <td>5.0</td>\n",
              "      <td>9.0</td>\n",
              "      <td>9.0</td>\n",
              "      <td>0.0</td>\n",
              "      <td>1.0</td>\n",
              "    </tr>\n",
              "    <tr>\n",
              "      <th>4</th>\n",
              "      <td>1</td>\n",
              "      <td>Down the Rabbit-Hole</td>\n",
              "      <td>5</td>\n",
              "      <td>MALADE’, but to her great disappointment it wa...</td>\n",
              "      <td>1</td>\n",
              "      <td>42</td>\n",
              "      <td>7.0</td>\n",
              "      <td>6.0</td>\n",
              "      <td>7.0</td>\n",
              "      <td>2.0</td>\n",
              "      <td>7.0</td>\n",
              "      <td>4.0</td>\n",
              "      <td>2.0</td>\n",
              "      <td>2.0</td>\n",
              "      <td>1.0</td>\n",
              "      <td>3.0</td>\n",
              "      <td>0.0</td>\n",
              "      <td>1.0</td>\n",
              "    </tr>\n",
              "    <tr>\n",
              "      <th>...</th>\n",
              "      <td>...</td>\n",
              "      <td>...</td>\n",
              "      <td>...</td>\n",
              "      <td>...</td>\n",
              "      <td>...</td>\n",
              "      <td>...</td>\n",
              "      <td>...</td>\n",
              "      <td>...</td>\n",
              "      <td>...</td>\n",
              "      <td>...</td>\n",
              "      <td>...</td>\n",
              "      <td>...</td>\n",
              "      <td>...</td>\n",
              "      <td>...</td>\n",
              "      <td>...</td>\n",
              "      <td>...</td>\n",
              "      <td>...</td>\n",
              "      <td>...</td>\n",
              "    </tr>\n",
              "    <tr>\n",
              "      <th>850</th>\n",
              "      <td>12</td>\n",
              "      <td>Alice’s Evidence</td>\n",
              "      <td>68</td>\n",
              "      <td>But her sister sat still just as she left her,...</td>\n",
              "      <td>1</td>\n",
              "      <td>56</td>\n",
              "      <td>5.0</td>\n",
              "      <td>8.0</td>\n",
              "      <td>8.0</td>\n",
              "      <td>2.0</td>\n",
              "      <td>15.0</td>\n",
              "      <td>6.0</td>\n",
              "      <td>3.0</td>\n",
              "      <td>4.0</td>\n",
              "      <td>4.0</td>\n",
              "      <td>0.0</td>\n",
              "      <td>0.0</td>\n",
              "      <td>1.0</td>\n",
              "    </tr>\n",
              "    <tr>\n",
              "      <th>851</th>\n",
              "      <td>12</td>\n",
              "      <td>Alice’s Evidence</td>\n",
              "      <td>69</td>\n",
              "      <td>First, she dreamed of little Alice herself, an...</td>\n",
              "      <td>1</td>\n",
              "      <td>92</td>\n",
              "      <td>10.0</td>\n",
              "      <td>9.0</td>\n",
              "      <td>15.0</td>\n",
              "      <td>11.0</td>\n",
              "      <td>18.0</td>\n",
              "      <td>8.0</td>\n",
              "      <td>6.0</td>\n",
              "      <td>7.0</td>\n",
              "      <td>4.0</td>\n",
              "      <td>4.0</td>\n",
              "      <td>0.0</td>\n",
              "      <td>0.0</td>\n",
              "    </tr>\n",
              "    <tr>\n",
              "      <th>852</th>\n",
              "      <td>12</td>\n",
              "      <td>Alice’s Evidence</td>\n",
              "      <td>70</td>\n",
              "      <td>The long grass rustled at her feet as the Whit...</td>\n",
              "      <td>1</td>\n",
              "      <td>118</td>\n",
              "      <td>14.0</td>\n",
              "      <td>5.0</td>\n",
              "      <td>15.0</td>\n",
              "      <td>9.0</td>\n",
              "      <td>39.0</td>\n",
              "      <td>9.0</td>\n",
              "      <td>0.0</td>\n",
              "      <td>19.0</td>\n",
              "      <td>4.0</td>\n",
              "      <td>3.0</td>\n",
              "      <td>1.0</td>\n",
              "      <td>0.0</td>\n",
              "    </tr>\n",
              "    <tr>\n",
              "      <th>853</th>\n",
              "      <td>12</td>\n",
              "      <td>Alice’s Evidence</td>\n",
              "      <td>71</td>\n",
              "      <td>So she sat on, with closed eyes, and half beli...</td>\n",
              "      <td>1</td>\n",
              "      <td>137</td>\n",
              "      <td>15.0</td>\n",
              "      <td>6.0</td>\n",
              "      <td>21.0</td>\n",
              "      <td>8.0</td>\n",
              "      <td>38.0</td>\n",
              "      <td>13.0</td>\n",
              "      <td>2.0</td>\n",
              "      <td>20.0</td>\n",
              "      <td>6.0</td>\n",
              "      <td>6.0</td>\n",
              "      <td>1.0</td>\n",
              "      <td>1.0</td>\n",
              "    </tr>\n",
              "    <tr>\n",
              "      <th>854</th>\n",
              "      <td>12</td>\n",
              "      <td>Alice’s Evidence</td>\n",
              "      <td>72</td>\n",
              "      <td>Lastly, she pictured to herself how this same ...</td>\n",
              "      <td>1</td>\n",
              "      <td>61</td>\n",
              "      <td>5.0</td>\n",
              "      <td>7.0</td>\n",
              "      <td>10.0</td>\n",
              "      <td>6.0</td>\n",
              "      <td>9.0</td>\n",
              "      <td>9.0</td>\n",
              "      <td>4.0</td>\n",
              "      <td>6.0</td>\n",
              "      <td>4.0</td>\n",
              "      <td>1.0</td>\n",
              "      <td>0.0</td>\n",
              "      <td>0.0</td>\n",
              "    </tr>\n",
              "  </tbody>\n",
              "</table>\n",
              "<p>855 rows × 18 columns</p>\n",
              "</div>"
            ],
            "text/plain": [
              "     Chapter_No          Chapter_name  Paragraph no  \\\n",
              "0             1  Down the Rabbit-Hole             1   \n",
              "1             1  Down the Rabbit-Hole             2   \n",
              "2             1  Down the Rabbit-Hole             3   \n",
              "3             1  Down the Rabbit-Hole             4   \n",
              "4             1  Down the Rabbit-Hole             5   \n",
              "..          ...                   ...           ...   \n",
              "850          12      Alice’s Evidence            68   \n",
              "851          12      Alice’s Evidence            69   \n",
              "852          12      Alice’s Evidence            70   \n",
              "853          12      Alice’s Evidence            71   \n",
              "854          12      Alice’s Evidence            72   \n",
              "\n",
              "                                                  Text  no of sentence  \\\n",
              "0    So she was considering in her own mind (as wel...               1   \n",
              "1    There was nothing so very remarkable in that; ...               4   \n",
              "2    The rabbit-hole went straight on like a tunnel...               1   \n",
              "3    Either the well was very deep, or she fell ver...               3   \n",
              "4    MALADE’, but to her great disappointment it wa...               1   \n",
              "..                                                 ...             ...   \n",
              "850  But her sister sat still just as she left her,...               1   \n",
              "851  First, she dreamed of little Alice herself, an...               1   \n",
              "852  The long grass rustled at her feet as the Whit...               1   \n",
              "853  So she sat on, with closed eyes, and half beli...               1   \n",
              "854  Lastly, she pictured to herself how this same ...               1   \n",
              "\n",
              "     no of words   ADP  PRON  VERB   ADJ  NOUN     .   ADV   DET  CONJ   PRT  \\\n",
              "0             63  10.0   5.0  10.0   6.0  10.0   7.0   6.0   6.0   2.0   1.0   \n",
              "1            196  26.0  21.0  33.0   7.0  28.0  24.0  17.0  18.0   8.0  11.0   \n",
              "2             44   7.0   3.0   7.0   2.0   6.0   4.0   7.0   5.0   1.0   2.0   \n",
              "3            118  12.0  15.0  26.0   3.0  17.0  12.0   9.0   5.0   9.0   9.0   \n",
              "4             42   7.0   6.0   7.0   2.0   7.0   4.0   2.0   2.0   1.0   3.0   \n",
              "..           ...   ...   ...   ...   ...   ...   ...   ...   ...   ...   ...   \n",
              "850           56   5.0   8.0   8.0   2.0  15.0   6.0   3.0   4.0   4.0   0.0   \n",
              "851           92  10.0   9.0  15.0  11.0  18.0   8.0   6.0   7.0   4.0   4.0   \n",
              "852          118  14.0   5.0  15.0   9.0  39.0   9.0   0.0  19.0   4.0   3.0   \n",
              "853          137  15.0   6.0  21.0   8.0  38.0  13.0   2.0  20.0   6.0   6.0   \n",
              "854           61   5.0   7.0  10.0   6.0   9.0   9.0   4.0   6.0   4.0   1.0   \n",
              "\n",
              "       X  NUM  \n",
              "0    0.0  0.0  \n",
              "1    3.0  0.0  \n",
              "2    0.0  0.0  \n",
              "3    0.0  1.0  \n",
              "4    0.0  1.0  \n",
              "..   ...  ...  \n",
              "850  0.0  1.0  \n",
              "851  0.0  0.0  \n",
              "852  1.0  0.0  \n",
              "853  1.0  1.0  \n",
              "854  0.0  0.0  \n",
              "\n",
              "[855 rows x 18 columns]"
            ]
          },
          "execution_count": 823,
          "metadata": {},
          "output_type": "execute_result"
        }
      ],
      "source": [
        "df1"
      ]
    },
    {
      "cell_type": "markdown",
      "metadata": {
        "id": "9cTp9pU58Bti"
      },
      "source": [
        "# saving this dataframe in csv file"
      ]
    },
    {
      "cell_type": "code",
      "execution_count": null,
      "metadata": {
        "id": "bsI6XTbz8Bti",
        "outputId": "49cf2458-6240-4c97-ce0b-d8d961e68fdd"
      },
      "outputs": [
        {
          "name": "stdout",
          "output_type": "stream",
          "text": [
            "CSV file saved successfully at book.csv\n"
          ]
        }
      ],
      "source": [
        "\n",
        "# Path where you want to save the CSV file\n",
        "file_path = 'book.csv'\n",
        "\n",
        "# Save the DataFrame to a CSV file\n",
        "df1.to_csv(file_path, index=False)  # Set index=False if you don't want to save row indices\n",
        "\n",
        "print(f\"CSV file saved successfully at {file_path}\")\n"
      ]
    },
    {
      "cell_type": "markdown",
      "metadata": {
        "id": "X76OWqCy8Bti"
      },
      "source": [
        "# Graphical Analysis of Book"
      ]
    },
    {
      "cell_type": "code",
      "execution_count": null,
      "metadata": {
        "id": "wPXrpdd58Btj",
        "outputId": "20cc00c6-646b-41b4-ad9b-02e70fefa86f"
      },
      "outputs": [
        {
          "data": {
            "application/vnd.plotly.v1+json": {
              "config": {
                "plotlyServerURL": "https://plot.ly"
              },
              "data": [
                {
                  "name": "Sentences",
                  "type": "bar",
                  "x": [
                    "A Caucus-Race and ",
                    "A Mad Tea-P arty",
                    "Advice from a Caterpillar",
                    "Alice’s Evidence",
                    "Down the Rabbit-Hole",
                    "Pig and Pepper",
                    "The Lobster Quadrille",
                    "The Mock T urtle’s Story",
                    "The Pool of Tears",
                    "The Queen’s Croquet-",
                    "The Rabbit Sends ",
                    "Who Stole the Tarts?"
                  ],
                  "y": [
                    94,
                    150,
                    107,
                    95,
                    68,
                    140,
                    146,
                    138,
                    106,
                    112,
                    113,
                    107
                  ]
                },
                {
                  "name": "Words",
                  "type": "bar",
                  "x": [
                    "A Caucus-Race and ",
                    "A Mad Tea-P arty",
                    "Advice from a Caterpillar",
                    "Alice’s Evidence",
                    "Down the Rabbit-Hole",
                    "Pig and Pepper",
                    "The Lobster Quadrille",
                    "The Mock T urtle’s Story",
                    "The Pool of Tears",
                    "The Queen’s Croquet-",
                    "The Rabbit Sends ",
                    "Who Stole the Tarts?"
                  ],
                  "y": [
                    2226,
                    3138,
                    2638,
                    2700,
                    2614,
                    3327,
                    2848,
                    3172,
                    2567,
                    3242,
                    3306,
                    2470
                  ]
                },
                {
                  "name": "NOUN",
                  "type": "bar",
                  "x": [
                    "A Caucus-Race and ",
                    "A Mad Tea-P arty",
                    "Advice from a Caterpillar",
                    "Alice’s Evidence",
                    "Down the Rabbit-Hole",
                    "Pig and Pepper",
                    "The Lobster Quadrille",
                    "The Mock T urtle’s Story",
                    "The Pool of Tears",
                    "The Queen’s Croquet-",
                    "The Rabbit Sends ",
                    "Who Stole the Tarts?"
                  ],
                  "y": [
                    488,
                    760,
                    555,
                    615,
                    466,
                    694,
                    730,
                    779,
                    503,
                    682,
                    650,
                    564
                  ]
                },
                {
                  "name": "VERB",
                  "type": "bar",
                  "x": [
                    "A Caucus-Race and ",
                    "A Mad Tea-P arty",
                    "Advice from a Caterpillar",
                    "Alice’s Evidence",
                    "Down the Rabbit-Hole",
                    "Pig and Pepper",
                    "The Lobster Quadrille",
                    "The Mock T urtle’s Story",
                    "The Pool of Tears",
                    "The Queen’s Croquet-",
                    "The Rabbit Sends ",
                    "Who Stole the Tarts?"
                  ],
                  "y": [
                    402,
                    614,
                    518,
                    492,
                    476,
                    640,
                    507,
                    589,
                    489,
                    628,
                    604,
                    447
                  ]
                },
                {
                  "name": "ADJ",
                  "type": "bar",
                  "x": [
                    "A Caucus-Race and ",
                    "A Mad Tea-P arty",
                    "Advice from a Caterpillar",
                    "Alice’s Evidence",
                    "Down the Rabbit-Hole",
                    "Pig and Pepper",
                    "The Lobster Quadrille",
                    "The Mock T urtle’s Story",
                    "The Pool of Tears",
                    "The Queen’s Croquet-",
                    "The Rabbit Sends ",
                    "Who Stole the Tarts?"
                  ],
                  "y": [
                    138,
                    175,
                    167,
                    148,
                    161,
                    176,
                    145,
                    188,
                    190,
                    157,
                    238,
                    127
                  ]
                },
                {
                  "name": "ADV",
                  "type": "bar",
                  "x": [
                    "A Caucus-Race and ",
                    "A Mad Tea-P arty",
                    "Advice from a Caterpillar",
                    "Alice’s Evidence",
                    "Down the Rabbit-Hole",
                    "Pig and Pepper",
                    "The Lobster Quadrille",
                    "The Mock T urtle’s Story",
                    "The Pool of Tears",
                    "The Queen’s Croquet-",
                    "The Rabbit Sends ",
                    "Who Stole the Tarts?"
                  ],
                  "y": [
                    137,
                    180,
                    178,
                    119,
                    206,
                    241,
                    175,
                    187,
                    168,
                    182,
                    195,
                    125
                  ]
                }
              ],
              "layout": {
                "barmode": "group",
                "template": {
                  "data": {
                    "bar": [
                      {
                        "error_x": {
                          "color": "#2a3f5f"
                        },
                        "error_y": {
                          "color": "#2a3f5f"
                        },
                        "marker": {
                          "line": {
                            "color": "#E5ECF6",
                            "width": 0.5
                          },
                          "pattern": {
                            "fillmode": "overlay",
                            "size": 10,
                            "solidity": 0.2
                          }
                        },
                        "type": "bar"
                      }
                    ],
                    "barpolar": [
                      {
                        "marker": {
                          "line": {
                            "color": "#E5ECF6",
                            "width": 0.5
                          },
                          "pattern": {
                            "fillmode": "overlay",
                            "size": 10,
                            "solidity": 0.2
                          }
                        },
                        "type": "barpolar"
                      }
                    ],
                    "carpet": [
                      {
                        "aaxis": {
                          "endlinecolor": "#2a3f5f",
                          "gridcolor": "white",
                          "linecolor": "white",
                          "minorgridcolor": "white",
                          "startlinecolor": "#2a3f5f"
                        },
                        "baxis": {
                          "endlinecolor": "#2a3f5f",
                          "gridcolor": "white",
                          "linecolor": "white",
                          "minorgridcolor": "white",
                          "startlinecolor": "#2a3f5f"
                        },
                        "type": "carpet"
                      }
                    ],
                    "choropleth": [
                      {
                        "colorbar": {
                          "outlinewidth": 0,
                          "ticks": ""
                        },
                        "type": "choropleth"
                      }
                    ],
                    "contour": [
                      {
                        "colorbar": {
                          "outlinewidth": 0,
                          "ticks": ""
                        },
                        "colorscale": [
                          [
                            0,
                            "#0d0887"
                          ],
                          [
                            0.1111111111111111,
                            "#46039f"
                          ],
                          [
                            0.2222222222222222,
                            "#7201a8"
                          ],
                          [
                            0.3333333333333333,
                            "#9c179e"
                          ],
                          [
                            0.4444444444444444,
                            "#bd3786"
                          ],
                          [
                            0.5555555555555556,
                            "#d8576b"
                          ],
                          [
                            0.6666666666666666,
                            "#ed7953"
                          ],
                          [
                            0.7777777777777778,
                            "#fb9f3a"
                          ],
                          [
                            0.8888888888888888,
                            "#fdca26"
                          ],
                          [
                            1,
                            "#f0f921"
                          ]
                        ],
                        "type": "contour"
                      }
                    ],
                    "contourcarpet": [
                      {
                        "colorbar": {
                          "outlinewidth": 0,
                          "ticks": ""
                        },
                        "type": "contourcarpet"
                      }
                    ],
                    "heatmap": [
                      {
                        "colorbar": {
                          "outlinewidth": 0,
                          "ticks": ""
                        },
                        "colorscale": [
                          [
                            0,
                            "#0d0887"
                          ],
                          [
                            0.1111111111111111,
                            "#46039f"
                          ],
                          [
                            0.2222222222222222,
                            "#7201a8"
                          ],
                          [
                            0.3333333333333333,
                            "#9c179e"
                          ],
                          [
                            0.4444444444444444,
                            "#bd3786"
                          ],
                          [
                            0.5555555555555556,
                            "#d8576b"
                          ],
                          [
                            0.6666666666666666,
                            "#ed7953"
                          ],
                          [
                            0.7777777777777778,
                            "#fb9f3a"
                          ],
                          [
                            0.8888888888888888,
                            "#fdca26"
                          ],
                          [
                            1,
                            "#f0f921"
                          ]
                        ],
                        "type": "heatmap"
                      }
                    ],
                    "heatmapgl": [
                      {
                        "colorbar": {
                          "outlinewidth": 0,
                          "ticks": ""
                        },
                        "colorscale": [
                          [
                            0,
                            "#0d0887"
                          ],
                          [
                            0.1111111111111111,
                            "#46039f"
                          ],
                          [
                            0.2222222222222222,
                            "#7201a8"
                          ],
                          [
                            0.3333333333333333,
                            "#9c179e"
                          ],
                          [
                            0.4444444444444444,
                            "#bd3786"
                          ],
                          [
                            0.5555555555555556,
                            "#d8576b"
                          ],
                          [
                            0.6666666666666666,
                            "#ed7953"
                          ],
                          [
                            0.7777777777777778,
                            "#fb9f3a"
                          ],
                          [
                            0.8888888888888888,
                            "#fdca26"
                          ],
                          [
                            1,
                            "#f0f921"
                          ]
                        ],
                        "type": "heatmapgl"
                      }
                    ],
                    "histogram": [
                      {
                        "marker": {
                          "pattern": {
                            "fillmode": "overlay",
                            "size": 10,
                            "solidity": 0.2
                          }
                        },
                        "type": "histogram"
                      }
                    ],
                    "histogram2d": [
                      {
                        "colorbar": {
                          "outlinewidth": 0,
                          "ticks": ""
                        },
                        "colorscale": [
                          [
                            0,
                            "#0d0887"
                          ],
                          [
                            0.1111111111111111,
                            "#46039f"
                          ],
                          [
                            0.2222222222222222,
                            "#7201a8"
                          ],
                          [
                            0.3333333333333333,
                            "#9c179e"
                          ],
                          [
                            0.4444444444444444,
                            "#bd3786"
                          ],
                          [
                            0.5555555555555556,
                            "#d8576b"
                          ],
                          [
                            0.6666666666666666,
                            "#ed7953"
                          ],
                          [
                            0.7777777777777778,
                            "#fb9f3a"
                          ],
                          [
                            0.8888888888888888,
                            "#fdca26"
                          ],
                          [
                            1,
                            "#f0f921"
                          ]
                        ],
                        "type": "histogram2d"
                      }
                    ],
                    "histogram2dcontour": [
                      {
                        "colorbar": {
                          "outlinewidth": 0,
                          "ticks": ""
                        },
                        "colorscale": [
                          [
                            0,
                            "#0d0887"
                          ],
                          [
                            0.1111111111111111,
                            "#46039f"
                          ],
                          [
                            0.2222222222222222,
                            "#7201a8"
                          ],
                          [
                            0.3333333333333333,
                            "#9c179e"
                          ],
                          [
                            0.4444444444444444,
                            "#bd3786"
                          ],
                          [
                            0.5555555555555556,
                            "#d8576b"
                          ],
                          [
                            0.6666666666666666,
                            "#ed7953"
                          ],
                          [
                            0.7777777777777778,
                            "#fb9f3a"
                          ],
                          [
                            0.8888888888888888,
                            "#fdca26"
                          ],
                          [
                            1,
                            "#f0f921"
                          ]
                        ],
                        "type": "histogram2dcontour"
                      }
                    ],
                    "mesh3d": [
                      {
                        "colorbar": {
                          "outlinewidth": 0,
                          "ticks": ""
                        },
                        "type": "mesh3d"
                      }
                    ],
                    "parcoords": [
                      {
                        "line": {
                          "colorbar": {
                            "outlinewidth": 0,
                            "ticks": ""
                          }
                        },
                        "type": "parcoords"
                      }
                    ],
                    "pie": [
                      {
                        "automargin": true,
                        "type": "pie"
                      }
                    ],
                    "scatter": [
                      {
                        "fillpattern": {
                          "fillmode": "overlay",
                          "size": 10,
                          "solidity": 0.2
                        },
                        "type": "scatter"
                      }
                    ],
                    "scatter3d": [
                      {
                        "line": {
                          "colorbar": {
                            "outlinewidth": 0,
                            "ticks": ""
                          }
                        },
                        "marker": {
                          "colorbar": {
                            "outlinewidth": 0,
                            "ticks": ""
                          }
                        },
                        "type": "scatter3d"
                      }
                    ],
                    "scattercarpet": [
                      {
                        "marker": {
                          "colorbar": {
                            "outlinewidth": 0,
                            "ticks": ""
                          }
                        },
                        "type": "scattercarpet"
                      }
                    ],
                    "scattergeo": [
                      {
                        "marker": {
                          "colorbar": {
                            "outlinewidth": 0,
                            "ticks": ""
                          }
                        },
                        "type": "scattergeo"
                      }
                    ],
                    "scattergl": [
                      {
                        "marker": {
                          "colorbar": {
                            "outlinewidth": 0,
                            "ticks": ""
                          }
                        },
                        "type": "scattergl"
                      }
                    ],
                    "scattermapbox": [
                      {
                        "marker": {
                          "colorbar": {
                            "outlinewidth": 0,
                            "ticks": ""
                          }
                        },
                        "type": "scattermapbox"
                      }
                    ],
                    "scatterpolar": [
                      {
                        "marker": {
                          "colorbar": {
                            "outlinewidth": 0,
                            "ticks": ""
                          }
                        },
                        "type": "scatterpolar"
                      }
                    ],
                    "scatterpolargl": [
                      {
                        "marker": {
                          "colorbar": {
                            "outlinewidth": 0,
                            "ticks": ""
                          }
                        },
                        "type": "scatterpolargl"
                      }
                    ],
                    "scatterternary": [
                      {
                        "marker": {
                          "colorbar": {
                            "outlinewidth": 0,
                            "ticks": ""
                          }
                        },
                        "type": "scatterternary"
                      }
                    ],
                    "surface": [
                      {
                        "colorbar": {
                          "outlinewidth": 0,
                          "ticks": ""
                        },
                        "colorscale": [
                          [
                            0,
                            "#0d0887"
                          ],
                          [
                            0.1111111111111111,
                            "#46039f"
                          ],
                          [
                            0.2222222222222222,
                            "#7201a8"
                          ],
                          [
                            0.3333333333333333,
                            "#9c179e"
                          ],
                          [
                            0.4444444444444444,
                            "#bd3786"
                          ],
                          [
                            0.5555555555555556,
                            "#d8576b"
                          ],
                          [
                            0.6666666666666666,
                            "#ed7953"
                          ],
                          [
                            0.7777777777777778,
                            "#fb9f3a"
                          ],
                          [
                            0.8888888888888888,
                            "#fdca26"
                          ],
                          [
                            1,
                            "#f0f921"
                          ]
                        ],
                        "type": "surface"
                      }
                    ],
                    "table": [
                      {
                        "cells": {
                          "fill": {
                            "color": "#EBF0F8"
                          },
                          "line": {
                            "color": "white"
                          }
                        },
                        "header": {
                          "fill": {
                            "color": "#C8D4E3"
                          },
                          "line": {
                            "color": "white"
                          }
                        },
                        "type": "table"
                      }
                    ]
                  },
                  "layout": {
                    "annotationdefaults": {
                      "arrowcolor": "#2a3f5f",
                      "arrowhead": 0,
                      "arrowwidth": 1
                    },
                    "autotypenumbers": "strict",
                    "coloraxis": {
                      "colorbar": {
                        "outlinewidth": 0,
                        "ticks": ""
                      }
                    },
                    "colorscale": {
                      "diverging": [
                        [
                          0,
                          "#8e0152"
                        ],
                        [
                          0.1,
                          "#c51b7d"
                        ],
                        [
                          0.2,
                          "#de77ae"
                        ],
                        [
                          0.3,
                          "#f1b6da"
                        ],
                        [
                          0.4,
                          "#fde0ef"
                        ],
                        [
                          0.5,
                          "#f7f7f7"
                        ],
                        [
                          0.6,
                          "#e6f5d0"
                        ],
                        [
                          0.7,
                          "#b8e186"
                        ],
                        [
                          0.8,
                          "#7fbc41"
                        ],
                        [
                          0.9,
                          "#4d9221"
                        ],
                        [
                          1,
                          "#276419"
                        ]
                      ],
                      "sequential": [
                        [
                          0,
                          "#0d0887"
                        ],
                        [
                          0.1111111111111111,
                          "#46039f"
                        ],
                        [
                          0.2222222222222222,
                          "#7201a8"
                        ],
                        [
                          0.3333333333333333,
                          "#9c179e"
                        ],
                        [
                          0.4444444444444444,
                          "#bd3786"
                        ],
                        [
                          0.5555555555555556,
                          "#d8576b"
                        ],
                        [
                          0.6666666666666666,
                          "#ed7953"
                        ],
                        [
                          0.7777777777777778,
                          "#fb9f3a"
                        ],
                        [
                          0.8888888888888888,
                          "#fdca26"
                        ],
                        [
                          1,
                          "#f0f921"
                        ]
                      ],
                      "sequentialminus": [
                        [
                          0,
                          "#0d0887"
                        ],
                        [
                          0.1111111111111111,
                          "#46039f"
                        ],
                        [
                          0.2222222222222222,
                          "#7201a8"
                        ],
                        [
                          0.3333333333333333,
                          "#9c179e"
                        ],
                        [
                          0.4444444444444444,
                          "#bd3786"
                        ],
                        [
                          0.5555555555555556,
                          "#d8576b"
                        ],
                        [
                          0.6666666666666666,
                          "#ed7953"
                        ],
                        [
                          0.7777777777777778,
                          "#fb9f3a"
                        ],
                        [
                          0.8888888888888888,
                          "#fdca26"
                        ],
                        [
                          1,
                          "#f0f921"
                        ]
                      ]
                    },
                    "colorway": [
                      "#636efa",
                      "#EF553B",
                      "#00cc96",
                      "#ab63fa",
                      "#FFA15A",
                      "#19d3f3",
                      "#FF6692",
                      "#B6E880",
                      "#FF97FF",
                      "#FECB52"
                    ],
                    "font": {
                      "color": "#2a3f5f"
                    },
                    "geo": {
                      "bgcolor": "white",
                      "lakecolor": "white",
                      "landcolor": "#E5ECF6",
                      "showlakes": true,
                      "showland": true,
                      "subunitcolor": "white"
                    },
                    "hoverlabel": {
                      "align": "left"
                    },
                    "hovermode": "closest",
                    "mapbox": {
                      "style": "light"
                    },
                    "paper_bgcolor": "white",
                    "plot_bgcolor": "#E5ECF6",
                    "polar": {
                      "angularaxis": {
                        "gridcolor": "white",
                        "linecolor": "white",
                        "ticks": ""
                      },
                      "bgcolor": "#E5ECF6",
                      "radialaxis": {
                        "gridcolor": "white",
                        "linecolor": "white",
                        "ticks": ""
                      }
                    },
                    "scene": {
                      "xaxis": {
                        "backgroundcolor": "#E5ECF6",
                        "gridcolor": "white",
                        "gridwidth": 2,
                        "linecolor": "white",
                        "showbackground": true,
                        "ticks": "",
                        "zerolinecolor": "white"
                      },
                      "yaxis": {
                        "backgroundcolor": "#E5ECF6",
                        "gridcolor": "white",
                        "gridwidth": 2,
                        "linecolor": "white",
                        "showbackground": true,
                        "ticks": "",
                        "zerolinecolor": "white"
                      },
                      "zaxis": {
                        "backgroundcolor": "#E5ECF6",
                        "gridcolor": "white",
                        "gridwidth": 2,
                        "linecolor": "white",
                        "showbackground": true,
                        "ticks": "",
                        "zerolinecolor": "white"
                      }
                    },
                    "shapedefaults": {
                      "line": {
                        "color": "#2a3f5f"
                      }
                    },
                    "ternary": {
                      "aaxis": {
                        "gridcolor": "white",
                        "linecolor": "white",
                        "ticks": ""
                      },
                      "baxis": {
                        "gridcolor": "white",
                        "linecolor": "white",
                        "ticks": ""
                      },
                      "bgcolor": "#E5ECF6",
                      "caxis": {
                        "gridcolor": "white",
                        "linecolor": "white",
                        "ticks": ""
                      }
                    },
                    "title": {
                      "x": 0.05
                    },
                    "xaxis": {
                      "automargin": true,
                      "gridcolor": "white",
                      "linecolor": "white",
                      "ticks": "",
                      "title": {
                        "standoff": 15
                      },
                      "zerolinecolor": "white",
                      "zerolinewidth": 2
                    },
                    "yaxis": {
                      "automargin": true,
                      "gridcolor": "white",
                      "linecolor": "white",
                      "ticks": "",
                      "title": {
                        "standoff": 15
                      },
                      "zerolinecolor": "white",
                      "zerolinewidth": 2
                    }
                  }
                },
                "title": {
                  "text": "Metrics per Chapter"
                },
                "xaxis": {
                  "title": {
                    "text": "Chapter_name"
                  }
                },
                "yaxis": {
                  "title": {
                    "text": "Count"
                  }
                }
              }
            }
          },
          "metadata": {},
          "output_type": "display_data"
        }
      ],
      "source": [
        "import pandas as pd\n",
        "import plotly.graph_objects as go\n",
        "\n",
        "\n",
        "# Group by Chapter_name and aggregate metrics\n",
        "chapter_metrics = df1.groupby('Chapter_name').agg({\n",
        "    'no of sentence': 'sum',\n",
        "    'no of words': 'sum',\n",
        "    'NOUN': 'sum',\n",
        "    'VERB': 'sum',\n",
        "    'ADJ': 'sum',\n",
        "    'ADV': 'sum'\n",
        "}).reset_index()\n",
        "\n",
        "# Create the consolidated figure\n",
        "fig = go.Figure()\n",
        "\n",
        "# Add bar plots for each metric\n",
        "fig.add_trace(go.Bar(x=chapter_metrics['Chapter_name'], y=chapter_metrics['no of sentence'], name='Sentences'))\n",
        "fig.add_trace(go.Bar(x=chapter_metrics['Chapter_name'], y=chapter_metrics['no of words'], name='Words'))\n",
        "fig.add_trace(go.Bar(x=chapter_metrics['Chapter_name'], y=chapter_metrics['NOUN'], name='NOUN'))\n",
        "fig.add_trace(go.Bar(x=chapter_metrics['Chapter_name'], y=chapter_metrics['VERB'], name='VERB'))\n",
        "fig.add_trace(go.Bar(x=chapter_metrics['Chapter_name'], y=chapter_metrics['ADJ'], name='ADJ'))\n",
        "fig.add_trace(go.Bar(x=chapter_metrics['Chapter_name'], y=chapter_metrics['ADV'], name='ADV'))\n",
        "\n",
        "# Update layout\n",
        "fig.update_layout(barmode='group', title='Metrics per Chapter',\n",
        "                  xaxis_title='Chapter_name', yaxis_title='Count')\n",
        "\n",
        "# Show the plot\n",
        "fig.show()\n"
      ]
    },
    {
      "cell_type": "code",
      "execution_count": null,
      "metadata": {
        "id": "Cj-XVmk88Btk",
        "outputId": "7b56f88e-6323-4d25-f100-82b6e22855ae"
      },
      "outputs": [
        {
          "data": {
            "application/vnd.plotly.v1+json": {
              "config": {
                "plotlyServerURL": "https://plot.ly"
              },
              "data": [
                {
                  "name": "Sentences",
                  "type": "bar",
                  "x": [
                    "A Caucus-Race and ",
                    "A Mad Tea-P arty",
                    "Advice from a Caterpillar",
                    "Alice’s Evidence",
                    "Down the Rabbit-Hole",
                    "Pig and Pepper",
                    "The Lobster Quadrille",
                    "The Mock T urtle’s Story",
                    "The Pool of Tears",
                    "The Queen’s Croquet-",
                    "The Rabbit Sends ",
                    "Who Stole the Tarts?"
                  ],
                  "y": [
                    94,
                    150,
                    107,
                    95,
                    68,
                    140,
                    146,
                    138,
                    106,
                    112,
                    113,
                    107
                  ]
                },
                {
                  "name": "Words",
                  "type": "bar",
                  "x": [
                    "A Caucus-Race and ",
                    "A Mad Tea-P arty",
                    "Advice from a Caterpillar",
                    "Alice’s Evidence",
                    "Down the Rabbit-Hole",
                    "Pig and Pepper",
                    "The Lobster Quadrille",
                    "The Mock T urtle’s Story",
                    "The Pool of Tears",
                    "The Queen’s Croquet-",
                    "The Rabbit Sends ",
                    "Who Stole the Tarts?"
                  ],
                  "y": [
                    2226,
                    3138,
                    2638,
                    2700,
                    2614,
                    3327,
                    2848,
                    3172,
                    2567,
                    3242,
                    3306,
                    2470
                  ]
                },
                {
                  "name": "NOUN",
                  "type": "bar",
                  "x": [
                    "A Caucus-Race and ",
                    "A Mad Tea-P arty",
                    "Advice from a Caterpillar",
                    "Alice’s Evidence",
                    "Down the Rabbit-Hole",
                    "Pig and Pepper",
                    "The Lobster Quadrille",
                    "The Mock T urtle’s Story",
                    "The Pool of Tears",
                    "The Queen’s Croquet-",
                    "The Rabbit Sends ",
                    "Who Stole the Tarts?"
                  ],
                  "y": [
                    488,
                    760,
                    555,
                    615,
                    466,
                    694,
                    730,
                    779,
                    503,
                    682,
                    650,
                    564
                  ]
                },
                {
                  "name": "VERB",
                  "type": "bar",
                  "x": [
                    "A Caucus-Race and ",
                    "A Mad Tea-P arty",
                    "Advice from a Caterpillar",
                    "Alice’s Evidence",
                    "Down the Rabbit-Hole",
                    "Pig and Pepper",
                    "The Lobster Quadrille",
                    "The Mock T urtle’s Story",
                    "The Pool of Tears",
                    "The Queen’s Croquet-",
                    "The Rabbit Sends ",
                    "Who Stole the Tarts?"
                  ],
                  "y": [
                    402,
                    614,
                    518,
                    492,
                    476,
                    640,
                    507,
                    589,
                    489,
                    628,
                    604,
                    447
                  ]
                },
                {
                  "name": "ADJ",
                  "type": "bar",
                  "x": [
                    "A Caucus-Race and ",
                    "A Mad Tea-P arty",
                    "Advice from a Caterpillar",
                    "Alice’s Evidence",
                    "Down the Rabbit-Hole",
                    "Pig and Pepper",
                    "The Lobster Quadrille",
                    "The Mock T urtle’s Story",
                    "The Pool of Tears",
                    "The Queen’s Croquet-",
                    "The Rabbit Sends ",
                    "Who Stole the Tarts?"
                  ],
                  "y": [
                    138,
                    175,
                    167,
                    148,
                    161,
                    176,
                    145,
                    188,
                    190,
                    157,
                    238,
                    127
                  ]
                },
                {
                  "name": "ADV",
                  "type": "bar",
                  "x": [
                    "A Caucus-Race and ",
                    "A Mad Tea-P arty",
                    "Advice from a Caterpillar",
                    "Alice’s Evidence",
                    "Down the Rabbit-Hole",
                    "Pig and Pepper",
                    "The Lobster Quadrille",
                    "The Mock T urtle’s Story",
                    "The Pool of Tears",
                    "The Queen’s Croquet-",
                    "The Rabbit Sends ",
                    "Who Stole the Tarts?"
                  ],
                  "y": [
                    137,
                    180,
                    178,
                    119,
                    206,
                    241,
                    175,
                    187,
                    168,
                    182,
                    195,
                    125
                  ]
                }
              ],
              "layout": {
                "barmode": "group",
                "template": {
                  "data": {
                    "bar": [
                      {
                        "error_x": {
                          "color": "#2a3f5f"
                        },
                        "error_y": {
                          "color": "#2a3f5f"
                        },
                        "marker": {
                          "line": {
                            "color": "#E5ECF6",
                            "width": 0.5
                          },
                          "pattern": {
                            "fillmode": "overlay",
                            "size": 10,
                            "solidity": 0.2
                          }
                        },
                        "type": "bar"
                      }
                    ],
                    "barpolar": [
                      {
                        "marker": {
                          "line": {
                            "color": "#E5ECF6",
                            "width": 0.5
                          },
                          "pattern": {
                            "fillmode": "overlay",
                            "size": 10,
                            "solidity": 0.2
                          }
                        },
                        "type": "barpolar"
                      }
                    ],
                    "carpet": [
                      {
                        "aaxis": {
                          "endlinecolor": "#2a3f5f",
                          "gridcolor": "white",
                          "linecolor": "white",
                          "minorgridcolor": "white",
                          "startlinecolor": "#2a3f5f"
                        },
                        "baxis": {
                          "endlinecolor": "#2a3f5f",
                          "gridcolor": "white",
                          "linecolor": "white",
                          "minorgridcolor": "white",
                          "startlinecolor": "#2a3f5f"
                        },
                        "type": "carpet"
                      }
                    ],
                    "choropleth": [
                      {
                        "colorbar": {
                          "outlinewidth": 0,
                          "ticks": ""
                        },
                        "type": "choropleth"
                      }
                    ],
                    "contour": [
                      {
                        "colorbar": {
                          "outlinewidth": 0,
                          "ticks": ""
                        },
                        "colorscale": [
                          [
                            0,
                            "#0d0887"
                          ],
                          [
                            0.1111111111111111,
                            "#46039f"
                          ],
                          [
                            0.2222222222222222,
                            "#7201a8"
                          ],
                          [
                            0.3333333333333333,
                            "#9c179e"
                          ],
                          [
                            0.4444444444444444,
                            "#bd3786"
                          ],
                          [
                            0.5555555555555556,
                            "#d8576b"
                          ],
                          [
                            0.6666666666666666,
                            "#ed7953"
                          ],
                          [
                            0.7777777777777778,
                            "#fb9f3a"
                          ],
                          [
                            0.8888888888888888,
                            "#fdca26"
                          ],
                          [
                            1,
                            "#f0f921"
                          ]
                        ],
                        "type": "contour"
                      }
                    ],
                    "contourcarpet": [
                      {
                        "colorbar": {
                          "outlinewidth": 0,
                          "ticks": ""
                        },
                        "type": "contourcarpet"
                      }
                    ],
                    "heatmap": [
                      {
                        "colorbar": {
                          "outlinewidth": 0,
                          "ticks": ""
                        },
                        "colorscale": [
                          [
                            0,
                            "#0d0887"
                          ],
                          [
                            0.1111111111111111,
                            "#46039f"
                          ],
                          [
                            0.2222222222222222,
                            "#7201a8"
                          ],
                          [
                            0.3333333333333333,
                            "#9c179e"
                          ],
                          [
                            0.4444444444444444,
                            "#bd3786"
                          ],
                          [
                            0.5555555555555556,
                            "#d8576b"
                          ],
                          [
                            0.6666666666666666,
                            "#ed7953"
                          ],
                          [
                            0.7777777777777778,
                            "#fb9f3a"
                          ],
                          [
                            0.8888888888888888,
                            "#fdca26"
                          ],
                          [
                            1,
                            "#f0f921"
                          ]
                        ],
                        "type": "heatmap"
                      }
                    ],
                    "heatmapgl": [
                      {
                        "colorbar": {
                          "outlinewidth": 0,
                          "ticks": ""
                        },
                        "colorscale": [
                          [
                            0,
                            "#0d0887"
                          ],
                          [
                            0.1111111111111111,
                            "#46039f"
                          ],
                          [
                            0.2222222222222222,
                            "#7201a8"
                          ],
                          [
                            0.3333333333333333,
                            "#9c179e"
                          ],
                          [
                            0.4444444444444444,
                            "#bd3786"
                          ],
                          [
                            0.5555555555555556,
                            "#d8576b"
                          ],
                          [
                            0.6666666666666666,
                            "#ed7953"
                          ],
                          [
                            0.7777777777777778,
                            "#fb9f3a"
                          ],
                          [
                            0.8888888888888888,
                            "#fdca26"
                          ],
                          [
                            1,
                            "#f0f921"
                          ]
                        ],
                        "type": "heatmapgl"
                      }
                    ],
                    "histogram": [
                      {
                        "marker": {
                          "pattern": {
                            "fillmode": "overlay",
                            "size": 10,
                            "solidity": 0.2
                          }
                        },
                        "type": "histogram"
                      }
                    ],
                    "histogram2d": [
                      {
                        "colorbar": {
                          "outlinewidth": 0,
                          "ticks": ""
                        },
                        "colorscale": [
                          [
                            0,
                            "#0d0887"
                          ],
                          [
                            0.1111111111111111,
                            "#46039f"
                          ],
                          [
                            0.2222222222222222,
                            "#7201a8"
                          ],
                          [
                            0.3333333333333333,
                            "#9c179e"
                          ],
                          [
                            0.4444444444444444,
                            "#bd3786"
                          ],
                          [
                            0.5555555555555556,
                            "#d8576b"
                          ],
                          [
                            0.6666666666666666,
                            "#ed7953"
                          ],
                          [
                            0.7777777777777778,
                            "#fb9f3a"
                          ],
                          [
                            0.8888888888888888,
                            "#fdca26"
                          ],
                          [
                            1,
                            "#f0f921"
                          ]
                        ],
                        "type": "histogram2d"
                      }
                    ],
                    "histogram2dcontour": [
                      {
                        "colorbar": {
                          "outlinewidth": 0,
                          "ticks": ""
                        },
                        "colorscale": [
                          [
                            0,
                            "#0d0887"
                          ],
                          [
                            0.1111111111111111,
                            "#46039f"
                          ],
                          [
                            0.2222222222222222,
                            "#7201a8"
                          ],
                          [
                            0.3333333333333333,
                            "#9c179e"
                          ],
                          [
                            0.4444444444444444,
                            "#bd3786"
                          ],
                          [
                            0.5555555555555556,
                            "#d8576b"
                          ],
                          [
                            0.6666666666666666,
                            "#ed7953"
                          ],
                          [
                            0.7777777777777778,
                            "#fb9f3a"
                          ],
                          [
                            0.8888888888888888,
                            "#fdca26"
                          ],
                          [
                            1,
                            "#f0f921"
                          ]
                        ],
                        "type": "histogram2dcontour"
                      }
                    ],
                    "mesh3d": [
                      {
                        "colorbar": {
                          "outlinewidth": 0,
                          "ticks": ""
                        },
                        "type": "mesh3d"
                      }
                    ],
                    "parcoords": [
                      {
                        "line": {
                          "colorbar": {
                            "outlinewidth": 0,
                            "ticks": ""
                          }
                        },
                        "type": "parcoords"
                      }
                    ],
                    "pie": [
                      {
                        "automargin": true,
                        "type": "pie"
                      }
                    ],
                    "scatter": [
                      {
                        "fillpattern": {
                          "fillmode": "overlay",
                          "size": 10,
                          "solidity": 0.2
                        },
                        "type": "scatter"
                      }
                    ],
                    "scatter3d": [
                      {
                        "line": {
                          "colorbar": {
                            "outlinewidth": 0,
                            "ticks": ""
                          }
                        },
                        "marker": {
                          "colorbar": {
                            "outlinewidth": 0,
                            "ticks": ""
                          }
                        },
                        "type": "scatter3d"
                      }
                    ],
                    "scattercarpet": [
                      {
                        "marker": {
                          "colorbar": {
                            "outlinewidth": 0,
                            "ticks": ""
                          }
                        },
                        "type": "scattercarpet"
                      }
                    ],
                    "scattergeo": [
                      {
                        "marker": {
                          "colorbar": {
                            "outlinewidth": 0,
                            "ticks": ""
                          }
                        },
                        "type": "scattergeo"
                      }
                    ],
                    "scattergl": [
                      {
                        "marker": {
                          "colorbar": {
                            "outlinewidth": 0,
                            "ticks": ""
                          }
                        },
                        "type": "scattergl"
                      }
                    ],
                    "scattermapbox": [
                      {
                        "marker": {
                          "colorbar": {
                            "outlinewidth": 0,
                            "ticks": ""
                          }
                        },
                        "type": "scattermapbox"
                      }
                    ],
                    "scatterpolar": [
                      {
                        "marker": {
                          "colorbar": {
                            "outlinewidth": 0,
                            "ticks": ""
                          }
                        },
                        "type": "scatterpolar"
                      }
                    ],
                    "scatterpolargl": [
                      {
                        "marker": {
                          "colorbar": {
                            "outlinewidth": 0,
                            "ticks": ""
                          }
                        },
                        "type": "scatterpolargl"
                      }
                    ],
                    "scatterternary": [
                      {
                        "marker": {
                          "colorbar": {
                            "outlinewidth": 0,
                            "ticks": ""
                          }
                        },
                        "type": "scatterternary"
                      }
                    ],
                    "surface": [
                      {
                        "colorbar": {
                          "outlinewidth": 0,
                          "ticks": ""
                        },
                        "colorscale": [
                          [
                            0,
                            "#0d0887"
                          ],
                          [
                            0.1111111111111111,
                            "#46039f"
                          ],
                          [
                            0.2222222222222222,
                            "#7201a8"
                          ],
                          [
                            0.3333333333333333,
                            "#9c179e"
                          ],
                          [
                            0.4444444444444444,
                            "#bd3786"
                          ],
                          [
                            0.5555555555555556,
                            "#d8576b"
                          ],
                          [
                            0.6666666666666666,
                            "#ed7953"
                          ],
                          [
                            0.7777777777777778,
                            "#fb9f3a"
                          ],
                          [
                            0.8888888888888888,
                            "#fdca26"
                          ],
                          [
                            1,
                            "#f0f921"
                          ]
                        ],
                        "type": "surface"
                      }
                    ],
                    "table": [
                      {
                        "cells": {
                          "fill": {
                            "color": "#EBF0F8"
                          },
                          "line": {
                            "color": "white"
                          }
                        },
                        "header": {
                          "fill": {
                            "color": "#C8D4E3"
                          },
                          "line": {
                            "color": "white"
                          }
                        },
                        "type": "table"
                      }
                    ]
                  },
                  "layout": {
                    "annotationdefaults": {
                      "arrowcolor": "#2a3f5f",
                      "arrowhead": 0,
                      "arrowwidth": 1
                    },
                    "autotypenumbers": "strict",
                    "coloraxis": {
                      "colorbar": {
                        "outlinewidth": 0,
                        "ticks": ""
                      }
                    },
                    "colorscale": {
                      "diverging": [
                        [
                          0,
                          "#8e0152"
                        ],
                        [
                          0.1,
                          "#c51b7d"
                        ],
                        [
                          0.2,
                          "#de77ae"
                        ],
                        [
                          0.3,
                          "#f1b6da"
                        ],
                        [
                          0.4,
                          "#fde0ef"
                        ],
                        [
                          0.5,
                          "#f7f7f7"
                        ],
                        [
                          0.6,
                          "#e6f5d0"
                        ],
                        [
                          0.7,
                          "#b8e186"
                        ],
                        [
                          0.8,
                          "#7fbc41"
                        ],
                        [
                          0.9,
                          "#4d9221"
                        ],
                        [
                          1,
                          "#276419"
                        ]
                      ],
                      "sequential": [
                        [
                          0,
                          "#0d0887"
                        ],
                        [
                          0.1111111111111111,
                          "#46039f"
                        ],
                        [
                          0.2222222222222222,
                          "#7201a8"
                        ],
                        [
                          0.3333333333333333,
                          "#9c179e"
                        ],
                        [
                          0.4444444444444444,
                          "#bd3786"
                        ],
                        [
                          0.5555555555555556,
                          "#d8576b"
                        ],
                        [
                          0.6666666666666666,
                          "#ed7953"
                        ],
                        [
                          0.7777777777777778,
                          "#fb9f3a"
                        ],
                        [
                          0.8888888888888888,
                          "#fdca26"
                        ],
                        [
                          1,
                          "#f0f921"
                        ]
                      ],
                      "sequentialminus": [
                        [
                          0,
                          "#0d0887"
                        ],
                        [
                          0.1111111111111111,
                          "#46039f"
                        ],
                        [
                          0.2222222222222222,
                          "#7201a8"
                        ],
                        [
                          0.3333333333333333,
                          "#9c179e"
                        ],
                        [
                          0.4444444444444444,
                          "#bd3786"
                        ],
                        [
                          0.5555555555555556,
                          "#d8576b"
                        ],
                        [
                          0.6666666666666666,
                          "#ed7953"
                        ],
                        [
                          0.7777777777777778,
                          "#fb9f3a"
                        ],
                        [
                          0.8888888888888888,
                          "#fdca26"
                        ],
                        [
                          1,
                          "#f0f921"
                        ]
                      ]
                    },
                    "colorway": [
                      "#636efa",
                      "#EF553B",
                      "#00cc96",
                      "#ab63fa",
                      "#FFA15A",
                      "#19d3f3",
                      "#FF6692",
                      "#B6E880",
                      "#FF97FF",
                      "#FECB52"
                    ],
                    "font": {
                      "color": "#2a3f5f"
                    },
                    "geo": {
                      "bgcolor": "white",
                      "lakecolor": "white",
                      "landcolor": "#E5ECF6",
                      "showlakes": true,
                      "showland": true,
                      "subunitcolor": "white"
                    },
                    "hoverlabel": {
                      "align": "left"
                    },
                    "hovermode": "closest",
                    "mapbox": {
                      "style": "light"
                    },
                    "paper_bgcolor": "white",
                    "plot_bgcolor": "#E5ECF6",
                    "polar": {
                      "angularaxis": {
                        "gridcolor": "white",
                        "linecolor": "white",
                        "ticks": ""
                      },
                      "bgcolor": "#E5ECF6",
                      "radialaxis": {
                        "gridcolor": "white",
                        "linecolor": "white",
                        "ticks": ""
                      }
                    },
                    "scene": {
                      "xaxis": {
                        "backgroundcolor": "#E5ECF6",
                        "gridcolor": "white",
                        "gridwidth": 2,
                        "linecolor": "white",
                        "showbackground": true,
                        "ticks": "",
                        "zerolinecolor": "white"
                      },
                      "yaxis": {
                        "backgroundcolor": "#E5ECF6",
                        "gridcolor": "white",
                        "gridwidth": 2,
                        "linecolor": "white",
                        "showbackground": true,
                        "ticks": "",
                        "zerolinecolor": "white"
                      },
                      "zaxis": {
                        "backgroundcolor": "#E5ECF6",
                        "gridcolor": "white",
                        "gridwidth": 2,
                        "linecolor": "white",
                        "showbackground": true,
                        "ticks": "",
                        "zerolinecolor": "white"
                      }
                    },
                    "shapedefaults": {
                      "line": {
                        "color": "#2a3f5f"
                      }
                    },
                    "ternary": {
                      "aaxis": {
                        "gridcolor": "white",
                        "linecolor": "white",
                        "ticks": ""
                      },
                      "baxis": {
                        "gridcolor": "white",
                        "linecolor": "white",
                        "ticks": ""
                      },
                      "bgcolor": "#E5ECF6",
                      "caxis": {
                        "gridcolor": "white",
                        "linecolor": "white",
                        "ticks": ""
                      }
                    },
                    "title": {
                      "x": 0.05
                    },
                    "xaxis": {
                      "automargin": true,
                      "gridcolor": "white",
                      "linecolor": "white",
                      "ticks": "",
                      "title": {
                        "standoff": 15
                      },
                      "zerolinecolor": "white",
                      "zerolinewidth": 2
                    },
                    "yaxis": {
                      "automargin": true,
                      "gridcolor": "white",
                      "linecolor": "white",
                      "ticks": "",
                      "title": {
                        "standoff": 15
                      },
                      "zerolinecolor": "white",
                      "zerolinewidth": 2
                    }
                  }
                },
                "title": {
                  "text": "Metrics per Chapter"
                },
                "xaxis": {
                  "title": {
                    "text": "Chapter_name"
                  }
                },
                "yaxis": {
                  "title": {
                    "text": "Count"
                  }
                }
              }
            }
          },
          "metadata": {},
          "output_type": "display_data"
        }
      ],
      "source": [
        "import pandas as pd\n",
        "import plotly.graph_objects as go\n",
        "\n",
        "\n",
        "# Group by Chapter_name and aggregate metrics\n",
        "chapter_metrics = df1.groupby('Chapter_name').agg({\n",
        "    'no of sentence': 'sum',\n",
        "    'no of words': 'sum',\n",
        "    'NOUN': 'sum',\n",
        "    'VERB': 'sum',\n",
        "    'ADJ': 'sum',\n",
        "    'ADV': 'sum'\n",
        "}).reset_index()\n",
        "\n",
        "# Create the consolidated figure\n",
        "fig = go.Figure()\n",
        "\n",
        "# Add bar plots for each metric\n",
        "fig.add_trace(go.Bar(x=chapter_metrics['Chapter_name'], y=chapter_metrics['no of sentence'], name='Sentences'))\n",
        "fig.add_trace(go.Bar(x=chapter_metrics['Chapter_name'], y=chapter_metrics['no of words'], name='Words'))\n",
        "fig.add_trace(go.Bar(x=chapter_metrics['Chapter_name'], y=chapter_metrics['NOUN'], name='NOUN'))\n",
        "fig.add_trace(go.Bar(x=chapter_metrics['Chapter_name'], y=chapter_metrics['VERB'], name='VERB'))\n",
        "fig.add_trace(go.Bar(x=chapter_metrics['Chapter_name'], y=chapter_metrics['ADJ'], name='ADJ'))\n",
        "fig.add_trace(go.Bar(x=chapter_metrics['Chapter_name'], y=chapter_metrics['ADV'], name='ADV'))\n",
        "\n",
        "# Update layout\n",
        "fig.update_layout(barmode='group', title='Metrics per Chapter',\n",
        "                  xaxis_title='Chapter_name', yaxis_title='Count')\n",
        "\n",
        "# Show the plot\n",
        "fig.show()\n"
      ]
    },
    {
      "cell_type": "code",
      "execution_count": null,
      "metadata": {
        "id": "xcgIRqd98Btk",
        "outputId": "27cfff0e-84d1-4125-f5ea-644ba29be59c"
      },
      "outputs": [
        {
          "data": {
            "text/html": [
              "<div>\n",
              "<style scoped>\n",
              "    .dataframe tbody tr th:only-of-type {\n",
              "        vertical-align: middle;\n",
              "    }\n",
              "\n",
              "    .dataframe tbody tr th {\n",
              "        vertical-align: top;\n",
              "    }\n",
              "\n",
              "    .dataframe thead th {\n",
              "        text-align: right;\n",
              "    }\n",
              "</style>\n",
              "<table border=\"1\" class=\"dataframe\">\n",
              "  <thead>\n",
              "    <tr style=\"text-align: right;\">\n",
              "      <th></th>\n",
              "      <th>Chapter_No</th>\n",
              "      <th>Chapter_name</th>\n",
              "      <th>Paragraph no</th>\n",
              "      <th>Text</th>\n",
              "      <th>no of sentence</th>\n",
              "      <th>no of words</th>\n",
              "      <th>ADP</th>\n",
              "      <th>PRON</th>\n",
              "      <th>VERB</th>\n",
              "      <th>ADJ</th>\n",
              "      <th>NOUN</th>\n",
              "      <th>.</th>\n",
              "      <th>ADV</th>\n",
              "      <th>DET</th>\n",
              "      <th>CONJ</th>\n",
              "      <th>PRT</th>\n",
              "      <th>X</th>\n",
              "      <th>NUM</th>\n",
              "    </tr>\n",
              "  </thead>\n",
              "  <tbody>\n",
              "    <tr>\n",
              "      <th>0</th>\n",
              "      <td>1</td>\n",
              "      <td>Down the Rabbit-Hole</td>\n",
              "      <td>1</td>\n",
              "      <td>So she was considering in her own mind (as wel...</td>\n",
              "      <td>1</td>\n",
              "      <td>63</td>\n",
              "      <td>10.0</td>\n",
              "      <td>5.0</td>\n",
              "      <td>10.0</td>\n",
              "      <td>6.0</td>\n",
              "      <td>10.0</td>\n",
              "      <td>7.0</td>\n",
              "      <td>6.0</td>\n",
              "      <td>6.0</td>\n",
              "      <td>2.0</td>\n",
              "      <td>1.0</td>\n",
              "      <td>0.0</td>\n",
              "      <td>0.0</td>\n",
              "    </tr>\n",
              "    <tr>\n",
              "      <th>1</th>\n",
              "      <td>1</td>\n",
              "      <td>Down the Rabbit-Hole</td>\n",
              "      <td>2</td>\n",
              "      <td>There was nothing so very remarkable in that; ...</td>\n",
              "      <td>4</td>\n",
              "      <td>196</td>\n",
              "      <td>26.0</td>\n",
              "      <td>21.0</td>\n",
              "      <td>33.0</td>\n",
              "      <td>7.0</td>\n",
              "      <td>28.0</td>\n",
              "      <td>24.0</td>\n",
              "      <td>17.0</td>\n",
              "      <td>18.0</td>\n",
              "      <td>8.0</td>\n",
              "      <td>11.0</td>\n",
              "      <td>3.0</td>\n",
              "      <td>0.0</td>\n",
              "    </tr>\n",
              "    <tr>\n",
              "      <th>2</th>\n",
              "      <td>1</td>\n",
              "      <td>Down the Rabbit-Hole</td>\n",
              "      <td>3</td>\n",
              "      <td>The rabbit-hole went straight on like a tunnel...</td>\n",
              "      <td>1</td>\n",
              "      <td>44</td>\n",
              "      <td>7.0</td>\n",
              "      <td>3.0</td>\n",
              "      <td>7.0</td>\n",
              "      <td>2.0</td>\n",
              "      <td>6.0</td>\n",
              "      <td>4.0</td>\n",
              "      <td>7.0</td>\n",
              "      <td>5.0</td>\n",
              "      <td>1.0</td>\n",
              "      <td>2.0</td>\n",
              "      <td>0.0</td>\n",
              "      <td>0.0</td>\n",
              "    </tr>\n",
              "    <tr>\n",
              "      <th>3</th>\n",
              "      <td>1</td>\n",
              "      <td>Down the Rabbit-Hole</td>\n",
              "      <td>4</td>\n",
              "      <td>Either the well was very deep, or she fell ver...</td>\n",
              "      <td>3</td>\n",
              "      <td>118</td>\n",
              "      <td>12.0</td>\n",
              "      <td>15.0</td>\n",
              "      <td>26.0</td>\n",
              "      <td>3.0</td>\n",
              "      <td>17.0</td>\n",
              "      <td>12.0</td>\n",
              "      <td>9.0</td>\n",
              "      <td>5.0</td>\n",
              "      <td>9.0</td>\n",
              "      <td>9.0</td>\n",
              "      <td>0.0</td>\n",
              "      <td>1.0</td>\n",
              "    </tr>\n",
              "    <tr>\n",
              "      <th>4</th>\n",
              "      <td>1</td>\n",
              "      <td>Down the Rabbit-Hole</td>\n",
              "      <td>5</td>\n",
              "      <td>MALADE’, but to her great disappointment it wa...</td>\n",
              "      <td>1</td>\n",
              "      <td>42</td>\n",
              "      <td>7.0</td>\n",
              "      <td>6.0</td>\n",
              "      <td>7.0</td>\n",
              "      <td>2.0</td>\n",
              "      <td>7.0</td>\n",
              "      <td>4.0</td>\n",
              "      <td>2.0</td>\n",
              "      <td>2.0</td>\n",
              "      <td>1.0</td>\n",
              "      <td>3.0</td>\n",
              "      <td>0.0</td>\n",
              "      <td>1.0</td>\n",
              "    </tr>\n",
              "    <tr>\n",
              "      <th>...</th>\n",
              "      <td>...</td>\n",
              "      <td>...</td>\n",
              "      <td>...</td>\n",
              "      <td>...</td>\n",
              "      <td>...</td>\n",
              "      <td>...</td>\n",
              "      <td>...</td>\n",
              "      <td>...</td>\n",
              "      <td>...</td>\n",
              "      <td>...</td>\n",
              "      <td>...</td>\n",
              "      <td>...</td>\n",
              "      <td>...</td>\n",
              "      <td>...</td>\n",
              "      <td>...</td>\n",
              "      <td>...</td>\n",
              "      <td>...</td>\n",
              "      <td>...</td>\n",
              "    </tr>\n",
              "    <tr>\n",
              "      <th>850</th>\n",
              "      <td>12</td>\n",
              "      <td>Alice’s Evidence</td>\n",
              "      <td>68</td>\n",
              "      <td>But her sister sat still just as she left her,...</td>\n",
              "      <td>1</td>\n",
              "      <td>56</td>\n",
              "      <td>5.0</td>\n",
              "      <td>8.0</td>\n",
              "      <td>8.0</td>\n",
              "      <td>2.0</td>\n",
              "      <td>15.0</td>\n",
              "      <td>6.0</td>\n",
              "      <td>3.0</td>\n",
              "      <td>4.0</td>\n",
              "      <td>4.0</td>\n",
              "      <td>0.0</td>\n",
              "      <td>0.0</td>\n",
              "      <td>1.0</td>\n",
              "    </tr>\n",
              "    <tr>\n",
              "      <th>851</th>\n",
              "      <td>12</td>\n",
              "      <td>Alice’s Evidence</td>\n",
              "      <td>69</td>\n",
              "      <td>First, she dreamed of little Alice herself, an...</td>\n",
              "      <td>1</td>\n",
              "      <td>92</td>\n",
              "      <td>10.0</td>\n",
              "      <td>9.0</td>\n",
              "      <td>15.0</td>\n",
              "      <td>11.0</td>\n",
              "      <td>18.0</td>\n",
              "      <td>8.0</td>\n",
              "      <td>6.0</td>\n",
              "      <td>7.0</td>\n",
              "      <td>4.0</td>\n",
              "      <td>4.0</td>\n",
              "      <td>0.0</td>\n",
              "      <td>0.0</td>\n",
              "    </tr>\n",
              "    <tr>\n",
              "      <th>852</th>\n",
              "      <td>12</td>\n",
              "      <td>Alice’s Evidence</td>\n",
              "      <td>70</td>\n",
              "      <td>The long grass rustled at her feet as the Whit...</td>\n",
              "      <td>1</td>\n",
              "      <td>118</td>\n",
              "      <td>14.0</td>\n",
              "      <td>5.0</td>\n",
              "      <td>15.0</td>\n",
              "      <td>9.0</td>\n",
              "      <td>39.0</td>\n",
              "      <td>9.0</td>\n",
              "      <td>0.0</td>\n",
              "      <td>19.0</td>\n",
              "      <td>4.0</td>\n",
              "      <td>3.0</td>\n",
              "      <td>1.0</td>\n",
              "      <td>0.0</td>\n",
              "    </tr>\n",
              "    <tr>\n",
              "      <th>853</th>\n",
              "      <td>12</td>\n",
              "      <td>Alice’s Evidence</td>\n",
              "      <td>71</td>\n",
              "      <td>So she sat on, with closed eyes, and half beli...</td>\n",
              "      <td>1</td>\n",
              "      <td>137</td>\n",
              "      <td>15.0</td>\n",
              "      <td>6.0</td>\n",
              "      <td>21.0</td>\n",
              "      <td>8.0</td>\n",
              "      <td>38.0</td>\n",
              "      <td>13.0</td>\n",
              "      <td>2.0</td>\n",
              "      <td>20.0</td>\n",
              "      <td>6.0</td>\n",
              "      <td>6.0</td>\n",
              "      <td>1.0</td>\n",
              "      <td>1.0</td>\n",
              "    </tr>\n",
              "    <tr>\n",
              "      <th>854</th>\n",
              "      <td>12</td>\n",
              "      <td>Alice’s Evidence</td>\n",
              "      <td>72</td>\n",
              "      <td>Lastly, she pictured to herself how this same ...</td>\n",
              "      <td>1</td>\n",
              "      <td>61</td>\n",
              "      <td>5.0</td>\n",
              "      <td>7.0</td>\n",
              "      <td>10.0</td>\n",
              "      <td>6.0</td>\n",
              "      <td>9.0</td>\n",
              "      <td>9.0</td>\n",
              "      <td>4.0</td>\n",
              "      <td>6.0</td>\n",
              "      <td>4.0</td>\n",
              "      <td>1.0</td>\n",
              "      <td>0.0</td>\n",
              "      <td>0.0</td>\n",
              "    </tr>\n",
              "  </tbody>\n",
              "</table>\n",
              "<p>855 rows × 18 columns</p>\n",
              "</div>"
            ],
            "text/plain": [
              "     Chapter_No          Chapter_name  Paragraph no  \\\n",
              "0             1  Down the Rabbit-Hole             1   \n",
              "1             1  Down the Rabbit-Hole             2   \n",
              "2             1  Down the Rabbit-Hole             3   \n",
              "3             1  Down the Rabbit-Hole             4   \n",
              "4             1  Down the Rabbit-Hole             5   \n",
              "..          ...                   ...           ...   \n",
              "850          12      Alice’s Evidence            68   \n",
              "851          12      Alice’s Evidence            69   \n",
              "852          12      Alice’s Evidence            70   \n",
              "853          12      Alice’s Evidence            71   \n",
              "854          12      Alice’s Evidence            72   \n",
              "\n",
              "                                                  Text  no of sentence  \\\n",
              "0    So she was considering in her own mind (as wel...               1   \n",
              "1    There was nothing so very remarkable in that; ...               4   \n",
              "2    The rabbit-hole went straight on like a tunnel...               1   \n",
              "3    Either the well was very deep, or she fell ver...               3   \n",
              "4    MALADE’, but to her great disappointment it wa...               1   \n",
              "..                                                 ...             ...   \n",
              "850  But her sister sat still just as she left her,...               1   \n",
              "851  First, she dreamed of little Alice herself, an...               1   \n",
              "852  The long grass rustled at her feet as the Whit...               1   \n",
              "853  So she sat on, with closed eyes, and half beli...               1   \n",
              "854  Lastly, she pictured to herself how this same ...               1   \n",
              "\n",
              "     no of words   ADP  PRON  VERB   ADJ  NOUN     .   ADV   DET  CONJ   PRT  \\\n",
              "0             63  10.0   5.0  10.0   6.0  10.0   7.0   6.0   6.0   2.0   1.0   \n",
              "1            196  26.0  21.0  33.0   7.0  28.0  24.0  17.0  18.0   8.0  11.0   \n",
              "2             44   7.0   3.0   7.0   2.0   6.0   4.0   7.0   5.0   1.0   2.0   \n",
              "3            118  12.0  15.0  26.0   3.0  17.0  12.0   9.0   5.0   9.0   9.0   \n",
              "4             42   7.0   6.0   7.0   2.0   7.0   4.0   2.0   2.0   1.0   3.0   \n",
              "..           ...   ...   ...   ...   ...   ...   ...   ...   ...   ...   ...   \n",
              "850           56   5.0   8.0   8.0   2.0  15.0   6.0   3.0   4.0   4.0   0.0   \n",
              "851           92  10.0   9.0  15.0  11.0  18.0   8.0   6.0   7.0   4.0   4.0   \n",
              "852          118  14.0   5.0  15.0   9.0  39.0   9.0   0.0  19.0   4.0   3.0   \n",
              "853          137  15.0   6.0  21.0   8.0  38.0  13.0   2.0  20.0   6.0   6.0   \n",
              "854           61   5.0   7.0  10.0   6.0   9.0   9.0   4.0   6.0   4.0   1.0   \n",
              "\n",
              "       X  NUM  \n",
              "0    0.0  0.0  \n",
              "1    3.0  0.0  \n",
              "2    0.0  0.0  \n",
              "3    0.0  1.0  \n",
              "4    0.0  1.0  \n",
              "..   ...  ...  \n",
              "850  0.0  1.0  \n",
              "851  0.0  0.0  \n",
              "852  1.0  0.0  \n",
              "853  1.0  1.0  \n",
              "854  0.0  0.0  \n",
              "\n",
              "[855 rows x 18 columns]"
            ]
          },
          "execution_count": 827,
          "metadata": {},
          "output_type": "execute_result"
        }
      ],
      "source": [
        "df1"
      ]
    },
    {
      "cell_type": "code",
      "execution_count": null,
      "metadata": {
        "id": "RUNbCvP28Btl",
        "outputId": "61ee4cbc-9801-46cb-b313-103b0d69fc6a"
      },
      "outputs": [
        {
          "data": {
            "application/vnd.plotly.v1+json": {
              "config": {
                "plotlyServerURL": "https://plot.ly"
              },
              "data": [
                {
                  "name": "Sentences",
                  "type": "box",
                  "x": [
                    "A Caucus-Race and ",
                    "A Mad Tea-P arty",
                    "Advice from a Caterpillar",
                    "Alice’s Evidence",
                    "Down the Rabbit-Hole",
                    "Pig and Pepper",
                    "The Lobster Quadrille",
                    "The Mock T urtle’s Story",
                    "The Pool of Tears",
                    "The Queen’s Croquet-",
                    "The Rabbit Sends ",
                    "Who Stole the Tarts?"
                  ],
                  "y": [
                    94,
                    150,
                    107,
                    95,
                    68,
                    140,
                    146,
                    138,
                    106,
                    112,
                    113,
                    107
                  ]
                },
                {
                  "name": "Words",
                  "type": "box",
                  "x": [
                    "A Caucus-Race and ",
                    "A Mad Tea-P arty",
                    "Advice from a Caterpillar",
                    "Alice’s Evidence",
                    "Down the Rabbit-Hole",
                    "Pig and Pepper",
                    "The Lobster Quadrille",
                    "The Mock T urtle’s Story",
                    "The Pool of Tears",
                    "The Queen’s Croquet-",
                    "The Rabbit Sends ",
                    "Who Stole the Tarts?"
                  ],
                  "y": [
                    2226,
                    3138,
                    2638,
                    2700,
                    2614,
                    3327,
                    2848,
                    3172,
                    2567,
                    3242,
                    3306,
                    2470
                  ]
                },
                {
                  "name": "NOUN",
                  "type": "box",
                  "x": [
                    "A Caucus-Race and ",
                    "A Mad Tea-P arty",
                    "Advice from a Caterpillar",
                    "Alice’s Evidence",
                    "Down the Rabbit-Hole",
                    "Pig and Pepper",
                    "The Lobster Quadrille",
                    "The Mock T urtle’s Story",
                    "The Pool of Tears",
                    "The Queen’s Croquet-",
                    "The Rabbit Sends ",
                    "Who Stole the Tarts?"
                  ],
                  "y": [
                    488,
                    760,
                    555,
                    615,
                    466,
                    694,
                    730,
                    779,
                    503,
                    682,
                    650,
                    564
                  ]
                },
                {
                  "name": "VERB",
                  "type": "box",
                  "x": [
                    "A Caucus-Race and ",
                    "A Mad Tea-P arty",
                    "Advice from a Caterpillar",
                    "Alice’s Evidence",
                    "Down the Rabbit-Hole",
                    "Pig and Pepper",
                    "The Lobster Quadrille",
                    "The Mock T urtle’s Story",
                    "The Pool of Tears",
                    "The Queen’s Croquet-",
                    "The Rabbit Sends ",
                    "Who Stole the Tarts?"
                  ],
                  "y": [
                    402,
                    614,
                    518,
                    492,
                    476,
                    640,
                    507,
                    589,
                    489,
                    628,
                    604,
                    447
                  ]
                },
                {
                  "name": "ADJ",
                  "type": "box",
                  "x": [
                    "A Caucus-Race and ",
                    "A Mad Tea-P arty",
                    "Advice from a Caterpillar",
                    "Alice’s Evidence",
                    "Down the Rabbit-Hole",
                    "Pig and Pepper",
                    "The Lobster Quadrille",
                    "The Mock T urtle’s Story",
                    "The Pool of Tears",
                    "The Queen’s Croquet-",
                    "The Rabbit Sends ",
                    "Who Stole the Tarts?"
                  ],
                  "y": [
                    138,
                    175,
                    167,
                    148,
                    161,
                    176,
                    145,
                    188,
                    190,
                    157,
                    238,
                    127
                  ]
                },
                {
                  "name": "ADV",
                  "type": "box",
                  "x": [
                    "A Caucus-Race and ",
                    "A Mad Tea-P arty",
                    "Advice from a Caterpillar",
                    "Alice’s Evidence",
                    "Down the Rabbit-Hole",
                    "Pig and Pepper",
                    "The Lobster Quadrille",
                    "The Mock T urtle’s Story",
                    "The Pool of Tears",
                    "The Queen’s Croquet-",
                    "The Rabbit Sends ",
                    "Who Stole the Tarts?"
                  ],
                  "y": [
                    137,
                    180,
                    178,
                    119,
                    206,
                    241,
                    175,
                    187,
                    168,
                    182,
                    195,
                    125
                  ]
                }
              ],
              "layout": {
                "template": {
                  "data": {
                    "bar": [
                      {
                        "error_x": {
                          "color": "#2a3f5f"
                        },
                        "error_y": {
                          "color": "#2a3f5f"
                        },
                        "marker": {
                          "line": {
                            "color": "#E5ECF6",
                            "width": 0.5
                          },
                          "pattern": {
                            "fillmode": "overlay",
                            "size": 10,
                            "solidity": 0.2
                          }
                        },
                        "type": "bar"
                      }
                    ],
                    "barpolar": [
                      {
                        "marker": {
                          "line": {
                            "color": "#E5ECF6",
                            "width": 0.5
                          },
                          "pattern": {
                            "fillmode": "overlay",
                            "size": 10,
                            "solidity": 0.2
                          }
                        },
                        "type": "barpolar"
                      }
                    ],
                    "carpet": [
                      {
                        "aaxis": {
                          "endlinecolor": "#2a3f5f",
                          "gridcolor": "white",
                          "linecolor": "white",
                          "minorgridcolor": "white",
                          "startlinecolor": "#2a3f5f"
                        },
                        "baxis": {
                          "endlinecolor": "#2a3f5f",
                          "gridcolor": "white",
                          "linecolor": "white",
                          "minorgridcolor": "white",
                          "startlinecolor": "#2a3f5f"
                        },
                        "type": "carpet"
                      }
                    ],
                    "choropleth": [
                      {
                        "colorbar": {
                          "outlinewidth": 0,
                          "ticks": ""
                        },
                        "type": "choropleth"
                      }
                    ],
                    "contour": [
                      {
                        "colorbar": {
                          "outlinewidth": 0,
                          "ticks": ""
                        },
                        "colorscale": [
                          [
                            0,
                            "#0d0887"
                          ],
                          [
                            0.1111111111111111,
                            "#46039f"
                          ],
                          [
                            0.2222222222222222,
                            "#7201a8"
                          ],
                          [
                            0.3333333333333333,
                            "#9c179e"
                          ],
                          [
                            0.4444444444444444,
                            "#bd3786"
                          ],
                          [
                            0.5555555555555556,
                            "#d8576b"
                          ],
                          [
                            0.6666666666666666,
                            "#ed7953"
                          ],
                          [
                            0.7777777777777778,
                            "#fb9f3a"
                          ],
                          [
                            0.8888888888888888,
                            "#fdca26"
                          ],
                          [
                            1,
                            "#f0f921"
                          ]
                        ],
                        "type": "contour"
                      }
                    ],
                    "contourcarpet": [
                      {
                        "colorbar": {
                          "outlinewidth": 0,
                          "ticks": ""
                        },
                        "type": "contourcarpet"
                      }
                    ],
                    "heatmap": [
                      {
                        "colorbar": {
                          "outlinewidth": 0,
                          "ticks": ""
                        },
                        "colorscale": [
                          [
                            0,
                            "#0d0887"
                          ],
                          [
                            0.1111111111111111,
                            "#46039f"
                          ],
                          [
                            0.2222222222222222,
                            "#7201a8"
                          ],
                          [
                            0.3333333333333333,
                            "#9c179e"
                          ],
                          [
                            0.4444444444444444,
                            "#bd3786"
                          ],
                          [
                            0.5555555555555556,
                            "#d8576b"
                          ],
                          [
                            0.6666666666666666,
                            "#ed7953"
                          ],
                          [
                            0.7777777777777778,
                            "#fb9f3a"
                          ],
                          [
                            0.8888888888888888,
                            "#fdca26"
                          ],
                          [
                            1,
                            "#f0f921"
                          ]
                        ],
                        "type": "heatmap"
                      }
                    ],
                    "heatmapgl": [
                      {
                        "colorbar": {
                          "outlinewidth": 0,
                          "ticks": ""
                        },
                        "colorscale": [
                          [
                            0,
                            "#0d0887"
                          ],
                          [
                            0.1111111111111111,
                            "#46039f"
                          ],
                          [
                            0.2222222222222222,
                            "#7201a8"
                          ],
                          [
                            0.3333333333333333,
                            "#9c179e"
                          ],
                          [
                            0.4444444444444444,
                            "#bd3786"
                          ],
                          [
                            0.5555555555555556,
                            "#d8576b"
                          ],
                          [
                            0.6666666666666666,
                            "#ed7953"
                          ],
                          [
                            0.7777777777777778,
                            "#fb9f3a"
                          ],
                          [
                            0.8888888888888888,
                            "#fdca26"
                          ],
                          [
                            1,
                            "#f0f921"
                          ]
                        ],
                        "type": "heatmapgl"
                      }
                    ],
                    "histogram": [
                      {
                        "marker": {
                          "pattern": {
                            "fillmode": "overlay",
                            "size": 10,
                            "solidity": 0.2
                          }
                        },
                        "type": "histogram"
                      }
                    ],
                    "histogram2d": [
                      {
                        "colorbar": {
                          "outlinewidth": 0,
                          "ticks": ""
                        },
                        "colorscale": [
                          [
                            0,
                            "#0d0887"
                          ],
                          [
                            0.1111111111111111,
                            "#46039f"
                          ],
                          [
                            0.2222222222222222,
                            "#7201a8"
                          ],
                          [
                            0.3333333333333333,
                            "#9c179e"
                          ],
                          [
                            0.4444444444444444,
                            "#bd3786"
                          ],
                          [
                            0.5555555555555556,
                            "#d8576b"
                          ],
                          [
                            0.6666666666666666,
                            "#ed7953"
                          ],
                          [
                            0.7777777777777778,
                            "#fb9f3a"
                          ],
                          [
                            0.8888888888888888,
                            "#fdca26"
                          ],
                          [
                            1,
                            "#f0f921"
                          ]
                        ],
                        "type": "histogram2d"
                      }
                    ],
                    "histogram2dcontour": [
                      {
                        "colorbar": {
                          "outlinewidth": 0,
                          "ticks": ""
                        },
                        "colorscale": [
                          [
                            0,
                            "#0d0887"
                          ],
                          [
                            0.1111111111111111,
                            "#46039f"
                          ],
                          [
                            0.2222222222222222,
                            "#7201a8"
                          ],
                          [
                            0.3333333333333333,
                            "#9c179e"
                          ],
                          [
                            0.4444444444444444,
                            "#bd3786"
                          ],
                          [
                            0.5555555555555556,
                            "#d8576b"
                          ],
                          [
                            0.6666666666666666,
                            "#ed7953"
                          ],
                          [
                            0.7777777777777778,
                            "#fb9f3a"
                          ],
                          [
                            0.8888888888888888,
                            "#fdca26"
                          ],
                          [
                            1,
                            "#f0f921"
                          ]
                        ],
                        "type": "histogram2dcontour"
                      }
                    ],
                    "mesh3d": [
                      {
                        "colorbar": {
                          "outlinewidth": 0,
                          "ticks": ""
                        },
                        "type": "mesh3d"
                      }
                    ],
                    "parcoords": [
                      {
                        "line": {
                          "colorbar": {
                            "outlinewidth": 0,
                            "ticks": ""
                          }
                        },
                        "type": "parcoords"
                      }
                    ],
                    "pie": [
                      {
                        "automargin": true,
                        "type": "pie"
                      }
                    ],
                    "scatter": [
                      {
                        "fillpattern": {
                          "fillmode": "overlay",
                          "size": 10,
                          "solidity": 0.2
                        },
                        "type": "scatter"
                      }
                    ],
                    "scatter3d": [
                      {
                        "line": {
                          "colorbar": {
                            "outlinewidth": 0,
                            "ticks": ""
                          }
                        },
                        "marker": {
                          "colorbar": {
                            "outlinewidth": 0,
                            "ticks": ""
                          }
                        },
                        "type": "scatter3d"
                      }
                    ],
                    "scattercarpet": [
                      {
                        "marker": {
                          "colorbar": {
                            "outlinewidth": 0,
                            "ticks": ""
                          }
                        },
                        "type": "scattercarpet"
                      }
                    ],
                    "scattergeo": [
                      {
                        "marker": {
                          "colorbar": {
                            "outlinewidth": 0,
                            "ticks": ""
                          }
                        },
                        "type": "scattergeo"
                      }
                    ],
                    "scattergl": [
                      {
                        "marker": {
                          "colorbar": {
                            "outlinewidth": 0,
                            "ticks": ""
                          }
                        },
                        "type": "scattergl"
                      }
                    ],
                    "scattermapbox": [
                      {
                        "marker": {
                          "colorbar": {
                            "outlinewidth": 0,
                            "ticks": ""
                          }
                        },
                        "type": "scattermapbox"
                      }
                    ],
                    "scatterpolar": [
                      {
                        "marker": {
                          "colorbar": {
                            "outlinewidth": 0,
                            "ticks": ""
                          }
                        },
                        "type": "scatterpolar"
                      }
                    ],
                    "scatterpolargl": [
                      {
                        "marker": {
                          "colorbar": {
                            "outlinewidth": 0,
                            "ticks": ""
                          }
                        },
                        "type": "scatterpolargl"
                      }
                    ],
                    "scatterternary": [
                      {
                        "marker": {
                          "colorbar": {
                            "outlinewidth": 0,
                            "ticks": ""
                          }
                        },
                        "type": "scatterternary"
                      }
                    ],
                    "surface": [
                      {
                        "colorbar": {
                          "outlinewidth": 0,
                          "ticks": ""
                        },
                        "colorscale": [
                          [
                            0,
                            "#0d0887"
                          ],
                          [
                            0.1111111111111111,
                            "#46039f"
                          ],
                          [
                            0.2222222222222222,
                            "#7201a8"
                          ],
                          [
                            0.3333333333333333,
                            "#9c179e"
                          ],
                          [
                            0.4444444444444444,
                            "#bd3786"
                          ],
                          [
                            0.5555555555555556,
                            "#d8576b"
                          ],
                          [
                            0.6666666666666666,
                            "#ed7953"
                          ],
                          [
                            0.7777777777777778,
                            "#fb9f3a"
                          ],
                          [
                            0.8888888888888888,
                            "#fdca26"
                          ],
                          [
                            1,
                            "#f0f921"
                          ]
                        ],
                        "type": "surface"
                      }
                    ],
                    "table": [
                      {
                        "cells": {
                          "fill": {
                            "color": "#EBF0F8"
                          },
                          "line": {
                            "color": "white"
                          }
                        },
                        "header": {
                          "fill": {
                            "color": "#C8D4E3"
                          },
                          "line": {
                            "color": "white"
                          }
                        },
                        "type": "table"
                      }
                    ]
                  },
                  "layout": {
                    "annotationdefaults": {
                      "arrowcolor": "#2a3f5f",
                      "arrowhead": 0,
                      "arrowwidth": 1
                    },
                    "autotypenumbers": "strict",
                    "coloraxis": {
                      "colorbar": {
                        "outlinewidth": 0,
                        "ticks": ""
                      }
                    },
                    "colorscale": {
                      "diverging": [
                        [
                          0,
                          "#8e0152"
                        ],
                        [
                          0.1,
                          "#c51b7d"
                        ],
                        [
                          0.2,
                          "#de77ae"
                        ],
                        [
                          0.3,
                          "#f1b6da"
                        ],
                        [
                          0.4,
                          "#fde0ef"
                        ],
                        [
                          0.5,
                          "#f7f7f7"
                        ],
                        [
                          0.6,
                          "#e6f5d0"
                        ],
                        [
                          0.7,
                          "#b8e186"
                        ],
                        [
                          0.8,
                          "#7fbc41"
                        ],
                        [
                          0.9,
                          "#4d9221"
                        ],
                        [
                          1,
                          "#276419"
                        ]
                      ],
                      "sequential": [
                        [
                          0,
                          "#0d0887"
                        ],
                        [
                          0.1111111111111111,
                          "#46039f"
                        ],
                        [
                          0.2222222222222222,
                          "#7201a8"
                        ],
                        [
                          0.3333333333333333,
                          "#9c179e"
                        ],
                        [
                          0.4444444444444444,
                          "#bd3786"
                        ],
                        [
                          0.5555555555555556,
                          "#d8576b"
                        ],
                        [
                          0.6666666666666666,
                          "#ed7953"
                        ],
                        [
                          0.7777777777777778,
                          "#fb9f3a"
                        ],
                        [
                          0.8888888888888888,
                          "#fdca26"
                        ],
                        [
                          1,
                          "#f0f921"
                        ]
                      ],
                      "sequentialminus": [
                        [
                          0,
                          "#0d0887"
                        ],
                        [
                          0.1111111111111111,
                          "#46039f"
                        ],
                        [
                          0.2222222222222222,
                          "#7201a8"
                        ],
                        [
                          0.3333333333333333,
                          "#9c179e"
                        ],
                        [
                          0.4444444444444444,
                          "#bd3786"
                        ],
                        [
                          0.5555555555555556,
                          "#d8576b"
                        ],
                        [
                          0.6666666666666666,
                          "#ed7953"
                        ],
                        [
                          0.7777777777777778,
                          "#fb9f3a"
                        ],
                        [
                          0.8888888888888888,
                          "#fdca26"
                        ],
                        [
                          1,
                          "#f0f921"
                        ]
                      ]
                    },
                    "colorway": [
                      "#636efa",
                      "#EF553B",
                      "#00cc96",
                      "#ab63fa",
                      "#FFA15A",
                      "#19d3f3",
                      "#FF6692",
                      "#B6E880",
                      "#FF97FF",
                      "#FECB52"
                    ],
                    "font": {
                      "color": "#2a3f5f"
                    },
                    "geo": {
                      "bgcolor": "white",
                      "lakecolor": "white",
                      "landcolor": "#E5ECF6",
                      "showlakes": true,
                      "showland": true,
                      "subunitcolor": "white"
                    },
                    "hoverlabel": {
                      "align": "left"
                    },
                    "hovermode": "closest",
                    "mapbox": {
                      "style": "light"
                    },
                    "paper_bgcolor": "white",
                    "plot_bgcolor": "#E5ECF6",
                    "polar": {
                      "angularaxis": {
                        "gridcolor": "white",
                        "linecolor": "white",
                        "ticks": ""
                      },
                      "bgcolor": "#E5ECF6",
                      "radialaxis": {
                        "gridcolor": "white",
                        "linecolor": "white",
                        "ticks": ""
                      }
                    },
                    "scene": {
                      "xaxis": {
                        "backgroundcolor": "#E5ECF6",
                        "gridcolor": "white",
                        "gridwidth": 2,
                        "linecolor": "white",
                        "showbackground": true,
                        "ticks": "",
                        "zerolinecolor": "white"
                      },
                      "yaxis": {
                        "backgroundcolor": "#E5ECF6",
                        "gridcolor": "white",
                        "gridwidth": 2,
                        "linecolor": "white",
                        "showbackground": true,
                        "ticks": "",
                        "zerolinecolor": "white"
                      },
                      "zaxis": {
                        "backgroundcolor": "#E5ECF6",
                        "gridcolor": "white",
                        "gridwidth": 2,
                        "linecolor": "white",
                        "showbackground": true,
                        "ticks": "",
                        "zerolinecolor": "white"
                      }
                    },
                    "shapedefaults": {
                      "line": {
                        "color": "#2a3f5f"
                      }
                    },
                    "ternary": {
                      "aaxis": {
                        "gridcolor": "white",
                        "linecolor": "white",
                        "ticks": ""
                      },
                      "baxis": {
                        "gridcolor": "white",
                        "linecolor": "white",
                        "ticks": ""
                      },
                      "bgcolor": "#E5ECF6",
                      "caxis": {
                        "gridcolor": "white",
                        "linecolor": "white",
                        "ticks": ""
                      }
                    },
                    "title": {
                      "x": 0.05
                    },
                    "xaxis": {
                      "automargin": true,
                      "gridcolor": "white",
                      "linecolor": "white",
                      "ticks": "",
                      "title": {
                        "standoff": 15
                      },
                      "zerolinecolor": "white",
                      "zerolinewidth": 2
                    },
                    "yaxis": {
                      "automargin": true,
                      "gridcolor": "white",
                      "linecolor": "white",
                      "ticks": "",
                      "title": {
                        "standoff": 15
                      },
                      "zerolinecolor": "white",
                      "zerolinewidth": 2
                    }
                  }
                },
                "title": {
                  "text": "Metrics per Chapter"
                },
                "xaxis": {
                  "title": {
                    "text": "Chapter_name"
                  }
                },
                "yaxis": {
                  "title": {
                    "text": "Count"
                  }
                }
              }
            }
          },
          "metadata": {},
          "output_type": "display_data"
        }
      ],
      "source": [
        "import pandas as pd\n",
        "import plotly.graph_objects as go\n",
        "\n",
        "\n",
        "\n",
        "# Group by Chapter_name and aggregate metrics\n",
        "chapter_metrics = df1.groupby('Chapter_name').agg({\n",
        "    'no of sentence': 'sum',\n",
        "    'no of words': 'sum',\n",
        "    'NOUN': 'sum',\n",
        "    'VERB': 'sum',\n",
        "    'ADJ': 'sum',\n",
        "    'ADV': 'sum'\n",
        "}).reset_index()\n",
        "\n",
        "# Create the consolidated figure\n",
        "fig = go.Figure()\n",
        "\n",
        "# Add box plots for each metric\n",
        "fig.add_trace(go.Box(x=chapter_metrics['Chapter_name'], y=chapter_metrics['no of sentence'], name='Sentences'))\n",
        "fig.add_trace(go.Box(x=chapter_metrics['Chapter_name'], y=chapter_metrics['no of words'], name='Words'))\n",
        "fig.add_trace(go.Box(x=chapter_metrics['Chapter_name'], y=chapter_metrics['NOUN'], name='NOUN'))\n",
        "fig.add_trace(go.Box(x=chapter_metrics['Chapter_name'], y=chapter_metrics['VERB'], name='VERB'))\n",
        "fig.add_trace(go.Box(x=chapter_metrics['Chapter_name'], y=chapter_metrics['ADJ'], name='ADJ'))\n",
        "fig.add_trace(go.Box(x=chapter_metrics['Chapter_name'], y=chapter_metrics['ADV'], name='ADV'))\n",
        "\n",
        "# Update layout\n",
        "fig.update_layout(title='Metrics per Chapter', xaxis_title='Chapter_name', yaxis_title='Count')\n",
        "\n",
        "# Show the plot\n",
        "fig.show()\n"
      ]
    }
  ],
  "metadata": {
    "kernelspec": {
      "display_name": "Python 3",
      "language": "python",
      "name": "python3"
    },
    "language_info": {
      "codemirror_mode": {
        "name": "ipython",
        "version": 3
      },
      "file_extension": ".py",
      "mimetype": "text/x-python",
      "name": "python",
      "nbconvert_exporter": "python",
      "pygments_lexer": "ipython3",
      "version": "3.10.12"
    },
    "colab": {
      "provenance": []
    }
  },
  "nbformat": 4,
  "nbformat_minor": 0
}